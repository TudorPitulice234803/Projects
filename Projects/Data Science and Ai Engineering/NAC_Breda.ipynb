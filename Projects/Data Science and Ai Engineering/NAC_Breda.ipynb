{
 "cells": [
  {
   "cell_type": "markdown",
   "metadata": {},
   "source": [
    "## Python notebook template block B\n",
    "\n",
    "As of now, you created a new notebook for every study day with the related contents. However, when working on a project in the real life, all your data and code needs to be in one place for the project. Going forward in the block, all of the code that you generate with regard to the final project about NAC and the ILO's should be in this one template. Go back to the code you wrote for the previous weeks, evaluate if it is according to [PEP8](https://peps.python.org/pep-0008/) style guide and adjust where necessary. This template provides you with a natural flow through the steps of a traditional data science project. Do not forget to clearly add comments to your code. If you would like to add more stucture, add extra mark down blocks to explain what you are doing. You are **not** allowed to remove code blocks! All blocks in here need to be filled with code. If you did not write code for a section, leave the code block as is with the pre-filled in comment. Adjust this template to your needs, make sure that all your evidence for all of the ILO's is included.\n",
    "\n",
    "⚠️Important! Before handing it in, run all of your code. All your cells need to show outputs. This is necessary for grading!⚠️\n",
    "\n",
    "The ILO's for which you can evidencodedodedodedodede your code by this notebook are: \n",
    "\n",
    "| ILO | Poor | Insufficient | Sufficient | Good | Excellent |\n",
    "|-----|------|--------------|------------|------|-----------|\n",
    "| 4.1 | x    | x            | x          | x    | x         |\n",
    "| 4.2 | x    | x            | x          | x    | x*        |\n",
    "| 5.0 | x    | x            | x          | x    | x         |\n",
    "| 7.0 | x    | x            | x          | x    | x         |\n",
    "\n",
    "4.2 excellent*: If you would like to showcast your graphs using streamlit, you need to hand in a seperate .py file. Evidence accordingly in your learning log.\n",
    "\n",
    "\n"
   ]
  },
  {
   "cell_type": "markdown",
   "metadata": {},
   "source": [
    "### Add imports here\n",
    "When working in .py files, you usually have all your package imports at the top of your code. This makes it easy to get a good overview of the packages that you are using and importing. As of now, we are working in .ipynb, but it is good practice to already start implementing these structures. Add all the imports that you use in all of your code in the code block below. In this way, you do not need to add it in every cell."
   ]
  },
  {
   "cell_type": "code",
   "execution_count": 75,
   "metadata": {},
   "outputs": [],
   "source": [
    "# Add your package imports here\n",
    "import pandas as pd\n",
    "import xgboost as xgb\n",
    "import matplotlib.pyplot as plt\n",
    "from pathlib import Path\n",
    "from sklearn.preprocessing import StandardScaler, LabelEncoder\n",
    "from sklearn.linear_model import LinearRegression, LogisticRegression, LogisticRegressionCV, Ridge, Lasso\n",
    "from sklearn.metrics import mean_squared_error as mse \n",
    "from sklearn.neighbors import KNeighborsClassifier\n",
    "from sklearn.metrics import confusion_matrix, classification_report, r2_score, accuracy_score, roc_auc_score, roc_curve\n",
    "from sklearn.model_selection import cross_val_score, train_test_split, GridSearchCV\n",
    "import warnings\n",
    "from sklearn.exceptions import ConvergenceWarning\n",
    "from sklearn.tree import DecisionTreeClassifier\n",
    "import sympy as sp\n",
    "import requests\n",
    "from getpass import getpass\n",
    "from mysql.connector import connect, Error\n",
    "from sklearn.ensemble import RandomForestClassifier\n",
    "import numpy as np\n"
   ]
  },
  {
   "cell_type": "markdown",
   "metadata": {},
   "source": [
    "### Load the data\n",
    "\n",
    "After your package imports, you usually load your data. This is what you will be working with and what your code will be based on."
   ]
  },
  {
   "cell_type": "code",
   "execution_count": 2,
   "metadata": {},
   "outputs": [],
   "source": [
    "directory_path = Path('C:/Users/tudor/Desktop/University/Y1 Block B/2023-24b-fai1-adsai-TudorPitulice234803/Evidence/2022_2023')\n",
    "\n",
    "with open('DataLab_I_Week3_NAC_Preprocessing_1.csv', 'w') as csv_f:\n",
    "    index = 0\n",
    "    for file in directory_path.iterdir():\n",
    "        data = pd.read_excel(file)\n",
    "        if index == 0:\n",
    "            data.to_csv(csv_f, index = False, header = True)\n",
    "        else:\n",
    "            data.to_csv(csv_f, index = False, header = False)\n",
    "        index += 1\n",
    "\n",
    "nacdata = pd.read_csv(r'DataLab_I_Week3_NAC_Preprocessing_1.csv')"
   ]
  },
  {
   "cell_type": "markdown",
   "metadata": {},
   "source": [
    "## Data Management and Understanding"
   ]
  },
  {
   "cell_type": "markdown",
   "metadata": {},
   "source": [
    "### Data Cleansing\n",
    "In the following section plug in all of your relevant python codes and explanations related to data cleansing. This is related to the poor and insufficient criteria of ILO 4.1 and 4.2."
   ]
  },
  {
   "cell_type": "code",
   "execution_count": 3,
   "metadata": {},
   "outputs": [],
   "source": [
    "# Ignore ConvergenceWarning\n",
    "warnings.filterwarnings(\"ignore\", category=ConvergenceWarning)\n",
    "\n",
    "#The headers of the dataset present spaces in the name, so I will use the function .strip()\n",
    "#to remove them (instead of 'Team', the name of the column in the dataset is 'Team    ').\n",
    "nacdata.columns = nacdata.columns.str.strip()\n",
    "\n",
    "#Checking for duplicates in the dataset.\n",
    "nacdata.duplicated().sum()\n",
    "\n",
    "#The dataset contains duplicates, so I will drop them.\n",
    "nacdata = nacdata.drop_duplicates()\n",
    "\n",
    "#In the NAC dataset I will drop the rows where the Market Value is missing\n",
    "#because the price of the player is an important feature for the analysis.\n",
    "nacdata['Market value'].dropna(inplace=True)\n",
    "\n",
    "#The Position is an important feature for the analysis, so the missing values will be dropped.\n",
    "#NAC cannot sign a player if they don't know his position.\n",
    "nacdata.dropna(subset=['Position'], inplace=True)\n",
    "\n",
    "#The column foot has missing values. I will replace NaN with 'Unknown'.\n",
    "nacdata['Foot'] = nacdata['Foot'].fillna('Missing')\n",
    "#Replace the value 'Missing' with 'Unknown'.\n",
    "nacdata['Foot'] = nacdata['Foot'].replace('Missing', 'unknown') \n",
    "\n",
    "#Filling the missing values in the Team column with 'Unknown'.\n",
    "nacdata['Team'] = nacdata['Team'].fillna('Unknown')\n",
    "\n",
    "#The Height feature present some missing values, so since the Height is not an essential feature,\n",
    "#I will fill them with the median. The distribution of the column is skewed and the median is \n",
    "#a better measure of central tendency than the mean.\n",
    "nacdata['Height'] = nacdata['Height'].fillna(nacdata['Height'].median())\n",
    "\n",
    "#The same thing applies to the Weight feature.\n",
    "nacdata['Weight'] = nacdata['Weight'].fillna(nacdata['Weight'].median())\n",
    "nacdata['Weight'] = nacdata['Weight'].replace(0, nacdata['Weight'].median())\n",
    "\n",
    "#The Age feature has 7 missing values. Being such a small number of missing values, I will drop them.\n",
    "nacdata.dropna(subset=['Age'], inplace=True)\n",
    "\n",
    "#Visualizing the missing values in a csv file for better understanding.\n",
    "nacdata.isnull().sum().to_csv('NAC_missing_values.csv')"
   ]
  },
  {
   "cell_type": "markdown",
   "metadata": {},
   "source": [
    "### Exploratory Data Analysis\n",
    "\n",
    "Include all exploratory Data Analysis questions you studied in this section. This is related to the sufficient and good criteria of ILO 4.1 and 4.2. "
   ]
  },
  {
   "cell_type": "code",
   "execution_count": 4,
   "metadata": {},
   "outputs": [
    {
     "data": {
      "image/png": "[encoded data removed]",
      "text/plain": [
       "<Figure size 1200x600 with 1 Axes>"
      ]
     },
     "metadata": {},
     "output_type": "display_data"
    }
   ],
   "source": [
    "#In this part of the code I wanted to see the distribution of the players by their age.\n",
    "fig, ax = plt.subplots(figsize=(12,6))\n",
    "\n",
    "age = nacdata['Age']\n",
    "ax.hist(age, bins = 27, color = '#a2a2c8', edgecolor = 'black')\n",
    "ax.set_xlabel('The age of the player')\n",
    "ax.set_ylabel('Number of players')\n",
    "plt.xticks(range(15, 43))\n",
    "plt.title('Distribution of age by the number of players')\n",
    "plt.show()\n",
    "\n",
    "#We can see that the majority of players are aged between 20 and 25 years olds. So, for further analysis we can consider more the players between 19 and\n",
    "#35 years old because the players under 19 years old are not mature enough and the players over 35 years old are too old to play at a high level."
   ]
  },
  {
   "cell_type": "code",
   "execution_count": 5,
   "metadata": {},
   "outputs": [
    {
     "data": {
      "image/png": "[encoded data removed]",
      "text/plain": [
       "<Figure size 640x480 with 1 Axes>"
      ]
     },
     "metadata": {},
     "output_type": "display_data"
    }
   ],
   "source": [
    "#In this part of the code I wanted to see the distribution of the players by their height.\n",
    "weight = nacdata['Weight']\n",
    "\n",
    "fig, ax = plt.subplots()\n",
    "\n",
    "ax.hist(weight, bins = 50, color = 'orange', edgecolor='black', label = 'Weight')\n",
    "\n",
    "#I choose the ticks of the x axis to be between 47 and 103 because the minimum weight of a player. \n",
    "#In order for the visualisation to be clear I choose the ticks to be every 3 units.\n",
    "plt.xticks(range(47, 103, 3), rotation = 90)\n",
    "plt.title('Distribution of weight by the number of players')\n",
    "plt.xlabel('The weight of the player')\n",
    "plt.ylabel('Number of players')\n",
    "plt.xticks(rotation = 0)\n",
    "\n",
    "plt.show()\n",
    "\n",
    "#Most players have a weight between 70 and 80 kg.\n",
    "#The minimum weight of a player is 47 kg and the maximum weight is 103 kg."
   ]
  },
  {
   "cell_type": "code",
   "execution_count": 6,
   "metadata": {},
   "outputs": [
    {
     "data": {
      "image/png": "[encoded data removed]",
      "text/plain": [
       "<Figure size 640x480 with 1 Axes>"
      ]
     },
     "metadata": {},
     "output_type": "display_data"
    }
   ],
   "source": [
    "#In the next graph I wanted to see if there is a correlation between the age of the goalkeepers and their save rate.\n",
    "gk = nacdata[nacdata['Position'] == 'GK']\n",
    "\n",
    "fig, ax = plt.subplots()\n",
    "\n",
    "plt.scatter(gk['Save rate, %'], gk['Age'], c='red')\n",
    "ax.set_xlabel('Save rate, %')\n",
    "ax.set_ylabel('Age')\n",
    "plt.title('Save rate vs Age for goalkeepers')\n",
    "\n",
    "plt.show()\n",
    "\n",
    "#We can see that there is no correlation between the age of the goalkeepers and their save rate."
   ]
  },
  {
   "cell_type": "markdown",
   "metadata": {},
   "source": [
    "### Visualizations\n",
    "\n",
    "Include all the visualizations you made in this section. This is related to the excellent criteria of ILO 4.2. Use the blocks below to enter the code for graphs you created with matplotlib (or seaborn, bokeh, or another visualization package). \n",
    "\n",
    "❗ If you would like to showcast your visualizations using streamlit, you need to hand in a seperate .py file for this. It is not possible to run streamlit code from a python notebook. Please note down below if you do so."
   ]
  },
  {
   "cell_type": "code",
   "execution_count": 7,
   "metadata": {},
   "outputs": [
    {
     "data": {
      "image/png": "[encoded data removed]",
      "text/plain": [
       "<Figure size 1200x600 with 1 Axes>"
      ]
     },
     "metadata": {},
     "output_type": "display_data"
    }
   ],
   "source": [
    "# Add visualizations here that you made to present insights in the NAC data. Create a new codeblock for every graph. Add markdown blocks to describe your graphs where necessary.\n",
    "fig, ax = plt.subplots(figsize=(12,6))\n",
    "\n",
    "birthplace_counts = nacdata['Birth country'].value_counts().head(20)\n",
    "ax.bar(birthplace_counts.index, birthplace_counts)\n",
    "\n",
    "ax.set_ylabel('Number of players')\n",
    "ax.set_xlabel('Country')\n",
    "plt.xticks(rotation = 90)\n",
    "plt.title('Distribution of nationalities of players in the top 20 countries')\n",
    "plt.show()\n",
    "\n",
    "#The majority of the players are coming from Italy, Germany and France."
   ]
  },
  {
   "cell_type": "code",
   "execution_count": 8,
   "metadata": {},
   "outputs": [
    {
     "data": {
      "image/png": "[encoded data removed]",
      "text/plain": [
       "<Figure size 640x480 with 1 Axes>"
      ]
     },
     "metadata": {},
     "output_type": "display_data"
    }
   ],
   "source": [
    "fig, ax = plt.subplots()\n",
    "\n",
    "foot = pd.DataFrame(nacdata['Foot'])\n",
    "\n",
    "x_axis = ['Right', 'Left', 'Unknown', 'Ambidextrous']\n",
    "\n",
    "ax.bar(x_axis, foot.value_counts(), color = 'green')\n",
    "ax.set_xticks(x_axis)\n",
    "\n",
    "ax.set_ylabel('Number of players')\n",
    "ax.set_xlabel('Dominant foot')\n",
    "\n",
    "plt.title('Distribution of the dominant foot')\n",
    "plt.show()\n",
    "\n",
    "#From the graph we can see that the majority of the players are right footed."
   ]
  },
  {
   "cell_type": "markdown",
   "metadata": {},
   "source": [
    "### Database and ETL\n",
    "\n",
    "Include all the python code and explanations on your RESTful API and database operations in this section. This is related to the excellent criteria of ILO 4.1.\n",
    "\n",
    "❗ These code you cannot showcast using the NAC data. Use the data provided for the homework and datalab preperation of these modules."
   ]
  },
  {
   "cell_type": "markdown",
   "metadata": {},
   "source": [
    "    API code"
   ]
  },
  {
   "cell_type": "code",
   "execution_count": 9,
   "metadata": {},
   "outputs": [
    {
     "data": {
      "text/plain": [
       "<Response [200]>"
      ]
     },
     "execution_count": 9,
     "metadata": {},
     "output_type": "execute_result"
    }
   ],
   "source": [
    "# Include your code here for for the API and ETL. This is not done on the NAC data.\n",
    "requests.get(\"https://randomuser.me/api/\")"
   ]
  },
  {
   "cell_type": "code",
   "execution_count": 10,
   "metadata": {},
   "outputs": [
    {
     "data": {
      "text/plain": [
       "'{\"results\":[{\"gender\":\"female\",\"name\":{\"title\":\"Ms\",\"first\":\"Florence\",\"last\":\"Cooper\"},\"location\":{\"street\":{\"number\":5540,\"name\":\"Anglesea Street\"},\"city\":\"Auckland\",\"state\":\"Wellington\",\"country\":\"New Zealand\",\"postcode\":21724,\"coordinates\":{\"latitude\":\"49.9551\",\"longitude\":\"15.5642\"},\"timezone\":{\"offset\":\"-12:00\",\"description\":\"Eniwetok, Kwajalein\"}},\"email\":\"florence.cooper@example.com\",\"login\":{\"uuid\":\"41b0800e-25ef-43fb-bf04-dd87ad0242c1\",\"username\":\"crazysnake831\",\"password\":\"102938\",\"salt\":\"x49p0SB7\",\"md5\":\"f152408ce8eb201831f9806f9a8f74cb\",\"sha1\":\"dd82261a2d60b91cf4e67ffd7125698c0c155ae3\",\"sha256\":\"050fd84cdd48ee4f7fc8030202b16fda9e2470bbcbcaf64177096f31e9de5b29\"},\"dob\":{\"date\":\"1975-07-21T00:41:10.133Z\",\"age\":48},\"registered\":{\"date\":\"2011-11-19T01:37:46.103Z\",\"age\":12},\"phone\":\"(801)-217-1246\",\"cell\":\"(413)-796-0377\",\"id\":{\"name\":\"\",\"value\":null},\"picture\":{\"large\":\"https://randomuser.me/api/portraits/women/64.jpg\",\"medium\":\"https://randomuser.me/api/portraits/med/women/64.jpg\",\"thumbnail\":\"https://randomuser.me/api/portraits/thumb/women/64.jpg\"},\"nat\":\"NZ\"}],\"info\":{\"seed\":\"23db0dcdb8e75713\",\"results\":1,\"page\":1,\"version\":\"1.4\"}}'"
      ]
     },
     "execution_count": 10,
     "metadata": {},
     "output_type": "execute_result"
    }
   ],
   "source": [
    "response = requests.get(\"https://randomuser.me/api/\")\n",
    "response.text"
   ]
  },
  {
   "cell_type": "code",
   "execution_count": 11,
   "metadata": {},
   "outputs": [
    {
     "data": {
      "text/plain": [
       "'{\"message\":\"The Cat API\",\"version\":\"1.3.7\"}'"
      ]
     },
     "execution_count": 11,
     "metadata": {},
     "output_type": "execute_result"
    }
   ],
   "source": [
    "response = requests.get(\"https://api.thecatapi.com/\")\n",
    "response.text"
   ]
  },
  {
   "cell_type": "code",
   "execution_count": 12,
   "metadata": {},
   "outputs": [
    {
     "data": {
      "text/plain": [
       "'[{\"weight\":{\"imperial\":\"7  -  10\",\"metric\":\"3 - 5\"},\"id\":\"abys\",\"name\":\"Abyssinian\",\"cfa_url\":\"http://cfa.org/Breeds/BreedsAB/Abyssinian.aspx\",\"vetstreet_url\":\"http://www.vetstreet.com/cats/abyssinian\",\"vcahospitals_url\":\"https://vcahospitals.com/know-your-pet/cat-breeds/abyssinian\",\"temperament\":\"Active, Energetic, Independent, Intelligent, Gentle\",\"origin\":\"Egypt\",\"country_codes\":\"EG\",\"country_code\":\"EG\",\"description\":\"The Abyssinian is easy to care for, and a joy to have in your home. They’re affectionate cats and love both people and other animals.\",\"life_span\":\"14 - 15\",\"indoor\":0,\"lap\":1,\"alt_names\":\"\",\"adaptability\":5,\"affection_level\":5,\"child_friendly\":3,\"dog_friendly\":4,\"energy_level\":5,\"grooming\":1,\"health_issues\":2,\"intelligence\":5,\"shedding_level\":2,\"social_needs\":5,\"stranger_friendly\":5,\"vocalisation\":1,\"experimental\":0,\"hairless\":0,\"natural\":1,\"rare\":0,\"rex\":0,\"suppressed_tail\":0,\"short_legs\":0,\"wikipedia_url\":\"https://en.wikipedia.org/wiki/Abyssinian_(cat)\",\"hypoallergenic\":0,\"reference_image_id\":\"0XYvRd7oD\"},{\"weight\":{\"imperial\":\"7 - 10\",\"metric\":\"3 - 5\"},\"id\":\"aege\",\"name\":\"Aegean\",\"vetstreet_url\":\"http://www.vetstreet.com/cats/aegean-cat\",\"temperament\":\"Affectionate, Social, Intelligent, Playful, Active\",\"origin\":\"Greece\",\"country_codes\":\"GR\",\"country_code\":\"GR\",\"description\":\"Native to the Greek islands known as the Cyclades in the Aegean Sea, these are natural cats, meaning they developed without humans getting involved in their breeding. As a breed, Aegean Cats are rare, although they are numerous on their home islands. They are generally friendly toward people and can be excellent cats for families with children.\",\"life_span\":\"9 - 12\",\"indoor\":0,\"alt_names\":\"\",\"adaptability\":5,\"affection_level\":4,\"child_friendly\":4,\"dog_friendly\":4,\"energy_level\":3,\"grooming\":3,\"health_issues\":1,\"intelligence\":3,\"shedding_level\":3,\"social_needs\":4,\"stranger_friendly\":4,\"vocalisation\":3,\"experimental\":0,\"hairless\":0,\"natural\":0,\"rare\":0,\"rex\":0,\"suppressed_tail\":0,\"short_legs\":0,\"wikipedia_url\":\"https://en.wikipedia.org/wiki/Aegean_cat\",\"hypoallergenic\":0,\"reference_image_id\":\"ozEvzdVM-\"},{\"weight\":{\"imperial\":\"7 - 16\",\"metric\":\"3 - 7\"},\"id\":\"abob\",\"name\":\"American Bobtail\",\"cfa_url\":\"http://cfa.org/Breeds/BreedsAB/AmericanBobtail.aspx\",\"vetstreet_url\":\"http://www.vetstreet.com/cats/american-bobtail\",\"vcahospitals_url\":\"https://vcahospitals.com/know-your-pet/cat-breeds/american-bobtail\",\"temperament\":\"Intelligent, Interactive, Lively, Playful, Sensitive\",\"origin\":\"United States\",\"country_codes\":\"US\",\"country_code\":\"US\",\"description\":\"American Bobtails are loving and incredibly intelligent cats possessing a distinctive wild appearance. They are extremely interactive cats that bond with their human family with great devotion.\",\"life_span\":\"11 - 15\",\"indoor\":0,\"lap\":1,\"alt_names\":\"\",\"adaptability\":5,\"affection_level\":5,\"child_friendly\":4,\"dog_friendly\":5,\"energy_level\":3,\"grooming\":1,\"health_issues\":1,\"intelligence\":5,\"shedding_level\":3,\"social_needs\":3,\"stranger_friendly\":3,\"vocalisation\":3,\"experimental\":0,\"hairless\":0,\"natural\":0,\"rare\":0,\"rex\":0,\"suppressed_tail\":1,\"short_legs\":0,\"wikipedia_url\":\"https://en.wikipedia.org/wiki/American_Bobtail\",\"hypoallergenic\":0,\"reference_image_id\":\"hBXicehMA\"},{\"weight\":{\"imperial\":\"5 - 10\",\"metric\":\"2 - 5\"},\"id\":\"acur\",\"name\":\"American Curl\",\"cfa_url\":\"http://cfa.org/Breeds/BreedsAB/AmericanCurl.aspx\",\"vetstreet_url\":\"http://www.vetstreet.com/cats/american-curl\",\"vcahospitals_url\":\"https://vcahospitals.com/know-your-pet/cat-breeds/american-curl\",\"temperament\":\"Affectionate, Curious, Intelligent, Interactive, Lively, Playful, Social\",\"origin\":\"United States\",\"country_codes\":\"US\",\"country_code\":\"US\",\"description\":\"Distinguished by truly unique ears that curl back in a graceful arc, offering an alert, perky, happily surprised expression, they cause people to break out into a big smile when viewing their first Curl. Curls are very people-oriented, faithful, affectionate soulmates, adjusting remarkably fast to other pets, children, and new situations.\",\"life_span\":\"12 - 16\",\"indoor\":0,\"lap\":1,\"alt_names\":\"\",\"adaptability\":5,\"affection_level\":5,\"child_friendly\":4,\"dog_friendly\":5,\"energy_level\":3,\"grooming\":2,\"health_issues\":1,\"intelligence\":3,\"shedding_level\":3,\"social_needs\":3,\"stranger_friendly\":3,\"vocalisation\":3,\"experimental\":0,\"hairless\":0,\"natural\":0,\"rare\":0,\"rex\":0,\"suppressed_tail\":0,\"short_legs\":0,\"wikipedia_url\":\"https://en.wikipedia.org/wiki/American_Curl\",\"hypoallergenic\":0,\"reference_image_id\":\"xnsqonbjW\"},{\"weight\":{\"imperial\":\"8 - 15\",\"metric\":\"4 - 7\"},\"id\":\"asho\",\"name\":\"American Shorthair\",\"cfa_url\":\"http://cfa.org/Breeds/BreedsAB/AmericanShorthair.aspx\",\"vetstreet_url\":\"http://www.vetstreet.com/cats/american-shorthair\",\"vcahospitals_url\":\"https://vcahospitals.com/know-your-pet/cat-breeds/american-shorthair\",\"temperament\":\"Active, Curious, Easy Going, Playful, Calm\",\"origin\":\"United States\",\"country_codes\":\"US\",\"country_code\":\"US\",\"description\":\"The American Shorthair is known for its longevity, robust health, good looks, sweet personality, and amiability with children, dogs, and other pets.\",\"life_span\":\"15 - 17\",\"indoor\":0,\"lap\":1,\"alt_names\":\"Domestic Shorthair\",\"adaptability\":5,\"affection_level\":5,\"child_friendly\":4,\"dog_friendly\":5,\"energy_level\":3,\"grooming\":1,\"health_issues\":3,\"intelligence\":3,\"shedding_level\":3,\"social_needs\":4,\"stranger_friendly\":3,\"vocalisation\":3,\"experimental\":0,\"hairless\":0,\"natural\":1,\"rare\":0,\"rex\":0,\"suppressed_tail\":0,\"short_legs\":0,\"wikipedia_url\":\"https://en.wikipedia.org/wiki/American_Shorthair\",\"hypoallergenic\":0,\"reference_image_id\":\"JFPROfGtQ\"},{\"weight\":{\"imperial\":\"8 - 15\",\"metric\":\"4 - 7\"},\"id\":\"awir\",\"name\":\"American Wirehair\",\"cfa_url\":\"http://cfa.org/Breeds/BreedsAB/AmericanWirehair.aspx\",\"vetstreet_url\":\"http://www.vetstreet.com/cats/american-wirehair\",\"temperament\":\"Affectionate, Curious, Gentle, Intelligent, Interactive, Lively, Loyal, Playful, Sensible, Social\",\"origin\":\"United States\",\"country_codes\":\"US\",\"country_code\":\"US\",\"description\":\"The American Wirehair tends to be a calm and tolerant cat who takes life as it comes. His favorite hobby is bird-watching from a sunny windowsill, and his hunting ability will stand you in good stead if insects enter the house.\",\"life_span\":\"14 - 18\",\"indoor\":0,\"lap\":1,\"alt_names\":\"\",\"adaptability\":5,\"affection_level\":5,\"child_friendly\":4,\"dog_friendly\":5,\"energy_level\":3,\"grooming\":1,\"health_issues\":3,\"intelligence\":3,\"shedding_level\":1,\"social_needs\":3,\"stranger_friendly\":3,\"vocalisation\":3,\"experimental\":0,\"hairless\":0,\"natural\":0,\"rare\":0,\"rex\":0,\"suppressed_tail\":0,\"short_legs\":0,\"wikipedia_url\":\"https://en.wikipedia.org/wiki/American_Wirehair\",\"hypoallergenic\":0,\"reference_image_id\":\"8D--jCd21\"},{\"weight\":{\"imperial\":\"8 - 16\",\"metric\":\"4 - 7\"},\"id\":\"amau\",\"name\":\"Arabian Mau\",\"vcahospitals_url\":\"\",\"temperament\":\"Affectionate, Agile, Curious, Independent, Playful, Loyal\",\"origin\":\"United Arab Emirates\",\"country_codes\":\"AE\",\"country_code\":\"AE\",\"description\":\"Arabian Mau cats are social and energetic. Due to their energy levels, these cats do best in homes where their owners will be able to provide them with plenty of playtime, attention and interaction from their owners. These kitties are friendly, intelligent, and adaptable, and will even get along well with other pets and children.\",\"life_span\":\"12 - 14\",\"indoor\":0,\"alt_names\":\"Alley cat\",\"adaptability\":5,\"affection_level\":5,\"child_friendly\":4,\"dog_friendly\":5,\"energy_level\":4,\"grooming\":1,\"health_issues\":1,\"intelligence\":3,\"shedding_level\":1,\"social_needs\":3,\"stranger_friendly\":3,\"vocalisation\":1,\"experimental\":0,\"hairless\":0,\"natural\":1,\"rare\":0,\"rex\":0,\"suppressed_tail\":0,\"short_legs\":0,\"wikipedia_url\":\"https://en.wikipedia.org/wiki/Arabian_Mau\",\"hypoallergenic\":0,\"reference_image_id\":\"k71ULYfRr\"},{\"weight\":{\"imperial\":\"7 - 15\",\"metric\":\"3 - 7\"},\"id\":\"amis\",\"name\":\"Australian Mist\",\"temperament\":\"Lively, Social, Fun-loving, Relaxed, Affectionate\",\"origin\":\"Australia\",\"country_codes\":\"AU\",\"country_code\":\"AU\",\"description\":\"The Australian Mist thrives on human companionship. Tolerant of even the youngest of children, these friendly felines enjoy playing games and being part of the hustle and bustle of a busy household. They make entertaining companions for people of all ages, and are happy to remain indoors between dusk and dawn or to be wholly indoor pets.\",\"life_span\":\"12 - 16\",\"indoor\":0,\"lap\":1,\"alt_names\":\"Spotted Mist\",\"adaptability\":5,\"affection_level\":5,\"child_friendly\":4,\"dog_friendly\":5,\"energy_level\":4,\"grooming\":3,\"health_issues\":1,\"intelligence\":4,\"shedding_level\":3,\"social_needs\":4,\"stranger_friendly\":4,\"vocalisation\":3,\"experimental\":0,\"hairless\":0,\"natural\":0,\"rare\":0,\"rex\":0,\"suppressed_tail\":0,\"short_legs\":0,\"wikipedia_url\":\"https://en.wikipedia.org/wiki/Australian_Mist\",\"hypoallergenic\":0,\"reference_image_id\":\"_6x-3TiCA\"},{\"weight\":{\"imperial\":\"4 - 10\",\"metric\":\"2 - 5\"},\"id\":\"bali\",\"name\":\"Balinese\",\"cfa_url\":\"http://cfa.org/Breeds/BreedsAB/Balinese.aspx\",\"vetstreet_url\":\"http://www.vetstreet.com/cats/balinese\",\"vcahospitals_url\":\"https://vcahospitals.com/know-your-pet/cat-breeds/balinese\",\"temperament\":\"Affectionate, Intelligent, Playful\",\"origin\":\"United States\",\"country_codes\":\"US\",\"country_code\":\"US\",\"description\":\"Balinese are curious, outgoing, intelligent cats with excellent communication skills. They are known for their chatty personalities and are always eager to tell you their views on life, love, and what you’ve served them for dinner. \",\"life_span\":\"10 - 15\",\"indoor\":0,\"alt_names\":\"Long-haired Siamese\",\"adaptability\":5,\"affection_level\":5,\"child_friendly\":4,\"dog_friendly\":5,\"energy_level\":5,\"grooming\":3,\"health_issues\":3,\"intelligence\":5,\"shedding_level\":3,\"social_needs\":5,\"stranger_friendly\":5,\"vocalisation\":5,\"experimental\":0,\"hairless\":0,\"natural\":0,\"rare\":0,\"rex\":0,\"suppressed_tail\":0,\"short_legs\":0,\"wikipedia_url\":\"https://en.wikipedia.org/wiki/Balinese_(cat)\",\"hypoallergenic\":1,\"reference_image_id\":\"13MkvUreZ\"},{\"weight\":{\"imperial\":\"4 - 9\",\"metric\":\"2 - 4\"},\"id\":\"bamb\",\"name\":\"Bambino\",\"temperament\":\"Affectionate, Lively, Friendly, Intelligent\",\"origin\":\"United States\",\"country_codes\":\"US\",\"country_code\":\"US\",\"description\":\"The Bambino is a breed of cat that was created as a cross between the Sphynx and the Munchkin breeds. The Bambino cat has short legs, large upright ears, and is usually hairless. They love to be handled and cuddled up on the laps of their family members.\",\"life_span\":\"12 - 14\",\"indoor\":0,\"lap\":1,\"alt_names\":\"\",\"adaptability\":5,\"affection_level\":5,\"child_friendly\":4,\"dog_friendly\":5,\"energy_level\":5,\"grooming\":1,\"health_issues\":1,\"intelligence\":5,\"shedding_level\":1,\"social_needs\":3,\"stranger_friendly\":3,\"vocalisation\":3,\"experimental\":1,\"hairless\":1,\"natural\":0,\"rare\":0,\"rex\":0,\"suppressed_tail\":0,\"short_legs\":1,\"wikipedia_url\":\"https://en.wikipedia.org/wiki/Bambino_cat\",\"hypoallergenic\":0,\"reference_image_id\":\"5AdhMjeEu\"},{\"weight\":{\"imperial\":\"6 - 12\",\"metric\":\"3 - 7\"},\"id\":\"beng\",\"name\":\"Bengal\",\"cfa_url\":\"http://cfa.org/Breeds/BreedsAB/Bengal.aspx\",\"vetstreet_url\":\"http://www.vetstreet.com/cats/bengal\",\"vcahospitals_url\":\"https://vcahospitals.com/know-your-pet/cat-breeds/bengal\",\"temperament\":\"Alert, Agile, Energetic, Demanding, Intelligent\",\"origin\":\"United States\",\"country_codes\":\"US\",\"country_code\":\"US\",\"description\":\"Bengals are a lot of fun to live with, but they\\'re definitely not the cat for everyone, or for first-time cat owners. Extremely intelligent, curious and active, they demand a lot of interaction and woe betide the owner who doesn\\'t provide it.\",\"life_span\":\"12 - 15\",\"indoor\":0,\"lap\":0,\"adaptability\":5,\"affection_level\":5,\"child_friendly\":4,\"cat_friendly\":4,\"dog_friendly\":5,\"energy_level\":5,\"grooming\":1,\"health_issues\":3,\"intelligence\":5,\"shedding_level\":3,\"social_needs\":5,\"stranger_friendly\":3,\"vocalisation\":5,\"bidability\":3,\"experimental\":0,\"hairless\":0,\"natural\":0,\"rare\":0,\"rex\":0,\"suppressed_tail\":0,\"short_legs\":0,\"wikipedia_url\":\"https://en.wikipedia.org/wiki/Bengal_(cat)\",\"hypoallergenic\":1,\"reference_image_id\":\"O3btzLlsO\"},{\"weight\":{\"imperial\":\"6 - 15\",\"metric\":\"3 - 7\"},\"id\":\"birm\",\"name\":\"Birman\",\"cfa_url\":\"http://cfa.org/Breeds/BreedsAB/Birman.aspx\",\"vetstreet_url\":\"http://www.vetstreet.com/cats/birman\",\"vcahospitals_url\":\"https://vcahospitals.com/know-your-pet/cat-breeds/birman\",\"temperament\":\"Affectionate, Active, Gentle, Social\",\"origin\":\"France\",\"country_codes\":\"FR\",\"country_code\":\"FR\",\"description\":\"The Birman is a docile, quiet cat who loves people and will follow them from room to room. Expect the Birman to want to be involved in what you’re doing. He communicates in a soft voice, mainly to remind you that perhaps it’s time for dinner or maybe for a nice cuddle on the sofa. He enjoys being held and will relax in your arms like a furry baby.\",\"life_span\":\"14 - 15\",\"indoor\":0,\"lap\":1,\"alt_names\":\"Sacred Birman, Sacred Cat Of Burma\",\"adaptability\":5,\"affection_level\":5,\"child_friendly\":4,\"dog_friendly\":5,\"energy_level\":3,\"grooming\":2,\"health_issues\":1,\"intelligence\":3,\"shedding_level\":3,\"social_needs\":4,\"stranger_friendly\":3,\"vocalisation\":1,\"experimental\":0,\"hairless\":0,\"natural\":0,\"rare\":0,\"rex\":0,\"suppressed_tail\":0,\"short_legs\":0,\"wikipedia_url\":\"https://en.wikipedia.org/wiki/Birman\",\"hypoallergenic\":0,\"reference_image_id\":\"HOrX5gwLS\"},{\"weight\":{\"imperial\":\"6 - 11\",\"metric\":\"3 - 5\"},\"id\":\"bomb\",\"name\":\"Bombay\",\"cfa_url\":\"http://cfa.org/Breeds/BreedsAB/Bombay.aspx\",\"vetstreet_url\":\"http://www.vetstreet.com/cats/bombay\",\"vcahospitals_url\":\"https://vcahospitals.com/know-your-pet/cat-breeds/bombay\",\"temperament\":\"Affectionate, Dependent, Gentle, Intelligent, Playful\",\"origin\":\"United States\",\"country_codes\":\"US\",\"country_code\":\"US\",\"description\":\"The the golden eyes and the shiny black coa of the Bopmbay is absolutely striking. Likely to bond most with one family member, the Bombay will follow you from room to room and will almost always have something to say about what you are doing, loving attention and to be carried around, often on his caregiver\\'s shoulder.\",\"life_span\":\"12 - 16\",\"indoor\":0,\"lap\":1,\"alt_names\":\"Small black Panther\",\"adaptability\":5,\"affection_level\":5,\"child_friendly\":4,\"dog_friendly\":5,\"energy_level\":3,\"grooming\":1,\"health_issues\":3,\"intelligence\":5,\"shedding_level\":3,\"social_needs\":4,\"stranger_friendly\":4,\"vocalisation\":5,\"experimental\":0,\"hairless\":0,\"natural\":0,\"rare\":0,\"rex\":0,\"suppressed_tail\":0,\"short_legs\":0,\"wikipedia_url\":\"https://en.wikipedia.org/wiki/Bombay_(cat)\",\"hypoallergenic\":0,\"reference_image_id\":\"5iYq9NmT1\"},{\"weight\":{\"imperial\":\"8 - 18\",\"metric\":\"4 - 8\"},\"id\":\"bslo\",\"name\":\"British Longhair\",\"temperament\":\"Affectionate, Easy Going, Independent, Intelligent, Loyal, Social\",\"origin\":\"United Kingdom\",\"country_codes\":\"GB\",\"country_code\":\"GB\",\"description\":\"The British Longhair is a very laid-back relaxed cat, often perceived to be very independent although they will enjoy the company of an equally relaxed and likeminded cat. They are an affectionate breed, but very much on their own terms and tend to prefer to choose to come and sit with their owners rather than being picked up.\",\"life_span\":\"12 - 14\",\"indoor\":0,\"alt_names\":\"\",\"adaptability\":5,\"affection_level\":5,\"child_friendly\":4,\"dog_friendly\":5,\"energy_level\":4,\"grooming\":5,\"health_issues\":1,\"intelligence\":5,\"shedding_level\":1,\"social_needs\":3,\"stranger_friendly\":4,\"vocalisation\":1,\"experimental\":0,\"hairless\":0,\"natural\":0,\"rare\":0,\"rex\":0,\"suppressed_tail\":0,\"short_legs\":0,\"wikipedia_url\":\"https://en.wikipedia.org/wiki/British_Longhair\",\"hypoallergenic\":0,\"reference_image_id\":\"7isAO4Cav\"},{\"weight\":{\"imperial\":\"12 - 20\",\"metric\":\"5 - 9\"},\"id\":\"bsho\",\"name\":\"British Shorthair\",\"cfa_url\":\"http://cfa.org/Breeds/BreedsAB/BritishShorthair.aspx\",\"vetstreet_url\":\"http://www.vetstreet.com/cats/british-shorthair\",\"vcahospitals_url\":\"https://vcahospitals.com/know-your-pet/cat-breeds/british-shorthair\",\"temperament\":\"Affectionate, Easy Going, Gentle, Loyal, Patient, calm\",\"origin\":\"United Kingdom\",\"country_codes\":\"GB\",\"country_code\":\"GB\",\"description\":\"The British Shorthair is a very pleasant cat to have as a companion, ans is easy going and placid. The British is a fiercely loyal, loving cat and will attach herself to every one of her family members. While loving to play, she doesn\\'t need hourly attention. If she is in the mood to play, she will find someone and bring a toy to that person. The British also plays well by herself, and thus is a good companion for single people.\",\"life_span\":\"12 - 17\",\"indoor\":0,\"lap\":1,\"alt_names\":\"Highlander, Highland Straight, Britannica\",\"adaptability\":5,\"affection_level\":4,\"child_friendly\":4,\"dog_friendly\":5,\"energy_level\":2,\"grooming\":2,\"health_issues\":2,\"intelligence\":3,\"shedding_level\":4,\"social_needs\":3,\"stranger_friendly\":2,\"vocalisation\":1,\"experimental\":0,\"hairless\":0,\"natural\":1,\"rare\":0,\"rex\":0,\"suppressed_tail\":0,\"short_legs\":0,\"wikipedia_url\":\"https://en.wikipedia.org/wiki/British_Shorthair\",\"hypoallergenic\":0,\"reference_image_id\":\"s4wQfYoEk\"},{\"weight\":{\"imperial\":\"6 - 12\",\"metric\":\"3 - 5\"},\"id\":\"bure\",\"name\":\"Burmese\",\"cfa_url\":\"http://cfa.org/Breeds/BreedsAB/Burmese.aspx\",\"vetstreet_url\":\"http://www.vetstreet.com/cats/burmese\",\"vcahospitals_url\":\"https://vcahospitals.com/know-your-pet/cat-breeds/burmese\",\"temperament\":\"Curious, Intelligent, Gentle, Social, Interactive, Playful, Lively\",\"origin\":\"Burma\",\"country_codes\":\"MM\",\"country_code\":\"MM\",\"description\":\"Burmese love being with people, playing with them, and keeping them entertained. They crave close physical contact and abhor an empty lap. They will follow their humans from room to room, and sleep in bed with them, preferably under the covers, cuddled as close as possible. At play, they will turn around to see if their human is watching and being entertained by their crazy antics.\",\"life_span\":\"15 - 16\",\"indoor\":0,\"lap\":1,\"alt_names\":\"\",\"adaptability\":5,\"affection_level\":5,\"child_friendly\":4,\"dog_friendly\":5,\"energy_level\":4,\"grooming\":1,\"health_issues\":3,\"intelligence\":5,\"shedding_level\":3,\"social_needs\":5,\"stranger_friendly\":5,\"vocalisation\":5,\"experimental\":0,\"hairless\":0,\"natural\":0,\"rare\":0,\"rex\":0,\"suppressed_tail\":0,\"short_legs\":0,\"wikipedia_url\":\"https://en.wikipedia.org/wiki/Burmese_(cat)\",\"hypoallergenic\":1,\"reference_image_id\":\"4lXnnfxac\"},{\"weight\":{\"imperial\":\"6 - 13\",\"metric\":\"3 - 6\"},\"id\":\"buri\",\"name\":\"Burmilla\",\"cfa_url\":\"http://cfa.org/Breeds/BreedsAB/Burmilla.aspx\",\"vetstreet_url\":\"http://www.vetstreet.com/cats/burmilla\",\"temperament\":\"Easy Going, Friendly, Intelligent, Lively, Playful, Social\",\"origin\":\"United Kingdom\",\"country_codes\":\"GB\",\"country_code\":\"GB\",\"description\":\"The Burmilla is a fairly placid cat. She tends to be an easy cat to get along with, requiring minimal care. The Burmilla is affectionate and sweet and makes a good companion, the Burmilla is an ideal companion to while away a lonely evening. Loyal, devoted, and affectionate, this cat will stay by its owner, always keeping them company.\",\"life_span\":\"10 - 15\",\"indoor\":0,\"lap\":1,\"alt_names\":\"\",\"adaptability\":5,\"affection_level\":5,\"child_friendly\":4,\"dog_friendly\":4,\"energy_level\":3,\"grooming\":3,\"health_issues\":3,\"intelligence\":3,\"shedding_level\":3,\"social_needs\":4,\"stranger_friendly\":3,\"vocalisation\":5,\"experimental\":0,\"hairless\":0,\"natural\":0,\"rare\":0,\"rex\":0,\"suppressed_tail\":0,\"short_legs\":0,\"wikipedia_url\":\"https://en.wikipedia.org/wiki/Burmilla\",\"hypoallergenic\":0,\"reference_image_id\":\"jvg3XfEdC\"},{\"weight\":{\"imperial\":\"10 - 15\",\"metric\":\"5 - 7\"},\"id\":\"cspa\",\"name\":\"California Spangled\",\"temperament\":\"Affectionate, Curious, Intelligent, Loyal, Social\",\"origin\":\"United States\",\"country_codes\":\"US\",\"country_code\":\"US\",\"description\":\"Perhaps the only thing about the California spangled cat that isn’t wild-like is its personality. Known to be affectionate, gentle and sociable, this breed enjoys spending a great deal of time with its owners. They are very playful, often choosing to perch in high locations and show off their acrobatic skills.\",\"life_span\":\"10 - 14\",\"indoor\":0,\"alt_names\":\"Spangle\",\"adaptability\":5,\"affection_level\":5,\"child_friendly\":4,\"dog_friendly\":5,\"energy_level\":5,\"grooming\":1,\"health_issues\":1,\"intelligence\":5,\"shedding_level\":1,\"social_needs\":3,\"stranger_friendly\":4,\"vocalisation\":1,\"experimental\":0,\"hairless\":0,\"natural\":0,\"rare\":0,\"rex\":0,\"suppressed_tail\":0,\"short_legs\":0,\"wikipedia_url\":\"https://en.wikipedia.org/wiki/California_Spangled\",\"hypoallergenic\":0,\"reference_image_id\":\"B1ERTmgph\"},{\"weight\":{\"imperial\":\"7 - 12\",\"metric\":\"3 - 5\"},\"id\":\"ctif\",\"name\":\"Chantilly-Tiffany\",\"temperament\":\"Affectionate, Demanding, Interactive, Loyal\",\"origin\":\"United States\",\"country_codes\":\"US\",\"country_code\":\"US\",\"description\":\"The Chantilly is a devoted companion and prefers company to being left alone. While the Chantilly is not demanding, she will \\\\\"chirp\\\\\" and \\\\\"talk\\\\\" as if having a conversation. This breed is affectionate, with a sweet temperament. It can stay still for extended periods, happily lounging in the lap of its loved one. This quality makes the Tiffany an ideal traveling companion, and an ideal house companion for senior citizens and the physically handicapped.\",\"life_span\":\"14 - 16\",\"indoor\":0,\"lap\":1,\"alt_names\":\"Chantilly, Foreign Longhair\",\"adaptability\":5,\"affection_level\":5,\"child_friendly\":4,\"dog_friendly\":5,\"energy_level\":4,\"grooming\":5,\"health_issues\":1,\"intelligence\":5,\"shedding_level\":5,\"social_needs\":3,\"stranger_friendly\":4,\"vocalisation\":5,\"experimental\":0,\"hairless\":0,\"natural\":0,\"rare\":0,\"rex\":0,\"suppressed_tail\":0,\"short_legs\":0,\"wikipedia_url\":\"https://en.wikipedia.org/wiki/Chantilly-Tiffany\",\"hypoallergenic\":0,\"reference_image_id\":\"TR-5nAd_S\"},{\"weight\":{\"imperial\":\"6 - 15\",\"metric\":\"3 - 7\"},\"id\":\"char\",\"name\":\"Chartreux\",\"cfa_url\":\"http://cfa.org/Breeds/BreedsCJ/Chartreux.aspx\",\"vetstreet_url\":\"http://www.vetstreet.com/cats/chartreux\",\"vcahospitals_url\":\"https://vcahospitals.com/know-your-pet/cat-breeds/chartreux\",\"temperament\":\"Affectionate, Loyal, Intelligent, Social, Lively, Playful\",\"origin\":\"France\",\"country_codes\":\"FR\",\"country_code\":\"FR\",\"description\":\"The Chartreux is generally silent but communicative. Short play sessions, mixed with naps and meals are their perfect day. Whilst appreciating any attention you give them, they are not demanding, content instead to follow you around devotedly, sleep on your bed and snuggle with you if you’re not feeling well.\",\"life_span\":\"12 - 15\",\"indoor\":0,\"lap\":1,\"alt_names\":\"\",\"adaptability\":5,\"affection_level\":5,\"child_friendly\":4,\"dog_friendly\":5,\"energy_level\":2,\"grooming\":1,\"health_issues\":2,\"intelligence\":4,\"shedding_level\":3,\"social_needs\":5,\"stranger_friendly\":5,\"vocalisation\":1,\"experimental\":0,\"hairless\":0,\"natural\":0,\"rare\":0,\"rex\":1,\"suppressed_tail\":0,\"short_legs\":0,\"wikipedia_url\":\"https://en.wikipedia.org/wiki/Chartreux\",\"hypoallergenic\":1,\"reference_image_id\":\"j6oFGLpRG\"},{\"weight\":{\"imperial\":\"7 - 15\",\"metric\":\"3 - 7\"},\"id\":\"chau\",\"name\":\"Chausie\",\"temperament\":\"Affectionate, Intelligent, Playful, Social\",\"origin\":\"Egypt\",\"country_codes\":\"EG\",\"country_code\":\"EG\",\"description\":\"For those owners who desire a feline capable of evoking the great outdoors, the strikingly beautiful Chausie retains a bit of the wild in its appearance but has the house manners of our friendly, familiar moggies. Very playful, this cat needs a large amount of space to be able to fully embrace its hunting instincts.\",\"life_span\":\"12 - 14\",\"indoor\":0,\"alt_names\":\"Nile Cat\",\"adaptability\":5,\"affection_level\":5,\"child_friendly\":4,\"dog_friendly\":5,\"energy_level\":4,\"grooming\":3,\"health_issues\":1,\"intelligence\":5,\"shedding_level\":3,\"social_needs\":3,\"stranger_friendly\":4,\"vocalisation\":1,\"experimental\":1,\"hairless\":0,\"natural\":0,\"rare\":0,\"rex\":0,\"suppressed_tail\":0,\"short_legs\":0,\"wikipedia_url\":\"https://en.wikipedia.org/wiki/Chausie\",\"hypoallergenic\":0,\"reference_image_id\":\"vJ3lEYgXr\"},{\"weight\":{\"imperial\":\"8 - 15\",\"metric\":\"4 - 7\"},\"id\":\"chee\",\"name\":\"Cheetoh\",\"temperament\":\"Affectionate, Gentle, Intelligent, Social\",\"origin\":\"United States\",\"country_codes\":\"US\",\"country_code\":\"US\",\"description\":\"The Cheetoh has a super affectionate nature and real love for their human companions; they are intelligent with the ability to learn quickly. You can expect that a Cheetoh will be a fun-loving kitty who enjoys playing, running, and jumping through every room in your house.\",\"life_span\":\"12 - 14\",\"indoor\":0,\"alt_names\":\"\\xa0\",\"adaptability\":5,\"affection_level\":5,\"child_friendly\":4,\"dog_friendly\":5,\"energy_level\":4,\"grooming\":1,\"health_issues\":1,\"intelligence\":5,\"shedding_level\":1,\"social_needs\":3,\"stranger_friendly\":4,\"vocalisation\":5,\"experimental\":0,\"hairless\":0,\"natural\":0,\"rare\":0,\"rex\":0,\"suppressed_tail\":0,\"short_legs\":0,\"wikipedia_url\":\"https://en.wikipedia.org/wiki/Bengal_cat#Cheetoh\",\"hypoallergenic\":0,\"reference_image_id\":\"IFXsxmXLm\"},{\"weight\":{\"imperial\":\"4 - 10\",\"metric\":\"2 - 5\"},\"id\":\"csho\",\"name\":\"Colorpoint Shorthair\",\"cfa_url\":\"http://cfa.org/Breeds/BreedsCJ/ColorpointShorthair.aspx\",\"vcahospitals_url\":\"https://vcahospitals.com/know-your-pet/cat-breeds/colorpoint-shorthair\",\"temperament\":\"Affectionate, Intelligent, Playful, Social\",\"origin\":\"United States\",\"country_codes\":\"US\",\"country_code\":\"US\",\"description\":\"Colorpoint Shorthairs are an affectionate breed, devoted and loyal to their people. Sensitive to their owner’s moods, Colorpoints are more than happy to sit at your side or on your lap and purr words of encouragement on a bad day. They will constantly seek out your lap whenever it is open and in the moments when your lap is preoccupied they will stretch out in sunny spots on the ground.\",\"life_span\":\"12 - 16\",\"indoor\":0,\"lap\":1,\"alt_names\":\"\",\"adaptability\":3,\"affection_level\":4,\"child_friendly\":4,\"cat_friendly\":3,\"dog_friendly\":4,\"energy_level\":4,\"grooming\":2,\"health_issues\":2,\"intelligence\":5,\"shedding_level\":3,\"social_needs\":4,\"stranger_friendly\":2,\"vocalisation\":5,\"bidability\":4,\"experimental\":0,\"hairless\":0,\"natural\":0,\"rare\":0,\"rex\":0,\"suppressed_tail\":0,\"short_legs\":0,\"wikipedia_url\":\"https://en.wikipedia.org/wiki/Colorpoint_Shorthair\",\"hypoallergenic\":0,\"reference_image_id\":\"oSpqGyUDS\"},{\"weight\":{\"imperial\":\"5 - 9\",\"metric\":\"2 - 4\"},\"id\":\"crex\",\"name\":\"Cornish Rex\",\"cfa_url\":\"http://cfa.org/Breeds/BreedsCJ/CornishRex.aspx\",\"vetstreet_url\":\"http://www.vetstreet.com/cats/cornish-rex\",\"vcahospitals_url\":\"https://vcahospitals.com/know-your-pet/cat-breeds/cornish-rex\",\"temperament\":\"Affectionate, Intelligent, Active, Curious, Playful\",\"origin\":\"United Kingdom\",\"country_codes\":\"GB\",\"country_code\":\"GB\",\"description\":\"This is a confident cat who loves people and will follow them around, waiting for any opportunity to sit in a lap or give a kiss. He enjoys being handled, making it easy to take him to the veterinarian or train him for therapy work. The Cornish Rex stay in kitten mode most of their lives and well into their senior years. \",\"life_span\":\"11 - 14\",\"indoor\":0,\"lap\":1,\"alt_names\":\"\",\"adaptability\":5,\"affection_level\":5,\"child_friendly\":4,\"cat_friendly\":2,\"dog_friendly\":5,\"energy_level\":5,\"grooming\":1,\"health_issues\":2,\"intelligence\":5,\"shedding_level\":1,\"social_needs\":5,\"stranger_friendly\":3,\"vocalisation\":1,\"experimental\":0,\"hairless\":0,\"natural\":0,\"rare\":0,\"rex\":1,\"suppressed_tail\":0,\"short_legs\":0,\"wikipedia_url\":\"https://en.wikipedia.org/wiki/Cornish_Rex\",\"hypoallergenic\":1,\"reference_image_id\":\"unX21IBVB\"},{\"weight\":{\"imperial\":\"8 - 13\",\"metric\":\"4 - 6\"},\"id\":\"cymr\",\"name\":\"Cymric\",\"vetstreet_url\":\"http://www.vetstreet.com/cats/cymric\",\"temperament\":\"Gentle, Loyal, Intelligent, Playful\",\"origin\":\"Canada\",\"country_codes\":\"CA\",\"country_code\":\"CA\",\"description\":\"The Cymric is a placid, sweet cat. They do not get too upset about anything that happens in their world. They are loving companions and adore people. They are smart and dexterous, capable of using his paws to get into cabinets or to open doors.\",\"life_span\":\"8 - 14\",\"indoor\":0,\"lap\":1,\"alt_names\":\"Spangle\",\"adaptability\":5,\"affection_level\":5,\"child_friendly\":4,\"dog_friendly\":5,\"energy_level\":5,\"grooming\":3,\"health_issues\":3,\"intelligence\":5,\"shedding_level\":5,\"social_needs\":5,\"stranger_friendly\":3,\"vocalisation\":3,\"experimental\":0,\"hairless\":0,\"natural\":0,\"rare\":0,\"rex\":0,\"suppressed_tail\":1,\"short_legs\":0,\"wikipedia_url\":\"https://en.wikipedia.org/wiki/Cymric_(cat)\",\"hypoallergenic\":0,\"reference_image_id\":\"3dbtapCWM\"},{\"weight\":{\"imperial\":\"8 - 16\",\"metric\":\"4 - 7\"},\"id\":\"cypr\",\"name\":\"Cyprus\",\"temperament\":\"Affectionate, Social\",\"origin\":\"Cyprus\",\"country_codes\":\"CY\",\"country_code\":\"CY\",\"description\":\"Loving, loyal, social and inquisitive, the Cyprus cat forms strong ties with their families and love nothing more than to be involved in everything that goes on in their surroundings. They are not overly active by nature which makes them the perfect companion for people who would like to share their homes with a laid-back relaxed feline companion. \",\"life_span\":\"12 - 15\",\"indoor\":0,\"lap\":1,\"alt_names\":\"Cypriot cat\",\"adaptability\":5,\"affection_level\":5,\"child_friendly\":4,\"dog_friendly\":5,\"energy_level\":4,\"grooming\":3,\"health_issues\":1,\"intelligence\":3,\"shedding_level\":3,\"social_needs\":3,\"stranger_friendly\":4,\"vocalisation\":3,\"experimental\":0,\"hairless\":0,\"natural\":1,\"rare\":0,\"rex\":0,\"suppressed_tail\":0,\"short_legs\":0,\"wikipedia_url\":\"https://en.wikipedia.org/wiki/Cyprus_cat\",\"hypoallergenic\":0,\"reference_image_id\":\"tJbzb7FKo\"},{\"weight\":{\"imperial\":\"5 - 10\",\"metric\":\"2 - 5\"},\"id\":\"drex\",\"name\":\"Devon Rex\",\"cfa_url\":\"http://cfa.org/Breeds/BreedsCJ/DevonRex.aspx\",\"vetstreet_url\":\"http://www.vetstreet.com/cats/devon-rex\",\"vcahospitals_url\":\"https://vcahospitals.com/know-your-pet/cat-breeds/devon-rex\",\"temperament\":\"Highly interactive, Mischievous, Loyal, Social, Playful\",\"origin\":\"United Kingdom\",\"country_codes\":\"GB\",\"country_code\":\"GB\",\"description\":\"The favourite perch of the Devon Rex is right at head level, on the shoulder of her favorite person. She takes a lively interest in everything that is going on and refuses to be left out of any activity. Count on her to stay as close to you as possible, occasionally communicating his opinions in a quiet voice. She loves people and welcomes the attentions of friends and family alike.\",\"life_span\":\"10 - 15\",\"indoor\":0,\"lap\":1,\"alt_names\":\"Pixie cat, Alien cat, Poodle cat\",\"adaptability\":5,\"affection_level\":5,\"child_friendly\":4,\"dog_friendly\":5,\"energy_level\":5,\"grooming\":1,\"health_issues\":3,\"intelligence\":5,\"shedding_level\":1,\"social_needs\":5,\"stranger_friendly\":5,\"vocalisation\":1,\"experimental\":0,\"hairless\":0,\"natural\":0,\"rare\":0,\"rex\":1,\"suppressed_tail\":0,\"short_legs\":0,\"wikipedia_url\":\"https://en.wikipedia.org/wiki/Devon_Rex\",\"hypoallergenic\":1,\"reference_image_id\":\"4RzEwvyzz\"},{\"weight\":{\"imperial\":\"10 - 12\",\"metric\":\"5 - 6\"},\"id\":\"dons\",\"name\":\"Donskoy\",\"temperament\":\"Playful, affectionate, loyal, social\",\"origin\":\"Russia\",\"country_codes\":\"RU\",\"country_code\":\"RU\",\"description\":\"Donskoy are affectionate, intelligent, and easy-going. They demand lots of attention and interaction. The Donskoy also gets along well with other pets. It is now thought the same gene that causes degrees of hairlessness in the Donskoy also causes alterations in cat personality, making them calmer the less hair they have.\",\"life_span\":\"12 - 15\",\"indoor\":0,\"adaptability\":4,\"affection_level\":4,\"child_friendly\":3,\"cat_friendly\":3,\"dog_friendly\":3,\"energy_level\":4,\"grooming\":2,\"health_issues\":3,\"intelligence\":3,\"shedding_level\":1,\"social_needs\":5,\"stranger_friendly\":5,\"vocalisation\":2,\"experimental\":0,\"hairless\":1,\"natural\":0,\"rare\":1,\"rex\":0,\"suppressed_tail\":0,\"short_legs\":0,\"wikipedia_url\":\"https://en.wikipedia.org/wiki/Donskoy_(cat)\",\"hypoallergenic\":0,\"reference_image_id\":\"3KG57GfMW\"},{\"weight\":{\"imperial\":\"9 - 12\",\"metric\":\"4 - 6\"},\"id\":\"lihu\",\"name\":\"Dragon Li\",\"vetstreet_url\":\"http://www.vetstreet.com/cats/li-hua\",\"temperament\":\"Intelligent, Friendly, Gentle, Loving, Loyal\",\"origin\":\"China\",\"country_codes\":\"CN\",\"country_code\":\"CN\",\"description\":\"The Dragon Li is loyal, but not particularly affectionate. They are known to be very intelligent, and their natural breed status means that they\\'re very active. She is is gentle with people, and has a reputation as a talented hunter of rats and other vermin.\",\"life_span\":\"12 - 15\",\"indoor\":1,\"alt_names\":\"Chinese Lia Hua, Lí hua māo (貍花貓), Li Hua\",\"adaptability\":3,\"affection_level\":3,\"child_friendly\":3,\"cat_friendly\":3,\"dog_friendly\":3,\"energy_level\":3,\"grooming\":1,\"health_issues\":1,\"intelligence\":3,\"shedding_level\":3,\"social_needs\":4,\"stranger_friendly\":3,\"vocalisation\":3,\"experimental\":0,\"hairless\":0,\"natural\":1,\"rare\":0,\"rex\":0,\"suppressed_tail\":0,\"short_legs\":0,\"wikipedia_url\":\"https://en.wikipedia.org/wiki/Dragon_Li\",\"hypoallergenic\":0,\"reference_image_id\":\"BQMSld0A0\"},{\"weight\":{\"imperial\":\"6 - 14\",\"metric\":\"3 - 6\"},\"id\":\"emau\",\"name\":\"Egyptian Mau\",\"cfa_url\":\"http://cfa.org/Breeds/BreedsCJ/EgyptianMau.aspx\",\"vetstreet_url\":\"http://www.vetstreet.com/cats/egyptian-mau\",\"vcahospitals_url\":\"https://vcahospitals.com/know-your-pet/cat-breeds/egyptian-mau\",\"temperament\":\"Agile, Dependent, Gentle, Intelligent, Lively, Loyal, Playful\",\"origin\":\"Egypt\",\"country_codes\":\"EG\",\"country_code\":\"EG\",\"description\":\"The Egyptian Mau is gentle and reserved. She loves her people and desires attention and affection from them but is wary of others. Early, continuing socialization is essential with this sensitive and sometimes shy cat, especially if you plan to show or travel with her. Otherwise, she can be easily startled by unexpected noises or events.\",\"life_span\":\"18 - 20\",\"indoor\":0,\"lap\":1,\"alt_names\":\"Pharaoh Cat\",\"adaptability\":2,\"affection_level\":5,\"child_friendly\":3,\"dog_friendly\":3,\"energy_level\":5,\"grooming\":1,\"health_issues\":3,\"intelligence\":4,\"shedding_level\":3,\"social_needs\":4,\"stranger_friendly\":2,\"vocalisation\":3,\"experimental\":0,\"hairless\":0,\"natural\":1,\"rare\":0,\"rex\":0,\"suppressed_tail\":0,\"short_legs\":0,\"wikipedia_url\":\"https://en.wikipedia.org/wiki/Egyptian_Mau\",\"hypoallergenic\":0,\"reference_image_id\":\"TuSyTkt2n\"},{\"weight\":{\"imperial\":\"7 - 14\",\"metric\":\"3 - 6\"},\"id\":\"ebur\",\"name\":\"European Burmese\",\"cfa_url\":\"http://cfa.org/Breeds/BreedsCJ/EuropeanBurmese.aspx\",\"temperament\":\"Sweet, Affectionate, Loyal\",\"origin\":\"Burma\",\"country_codes\":\"MM\",\"country_code\":\"MM\",\"description\":\"The European Burmese is a very affectionate, intelligent, and loyal cat. They thrive on companionship and will want to be with you, participating in everything you do. While they might pick a favorite family member, chances are that they will interact with everyone in the home, as well as any visitors that come to call. They are inquisitive and playful, even as adults. \",\"life_span\":\"10 - 15\",\"indoor\":0,\"lap\":1,\"alt_names\":\"\",\"adaptability\":5,\"affection_level\":5,\"child_friendly\":4,\"cat_friendly\":4,\"dog_friendly\":4,\"energy_level\":4,\"grooming\":1,\"health_issues\":4,\"intelligence\":5,\"shedding_level\":3,\"social_needs\":5,\"stranger_friendly\":5,\"vocalisation\":4,\"experimental\":0,\"hairless\":0,\"natural\":0,\"rare\":0,\"rex\":0,\"suppressed_tail\":0,\"short_legs\":0,\"hypoallergenic\":0},{\"weight\":{\"imperial\":\"7 - 14\",\"metric\":\"3 - 6\"},\"id\":\"esho\",\"name\":\"Exotic Shorthair\",\"cfa_url\":\"http://cfa.org/Breeds/BreedsCJ/Exotic.aspx\",\"vetstreet_url\":\"http://www.vetstreet.com/cats/exotic-shorthair\",\"vcahospitals_url\":\"https://vcahospitals.com/know-your-pet/cat-breeds/exotic-shorthair\",\"temperament\":\"Affectionate, Sweet, Loyal, Quiet, Peaceful\",\"origin\":\"United States\",\"country_codes\":\"US\",\"country_code\":\"US\",\"description\":\"The Exotic Shorthair is a gentle friendly cat that has the same personality as the Persian. They love having fun, don’t mind the company of other cats and dogs, also love to curl up for a sleep in a safe place. Exotics love their own people, but around strangers they are cautious at first. Given time, they usually warm up to visitors.\",\"life_span\":\"12 - 15\",\"indoor\":0,\"lap\":1,\"alt_names\":\"Exotic\",\"adaptability\":5,\"affection_level\":5,\"child_friendly\":3,\"dog_friendly\":3,\"energy_level\":3,\"grooming\":2,\"health_issues\":3,\"intelligence\":3,\"shedding_level\":2,\"social_needs\":4,\"stranger_friendly\":2,\"vocalisation\":1,\"experimental\":0,\"hairless\":0,\"natural\":0,\"rare\":0,\"rex\":0,\"suppressed_tail\":0,\"short_legs\":0,\"wikipedia_url\":\"https://en.wikipedia.org/wiki/Exotic_Shorthair\",\"hypoallergenic\":0,\"reference_image_id\":\"YnPrYEmfe\"},{\"weight\":{\"imperial\":\"6 - 10\",\"metric\":\"3 - 5\"},\"id\":\"hbro\",\"name\":\"Havana Brown\",\"cfa_url\":\"http://cfa.org/Breeds/BreedsCJ/HavanaBrown.aspx\",\"vetstreet_url\":\"http://www.vetstreet.com/cats/havana-brown\",\"vcahospitals_url\":\"https://vcahospitals.com/know-your-pet/cat-breeds/havana-brown\",\"temperament\":\"Affectionate, Curious, Demanding, Friendly, Intelligent, Playful\",\"origin\":\"United Kingdom\",\"country_codes\":\"GB\",\"country_code\":\"GB\",\"description\":\"The Havana Brown is human oriented, playful, and curious. She has a strong desire to spend time with her people and involve herself in everything they do. Being naturally inquisitive, the Havana Brown reaches out with a paw to touch and feel when investigating curiosities in its environment. They are truly sensitive by nature and frequently gently touch their human companions as if they are extending a paw of friendship.\",\"life_span\":\"10 - 15\",\"indoor\":0,\"lap\":1,\"alt_names\":\"Havana, HB\",\"adaptability\":5,\"affection_level\":5,\"child_friendly\":4,\"dog_friendly\":5,\"energy_level\":3,\"grooming\":1,\"health_issues\":1,\"intelligence\":5,\"shedding_level\":3,\"social_needs\":5,\"stranger_friendly\":3,\"vocalisation\":1,\"experimental\":0,\"hairless\":0,\"natural\":0,\"rare\":0,\"rex\":0,\"suppressed_tail\":0,\"short_legs\":0,\"wikipedia_url\":\"https://en.wikipedia.org/wiki/Havana_Brown\",\"hypoallergenic\":0,\"reference_image_id\":\"njK25knLH\"},{\"weight\":{\"imperial\":\"7 - 14\",\"metric\":\"3 - 6\"},\"id\":\"hima\",\"name\":\"Himalayan\",\"vetstreet_url\":\"http://www.vetstreet.com/cats/himalayan\",\"vcahospitals_url\":\"https://vcahospitals.com/know-your-pet/cat-breeds/himalayan\",\"temperament\":\"Dependent, Gentle, Intelligent, Quiet, Social\",\"origin\":\"United States\",\"country_codes\":\"US\",\"country_code\":\"US\",\"description\":\"Calm and devoted, Himalayans make excellent companions, though they prefer a quieter home. They are playful in a sedate kind of way and enjoy having an assortment of toys. The Himalayan will stretch out next to you, sleep in your bed and even sit on your lap when she is in the mood.\",\"life_span\":\"9 - 15\",\"indoor\":0,\"lap\":1,\"alt_names\":\"Himalayan Persian, Colourpoint Persian, Longhaired Colourpoint, Himmy\",\"adaptability\":5,\"affection_level\":5,\"child_friendly\":2,\"dog_friendly\":2,\"energy_level\":1,\"grooming\":5,\"health_issues\":3,\"intelligence\":3,\"shedding_level\":4,\"social_needs\":4,\"stranger_friendly\":2,\"vocalisation\":1,\"experimental\":0,\"hairless\":0,\"natural\":0,\"rare\":0,\"rex\":0,\"suppressed_tail\":0,\"short_legs\":0,\"wikipedia_url\":\"https://en.wikipedia.org/wiki/Himalayan_(cat)\",\"hypoallergenic\":0,\"reference_image_id\":\"CDhOtM-Ig\"},{\"weight\":{\"imperial\":\"5 - 10\",\"metric\":\"2 - 5\"},\"id\":\"jbob\",\"name\":\"Japanese Bobtail\",\"cfa_url\":\"http://cfa.org/Breeds/BreedsCJ/JapaneseBobtail.aspx\",\"vetstreet_url\":\"http://www.vetstreet.com/cats/japanese-bobtail\",\"vcahospitals_url\":\"https://vcahospitals.com/know-your-pet/cat-breeds/japanese-bobtail\",\"temperament\":\"Active, Agile, Clever, Easy Going, Intelligent, Lively, Loyal, Playful, Social\",\"origin\":\"Japan\",\"country_codes\":\"JP\",\"country_code\":\"JP\",\"description\":\"The Japanese Bobtail is an active, sweet, loving and highly intelligent breed. They love to be with people and play seemingly endlessly. They learn their name and respond to it. They bring toys to people and play fetch with a favorite toy for hours. Bobtails are social and are at their best when in the company of people. They take over the house and are not intimidated. If a dog is in the house, Bobtails assume Bobtails are in charge.\",\"life_span\":\"14 - 16\",\"indoor\":0,\"lap\":1,\"alt_names\":\"Japanese Truncated Cat\",\"adaptability\":5,\"affection_level\":5,\"child_friendly\":4,\"dog_friendly\":5,\"energy_level\":5,\"grooming\":1,\"health_issues\":1,\"intelligence\":5,\"shedding_level\":3,\"social_needs\":5,\"stranger_friendly\":5,\"vocalisation\":5,\"experimental\":0,\"hairless\":0,\"natural\":1,\"rare\":0,\"rex\":0,\"suppressed_tail\":1,\"short_legs\":0,\"wikipedia_url\":\"https://en.wikipedia.org/wiki/Japanese_Bobtail\",\"hypoallergenic\":0,\"reference_image_id\":\"-tm9-znzl\"},{\"weight\":{\"imperial\":\"5 - 10\",\"metric\":\"2 - 5\"},\"id\":\"java\",\"name\":\"Javanese\",\"vetstreet_url\":\"http://www.vetstreet.com/cats/javanese\",\"vcahospitals_url\":\"https://vcahospitals.com/know-your-pet/cat-breeds/javanese\",\"temperament\":\"Active, Devoted, Intelligent, Playful\",\"origin\":\"United States\",\"country_codes\":\"US\",\"country_code\":\"US\",\"description\":\"Javanese are endlessly interested, intelligent and active. They tend to enjoy jumping to great heights, playing with fishing pole-type or other interactive toys and just generally investigating their surroundings. He will attempt to copy things you do, such as opening doors or drawers.\",\"life_span\":\"10 - 12\",\"indoor\":0,\"alt_names\":\"\\xa0\",\"adaptability\":4,\"affection_level\":5,\"child_friendly\":4,\"dog_friendly\":4,\"energy_level\":5,\"grooming\":1,\"health_issues\":3,\"intelligence\":5,\"shedding_level\":2,\"social_needs\":5,\"stranger_friendly\":3,\"vocalisation\":5,\"experimental\":0,\"hairless\":0,\"natural\":0,\"rare\":0,\"rex\":0,\"suppressed_tail\":0,\"short_legs\":0,\"wikipedia_url\":\"https://en.wikipedia.org/wiki/Javanese_cat\",\"hypoallergenic\":1,\"reference_image_id\":\"xoI_EpOKe\"},{\"weight\":{\"imperial\":\"8 - 12\",\"metric\":\"4 - 6\"},\"id\":\"khao\",\"name\":\"Khao Manee\",\"cfa_url\":\"http://cfa.org/Breeds/BreedsKthruR/KhaoManee.aspx\",\"temperament\":\"Calm, Relaxed, Talkative, Playful, Warm\",\"origin\":\"Thailand\",\"country_codes\":\"TH\",\"country_code\":\"TH\",\"description\":\"The Khao Manee is highly intelligent, with an extrovert and inquisitive nature, however they are also very calm and relaxed, making them an idea lap cat.\",\"life_span\":\"10 - 12\",\"indoor\":0,\"lap\":1,\"alt_names\":\"Diamond Eye cat\",\"adaptability\":4,\"affection_level\":4,\"child_friendly\":3,\"cat_friendly\":3,\"dog_friendly\":3,\"energy_level\":3,\"grooming\":3,\"health_issues\":1,\"intelligence\":4,\"shedding_level\":3,\"social_needs\":3,\"stranger_friendly\":3,\"vocalisation\":5,\"experimental\":0,\"hairless\":0,\"natural\":0,\"rare\":0,\"rex\":0,\"suppressed_tail\":0,\"short_legs\":0,\"wikipedia_url\":\"https://en.wikipedia.org/wiki/Khao_Manee\",\"hypoallergenic\":0,\"reference_image_id\":\"165ok6ESN\"},{\"weight\":{\"imperial\":\"7 - 11\",\"metric\":\"3 - 5\"},\"id\":\"kora\",\"name\":\"Korat\",\"cfa_url\":\"http://cfa.org/Breeds/BreedsKthruR/Korat.aspx\",\"vetstreet_url\":\"http://www.vetstreet.com/cats/korat\",\"vcahospitals_url\":\"https://vcahospitals.com/know-your-pet/cat-breeds/korat\",\"temperament\":\"Active, Loyal, highly intelligent, Expressive, Trainable\",\"origin\":\"Thailand\",\"country_codes\":\"TH\",\"country_code\":\"TH\",\"description\":\"The Korat is a natural breed, and one of the oldest stable cat breeds. They are highly intelligent and confident cats that can be fearless, although they are startled by loud sounds and sudden movements. Korats form strong bonds with their people and like to cuddle and stay nearby.\",\"life_span\":\"10 - 15\",\"indoor\":0,\"adaptability\":5,\"affection_level\":5,\"child_friendly\":4,\"dog_friendly\":5,\"energy_level\":3,\"grooming\":1,\"health_issues\":1,\"intelligence\":5,\"shedding_level\":3,\"social_needs\":5,\"stranger_friendly\":2,\"vocalisation\":3,\"experimental\":0,\"hairless\":0,\"natural\":0,\"rare\":1,\"rex\":0,\"suppressed_tail\":0,\"short_legs\":0,\"wikipedia_url\":\"https://en.wikipedia.org/wiki/Korat\",\"hypoallergenic\":0,\"reference_image_id\":\"DbwiefiaY\"},{\"weight\":{\"imperial\":\"8 - 15\",\"metric\":\"4 - 7\"},\"id\":\"kuri\",\"name\":\"Kurilian\",\"vetstreet_url\":\"http://www.vetstreet.com/cats/kurilian-bobtail\",\"temperament\":\"Independent, highly intelligent, clever, inquisitive, sociable, playful, trainable\",\"origin\":\"Russia\",\"country_codes\":\"RU\",\"country_code\":\"RU\",\"description\":\"The character of the Kurilian Bobtail is independent, highly intelligent, clever, inquisitive, sociable, playful, trainable, absent of aggression and very gentle. They are devoted to their humans and when allowed are either on the lap of or sleeping in bed with their owners.\",\"life_span\":\"15 - 20\",\"indoor\":0,\"adaptability\":5,\"affection_level\":5,\"child_friendly\":5,\"dog_friendly\":5,\"energy_level\":5,\"grooming\":1,\"health_issues\":1,\"intelligence\":5,\"shedding_level\":2,\"social_needs\":5,\"stranger_friendly\":5,\"vocalisation\":3,\"experimental\":0,\"hairless\":0,\"natural\":1,\"rare\":0,\"rex\":0,\"suppressed_tail\":1,\"short_legs\":0,\"wikipedia_url\":\"https://en.wikipedia.org/wiki/Kurilian_Bobtail\",\"hypoallergenic\":0,\"reference_image_id\":\"NZpO4pU56M\"},{\"weight\":{\"imperial\":\"6 - 10\",\"metric\":\"3 - 5\"},\"id\":\"lape\",\"name\":\"LaPerm\",\"cfa_url\":\"http://cfa.org/Breeds/BreedsKthruR/LaPerm.aspx\",\"vetstreet_url\":\"http://www.vetstreet.com/cats/laperm\",\"vcahospitals_url\":\"https://vcahospitals.com/know-your-pet/cat-breeds/laperm\",\"temperament\":\"Affectionate, Friendly, Gentle, Intelligent, Playful, Quiet\",\"origin\":\"Thailand\",\"country_codes\":\"TH\",\"country_code\":\"TH\",\"description\":\"LaPerms are gentle and affectionate but also very active. Unlike many active breeds, the LaPerm is also quite content to be a lap cat. The LaPerm will often follow your lead; that is, if they are busy playing and you decide to sit and relax, simply pick up your LaPerm and sit down with it, and it will stay in your lap, devouring the attention you give it.\",\"life_span\":\"10 - 15\",\"indoor\":0,\"lap\":1,\"alt_names\":\"Si-Sawat\",\"adaptability\":5,\"affection_level\":5,\"child_friendly\":4,\"dog_friendly\":5,\"energy_level\":4,\"grooming\":1,\"health_issues\":1,\"intelligence\":5,\"shedding_level\":3,\"social_needs\":4,\"stranger_friendly\":4,\"vocalisation\":3,\"experimental\":0,\"hairless\":0,\"natural\":0,\"rare\":0,\"rex\":1,\"suppressed_tail\":0,\"short_legs\":0,\"wikipedia_url\":\"https://en.wikipedia.org/wiki/LaPerm\",\"hypoallergenic\":1,\"reference_image_id\":\"aKbsEYjSl\"},{\"weight\":{\"imperial\":\"12 - 18\",\"metric\":\"5 - 8\"},\"id\":\"mcoo\",\"name\":\"Maine Coon\",\"cfa_url\":\"http://cfa.org/Breeds/BreedsKthruR/MaineCoon.aspx\",\"vetstreet_url\":\"http://www.vetstreet.com/cats/maine-coon\",\"vcahospitals_url\":\"https://vcahospitals.com/know-your-pet/cat-breeds/maine-coon\",\"temperament\":\"Adaptable, Intelligent, Loving, Gentle, Independent\",\"origin\":\"United States\",\"country_codes\":\"US\",\"country_code\":\"US\",\"description\":\"They are known for their size and luxurious long coat Maine Coons are considered a gentle giant. The good-natured and affable Maine Coon adapts well to many lifestyles and personalities. She likes being with people and has the habit of following them around, but isn’t needy. Most Maine Coons love water and they can be quite good swimmers.\",\"life_span\":\"12 - 15\",\"indoor\":0,\"lap\":1,\"alt_names\":\"Coon Cat, Maine Cat, Maine Shag, Snowshoe Cat, American Longhair, The Gentle Giants\",\"adaptability\":5,\"affection_level\":5,\"child_friendly\":4,\"dog_friendly\":5,\"energy_level\":3,\"grooming\":3,\"health_issues\":3,\"intelligence\":5,\"shedding_level\":3,\"social_needs\":3,\"stranger_friendly\":5,\"vocalisation\":1,\"experimental\":0,\"hairless\":0,\"natural\":1,\"rare\":0,\"rex\":0,\"suppressed_tail\":0,\"short_legs\":0,\"wikipedia_url\":\"https://en.wikipedia.org/wiki/Maine_Coon\",\"hypoallergenic\":0,\"reference_image_id\":\"OOD3VXAQn\"},{\"weight\":{\"imperial\":\"6 - 13\",\"metric\":\"3 - 6\"},\"id\":\"mala\",\"name\":\"Malayan\",\"temperament\":\"Affectionate, Interactive, Playful, Social\",\"origin\":\"United Kingdom\",\"country_codes\":\"GB\",\"country_code\":\"GB\",\"description\":\"Malayans love to explore and even enjoy traveling by way of a cat carrier. They are quite a talkative and rather loud cat with an apparent strong will. These cats will make sure that you give it the attention it seeks and always seem to want to be held and hugged. They will constantly interact with people, even strangers. They love to play and cuddle.\",\"life_span\":\"12 - 18\",\"indoor\":0,\"alt_names\":\"Asian\",\"adaptability\":5,\"affection_level\":5,\"child_friendly\":4,\"dog_friendly\":5,\"energy_level\":5,\"grooming\":1,\"health_issues\":1,\"intelligence\":3,\"shedding_level\":1,\"social_needs\":3,\"stranger_friendly\":3,\"vocalisation\":5,\"experimental\":0,\"hairless\":0,\"natural\":0,\"rare\":0,\"rex\":0,\"suppressed_tail\":0,\"short_legs\":0,\"wikipedia_url\":\"https://en.wikipedia.org/wiki/Asian_cat\",\"hypoallergenic\":0},{\"weight\":{\"imperial\":\"7 - 13\",\"metric\":\"3 - 6\"},\"id\":\"manx\",\"name\":\"Manx\",\"cfa_url\":\"http://cfa.org/Breeds/BreedsKthruR/Manx.aspx\",\"vetstreet_url\":\"http://www.vetstreet.com/cats/manx\",\"vcahospitals_url\":\"https://vcahospitals.com/know-your-pet/cat-breeds/manx\",\"temperament\":\"Easy Going, Intelligent, Loyal, Playful, Social\",\"origin\":\"Isle of Man\",\"country_codes\":\"IM\",\"country_code\":\"IM\",\"description\":\"The Manx is a placid, sweet cat that is gentle and playful. She never seems to get too upset about anything. She is a loving companion and adores being with people.\",\"life_span\":\"12 - 14\",\"indoor\":0,\"lap\":1,\"alt_names\":\"Manks, Stubbin, Rumpy\",\"adaptability\":5,\"affection_level\":5,\"child_friendly\":4,\"dog_friendly\":5,\"energy_level\":5,\"grooming\":1,\"health_issues\":3,\"intelligence\":5,\"shedding_level\":5,\"social_needs\":5,\"stranger_friendly\":3,\"vocalisation\":3,\"experimental\":0,\"hairless\":0,\"natural\":1,\"rare\":0,\"rex\":0,\"suppressed_tail\":1,\"short_legs\":0,\"wikipedia_url\":\"https://en.wikipedia.org/wiki/Manx_(cat)\",\"hypoallergenic\":0,\"reference_image_id\":\"fhYh2PDcC\"},{\"weight\":{\"imperial\":\"5 - 9\",\"metric\":\"2 - 4\"},\"id\":\"munc\",\"name\":\"Munchkin\",\"vetstreet_url\":\"http://www.vetstreet.com/cats/munchkin\",\"temperament\":\"Agile, Easy Going, Intelligent, Playful\",\"origin\":\"United States\",\"country_codes\":\"US\",\"country_code\":\"US\",\"description\":\"The Munchkin is an outgoing cat who enjoys being handled. She has lots of energy and is faster and more agile than she looks. The shortness of their legs does not seem to interfere with their running and leaping abilities.\",\"life_span\":\"10 - 15\",\"indoor\":0,\"lap\":1,\"alt_names\":\"\",\"adaptability\":5,\"affection_level\":5,\"child_friendly\":4,\"dog_friendly\":5,\"energy_level\":4,\"grooming\":2,\"health_issues\":3,\"intelligence\":5,\"shedding_level\":3,\"social_needs\":5,\"stranger_friendly\":5,\"vocalisation\":3,\"experimental\":0,\"hairless\":0,\"natural\":0,\"rare\":0,\"rex\":0,\"suppressed_tail\":0,\"short_legs\":1,\"wikipedia_url\":\"https://en.wikipedia.org/wiki/Munchkin_(cat)\",\"hypoallergenic\":0,\"reference_image_id\":\"j5cVSqLer\"},{\"weight\":{\"imperial\":\"7 - 11\",\"metric\":\"3 - 5\"},\"id\":\"nebe\",\"name\":\"Nebelung\",\"temperament\":\"Gentle, Quiet, Shy, Playful\",\"origin\":\"United States\",\"country_codes\":\"US\",\"country_code\":\"US\",\"description\":\"The Nebelung may have a reserved nature, but she loves to play (being especially fond of retrieving) and enjoys jumping or climbing to high places where she can study people and situations at her leisure before making up her mind about whether she wants to get involved.\",\"life_span\":\"11 - 16\",\"indoor\":0,\"lap\":1,\"alt_names\":\"Longhaired Russian Blue\",\"adaptability\":5,\"affection_level\":5,\"child_friendly\":4,\"dog_friendly\":4,\"energy_level\":3,\"grooming\":3,\"health_issues\":2,\"intelligence\":5,\"shedding_level\":3,\"social_needs\":3,\"stranger_friendly\":3,\"vocalisation\":1,\"experimental\":0,\"hairless\":0,\"natural\":0,\"rare\":1,\"rex\":0,\"suppressed_tail\":0,\"short_legs\":0,\"wikipedia_url\":\"https://en.wikipedia.org/wiki/Nebelung\",\"hypoallergenic\":0,\"reference_image_id\":\"OGTWqNNOt\"},{\"weight\":{\"imperial\":\"8 - 16\",\"metric\":\"4 - 7\"},\"id\":\"norw\",\"name\":\"Norwegian Forest Cat\",\"cfa_url\":\"http://cfa.org/Breeds/BreedsKthruR/NorwegianForestCat.aspx\",\"vetstreet_url\":\"http://www.vetstreet.com/cats/norwegian-forest-cat\",\"vcahospitals_url\":\"https://vcahospitals.com/know-your-pet/cat-breeds/norwegian-forest-cat\",\"temperament\":\"Sweet, Active, Intelligent, Social, Playful, Lively, Curious\",\"origin\":\"Norway\",\"country_codes\":\"NO\",\"country_code\":\"NO\",\"description\":\"The Norwegian Forest Cat is a sweet, loving cat. She appreciates praise and loves to interact with her parent. She makes a loving companion and bonds with her parents once she accepts them for her own. She is still a hunter at heart. She loves to chase toys as if they are real. She is territorial and patrols several times each day to make certain that all is fine.\",\"life_span\":\"12 - 16\",\"indoor\":0,\"alt_names\":\"Skogkatt / Skaukatt, Norsk Skogkatt / Norsk Skaukatt, Weegie\",\"adaptability\":5,\"affection_level\":5,\"child_friendly\":4,\"dog_friendly\":5,\"energy_level\":3,\"grooming\":2,\"health_issues\":3,\"intelligence\":4,\"shedding_level\":3,\"social_needs\":5,\"stranger_friendly\":5,\"vocalisation\":1,\"experimental\":0,\"hairless\":0,\"natural\":1,\"rare\":0,\"rex\":0,\"suppressed_tail\":0,\"short_legs\":0,\"wikipedia_url\":\"https://en.wikipedia.org/wiki/Norwegian_Forest_Cat\",\"hypoallergenic\":0,\"reference_image_id\":\"06dgGmEOV\"},{\"weight\":{\"imperial\":\"7 - 15\",\"metric\":\"3 - 7\"},\"id\":\"ocic\",\"name\":\"Ocicat\",\"cfa_url\":\"http://cfa.org/Breeds/BreedsKthruR/Ocicat.aspx\",\"vetstreet_url\":\"http://www.vetstreet.com/cats/ocicat\",\"vcahospitals_url\":\"https://vcahospitals.com/know-your-pet/cat-breeds/ocicat\",\"temperament\":\"Active, Agile, Curious, Demanding, Friendly, Gentle, Lively, Playful, Social\",\"origin\":\"United States\",\"country_codes\":\"US\",\"country_code\":\"US\",\"description\":\"Loyal and devoted to their owners, the Ocicat is intelligent, confident, outgoing, and seems to have many dog traits. They can be trained to fetch toys, walk on a lead, taught to \\'speak\\', come when called, and follow other commands. \",\"life_span\":\"12 - 14\",\"indoor\":0,\"alt_names\":\"\",\"adaptability\":5,\"affection_level\":5,\"child_friendly\":4,\"dog_friendly\":5,\"energy_level\":5,\"grooming\":1,\"health_issues\":3,\"intelligence\":5,\"shedding_level\":3,\"social_needs\":5,\"stranger_friendly\":5,\"vocalisation\":3,\"experimental\":0,\"hairless\":0,\"natural\":0,\"rare\":0,\"rex\":0,\"suppressed_tail\":0,\"short_legs\":0,\"wikipedia_url\":\"https://en.wikipedia.org/wiki/Ocicat\",\"hypoallergenic\":1,\"reference_image_id\":\"JAx-08Y0n\"},{\"weight\":{\"imperial\":\"5 - 10\",\"metric\":\"2 - 5\"},\"id\":\"orie\",\"name\":\"Oriental\",\"cfa_url\":\"http://cfa.org/Breeds/BreedsKthruR/Oriental.aspx\",\"vetstreet_url\":\"http://www.vetstreet.com/cats/oriental\",\"vcahospitals_url\":\"https://vcahospitals.com/know-your-pet/cat-breeds/oriental\",\"temperament\":\"Energetic, Affectionate, Intelligent, Social, Playful, Curious\",\"origin\":\"United States\",\"country_codes\":\"US\",\"country_code\":\"US\",\"description\":\"Orientals are passionate about the people in their lives. They become extremely attached to their humans, so be prepared for a lifetime commitment. When you are not available to entertain her, an Oriental will divert herself by jumping on top of the refrigerator, opening drawers, seeking out new hideaways.\",\"life_span\":\"12 - 14\",\"indoor\":0,\"lap\":1,\"alt_names\":\"Foreign Type\",\"adaptability\":5,\"affection_level\":5,\"child_friendly\":4,\"dog_friendly\":5,\"energy_level\":5,\"grooming\":1,\"health_issues\":3,\"intelligence\":5,\"shedding_level\":3,\"social_needs\":5,\"stranger_friendly\":3,\"vocalisation\":5,\"experimental\":0,\"hairless\":0,\"natural\":0,\"rare\":0,\"rex\":0,\"suppressed_tail\":0,\"short_legs\":0,\"wikipedia_url\":\"https://en.wikipedia.org/wiki/Oriental_Shorthair\",\"hypoallergenic\":1,\"reference_image_id\":\"LutjkZJpH\"},{\"weight\":{\"imperial\":\"9 - 14\",\"metric\":\"4 - 6\"},\"id\":\"pers\",\"name\":\"Persian\",\"cfa_url\":\"http://cfa.org/Breeds/BreedsKthruR/Persian.aspx\",\"vetstreet_url\":\"http://www.vetstreet.com/cats/persian\",\"vcahospitals_url\":\"https://vcahospitals.com/know-your-pet/cat-breeds/persian\",\"temperament\":\"Affectionate, loyal, Sedate, Quiet\",\"origin\":\"Iran (Persia)\",\"country_codes\":\"IR\",\"country_code\":\"IR\",\"description\":\"Persians are sweet, gentle cats that can be playful or quiet and laid-back. Great with families and children, they absolutely love to lounge around the house. While they don’t mind a full house or active kids, they’ll usually hide when they need some alone time.\",\"life_span\":\"14 - 15\",\"indoor\":0,\"lap\":1,\"alt_names\":\"Longhair, Persian Longhair, Shiraz, Shirazi\",\"adaptability\":5,\"affection_level\":5,\"child_friendly\":2,\"dog_friendly\":2,\"energy_level\":1,\"grooming\":5,\"health_issues\":3,\"intelligence\":3,\"shedding_level\":4,\"social_needs\":4,\"stranger_friendly\":2,\"vocalisation\":1,\"experimental\":0,\"hairless\":0,\"natural\":1,\"rare\":0,\"rex\":0,\"suppressed_tail\":0,\"short_legs\":0,\"wikipedia_url\":\"https://en.wikipedia.org/wiki/Persian_(cat)\",\"hypoallergenic\":0,\"reference_image_id\":\"-Zfz5z2jK\"},{\"weight\":{\"imperial\":\"8 - 17\",\"metric\":\"4 - 8\"},\"id\":\"pixi\",\"name\":\"Pixie-bob\",\"vetstreet_url\":\"http://www.vetstreet.com/cats/pixiebob\",\"temperament\":\"Affectionate, Social, Intelligent, Loyal\",\"origin\":\"United States\",\"country_codes\":\"US\",\"country_code\":\"US\",\"description\":\"Companionable and affectionate, the Pixie-bob wants to be an integral part of the family. The Pixie-Bob’s ability to bond with their humans along with their patient personas make them excellent companions for children.\",\"life_span\":\"13 - 16\",\"indoor\":0,\"lap\":1,\"alt_names\":\"\",\"adaptability\":5,\"affection_level\":5,\"child_friendly\":4,\"dog_friendly\":5,\"energy_level\":4,\"grooming\":1,\"health_issues\":2,\"intelligence\":5,\"shedding_level\":3,\"social_needs\":4,\"stranger_friendly\":4,\"vocalisation\":1,\"experimental\":0,\"hairless\":0,\"natural\":0,\"rare\":0,\"rex\":0,\"suppressed_tail\":1,\"short_legs\":0,\"wikipedia_url\":\"https://en.wikipedia.org/wiki/Pixiebob\",\"hypoallergenic\":0,\"reference_image_id\":\"z7fJRNeN6\"},{\"weight\":{\"imperial\":\"8 - 20\",\"metric\":\"4 - 9\"},\"id\":\"raga\",\"name\":\"Ragamuffin\",\"cfa_url\":\"http://cfa.org/Breeds/BreedsKthruR/Ragamuffin.aspx\",\"vetstreet_url\":\"http://www.vetstreet.com/cats/ragamuffin\",\"vcahospitals_url\":\"https://vcahospitals.com/know-your-pet/cat-breeds/ragamuffin\",\"temperament\":\"Affectionate, Friendly, Gentle, Calm\",\"origin\":\"United States\",\"country_codes\":\"US\",\"country_code\":\"US\",\"description\":\"The Ragamuffin is calm, even tempered and gets along well with all family members. Changes in routine generally do not upset her. She is an ideal companion for those in apartments, and with children due to her patient nature.\",\"life_span\":\"12 - 16\",\"indoor\":0,\"lap\":1,\"alt_names\":\"\",\"adaptability\":5,\"affection_level\":5,\"child_friendly\":4,\"dog_friendly\":5,\"energy_level\":3,\"grooming\":3,\"health_issues\":3,\"intelligence\":5,\"shedding_level\":3,\"social_needs\":3,\"stranger_friendly\":5,\"vocalisation\":1,\"experimental\":0,\"hairless\":0,\"natural\":0,\"rare\":0,\"rex\":0,\"suppressed_tail\":0,\"short_legs\":0,\"wikipedia_url\":\"https://en.wikipedia.org/wiki/Ragamuffin_cat\",\"hypoallergenic\":0,\"reference_image_id\":\"SMuZx-bFM\"},{\"weight\":{\"imperial\":\"12 - 20\",\"metric\":\"5 - 9\"},\"id\":\"ragd\",\"name\":\"Ragdoll\",\"cfa_url\":\"http://cfa.org/Breeds/BreedsKthruR/Ragdoll.aspx\",\"vetstreet_url\":\"http://www.vetstreet.com/cats/ragdoll\",\"vcahospitals_url\":\"https://vcahospitals.com/know-your-pet/cat-breeds/ragdoll\",\"temperament\":\"Affectionate, Friendly, Gentle, Quiet, Easygoing\",\"origin\":\"United States\",\"country_codes\":\"US\",\"country_code\":\"US\",\"description\":\"Ragdolls love their people, greeting them at the door, following them around the house, and leaping into a lap or snuggling in bed whenever given the chance. They are the epitome of a lap cat, enjoy being carried and collapsing into the arms of anyone who holds them.\",\"life_span\":\"12 - 17\",\"indoor\":0,\"lap\":1,\"alt_names\":\"Rag doll\",\"adaptability\":5,\"affection_level\":5,\"child_friendly\":4,\"dog_friendly\":5,\"energy_level\":3,\"grooming\":2,\"health_issues\":3,\"intelligence\":3,\"shedding_level\":3,\"social_needs\":5,\"stranger_friendly\":3,\"vocalisation\":1,\"experimental\":0,\"hairless\":0,\"natural\":0,\"rare\":0,\"rex\":0,\"suppressed_tail\":0,\"short_legs\":0,\"wikipedia_url\":\"https://en.wikipedia.org/wiki/Ragdoll\",\"hypoallergenic\":0,\"reference_image_id\":\"oGefY4YoG\"},{\"weight\":{\"imperial\":\"5 - 11\",\"metric\":\"2 - 5\"},\"id\":\"rblu\",\"name\":\"Russian Blue\",\"cfa_url\":\"http://cfa.org/Breeds/BreedsKthruR/RussianBlue.aspx\",\"vetstreet_url\":\"http://www.vetstreet.com/cats/russian-blue-nebelung\",\"vcahospitals_url\":\"https://vcahospitals.com/know-your-pet/cat-breeds/russian-blue\",\"temperament\":\"Active, Dependent, Easy Going, Gentle, Intelligent, Loyal, Playful, Quiet\",\"origin\":\"Russia\",\"country_codes\":\"RU\",\"country_code\":\"RU\",\"description\":\"Russian Blues are very loving and reserved. They do not like noisy households but they do like to play and can be quite active when outdoors. They bond very closely with their owner and are known to be compatible with other pets.\",\"life_span\":\"10 - 16\",\"indoor\":0,\"lap\":1,\"alt_names\":\"Archangel Blue, Archangel Cat\",\"adaptability\":3,\"affection_level\":3,\"child_friendly\":3,\"dog_friendly\":3,\"energy_level\":3,\"grooming\":3,\"health_issues\":1,\"intelligence\":3,\"shedding_level\":3,\"social_needs\":3,\"stranger_friendly\":1,\"vocalisation\":1,\"experimental\":0,\"hairless\":0,\"natural\":1,\"rare\":0,\"rex\":0,\"suppressed_tail\":0,\"short_legs\":0,\"wikipedia_url\":\"https://en.wikipedia.org/wiki/Russian_Blue\",\"hypoallergenic\":1,\"reference_image_id\":\"Rhj-JsTLP\"},{\"weight\":{\"imperial\":\"8 - 25\",\"metric\":\"4 - 11\"},\"id\":\"sava\",\"name\":\"Savannah\",\"vetstreet_url\":\"http://www.vetstreet.com/cats/savannah\",\"temperament\":\"Curious, Social, Intelligent, Loyal, Outgoing, Adventurous, Affectionate\",\"origin\":\"United States\",\"country_codes\":\"US\",\"country_code\":\"US\",\"description\":\"Savannah is the feline version of a dog. Actively seeking social interaction, they are given to pouting if left out. Remaining kitten-like through life. Profoundly loyal to immediate family members whilst questioning the presence of strangers. Making excellent companions that are loyal, intelligent and eager to be involved.\",\"life_span\":\"17 - 20\",\"indoor\":0,\"alt_names\":\"\",\"adaptability\":5,\"affection_level\":5,\"child_friendly\":4,\"dog_friendly\":5,\"energy_level\":5,\"grooming\":1,\"health_issues\":1,\"intelligence\":5,\"shedding_level\":3,\"social_needs\":5,\"stranger_friendly\":5,\"vocalisation\":1,\"experimental\":1,\"hairless\":0,\"natural\":0,\"rare\":0,\"rex\":0,\"suppressed_tail\":0,\"short_legs\":0,\"wikipedia_url\":\"https://en.wikipedia.org/wiki/Savannah_cat\",\"hypoallergenic\":0,\"reference_image_id\":\"a8nIYvs6S\"},{\"weight\":{\"imperial\":\"5 - 11\",\"metric\":\"2 - 5\"},\"id\":\"sfol\",\"name\":\"Scottish Fold\",\"cfa_url\":\"http://cfa.org/Breeds/BreedsSthruT/ScottishFold.aspx\",\"vetstreet_url\":\"http://www.vetstreet.com/cats/scottish-fold-highland-fold\",\"vcahospitals_url\":\"https://vcahospitals.com/know-your-pet/cat-breeds/scottish-fold\",\"temperament\":\"Affectionate, Intelligent, Loyal, Playful, Social, Sweet, Loving\",\"origin\":\"United Kingdom\",\"country_codes\":\"GB\",\"country_code\":\"GB\",\"description\":\"The Scottish Fold is a sweet, charming breed. She is an easy cat to live with and to care for. She is affectionate and is comfortable with all members of her family. Her tail should be handled gently. Folds are known for sleeping on their backs, and for sitting with their legs stretched out and their paws on their belly. This is called the \\\\\"Buddha Position\\\\\".\",\"life_span\":\"11 - 14\",\"indoor\":0,\"alt_names\":\"Scot Fold\",\"adaptability\":5,\"affection_level\":5,\"child_friendly\":4,\"dog_friendly\":5,\"energy_level\":3,\"grooming\":1,\"health_issues\":4,\"intelligence\":3,\"shedding_level\":3,\"social_needs\":3,\"stranger_friendly\":3,\"vocalisation\":1,\"experimental\":0,\"hairless\":0,\"natural\":0,\"rare\":0,\"rex\":0,\"suppressed_tail\":0,\"short_legs\":0,\"wikipedia_url\":\"https://en.wikipedia.org/wiki/Scottish_Fold\",\"hypoallergenic\":0,\"reference_image_id\":\"o9t0LDcsa\"},{\"weight\":{\"imperial\":\"6 - 16\",\"metric\":\"3 - 7\"},\"id\":\"srex\",\"name\":\"Selkirk Rex\",\"cfa_url\":\"http://cfa.org/Breeds/BreedsSthruT/SelkirkRex.aspx\",\"vetstreet_url\":\"http://www.vetstreet.com/cats/selkirk-rex\",\"vcahospitals_url\":\"https://vcahospitals.com/know-your-pet/cat-breeds/selkirk-rex\",\"temperament\":\"Active, Affectionate, Dependent, Gentle, Patient, Playful, Quiet, Social\",\"origin\":\"United States\",\"country_codes\":\"US\",\"country_code\":\"US\",\"description\":\"The Selkirk Rex is an incredibly patient, loving, and tolerant breed. The Selkirk also has a silly side and is sometimes described as clownish. She loves being a lap cat and will be happy to chat with you in a quiet voice if you talk to her. \",\"life_span\":\"14 - 15\",\"indoor\":0,\"lap\":1,\"alt_names\":\"Shepherd Cat\",\"adaptability\":5,\"affection_level\":5,\"child_friendly\":4,\"dog_friendly\":5,\"energy_level\":3,\"grooming\":2,\"health_issues\":4,\"intelligence\":3,\"shedding_level\":1,\"social_needs\":3,\"stranger_friendly\":3,\"vocalisation\":3,\"experimental\":0,\"hairless\":0,\"natural\":0,\"rare\":0,\"rex\":1,\"suppressed_tail\":0,\"short_legs\":0,\"wikipedia_url\":\"https://en.wikipedia.org/wiki/Selkirk_Rex\",\"hypoallergenic\":1,\"reference_image_id\":\"II9dOZmrw\"},{\"weight\":{\"imperial\":\"8 - 15\",\"metric\":\"4 - 7\"},\"id\":\"siam\",\"name\":\"Siamese\",\"cfa_url\":\"http://cfa.org/Breeds/BreedsSthruT/Siamese.aspx\",\"vetstreet_url\":\"http://www.vetstreet.com/cats/siamese\",\"vcahospitals_url\":\"https://vcahospitals.com/know-your-pet/cat-breeds/siamese\",\"temperament\":\"Active, Agile, Clever, Sociable, Loving, Energetic\",\"origin\":\"Thailand\",\"country_codes\":\"TH\",\"country_code\":\"TH\",\"description\":\"While Siamese cats are extremely fond of their people, they will follow you around and supervise your every move, being talkative and opinionated. They are a demanding and social cat, that do not like being left alone for long periods.\",\"life_span\":\"12 - 15\",\"indoor\":0,\"lap\":1,\"alt_names\":\"Siam, Thai Cat\",\"adaptability\":5,\"affection_level\":5,\"child_friendly\":4,\"dog_friendly\":5,\"energy_level\":5,\"grooming\":1,\"health_issues\":1,\"intelligence\":5,\"shedding_level\":2,\"social_needs\":5,\"stranger_friendly\":5,\"vocalisation\":5,\"experimental\":0,\"hairless\":0,\"natural\":0,\"rare\":0,\"rex\":0,\"suppressed_tail\":0,\"short_legs\":0,\"wikipedia_url\":\"https://en.wikipedia.org/wiki/Siamese_(cat)\",\"hypoallergenic\":1,\"reference_image_id\":\"ai6Jps4sx\"},{\"weight\":{\"imperial\":\"8 - 16\",\"metric\":\"4 - 7\"},\"id\":\"sibe\",\"name\":\"Siberian\",\"cfa_url\":\"http://cfa.org/Breeds/BreedsSthruT/Siberian.aspx\",\"vetstreet_url\":\"http://www.vetstreet.com/cats/siberian\",\"vcahospitals_url\":\"https://vcahospitals.com/know-your-pet/cat-breeds/siberian\",\"temperament\":\"Curious, Intelligent, Loyal, Sweet, Agile, Playful, Affectionate\",\"origin\":\"Russia\",\"country_codes\":\"RU\",\"country_code\":\"RU\",\"description\":\"The Siberians dog like temperament and affection makes the ideal lap cat and will live quite happily indoors. Very agile and powerful, the Siberian cat can easily leap and reach high places, including the tops of refrigerators and even doors. \",\"life_span\":\"12 - 15\",\"indoor\":0,\"lap\":1,\"alt_names\":\"Moscow Semi-longhair, HairSiberian Forest Cat\",\"adaptability\":5,\"affection_level\":5,\"child_friendly\":4,\"dog_friendly\":5,\"energy_level\":5,\"grooming\":2,\"health_issues\":2,\"intelligence\":5,\"shedding_level\":3,\"social_needs\":4,\"stranger_friendly\":3,\"vocalisation\":1,\"experimental\":0,\"hairless\":0,\"natural\":1,\"rare\":0,\"rex\":0,\"suppressed_tail\":0,\"short_legs\":0,\"wikipedia_url\":\"https://en.wikipedia.org/wiki/Siberian_(cat)\",\"hypoallergenic\":1,\"reference_image_id\":\"3bkZAjRh1\"},{\"weight\":{\"imperial\":\"5 - 8\",\"metric\":\"2 - 4\"},\"id\":\"sing\",\"name\":\"Singapura\",\"cfa_url\":\"http://cfa.org/Breeds/BreedsSthruT/Singapura.aspx\",\"vetstreet_url\":\"http://www.vetstreet.com/cats/singapura\",\"vcahospitals_url\":\"https://vcahospitals.com/know-your-pet/cat-breeds/singapura\",\"temperament\":\"Affectionate, Curious, Easy Going, Intelligent, Interactive, Lively, Loyal\",\"origin\":\"Singapore\",\"country_codes\":\"SP\",\"country_code\":\"SP\",\"description\":\"The Singapura is usually cautious when it comes to meeting new people, but loves attention from his family so much that she sometimes has the reputation of being a pest. This is a highly active, curious and affectionate cat. She may be small, but she knows she’s in charge\",\"life_span\":\"12 - 15\",\"indoor\":0,\"lap\":1,\"alt_names\":\"Drain Cat, Kucinta, Pura\",\"adaptability\":5,\"affection_level\":5,\"child_friendly\":4,\"dog_friendly\":5,\"energy_level\":5,\"grooming\":1,\"health_issues\":1,\"intelligence\":5,\"shedding_level\":3,\"social_needs\":5,\"stranger_friendly\":5,\"vocalisation\":1,\"experimental\":0,\"hairless\":0,\"natural\":0,\"rare\":0,\"rex\":0,\"suppressed_tail\":0,\"short_legs\":0,\"wikipedia_url\":\"https://en.wikipedia.org/wiki/Singapura_(cat)\",\"hypoallergenic\":0,\"reference_image_id\":\"Qtncp2nRe\"},{\"weight\":{\"imperial\":\"7 - 12\",\"metric\":\"3 - 5\"},\"id\":\"snow\",\"name\":\"Snowshoe\",\"temperament\":\"Affectionate, Social, Intelligent, Sweet-tempered\",\"origin\":\"United States\",\"country_codes\":\"US\",\"country_code\":\"US\",\"description\":\"The Snowshoe is a vibrant, energetic, affectionate and intelligent cat. They love being around people which makes them ideal for families, and becomes unhappy when left alone for long periods of time. Usually attaching themselves to one person, they do whatever they can to get your attention.\",\"life_span\":\"14 - 19\",\"indoor\":0,\"lap\":1,\"alt_names\":\"\",\"adaptability\":5,\"affection_level\":5,\"child_friendly\":4,\"dog_friendly\":5,\"energy_level\":4,\"grooming\":3,\"health_issues\":1,\"intelligence\":5,\"shedding_level\":3,\"social_needs\":4,\"stranger_friendly\":4,\"vocalisation\":5,\"experimental\":0,\"hairless\":0,\"natural\":0,\"rare\":0,\"rex\":0,\"suppressed_tail\":0,\"short_legs\":0,\"wikipedia_url\":\"https://en.wikipedia.org/wiki/Snowshoe_(cat)\",\"hypoallergenic\":0,\"reference_image_id\":\"MK-sYESvO\"},{\"weight\":{\"imperial\":\"6 - 12\",\"metric\":\"3 - 5\"},\"id\":\"soma\",\"name\":\"Somali\",\"cfa_url\":\"http://cfa.org/Breeds/BreedsSthruT/Somali.aspx\",\"vetstreet_url\":\"http://www.vetstreet.com/cats/somali\",\"vcahospitals_url\":\"https://vcahospitals.com/know-your-pet/cat-breeds/somali\",\"temperament\":\"Mischievous, Tenacious, Intelligent, Affectionate, Gentle, Interactive, Loyal\",\"origin\":\"Somalia\",\"country_codes\":\"SO\",\"country_code\":\"SO\",\"description\":\"The Somali lives life to the fullest. He climbs higher, jumps farther, plays harder. Nothing escapes the notice of this highly intelligent and inquisitive cat. Somalis love the company of humans and other animals.\",\"life_span\":\"12 - 16\",\"indoor\":0,\"alt_names\":\"Fox Cat, Long-Haired Abyssinian\",\"adaptability\":5,\"affection_level\":5,\"child_friendly\":3,\"dog_friendly\":4,\"energy_level\":5,\"grooming\":3,\"health_issues\":2,\"intelligence\":5,\"shedding_level\":4,\"social_needs\":5,\"stranger_friendly\":5,\"vocalisation\":1,\"experimental\":0,\"hairless\":0,\"natural\":0,\"rare\":0,\"rex\":0,\"suppressed_tail\":0,\"short_legs\":0,\"wikipedia_url\":\"https://en.wikipedia.org/wiki/Somali_(cat)\",\"hypoallergenic\":0,\"reference_image_id\":\"EPF2ejNS0\"},{\"weight\":{\"imperial\":\"6 - 12\",\"metric\":\"3 - 5\"},\"id\":\"sphy\",\"name\":\"Sphynx\",\"cfa_url\":\"http://cfa.org/Breeds/BreedsSthruT/Sphynx.aspx\",\"vetstreet_url\":\"http://www.vetstreet.com/cats/sphynx\",\"vcahospitals_url\":\"https://vcahospitals.com/know-your-pet/cat-breeds/sphynx\",\"temperament\":\"Loyal, Inquisitive, Friendly, Quiet, Gentle\",\"origin\":\"Canada\",\"country_codes\":\"CA\",\"country_code\":\"CA\",\"description\":\"The Sphynx is an intelligent, inquisitive, extremely friendly people-oriented breed. Sphynx commonly greet their owners  at the front door, with obvious excitement and happiness. She has an unexpected sense of humor that is often at odds with her dour expression.\",\"life_span\":\"12 - 14\",\"indoor\":0,\"lap\":1,\"alt_names\":\"Canadian Hairless, Canadian Sphynx\",\"adaptability\":5,\"affection_level\":5,\"child_friendly\":4,\"dog_friendly\":5,\"energy_level\":3,\"grooming\":2,\"health_issues\":4,\"intelligence\":5,\"shedding_level\":1,\"social_needs\":5,\"stranger_friendly\":5,\"vocalisation\":5,\"experimental\":0,\"hairless\":1,\"natural\":0,\"rare\":1,\"rex\":0,\"suppressed_tail\":0,\"short_legs\":0,\"wikipedia_url\":\"https://en.wikipedia.org/wiki/Sphynx_(cat)\",\"hypoallergenic\":1,\"reference_image_id\":\"BDb8ZXb1v\"},{\"weight\":{\"imperial\":\"6 - 12\",\"metric\":\"3 - 5\"},\"id\":\"tonk\",\"name\":\"Tonkinese\",\"cfa_url\":\"http://cfa.org/Breeds/BreedsSthruT/Tonkinese.aspx\",\"vetstreet_url\":\"http://www.vetstreet.com/cats/tonkinese\",\"vcahospitals_url\":\"https://vcahospitals.com/know-your-pet/cat-breeds/tonkinese\",\"temperament\":\"Curious, Intelligent, Social, Lively, Outgoing, Playful, Affectionate\",\"origin\":\"Canada\",\"country_codes\":\"CA\",\"country_code\":\"CA\",\"description\":\"Intelligent and generous with their affection, a Tonkinese will supervise all activities with curiosity. Loving, social, active, playful, yet content to be a lap cat\",\"life_span\":\"14 - 16\",\"indoor\":0,\"lap\":1,\"alt_names\":\"Tonk\",\"adaptability\":5,\"affection_level\":5,\"child_friendly\":4,\"dog_friendly\":5,\"energy_level\":5,\"grooming\":1,\"health_issues\":1,\"intelligence\":5,\"shedding_level\":3,\"social_needs\":5,\"stranger_friendly\":5,\"vocalisation\":5,\"experimental\":0,\"hairless\":0,\"natural\":0,\"rare\":0,\"rex\":0,\"suppressed_tail\":0,\"short_legs\":0,\"wikipedia_url\":\"https://en.wikipedia.org/wiki/Tonkinese_(cat)\",\"hypoallergenic\":0,\"reference_image_id\":\"KBroiVNCM\"},{\"weight\":{\"imperial\":\"7 - 15\",\"metric\":\"3 - 7\"},\"id\":\"toyg\",\"name\":\"Toyger\",\"vetstreet_url\":\"http://www.vetstreet.com/cats/toyger\",\"temperament\":\"Playful, Social, Intelligent\",\"origin\":\"United States\",\"country_codes\":\"US\",\"country_code\":\"US\",\"description\":\"The Toyger has a sweet, calm personality and is generally friendly. He\\'s outgoing enough to walk on a leash, energetic enough to play fetch and other interactive games, and confident enough to get along with other cats and friendly dogs.\",\"life_span\":\"12 - 15\",\"indoor\":0,\"lap\":1,\"alt_names\":\"\",\"adaptability\":5,\"affection_level\":5,\"child_friendly\":4,\"dog_friendly\":5,\"energy_level\":5,\"grooming\":1,\"health_issues\":2,\"intelligence\":5,\"shedding_level\":3,\"social_needs\":3,\"stranger_friendly\":5,\"vocalisation\":5,\"experimental\":0,\"hairless\":0,\"natural\":0,\"rare\":0,\"rex\":0,\"suppressed_tail\":0,\"short_legs\":0,\"wikipedia_url\":\"https://en.wikipedia.org/wiki/Toyger\",\"hypoallergenic\":0,\"reference_image_id\":\"O3F3_S1XN\"},{\"weight\":{\"imperial\":\"5 - 10\",\"metric\":\"2 - 5\"},\"id\":\"tang\",\"name\":\"Turkish Angora\",\"cfa_url\":\"http://cfa.org/Breeds/BreedsSthruT/TurkishAngora.aspx\",\"vetstreet_url\":\"http://www.vetstreet.com/cats/turkish-angora\",\"vcahospitals_url\":\"https://vcahospitals.com/know-your-pet/cat-breeds/turkish-angora\",\"temperament\":\"Affectionate, Agile, Clever, Gentle, Intelligent, Playful, Social\",\"origin\":\"Turkey\",\"country_codes\":\"TR\",\"country_code\":\"TR\",\"description\":\"This is a smart and intelligent cat which bonds well with humans. With its affectionate and playful personality the Angora is a top choice for families. The Angora gets along great with other pets in the home, but it will make clear who is in charge, and who the house belongs to\",\"life_span\":\"15 - 18\",\"indoor\":0,\"alt_names\":\"Ankara\",\"adaptability\":5,\"affection_level\":5,\"child_friendly\":4,\"dog_friendly\":5,\"energy_level\":5,\"grooming\":2,\"health_issues\":2,\"intelligence\":5,\"shedding_level\":2,\"social_needs\":5,\"stranger_friendly\":5,\"vocalisation\":3,\"experimental\":0,\"hairless\":0,\"natural\":1,\"rare\":0,\"rex\":0,\"suppressed_tail\":0,\"short_legs\":0,\"wikipedia_url\":\"https://en.wikipedia.org/wiki/Turkish_Angora\",\"hypoallergenic\":0,\"reference_image_id\":\"7CGV6WVXq\"},{\"weight\":{\"imperial\":\"7 - 20\",\"metric\":\"3 - 9\"},\"id\":\"tvan\",\"name\":\"Turkish Van\",\"cfa_url\":\"http://cfa.org/Breeds/BreedsSthruT/TurkishVan.aspx\",\"vetstreet_url\":\"http://www.vetstreet.com/cats/turkish-van\",\"vcahospitals_url\":\"https://vcahospitals.com/know-your-pet/cat-breeds/turkish-van\",\"temperament\":\"Agile, Intelligent, Loyal, Playful, Energetic\",\"origin\":\"Turkey\",\"country_codes\":\"TR\",\"country_code\":\"TR\",\"description\":\"While the Turkish Van loves to jump and climb, play with toys, retrieve and play chase, she is is big and ungainly; this is one cat who doesn’t always land on his feet. While not much of a lap cat, the Van will be happy to cuddle next to you and sleep in your bed. \",\"life_span\":\"12 - 17\",\"indoor\":0,\"alt_names\":\"Turkish Cat, Swimming cat\",\"adaptability\":5,\"affection_level\":5,\"child_friendly\":4,\"dog_friendly\":5,\"energy_level\":5,\"grooming\":2,\"health_issues\":1,\"intelligence\":5,\"shedding_level\":3,\"social_needs\":4,\"stranger_friendly\":4,\"vocalisation\":5,\"experimental\":0,\"hairless\":0,\"natural\":1,\"rare\":0,\"rex\":0,\"suppressed_tail\":0,\"short_legs\":0,\"wikipedia_url\":\"https://en.wikipedia.org/wiki/Turkish_Van\",\"hypoallergenic\":0,\"reference_image_id\":\"sxIXJax6h\"},{\"weight\":{\"imperial\":\"12 - 18\",\"metric\":\"5 - 8\"},\"id\":\"ycho\",\"name\":\"York Chocolate\",\"temperament\":\"Playful, Social, Intelligent, Curious, Friendly\",\"origin\":\"United States\",\"country_codes\":\"US\",\"country_code\":\"US\",\"description\":\"York Chocolate cats are known to be true lap cats with a sweet temperament. They love to be cuddled and petted. Their curious nature makes them follow you all the time and participate in almost everything you do, even if it\\'s related to water: unlike many other cats, York Chocolates love it.\",\"life_span\":\"13 - 15\",\"indoor\":0,\"lap\":1,\"alt_names\":\"York\",\"adaptability\":5,\"affection_level\":5,\"child_friendly\":4,\"dog_friendly\":5,\"energy_level\":5,\"grooming\":3,\"health_issues\":1,\"intelligence\":5,\"shedding_level\":3,\"social_needs\":4,\"stranger_friendly\":4,\"vocalisation\":5,\"experimental\":0,\"hairless\":0,\"natural\":0,\"rare\":0,\"rex\":0,\"suppressed_tail\":0,\"short_legs\":0,\"wikipedia_url\":\"https://en.wikipedia.org/wiki/York_Chocolate\",\"hypoallergenic\":0,\"reference_image_id\":\"0SxW2SQ_S\"}]'"
      ]
     },
     "execution_count": 12,
     "metadata": {},
     "output_type": "execute_result"
    }
   ],
   "source": [
    "response = requests.get(\"https://api.thecatapi.com/v1/breeds\")\n",
    "response.text"
   ]
  },
  {
   "cell_type": "code",
   "execution_count": 13,
   "metadata": {},
   "outputs": [
    {
     "data": {
      "text/plain": [
       "'[{\"weight\":{\"imperial\":\"6 - 13\",\"metric\":\"3 - 6\"},\"height\":{\"imperial\":\"9 - 11.5\",\"metric\":\"23 - 29\"},\"id\":1,\"name\":\"Affenpinscher\",\"bred_for\":\"Small rodent hunting, lapdog\",\"breed_group\":\"Toy\",\"life_span\":\"10 - 12 years\",\"temperament\":\"Stubborn, Curious, Playful, Adventurous, Active, Fun-loving\",\"origin\":\"Germany, France\",\"reference_image_id\":\"BJa4kxc4X\"},{\"weight\":{\"imperial\":\"50 - 60\",\"metric\":\"23 - 27\"},\"height\":{\"imperial\":\"25 - 27\",\"metric\":\"64 - 69\"},\"id\":2,\"name\":\"Afghan Hound\",\"country_code\":\"AG\",\"bred_for\":\"Coursing and hunting\",\"breed_group\":\"Hound\",\"life_span\":\"10 - 13 years\",\"temperament\":\"Aloof, Clownish, Dignified, Independent, Happy\",\"origin\":\"Afghanistan, Iran, Pakistan\",\"reference_image_id\":\"hMyT4CDXR\"},{\"weight\":{\"imperial\":\"44 - 66\",\"metric\":\"20 - 30\"},\"height\":{\"imperial\":\"30\",\"metric\":\"76\"},\"id\":3,\"name\":\"African Hunting Dog\",\"bred_for\":\"A wild pack animal\",\"life_span\":\"11 years\",\"temperament\":\"Wild, Hardworking, Dutiful\",\"origin\":\"\",\"reference_image_id\":\"rkiByec47\"},{\"weight\":{\"imperial\":\"40 - 65\",\"metric\":\"18 - 29\"},\"height\":{\"imperial\":\"21 - 23\",\"metric\":\"53 - 58\"},\"id\":4,\"name\":\"Airedale Terrier\",\"bred_for\":\"Badger, otter hunting\",\"breed_group\":\"Terrier\",\"life_span\":\"10 - 13 years\",\"temperament\":\"Outgoing, Friendly, Alert, Confident, Intelligent, Courageous\",\"origin\":\"United Kingdom, England\",\"reference_image_id\":\"1-7cgoZSh\"},{\"weight\":{\"imperial\":\"90 - 120\",\"metric\":\"41 - 54\"},\"height\":{\"imperial\":\"28 - 34\",\"metric\":\"71 - 86\"},\"id\":5,\"name\":\"Akbash Dog\",\"bred_for\":\"Sheep guarding\",\"breed_group\":\"Working\",\"life_span\":\"10 - 12 years\",\"temperament\":\"Loyal, Independent, Intelligent, Brave\",\"origin\":\"\",\"reference_image_id\":\"26pHT3Qk7\"},{\"weight\":{\"imperial\":\"65 - 115\",\"metric\":\"29 - 52\"},\"height\":{\"imperial\":\"24 - 28\",\"metric\":\"61 - 71\"},\"id\":6,\"name\":\"Akita\",\"bred_for\":\"Hunting bears\",\"breed_group\":\"Working\",\"life_span\":\"10 - 14 years\",\"temperament\":\"Docile, Alert, Responsive, Dignified, Composed, Friendly, Receptive, Faithful, Courageous\",\"reference_image_id\":\"BFRYBufpm\"},{\"weight\":{\"imperial\":\"55 - 90\",\"metric\":\"25 - 41\"},\"height\":{\"imperial\":\"18 - 24\",\"metric\":\"46 - 61\"},\"id\":7,\"name\":\"Alapaha Blue Blood Bulldog\",\"description\":\"The Alapaha Blue Blood Bulldog is a well-developed, exaggerated bulldog with a broad head and natural drop ears. The prominent muzzle is covered by loose upper lips. The prominent eyes are set well apart. The Alapaha\\'s coat is relatively short and fairly stiff. Preferred colors are blue merle, brown merle, or red merle all trimmed in white or chocolate and white. Also preferred are the glass eyes (blue) or marble eyes (brown and blue mixed in a single eye). The ears and tail are never trimmed or docked. The body is sturdy and very muscular. The well-muscled hips are narrower than the chest. The straight back is as long as the dog is high at the shoulders. The dewclaws are never removed and the feet are cat-like.\",\"bred_for\":\"Guarding\",\"breed_group\":\"Mixed\",\"life_span\":\"12 - 13 years\",\"history\":\"\",\"temperament\":\"Loving, Protective, Trainable, Dutiful, Responsible\",\"reference_image_id\":\"33mJ-V3RX\"},{\"weight\":{\"imperial\":\"38 - 50\",\"metric\":\"17 - 23\"},\"height\":{\"imperial\":\"23 - 26\",\"metric\":\"58 - 66\"},\"id\":8,\"name\":\"Alaskan Husky\",\"bred_for\":\"Sled pulling\",\"breed_group\":\"Mixed\",\"life_span\":\"10 - 13 years\",\"temperament\":\"Friendly, Energetic, Loyal, Gentle, Confident\",\"reference_image_id\":\"-HgpNnGXl\"},{\"weight\":{\"imperial\":\"65 - 100\",\"metric\":\"29 - 45\"},\"height\":{\"imperial\":\"23 - 25\",\"metric\":\"58 - 64\"},\"id\":9,\"name\":\"Alaskan Malamute\",\"bred_for\":\"Hauling heavy freight, Sled pulling\",\"breed_group\":\"Working\",\"life_span\":\"12 - 15 years\",\"temperament\":\"Friendly, Affectionate, Devoted, Loyal, Dignified, Playful\",\"reference_image_id\":\"dW5UucTIW\"},{\"weight\":{\"imperial\":\"60 - 120\",\"metric\":\"27 - 54\"},\"height\":{\"imperial\":\"22 - 27\",\"metric\":\"56 - 69\"},\"id\":10,\"name\":\"American Bulldog\",\"breed_group\":\"Working\",\"life_span\":\"10 - 12 years\",\"temperament\":\"Friendly, Assertive, Energetic, Loyal, Gentle, Confident, Dominant\",\"reference_image_id\":\"pk1AAdloG\"},{\"weight\":{\"imperial\":\"30 - 150\",\"metric\":\"14 - 68\"},\"height\":{\"imperial\":\"14 - 17\",\"metric\":\"36 - 43\"},\"id\":11,\"name\":\"American Bully\",\"country_code\":\"US\",\"bred_for\":\"Family companion dog\",\"breed_group\":\"\",\"life_span\":\"8 – 15 years\",\"temperament\":\"Strong Willed, Stubborn, Friendly, Clownish, Affectionate, Loyal, Obedient, Intelligent, Courageous\",\"reference_image_id\":\"sqQJDtbpY\"},{\"weight\":{\"imperial\":\"20 - 40\",\"metric\":\"9 - 18\"},\"height\":{\"imperial\":\"15 - 19\",\"metric\":\"38 - 48\"},\"id\":12,\"name\":\"American Eskimo Dog\",\"country_code\":\"US\",\"bred_for\":\"Circus performer\",\"breed_group\":\"Non-Sporting\",\"life_span\":\"12 - 15 years\",\"temperament\":\"Friendly, Alert, Reserved, Intelligent, Protective\",\"reference_image_id\":\"Bymjyec4m\"},{\"weight\":{\"imperial\":\"7 - 10\",\"metric\":\"3 - 5\"},\"height\":{\"imperial\":\"9 - 12\",\"metric\":\"23 - 30\"},\"id\":13,\"name\":\"American Eskimo Dog (Miniature)\",\"country_code\":\"US\",\"bred_for\":\"Companionship\",\"life_span\":\"13 – 15 years\",\"temperament\":\"Friendly, Alert, Reserved, Intelligent, Protective\",\"reference_image_id\":\"_gn8GLrE6\"},{\"weight\":{\"imperial\":\"65 - 75\",\"metric\":\"29 - 34\"},\"height\":{\"imperial\":\"21 - 28\",\"metric\":\"53 - 71\"},\"id\":14,\"name\":\"American Foxhound\",\"country_code\":\"US\",\"bred_for\":\"Fox hunting, scent hound\",\"breed_group\":\"Hound\",\"life_span\":\"8 - 15 years\",\"temperament\":\"Kind, Sweet-Tempered, Loyal, Independent, Intelligent, Loving\",\"reference_image_id\":\"S14n1x9NQ\"},{\"weight\":{\"imperial\":\"30 - 60\",\"metric\":\"14 - 27\"},\"height\":{\"imperial\":\"17 - 21\",\"metric\":\"43 - 53\"},\"id\":15,\"name\":\"American Pit Bull Terrier\",\"country_code\":\"US\",\"bred_for\":\"Fighting\",\"breed_group\":\"Terrier\",\"life_span\":\"10 - 15 years\",\"temperament\":\"Strong Willed, Stubborn, Friendly, Clownish, Affectionate, Loyal, Obedient, Intelligent, Courageous\",\"reference_image_id\":\"HkC31gcNm\"},{\"weight\":{\"imperial\":\"50 - 60\",\"metric\":\"23 - 27\"},\"height\":{\"imperial\":\"17 - 19\",\"metric\":\"43 - 48\"},\"id\":16,\"name\":\"American Staffordshire Terrier\",\"country_code\":\"US\",\"bred_for\":\"\",\"breed_group\":\"Terrier\",\"life_span\":\"12 - 15 years\",\"temperament\":\"Tenacious, Friendly, Devoted, Loyal, Attentive, Courageous\",\"reference_image_id\":\"rJIakgc4m\"},{\"weight\":{\"imperial\":\"25 - 45\",\"metric\":\"11 - 20\"},\"height\":{\"imperial\":\"15 - 18\",\"metric\":\"38 - 46\"},\"id\":17,\"name\":\"American Water Spaniel\",\"country_code\":\"US\",\"bred_for\":\"Bird flushing and retrieving\",\"breed_group\":\"Sporting\",\"life_span\":\"10 - 12 years\",\"temperament\":\"Friendly, Energetic, Obedient, Intelligent, Protective, Trainable\",\"reference_image_id\":\"SkmRJl9VQ\"},{\"weight\":{\"imperial\":\"80 - 150\",\"metric\":\"36 - 68\"},\"height\":{\"imperial\":\"27 - 29\",\"metric\":\"69 - 74\"},\"id\":18,\"name\":\"Anatolian Shepherd Dog\",\"bred_for\":\"Livestock herding\",\"breed_group\":\"Working\",\"life_span\":\"11 - 13 years\",\"temperament\":\"Steady, Bold, Independent, Confident, Intelligent, Proud\",\"reference_image_id\":\"BJT0Jx5Nm\"},{\"weight\":{\"imperial\":\"48 - 55\",\"metric\":\"22 - 25\"},\"height\":{\"imperial\":\"20 - 22\",\"metric\":\"51 - 56\"},\"id\":19,\"name\":\"Appenzeller Sennenhund\",\"bred_for\":\"Herding livestock, pulling carts, and guarding the farm\",\"life_span\":\"12 – 14 years\",\"temperament\":\"Reliable, Fearless, Energetic, Lively, Self-assured\",\"reference_image_id\":\"HkNkxlqEX\"},{\"weight\":{\"imperial\":\"44 - 62\",\"metric\":\"20 - 28\"},\"height\":{\"imperial\":\"17 - 20\",\"metric\":\"43 - 51\"},\"id\":21,\"name\":\"Australian Cattle Dog\",\"country_code\":\"AU\",\"bred_for\":\"Cattle herding, herding trials\",\"breed_group\":\"Herding\",\"life_span\":\"12 - 14 years\",\"temperament\":\"Cautious, Energetic, Loyal, Obedient, Protective, Brave\",\"reference_image_id\":\"IBkYVm4v1\"},{\"weight\":{\"imperial\":\"31 - 46\",\"metric\":\"14 - 21\"},\"height\":{\"imperial\":\"17 - 20\",\"metric\":\"43 - 51\"},\"id\":22,\"name\":\"Australian Kelpie\",\"country_code\":\"AU\",\"bred_for\":\"Farm dog, Cattle herding\",\"breed_group\":\"Herding\",\"life_span\":\"10 - 13 years\",\"temperament\":\"Friendly, Energetic, Alert, Loyal, Intelligent, Eager\",\"reference_image_id\":\"Hyq1ge9VQ\"},{\"weight\":{\"imperial\":\"35 - 65\",\"metric\":\"16 - 29\"},\"height\":{\"imperial\":\"18 - 23\",\"metric\":\"46 - 58\"},\"id\":23,\"name\":\"Australian Shepherd\",\"country_code\":\"AU\",\"bred_for\":\"Sheep herding\",\"breed_group\":\"Herding\",\"life_span\":\"12 - 16 years\",\"temperament\":\"Good-natured, Affectionate, Intelligent, Active, Protective\",\"reference_image_id\":\"B1-llgq4m\"},{\"weight\":{\"imperial\":\"14 - 16\",\"metric\":\"6 - 7\"},\"height\":{\"imperial\":\"10 - 11\",\"metric\":\"25 - 28\"},\"id\":24,\"name\":\"Australian Terrier\",\"country_code\":\"AU\",\"bred_for\":\"Cattle herdering, hunting snakes and rodents\",\"breed_group\":\"Terrier\",\"life_span\":\"15 years\",\"temperament\":\"Spirited, Alert, Loyal, Companionable, Even Tempered, Courageous\",\"reference_image_id\":\"r1Ylge5Vm\"},{\"weight\":{\"imperial\":\"33 - 55\",\"metric\":\"15 - 25\"},\"height\":{\"imperial\":\"23 - 29\",\"metric\":\"58 - 74\"},\"id\":25,\"name\":\"Azawakh\",\"bred_for\":\"Livestock guardian, hunting\",\"breed_group\":\"Hound\",\"life_span\":\"10 - 13 years\",\"temperament\":\"Aloof, Affectionate, Attentive, Rugged, Fierce, Refined\",\"reference_image_id\":\"SkvZgx94m\"},{\"weight\":{\"imperial\":\"40 - 65\",\"metric\":\"18 - 29\"},\"height\":{\"imperial\":\"20 - 26\",\"metric\":\"51 - 66\"},\"id\":26,\"name\":\"Barbet\",\"bred_for\":\"Hunting water game\",\"life_span\":\"13 – 15 years\",\"temperament\":\"Obedient, Companionable, Intelligent, Joyful\",\"reference_image_id\":\"HyWGexcVQ\"},{\"weight\":{\"imperial\":\"22 - 24\",\"metric\":\"10 - 11\"},\"height\":{\"imperial\":\"16 - 17\",\"metric\":\"41 - 43\"},\"id\":28,\"name\":\"Basenji\",\"bred_for\":\"Hunting\",\"breed_group\":\"Hound\",\"life_span\":\"10 - 12 years\",\"temperament\":\"Affectionate, Energetic, Alert, Curious, Playful, Intelligent\",\"reference_image_id\":\"H1dGlxqNQ\"},{\"weight\":{\"imperial\":\"35 - 40\",\"metric\":\"16 - 18\"},\"height\":{\"imperial\":\"13 - 15\",\"metric\":\"33 - 38\"},\"id\":29,\"name\":\"Basset Bleu de Gascogne\",\"bred_for\":\"Hunting on foot.\",\"breed_group\":\"Hound\",\"life_span\":\"10 - 14 years\",\"temperament\":\"Affectionate, Lively, Agile, Curious, Happy, Active\",\"reference_image_id\":\"BkMQll94X\"},{\"weight\":{\"imperial\":\"50 - 65\",\"metric\":\"23 - 29\"},\"height\":{\"imperial\":\"14\",\"metric\":\"36\"},\"id\":30,\"name\":\"Basset Hound\",\"bred_for\":\"Hunting by scent\",\"breed_group\":\"Hound\",\"life_span\":\"12 - 15 years\",\"temperament\":\"Tenacious, Friendly, Affectionate, Devoted, Sweet-Tempered, Gentle\",\"reference_image_id\":\"Sy57xx9EX\"},{\"weight\":{\"imperial\":\"20 - 35\",\"metric\":\"9 - 16\"},\"height\":{\"imperial\":\"13 - 15\",\"metric\":\"33 - 38\"},\"id\":31,\"name\":\"Beagle\",\"bred_for\":\"Rabbit, hare hunting\",\"breed_group\":\"Hound\",\"life_span\":\"13 - 16 years\",\"temperament\":\"Amiable, Even Tempered, Excitable, Determined, Gentle, Intelligent\",\"reference_image_id\":\"Syd4xxqEm\"},{\"weight\":{\"imperial\":\"45 - 55\",\"metric\":\"20 - 25\"},\"height\":{\"imperial\":\"20 - 22\",\"metric\":\"51 - 56\"},\"id\":32,\"name\":\"Bearded Collie\",\"bred_for\":\"Sheep herding\",\"breed_group\":\"Herding\",\"life_span\":\"12 - 14 years\",\"temperament\":\"Self-confidence, Hardy, Lively, Alert, Intelligent, Active\",\"reference_image_id\":\"A09F4c1qP\"},{\"weight\":{\"imperial\":\"80 - 110\",\"metric\":\"36 - 50\"},\"height\":{\"imperial\":\"24 - 27.5\",\"metric\":\"61 - 70\"},\"id\":33,\"name\":\"Beauceron\",\"bred_for\":\"Boar herding, hunting, guarding\",\"breed_group\":\"Herding\",\"life_span\":\"10 - 12 years\",\"temperament\":\"Fearless, Friendly, Intelligent, Protective, Calm\",\"reference_image_id\":\"HJQ8ge5V7\"},{\"weight\":{\"imperial\":\"17 - 23\",\"metric\":\"8 - 10\"},\"height\":{\"imperial\":\"15 - 16\",\"metric\":\"38 - 41\"},\"id\":34,\"name\":\"Bedlington Terrier\",\"bred_for\":\"Killing rat, badger, other vermin\",\"breed_group\":\"Terrier\",\"life_span\":\"14 - 16 years\",\"temperament\":\"Affectionate, Spirited, Intelligent, Good-tempered\",\"reference_image_id\":\"ByK8gx947\"},{\"weight\":{\"imperial\":\"40 - 80\",\"metric\":\"18 - 36\"},\"height\":{\"imperial\":\"22 - 26\",\"metric\":\"56 - 66\"},\"id\":36,\"name\":\"Belgian Malinois\",\"bred_for\":\"Stock herding\",\"breed_group\":\"Herding\",\"life_span\":\"12 - 14 years\",\"temperament\":\"Watchful, Alert, Stubborn, Friendly, Confident, Hard-working, Active, Protective\",\"reference_image_id\":\"r1f_ll5VX\"},{\"weight\":{\"imperial\":\"40 - 65\",\"metric\":\"18 - 29\"},\"height\":{\"imperial\":\"22 - 26\",\"metric\":\"56 - 66\"},\"id\":38,\"name\":\"Belgian Tervuren\",\"bred_for\":\"Guarding, Drafting, Police work.\",\"breed_group\":\"Herding\",\"life_span\":\"10 - 12 years\",\"temperament\":\"Energetic, Alert, Loyal, Intelligent, Attentive, Protective\",\"reference_image_id\":\"B1KdxlcNX\"},{\"weight\":{\"imperial\":\"65 - 120\",\"metric\":\"29 - 54\"},\"height\":{\"imperial\":\"23 - 27.5\",\"metric\":\"58 - 70\"},\"id\":41,\"name\":\"Bernese Mountain Dog\",\"bred_for\":\"Draft work\",\"breed_group\":\"Working\",\"life_span\":\"7 - 10 years\",\"temperament\":\"Affectionate, Loyal, Intelligent, Faithful\",\"reference_image_id\":\"S1fFlx5Em\"},{\"weight\":{\"imperial\":\"10 - 18\",\"metric\":\"5 - 8\"},\"height\":{\"imperial\":\"9.5 - 11.5\",\"metric\":\"24 - 29\"},\"id\":42,\"name\":\"Bichon Frise\",\"bred_for\":\"Companion\",\"breed_group\":\"Non-Sporting\",\"life_span\":\"15 years\",\"temperament\":\"Feisty, Affectionate, Cheerful, Playful, Gentle, Sensitive\",\"reference_image_id\":\"HkuYlxqEQ\"},{\"weight\":{\"imperial\":\"65 - 100\",\"metric\":\"29 - 45\"},\"height\":{\"imperial\":\"23 - 27\",\"metric\":\"58 - 69\"},\"id\":43,\"name\":\"Black and Tan Coonhound\",\"bred_for\":\"Hunting raccoons, night hunting\",\"breed_group\":\"Hound\",\"life_span\":\"10 - 12 years\",\"temperament\":\"Easygoing, Gentle, Adaptable, Trusting, Even Tempered, Lovable\",\"reference_image_id\":\"HJAFgxcNQ\"},{\"weight\":{\"imperial\":\"80 - 110\",\"metric\":\"36 - 50\"},\"height\":{\"imperial\":\"23 - 27\",\"metric\":\"58 - 69\"},\"id\":45,\"name\":\"Bloodhound\",\"bred_for\":\"Trailing\",\"breed_group\":\"Hound\",\"life_span\":\"8 - 10 years\",\"temperament\":\"Stubborn, Affectionate, Gentle, Even Tempered\",\"reference_image_id\":\"Skdcgx9VX\"},{\"weight\":{\"imperial\":\"45 - 80\",\"metric\":\"20 - 36\"},\"height\":{\"imperial\":\"21 - 27\",\"metric\":\"53 - 69\"},\"id\":47,\"name\":\"Bluetick Coonhound\",\"bred_for\":\"Hunting with a superior sense of smell.\",\"breed_group\":\"Hound\",\"life_span\":\"12 - 14 years\",\"temperament\":\"Friendly, Intelligent, Active\",\"reference_image_id\":\"rJxieg9VQ\"},{\"weight\":{\"imperial\":\"110 - 200\",\"metric\":\"50 - 91\"},\"height\":{\"imperial\":\"22 - 27\",\"metric\":\"56 - 69\"},\"id\":48,\"name\":\"Boerboel\",\"bred_for\":\"Guarding the homestead, farm work.\",\"breed_group\":\"Working\",\"life_span\":\"10 - 12 years\",\"temperament\":\"Obedient, Confident, Intelligent, Dominant, Territorial\",\"reference_image_id\":\"HyOjge5Vm\"},{\"weight\":{\"imperial\":\"30 - 45\",\"metric\":\"14 - 20\"},\"height\":{\"imperial\":\"18 - 22\",\"metric\":\"46 - 56\"},\"id\":50,\"name\":\"Border Collie\",\"bred_for\":\"Sheep herder\",\"breed_group\":\"Herding\",\"life_span\":\"12 - 16 years\",\"temperament\":\"Tenacious, Keen, Energetic, Responsive, Alert, Intelligent\",\"reference_image_id\":\"sGQvQUpsp\"},{\"weight\":{\"imperial\":\"11.5 - 15.5\",\"metric\":\"5 - 7\"},\"height\":{\"imperial\":\"11 - 16\",\"metric\":\"28 - 41\"},\"id\":51,\"name\":\"Border Terrier\",\"bred_for\":\"Fox bolting, ratting\",\"breed_group\":\"Terrier\",\"life_span\":\"12 - 14 years\",\"temperament\":\"Fearless, Affectionate, Alert, Obedient, Intelligent, Even Tempered\",\"reference_image_id\":\"HJOpge9Em\"},{\"weight\":{\"imperial\":\"10 - 25\",\"metric\":\"5 - 11\"},\"height\":{\"imperial\":\"16 - 17\",\"metric\":\"41 - 43\"},\"id\":53,\"name\":\"Boston Terrier\",\"bred_for\":\"Ratting, Companionship\",\"breed_group\":\"Non-Sporting\",\"life_span\":\"11 - 13 years\",\"temperament\":\"Friendly, Lively, Intelligent\",\"reference_image_id\":\"rkZRggqVX\"},{\"weight\":{\"imperial\":\"70 - 110\",\"metric\":\"32 - 50\"},\"height\":{\"imperial\":\"23.5 - 27.5\",\"metric\":\"60 - 70\"},\"id\":54,\"name\":\"Bouvier des Flandres\",\"bred_for\":\"Cattle herding\",\"breed_group\":\"Herding\",\"life_span\":\"10 - 15 years\",\"temperament\":\"Protective, Loyal, Gentle, Intelligent, Familial, Rational\",\"reference_image_id\":\"Byd0xl5VX\"},{\"weight\":{\"imperial\":\"50 - 70\",\"metric\":\"23 - 32\"},\"height\":{\"imperial\":\"21.5 - 25\",\"metric\":\"55 - 64\"},\"id\":55,\"name\":\"Boxer\",\"bred_for\":\"Bull-baiting, guardian\",\"breed_group\":\"Working\",\"life_span\":\"8 - 10 years\",\"temperament\":\"Devoted, Fearless, Friendly, Cheerful, Energetic, Loyal, Playful, Confident, Intelligent, Bright, Brave, Calm\",\"reference_image_id\":\"ry1kWe5VQ\"},{\"weight\":{\"imperial\":\"25 - 40\",\"metric\":\"11 - 18\"},\"height\":{\"imperial\":\"14 - 18\",\"metric\":\"36 - 46\"},\"id\":56,\"name\":\"Boykin Spaniel\",\"bred_for\":\"Turkey retrieving\",\"breed_group\":\"Sporting\",\"life_span\":\"10 - 14 years\",\"temperament\":\"Friendly, Energetic, Companionable, Intelligent, Eager, Trainable\",\"reference_image_id\":\"ryHJZlcNX\"},{\"weight\":{\"imperial\":\"55 - 88\",\"metric\":\"25 - 40\"},\"height\":{\"imperial\":\"21.5 - 26.5\",\"metric\":\"55 - 67\"},\"id\":57,\"name\":\"Bracco Italiano\",\"bred_for\":\"Versatile gun dog\",\"breed_group\":\"Sporting\",\"life_span\":\"10 - 12 years\",\"temperament\":\"Stubborn, Affectionate, Loyal, Playful, Companionable, Trainable\",\"reference_image_id\":\"S13yZg5VQ\"},{\"weight\":{\"imperial\":\"70 - 90\",\"metric\":\"32 - 41\"},\"height\":{\"imperial\":\"22 - 27\",\"metric\":\"56 - 69\"},\"id\":58,\"name\":\"Briard\",\"bred_for\":\"Herding, guarding sheep\",\"breed_group\":\"Herding\",\"life_span\":\"10 - 12 years\",\"temperament\":\"Fearless, Loyal, Obedient, Intelligent, Faithful, Protective\",\"reference_image_id\":\"rkVlblcEQ\"},{\"weight\":{\"imperial\":\"30 - 45\",\"metric\":\"14 - 20\"},\"height\":{\"imperial\":\"17.5 - 20.5\",\"metric\":\"44 - 52\"},\"id\":59,\"name\":\"Brittany\",\"bred_for\":\"Pointing, retrieving\",\"breed_group\":\"Sporting\",\"life_span\":\"12 - 14 years\",\"temperament\":\"Agile, Adaptable, Quick, Intelligent, Attentive, Happy\",\"reference_image_id\":\"HJWZZxc4X\"},{\"weight\":{\"imperial\":\"50 - 70\",\"metric\":\"23 - 32\"},\"height\":{\"imperial\":\"21 - 22\",\"metric\":\"53 - 56\"},\"id\":61,\"name\":\"Bull Terrier\",\"bred_for\":\"Bull baiting, Fighting\",\"breed_group\":\"Terrier\",\"life_span\":\"10 - 12 years\",\"temperament\":\"Trainable, Protective, Sweet-Tempered, Keen, Active\",\"reference_image_id\":\"VSraIEQGd\"},{\"weight\":{\"imperial\":\"25 - 33\",\"metric\":\"11 - 15\"},\"height\":{\"imperial\":\"10 - 14\",\"metric\":\"25 - 36\"},\"id\":62,\"name\":\"Bull Terrier (Miniature)\",\"bred_for\":\"An elegant man\\'s fashion statement\",\"life_span\":\"11 – 14 years\",\"temperament\":\"Trainable, Protective, Sweet-Tempered, Keen, Active, Territorial\",\"reference_image_id\":\"BkKZWlcVX\"},{\"weight\":{\"imperial\":\"100 - 130\",\"metric\":\"45 - 59\"},\"height\":{\"imperial\":\"24 - 27\",\"metric\":\"61 - 69\"},\"id\":64,\"name\":\"Bullmastiff\",\"bred_for\":\"Estate guardian\",\"breed_group\":\"Working\",\"life_span\":\"8 - 12 years\",\"temperament\":\"Docile, Reliable, Devoted, Alert, Loyal, Reserved, Loving, Protective, Powerful, Calm, Courageous\",\"reference_image_id\":\"r1ifZl5E7\"},{\"weight\":{\"imperial\":\"13 - 14\",\"metric\":\"6 - 6\"},\"height\":{\"imperial\":\"9 - 10\",\"metric\":\"23 - 25\"},\"id\":65,\"name\":\"Cairn Terrier\",\"bred_for\":\"Bolting of otter, foxes, other vermin\",\"breed_group\":\"Terrier\",\"life_span\":\"14 - 15 years\",\"temperament\":\"Hardy, Fearless, Assertive, Gay, Intelligent, Active\",\"reference_image_id\":\"Sk7Qbg9E7\"},{\"weight\":{\"imperial\":\"88 - 120\",\"metric\":\"40 - 54\"},\"height\":{\"imperial\":\"23.5 - 27.5\",\"metric\":\"60 - 70\"},\"id\":67,\"name\":\"Cane Corso\",\"bred_for\":\"Companion, guard dog, and hunter\",\"breed_group\":\"Working\",\"life_span\":\"10 - 11 years\",\"temperament\":\"Trainable, Reserved, Stable, Quiet, Even Tempered, Calm\",\"reference_image_id\":\"r15m-lc4m\"},{\"weight\":{\"imperial\":\"25 - 38\",\"metric\":\"11 - 17\"},\"height\":{\"imperial\":\"10.5 - 12.5\",\"metric\":\"27 - 32\"},\"id\":68,\"name\":\"Cardigan Welsh Corgi\",\"bred_for\":\"Cattle droving\",\"breed_group\":\"Herding\",\"life_span\":\"12 - 14 years\",\"temperament\":\"Affectionate, Devoted, Alert, Companionable, Intelligent, Active\",\"reference_image_id\":\"SyXN-e9NX\"},{\"weight\":{\"imperial\":\"50 - 95\",\"metric\":\"23 - 43\"},\"height\":{\"imperial\":\"20 - 26\",\"metric\":\"51 - 66\"},\"id\":69,\"name\":\"Catahoula Leopard Dog\",\"bred_for\":\"Driving livestock\",\"breed_group\":\"Herding\",\"life_span\":\"10 - 12 years\",\"temperament\":\"Energetic, Inquisitive, Independent, Gentle, Intelligent, Loving\",\"reference_image_id\":\"BJcNbec4X\"},{\"weight\":{\"imperial\":\"80 - 100\",\"metric\":\"36 - 45\"},\"height\":{\"imperial\":\"24 - 33.5\",\"metric\":\"61 - 85\"},\"id\":70,\"name\":\"Caucasian Shepherd (Ovcharka)\",\"bred_for\":\"Guard dogs, defending sheep from predators, mainly wolves, jackals and bears\",\"breed_group\":\"Working\",\"life_span\":\"10 - 12 years\",\"temperament\":\"Alert, Quick, Dominant, Powerful, Calm, Strong\",\"reference_image_id\":\"r1rrWe5Em\"},{\"weight\":{\"imperial\":\"13 - 18\",\"metric\":\"6 - 8\"},\"height\":{\"imperial\":\"12 - 13\",\"metric\":\"30 - 33\"},\"id\":71,\"name\":\"Cavalier King Charles Spaniel\",\"bred_for\":\"Flushing small birds, companion\",\"breed_group\":\"Toy\",\"life_span\":\"10 - 14 years\",\"temperament\":\"Fearless, Affectionate, Sociable, Patient, Playful, Adaptable\",\"reference_image_id\":\"HJRBbe94Q\"},{\"weight\":{\"imperial\":\"55 - 80\",\"metric\":\"25 - 36\"},\"height\":{\"imperial\":\"21 - 26\",\"metric\":\"53 - 66\"},\"id\":76,\"name\":\"Chesapeake Bay Retriever\",\"bred_for\":\"Water Retriever\",\"breed_group\":\"Sporting\",\"life_span\":\"10 - 13 years\",\"temperament\":\"Affectionate, Intelligent, Quiet, Dominant, Happy, Protective\",\"reference_image_id\":\"9BXwUeCc2\"},{\"weight\":{\"imperial\":\"10 - 13\",\"metric\":\"5 - 6\"},\"height\":{\"imperial\":\"11 - 13\",\"metric\":\"28 - 33\"},\"id\":78,\"name\":\"Chinese Crested\",\"bred_for\":\"Ratting, lapdog, curio\",\"breed_group\":\"Toy\",\"life_span\":\"10 - 14 years\",\"temperament\":\"Affectionate, Sweet-Tempered, Lively, Alert, Playful, Happy\",\"reference_image_id\":\"B1pDZx9Nm\"},{\"weight\":{\"imperial\":\"45 - 60\",\"metric\":\"20 - 27\"},\"height\":{\"imperial\":\"18 - 20\",\"metric\":\"46 - 51\"},\"id\":79,\"name\":\"Chinese Shar-Pei\",\"bred_for\":\"Fighting\",\"breed_group\":\"Non-Sporting\",\"life_span\":\"10 years\",\"temperament\":\"Suspicious, Affectionate, Devoted, Reserved, Independent, Loving\",\"reference_image_id\":\"B1ruWl94Q\"},{\"weight\":{\"imperial\":\"50 - 90\",\"metric\":\"23 - 41\"},\"height\":{\"imperial\":\"22 - 26\",\"metric\":\"56 - 66\"},\"id\":80,\"name\":\"Chinook\",\"bred_for\":\"Sled pulling\",\"breed_group\":\"Working\",\"life_span\":\"12 - 15 years\",\"temperament\":\"Friendly, Alert, Dignified, Intelligent, Calm\",\"reference_image_id\":\"Sypubg54Q\"},{\"weight\":{\"imperial\":\"40 - 70\",\"metric\":\"18 - 32\"},\"height\":{\"imperial\":\"17 - 20\",\"metric\":\"43 - 51\"},\"id\":81,\"name\":\"Chow Chow\",\"bred_for\":\"Guardian, cart pulling, hunting\",\"breed_group\":\"Non-Sporting\",\"life_span\":\"12 - 15 years\",\"temperament\":\"Aloof, Loyal, Independent, Quiet\",\"reference_image_id\":\"ry8KWgqEQ\"},{\"weight\":{\"imperial\":\"55 - 85\",\"metric\":\"25 - 39\"},\"height\":{\"imperial\":\"17 - 20\",\"metric\":\"43 - 51\"},\"id\":84,\"name\":\"Clumber Spaniel\",\"bred_for\":\"Bird flushing, retrieving\",\"breed_group\":\"Sporting\",\"life_span\":\"10 - 12 years\",\"temperament\":\"Affectionate, Loyal, Dignified, Gentle, Calm, Great-hearted\",\"reference_image_id\":\"rkeqWgq4Q\"},{\"weight\":{\"imperial\":\"20 - 30\",\"metric\":\"9 - 14\"},\"height\":{\"imperial\":\"14 - 15\",\"metric\":\"36 - 38\"},\"id\":86,\"name\":\"Cocker Spaniel\",\"bred_for\":\"Bird flushing, retrieving\",\"breed_group\":\"Sporting\",\"life_span\":\"12 - 15 years\",\"temperament\":\"Trainable, Friendly, Affectionate, Playful, Quiet, Faithful\",\"reference_image_id\":\"1lFmrzECl\"},{\"weight\":{\"imperial\":\"20 - 30\",\"metric\":\"9 - 14\"},\"height\":{\"imperial\":\"14 - 15\",\"metric\":\"36 - 38\"},\"id\":87,\"name\":\"Cocker Spaniel (American)\",\"bred_for\":\"Hunting the American woodcock\",\"breed_group\":\"Sporting\",\"life_span\":\"12 - 15 years\",\"temperament\":\"Outgoing, Sociable, Trusting, Joyful, Even Tempered, Merry\",\"reference_image_id\":\"HkRcZe547\"},{\"weight\":{\"imperial\":\"9 - 15\",\"metric\":\"4 - 7\"},\"height\":{\"imperial\":\"9 - 11\",\"metric\":\"23 - 28\"},\"id\":89,\"name\":\"Coton de Tulear\",\"bred_for\":\"Accompanying ladies on long sea voyages, ratters onboard ship.\",\"breed_group\":\"Non-Sporting\",\"life_span\":\"13 - 16 years\",\"temperament\":\"Affectionate, Lively, Playful, Intelligent, Trainable, Vocal\",\"reference_image_id\":\"SyviZlqNm\"},{\"weight\":{\"imperial\":\"50 - 55\",\"metric\":\"23 - 25\"},\"height\":{\"imperial\":\"19 - 23\",\"metric\":\"48 - 58\"},\"id\":92,\"name\":\"Dalmatian\",\"bred_for\":\"Carriage dog - trot alongside carriages to protect the occupants from banditry or other interference\",\"breed_group\":\"Non-Sporting\",\"life_span\":\"10 - 13 years\",\"temperament\":\"Outgoing, Friendly, Energetic, Playful, Sensitive, Intelligent, Active\",\"reference_image_id\":\"SkJ3blcN7\"},{\"weight\":{\"imperial\":\"66 - 88\",\"metric\":\"30 - 40\"},\"height\":{\"imperial\":\"24 - 28\",\"metric\":\"61 - 71\"},\"id\":94,\"name\":\"Doberman Pinscher\",\"bred_for\":\"Guardian\",\"breed_group\":\"Working\",\"life_span\":\"10 years\",\"temperament\":\"Fearless, Energetic, Alert, Loyal, Obedient, Confident, Intelligent\",\"reference_image_id\":\"HyL3bl94Q\"},{\"weight\":{\"imperial\":\"80 - 100\",\"metric\":\"36 - 45\"},\"height\":{\"imperial\":\"23.5 - 27\",\"metric\":\"60 - 69\"},\"id\":95,\"name\":\"Dogo Argentino\",\"bred_for\":\"Big-game hunting\",\"breed_group\":\"Working\",\"life_span\":\"10 - 12 years\",\"temperament\":\"Friendly, Affectionate, Cheerful, Loyal, Tolerant, Protective\",\"reference_image_id\":\"S1nhWx94Q\"},{\"weight\":{\"imperial\":\"50 - 70\",\"metric\":\"23 - 32\"},\"height\":{\"imperial\":\"22 - 24.5\",\"metric\":\"56 - 62\"},\"id\":98,\"name\":\"Dutch Shepherd\",\"bred_for\":\"Farms, watchdog, guard duty\",\"life_span\":\"15 years\",\"temperament\":\"Reliable, Affectionate, Alert, Loyal, Obedient, Trainable\",\"reference_image_id\":\"BkE6Wg5E7\"},{\"weight\":{\"imperial\":\"45 - 80\",\"metric\":\"20 - 36\"},\"height\":{\"imperial\":\"24 - 25\",\"metric\":\"61 - 64\"},\"id\":101,\"name\":\"English Setter\",\"bred_for\":\"Bird setting, retrieving\",\"breed_group\":\"Sporting\",\"life_span\":\"12 years\",\"temperament\":\"Strong Willed, Mischievous, Affectionate, Energetic, Playful, Companionable, Gentle, Hard-working, Intelligent, Eager, People-Oriented\",\"reference_image_id\":\"By4A-eqVX\"},{\"weight\":{\"imperial\":\"44 - 66\",\"metric\":\"20 - 30\"},\"height\":{\"imperial\":\"18 - 23\",\"metric\":\"46 - 58\"},\"id\":102,\"name\":\"English Shepherd\",\"bred_for\":\"Herding & guarding livestock, farm watch dog\",\"breed_group\":\"Working\",\"life_span\":\"10 - 13 years\",\"temperament\":\"Kind, Energetic, Independent, Adaptable, Intelligent, Bossy\",\"reference_image_id\":\"H1QyMe5EQ\"},{\"weight\":{\"imperial\":\"35 - 50\",\"metric\":\"16 - 23\"},\"height\":{\"imperial\":\"19 - 20\",\"metric\":\"48 - 51\"},\"id\":103,\"name\":\"English Springer Spaniel\",\"bred_for\":\"Bird flushing, retrieving\",\"breed_group\":\"Sporting\",\"life_span\":\"12 - 14 years\",\"temperament\":\"Affectionate, Cheerful, Alert, Intelligent, Attentive, Active\",\"reference_image_id\":\"Hk0Jfe5VQ\"},{\"weight\":{\"imperial\":\"8 - 14\",\"metric\":\"4 - 6\"},\"height\":{\"imperial\":\"10\",\"metric\":\"25\"},\"id\":104,\"name\":\"English Toy Spaniel\",\"bred_for\":\"Companion of kings\",\"breed_group\":\"Toy\",\"life_span\":\"10 - 12 years\",\"temperament\":\"Affectionate, Reserved, Playful, Gentle, Happy, Loving\",\"reference_image_id\":\"SkIgzxqNQ\"},{\"weight\":{\"imperial\":\"6 - 8\",\"metric\":\"3 - 4\"},\"height\":{\"imperial\":\"10 - 12\",\"metric\":\"25 - 30\"},\"id\":105,\"name\":\"English Toy Terrier\",\"bred_for\":\"Rat-baiting\",\"life_span\":\"12 - 13 years\",\"temperament\":\"Stubborn, Alert, Companionable, Intelligent, Cunning, Trainable\",\"reference_image_id\":\"SJ6eMxqEQ\"},{\"weight\":{\"imperial\":\"40 - 70\",\"metric\":\"18 - 32\"},\"height\":{\"imperial\":\"20.5 - 23.5\",\"metric\":\"52 - 60\"},\"id\":107,\"name\":\"Eurasier\",\"bred_for\":\"Companionship\",\"breed_group\":\"Non-Sporting\",\"life_span\":\"12 - 14 years\",\"temperament\":\"Alert, Reserved, Intelligent, Even Tempered, Watchful, Calm\",\"reference_image_id\":\"S1VWGx9Nm\"},{\"weight\":{\"imperial\":\"35 - 50\",\"metric\":\"16 - 23\"},\"height\":{\"imperial\":\"17 - 18\",\"metric\":\"43 - 46\"},\"id\":108,\"name\":\"Field Spaniel\",\"bred_for\":\"Bird flushing, retrieving\",\"breed_group\":\"Sporting\",\"life_span\":\"11 - 15 years\",\"temperament\":\"Docile, Cautious, Sociable, Sensitive, Adaptable, Familial\",\"reference_image_id\":\"SkJfGecE7\"},{\"weight\":{\"imperial\":\"33 - 53\",\"metric\":\"15 - 24\"},\"height\":{\"imperial\":\"16 - 21\",\"metric\":\"41 - 53\"},\"id\":110,\"name\":\"Finnish Lapphund\",\"bred_for\":\"Herding reindeer\",\"breed_group\":\"Herding\",\"life_span\":\"12 - 15 years\",\"temperament\":\"Friendly, Keen, Faithful, Calm, Courageous\",\"reference_image_id\":\"S1KMGg5Vm\"},{\"weight\":{\"imperial\":\"23 - 28\",\"metric\":\"10 - 13\"},\"height\":{\"imperial\":\"15.5 - 20\",\"metric\":\"39 - 51\"},\"id\":111,\"name\":\"Finnish Spitz\",\"bred_for\":\"Hunting birds, small mammals\",\"breed_group\":\"Non-Sporting\",\"life_span\":\"12 - 15 years\",\"temperament\":\"Playful, Loyal, Independent, Intelligent, Happy, Vocal\",\"reference_image_id\":\"3PjHlQbkV\"},{\"weight\":{\"imperial\":\"28\",\"metric\":\"13\"},\"height\":{\"imperial\":\"11 - 12\",\"metric\":\"28 - 30\"},\"id\":113,\"name\":\"French Bulldog\",\"bred_for\":\"Lapdog\",\"breed_group\":\"Non-Sporting\",\"life_span\":\"9 - 11 years\",\"temperament\":\"Playful, Affectionate, Keen, Sociable, Lively, Alert, Easygoing, Patient, Athletic, Bright\",\"reference_image_id\":\"HyWNfxc47\"},{\"weight\":{\"imperial\":\"25 - 45\",\"metric\":\"11 - 20\"},\"height\":{\"imperial\":\"17 - 20\",\"metric\":\"43 - 51\"},\"id\":114,\"name\":\"German Pinscher\",\"bred_for\":\"Watchdog, Hunting vermin on the farm.\",\"breed_group\":\"Working\",\"life_span\":\"12 - 14 years\",\"temperament\":\"Spirited, Lively, Intelligent, Loving, Even Tempered, Familial\",\"reference_image_id\":\"B1u4zgqE7\"},{\"weight\":{\"imperial\":\"50 - 90\",\"metric\":\"23 - 41\"},\"height\":{\"imperial\":\"22 - 26\",\"metric\":\"56 - 66\"},\"id\":115,\"name\":\"German Shepherd Dog\",\"bred_for\":\"Herding, Guard dog\",\"breed_group\":\"Herding\",\"life_span\":\"10 - 13 years\",\"temperament\":\"Alert, Loyal, Obedient, Curious, Confident, Intelligent, Watchful, Courageous\",\"reference_image_id\":\"SJyBfg5NX\"},{\"weight\":{\"imperial\":\"45 - 70\",\"metric\":\"20 - 32\"},\"height\":{\"imperial\":\"21 - 25\",\"metric\":\"53 - 64\"},\"id\":116,\"name\":\"German Shorthaired Pointer\",\"bred_for\":\"General hunting\",\"breed_group\":\"Sporting\",\"life_span\":\"12 - 14 years\",\"temperament\":\"Boisterous, Bold, Affectionate, Intelligent, Cooperative, Trainable\",\"reference_image_id\":\"SJqBMg5Nm\"},{\"weight\":{\"imperial\":\"65 - 90\",\"metric\":\"29 - 41\"},\"height\":{\"imperial\":\"23.5 - 27.5\",\"metric\":\"60 - 70\"},\"id\":119,\"name\":\"Giant Schnauzer\",\"bred_for\":\"Herding, guarding\",\"breed_group\":\"Working\",\"life_span\":\"10 - 12 years\",\"temperament\":\"Strong Willed, Kind, Loyal, Intelligent, Dominant, Powerful\",\"reference_image_id\":\"H1NIzlcV7\"},{\"weight\":{\"imperial\":\"32 - 40\",\"metric\":\"15 - 18\"},\"height\":{\"imperial\":\"12.5 - 14\",\"metric\":\"32 - 36\"},\"id\":120,\"name\":\"Glen of Imaal Terrier\",\"bred_for\":\"Rid the home and farm of vermin, and hunt badger and fox\",\"breed_group\":\"Terrier\",\"life_span\":\"12 - 15 years\",\"temperament\":\"Spirited, Agile, Loyal, Gentle, Active, Courageous\",\"reference_image_id\":\"H1oLMe94m\"},{\"weight\":{\"imperial\":\"55 - 75\",\"metric\":\"25 - 34\"},\"height\":{\"imperial\":\"21.5 - 24\",\"metric\":\"55 - 61\"},\"id\":121,\"name\":\"Golden Retriever\",\"bred_for\":\"Retrieving\",\"breed_group\":\"Sporting\",\"life_span\":\"10 - 12 years\",\"temperament\":\"Intelligent, Kind, Reliable, Friendly, Trustworthy, Confident\",\"reference_image_id\":\"HJ7Pzg5EQ\"},{\"weight\":{\"imperial\":\"45 - 80\",\"metric\":\"20 - 36\"},\"height\":{\"imperial\":\"23 - 27\",\"metric\":\"58 - 69\"},\"id\":123,\"name\":\"Gordon Setter\",\"bred_for\":\"Find and point gamebirds\",\"breed_group\":\"Sporting\",\"life_span\":\"10 - 12 years\",\"temperament\":\"Fearless, Alert, Loyal, Confident, Gay, Eager\",\"reference_image_id\":\"SJ5vzx5NX\"},{\"weight\":{\"imperial\":\"110 - 190\",\"metric\":\"50 - 86\"},\"height\":{\"imperial\":\"28 - 32\",\"metric\":\"71 - 81\"},\"id\":124,\"name\":\"Great Dane\",\"bred_for\":\"Hunting & holding boars, Guardian\",\"breed_group\":\"Working\",\"life_span\":\"7 - 10 years\",\"temperament\":\"Friendly, Devoted, Reserved, Gentle, Confident, Loving\",\"reference_image_id\":\"B1Edfl9NX\"},{\"weight\":{\"imperial\":\"85 - 115\",\"metric\":\"39 - 52\"},\"height\":{\"imperial\":\"25 - 32\",\"metric\":\"64 - 81\"},\"id\":125,\"name\":\"Great Pyrenees\",\"bred_for\":\"Sheep guardian\",\"breed_group\":\"Working\",\"life_span\":\"10 - 12 years\",\"temperament\":\"Strong Willed, Fearless, Affectionate, Patient, Gentle, Confident\",\"reference_image_id\":\"B12uzg9V7\"},{\"weight\":{\"imperial\":\"50 - 70\",\"metric\":\"23 - 32\"},\"height\":{\"imperial\":\"27 - 30\",\"metric\":\"69 - 76\"},\"id\":127,\"name\":\"Greyhound\",\"bred_for\":\"Coursing hares\",\"breed_group\":\"Hound\",\"life_span\":\"10 - 13 years\",\"temperament\":\"Affectionate, Athletic, Gentle, Intelligent, Quiet, Even Tempered\",\"reference_image_id\":\"ryNYMx94X\"},{\"weight\":{\"imperial\":\"12\",\"metric\":\"5\"},\"height\":{\"imperial\":\"9 - 11\",\"metric\":\"23 - 28\"},\"id\":128,\"name\":\"Griffon Bruxellois\",\"bred_for\":\"Hunt and kill vermin in stables\",\"life_span\":\"10 – 15 years\",\"temperament\":\"Self-important, Inquisitive, Alert, Companionable, Sensitive, Watchful\",\"reference_image_id\":\"ryoYGec4Q\"},{\"weight\":{\"imperial\":\"40 - 60\",\"metric\":\"18 - 27\"},\"height\":{\"imperial\":\"18 - 22\",\"metric\":\"46 - 56\"},\"id\":129,\"name\":\"Harrier\",\"bred_for\":\"Hunting hares by trailing them\",\"breed_group\":\"Hound\",\"life_span\":\"12 - 15 years\",\"temperament\":\"Outgoing, Friendly, Cheerful, Sweet-Tempered, Tolerant, Active\",\"reference_image_id\":\"B1IcfgqE7\"},{\"weight\":{\"imperial\":\"7 - 13\",\"metric\":\"3 - 6\"},\"height\":{\"imperial\":\"8.5 - 11.5\",\"metric\":\"22 - 29\"},\"id\":130,\"name\":\"Havanese\",\"bred_for\":\"Companionship\",\"breed_group\":\"Toy\",\"life_span\":\"14 - 15 years\",\"temperament\":\"Affectionate, Responsive, Playful, Companionable, Gentle, Intelligent\",\"reference_image_id\":\"rkXiGl9V7\"},{\"weight\":{\"imperial\":\"35 - 70\",\"metric\":\"16 - 32\"},\"height\":{\"imperial\":\"24 - 27\",\"metric\":\"61 - 69\"},\"id\":134,\"name\":\"Irish Setter\",\"bred_for\":\"Bird setting, retrieving\",\"breed_group\":\"Sporting\",\"life_span\":\"10 - 11 years\",\"temperament\":\"Affectionate, Energetic, Lively, Independent, Playful, Companionable\",\"reference_image_id\":\"S1osGeqVm\"},{\"weight\":{\"imperial\":\"25 - 27\",\"metric\":\"11 - 12\"},\"height\":{\"imperial\":\"18\",\"metric\":\"46\"},\"id\":135,\"name\":\"Irish Terrier\",\"breed_group\":\"Terrier\",\"life_span\":\"12 - 16 years\",\"temperament\":\"Respectful, Lively, Intelligent, Dominant, Protective, Trainable\",\"reference_image_id\":\"By-hGecVX\"},{\"weight\":{\"imperial\":\"105 - 180\",\"metric\":\"48 - 82\"},\"height\":{\"imperial\":\"30 - 35\",\"metric\":\"76 - 89\"},\"id\":137,\"name\":\"Irish Wolfhound\",\"bred_for\":\"Coursing wolves, elk\",\"breed_group\":\"Hound\",\"life_span\":\"6 - 8 years\",\"temperament\":\"Sweet-Tempered, Loyal, Dignified, Patient, Thoughtful, Generous\",\"reference_image_id\":\"Hyd2zgcEX\"},{\"weight\":{\"imperial\":\"7 - 15\",\"metric\":\"3 - 7\"},\"height\":{\"imperial\":\"13 - 15\",\"metric\":\"33 - 38\"},\"id\":138,\"name\":\"Italian Greyhound\",\"bred_for\":\"Lapdog\",\"breed_group\":\"Toy\",\"life_span\":\"12 - 15 years\",\"temperament\":\"Mischievous, Affectionate, Agile, Athletic, Companionable, Intelligent\",\"reference_image_id\":\"SJAnzg9NX\"},{\"weight\":{\"imperial\":\"4 - 9\",\"metric\":\"2 - 4\"},\"height\":{\"imperial\":\"8 - 11\",\"metric\":\"20 - 28\"},\"id\":140,\"name\":\"Japanese Chin\",\"bred_for\":\"Lapdog\",\"breed_group\":\"Toy\",\"life_span\":\"12 - 14 years\",\"temperament\":\"Alert, Loyal, Independent, Intelligent, Loving, Cat-like\",\"reference_image_id\":\"r1H6feqEm\"},{\"weight\":{\"imperial\":\"15 - 19\",\"metric\":\"7 - 9\"},\"height\":{\"imperial\":\"12 - 15\",\"metric\":\"30 - 38\"},\"id\":141,\"name\":\"Japanese Spitz\",\"bred_for\":\"Companion\",\"life_span\":\"10 – 16 years\",\"temperament\":\"Affectionate, Obedient, Playful, Companionable, Intelligent, Proud\",\"reference_image_id\":\"HksaMxqNX\"},{\"weight\":{\"imperial\":\"35 - 45\",\"metric\":\"16 - 20\"},\"height\":{\"imperial\":\"17 - 18\",\"metric\":\"43 - 46\"},\"id\":142,\"name\":\"Keeshond\",\"bred_for\":\"Barge watchdog\",\"breed_group\":\"Non-Sporting\",\"life_span\":\"12 - 15 years\",\"temperament\":\"Agile, Obedient, Playful, Quick, Sturdy, Bright\",\"reference_image_id\":\"S1GAGg9Vm\"},{\"weight\":{\"imperial\":\"80 - 100\",\"metric\":\"36 - 45\"},\"height\":{\"imperial\":\"25.5 - 27.5\",\"metric\":\"65 - 70\"},\"id\":144,\"name\":\"Komondor\",\"bred_for\":\"Sheep guardian\",\"breed_group\":\"Working\",\"life_span\":\"10 - 12 years\",\"temperament\":\"Steady, Fearless, Affectionate, Independent, Gentle, Calm\",\"reference_image_id\":\"Bko0fl547\"},{\"weight\":{\"imperial\":\"20 - 30\",\"metric\":\"9 - 14\"},\"height\":{\"imperial\":\"14 - 16\",\"metric\":\"36 - 41\"},\"id\":145,\"name\":\"Kooikerhondje\",\"bred_for\":\"Luring ducks into traps - \\\\\"tolling\\\\\"\",\"breed_group\":\"Sporting\",\"life_span\":\"12 - 15 years\",\"temperament\":\"Benevolent, Agile, Alert, Intelligent, Active, Territorial\",\"reference_image_id\":\"kOMy84GQE\"},{\"weight\":{\"imperial\":\"70 - 115\",\"metric\":\"32 - 52\"},\"height\":{\"imperial\":\"26 - 30\",\"metric\":\"66 - 76\"},\"id\":147,\"name\":\"Kuvasz\",\"bred_for\":\"Guardian, hunting large game\",\"breed_group\":\"Working\",\"life_span\":\"8 - 10 years\",\"temperament\":\"Clownish, Loyal, Patient, Independent, Intelligent, Protective\",\"reference_image_id\":\"BykZ7ecVX\"},{\"weight\":{\"imperial\":\"55 - 80\",\"metric\":\"25 - 36\"},\"height\":{\"imperial\":\"21.5 - 24.5\",\"metric\":\"55 - 62\"},\"id\":149,\"name\":\"Labrador Retriever\",\"bred_for\":\"Water retrieving\",\"breed_group\":\"Sporting\",\"life_span\":\"10 - 13 years\",\"temperament\":\"Kind, Outgoing, Agile, Gentle, Intelligent, Trusting, Even Tempered\",\"reference_image_id\":\"B1uW7l5VX\"},{\"weight\":{\"imperial\":\"24 - 35\",\"metric\":\"11 - 16\"},\"height\":{\"imperial\":\"16 - 19\",\"metric\":\"41 - 48\"},\"id\":151,\"name\":\"Lagotto Romagnolo\",\"bred_for\":\"Water retrieval dog in the marshes of Romagna\",\"breed_group\":\"Sporting\",\"life_span\":\"14 - 16 years\",\"temperament\":\"Keen, Loyal, Companionable, Loving, Active, Trainable\",\"reference_image_id\":\"ryzzmgqE7\"},{\"weight\":{\"imperial\":\"6 - 13\",\"metric\":\"3 - 6\"},\"height\":{\"imperial\":\"10 - 12\",\"metric\":\"25 - 30\"},\"id\":153,\"name\":\"Lancashire Heeler\",\"bred_for\":\"Cattle herding, Ratting, Driving cattle to market.\",\"life_span\":\"12 – 15 years\",\"temperament\":\"Clever, Friendly, Alert, Intelligent\",\"reference_image_id\":\"S1RGml5Em\"},{\"weight\":{\"imperial\":\"120 - 170\",\"metric\":\"54 - 77\"},\"height\":{\"imperial\":\"25.5 - 31.5\",\"metric\":\"65 - 80\"},\"id\":155,\"name\":\"Leonberger\",\"bred_for\":\"Guardian, appearance.\",\"breed_group\":\"Working\",\"life_span\":\"6 - 8 years\",\"temperament\":\"Obedient, Fearless, Loyal, Companionable, Adaptable, Loving\",\"reference_image_id\":\"ByrmQlqVm\"},{\"weight\":{\"imperial\":\"12 - 18\",\"metric\":\"5 - 8\"},\"height\":{\"imperial\":\"10 - 11\",\"metric\":\"25 - 28\"},\"id\":156,\"name\":\"Lhasa Apso\",\"bred_for\":\"Guarding inside the home, companion\",\"breed_group\":\"Non-Sporting\",\"life_span\":\"12 - 15 years\",\"temperament\":\"Steady, Fearless, Friendly, Devoted, Assertive, Spirited, Energetic, Lively, Alert, Obedient, Playful, Intelligent\",\"reference_image_id\":\"SJp7Qe5EX\"},{\"weight\":{\"imperial\":\"4 - 7\",\"metric\":\"2 - 3\"},\"height\":{\"imperial\":\"8 - 10\",\"metric\":\"20 - 25\"},\"id\":161,\"name\":\"Maltese\",\"bred_for\":\"Lapdog\",\"breed_group\":\"Toy\",\"life_span\":\"15 - 18 years\",\"temperament\":\"Playful, Docile, Fearless, Affectionate, Sweet-Tempered, Lively, Responsive, Easygoing, Gentle, Intelligent, Active\",\"reference_image_id\":\"B1SV7gqN7\"},{\"weight\":{\"imperial\":\"20 - 40\",\"metric\":\"9 - 18\"},\"height\":{\"imperial\":\"13 - 18\",\"metric\":\"33 - 46\"},\"id\":165,\"name\":\"Miniature American Shepherd\",\"breed_group\":\"Herding\",\"life_span\":\"12 - 15 years\",\"temperament\":\"Energetic, Loyal, Intelligent, Trainable\",\"reference_image_id\":\"BkHHQgcN7\"},{\"weight\":{\"imperial\":\"8 - 11\",\"metric\":\"4 - 5\"},\"height\":{\"imperial\":\"10 - 12.5\",\"metric\":\"25 - 32\"},\"id\":167,\"name\":\"Miniature Pinscher\",\"bred_for\":\"Small vermin hunting\",\"breed_group\":\"Toy\",\"life_span\":\"15 years\",\"temperament\":\"Clever, Outgoing, Friendly, Energetic, Responsive, Playful\",\"reference_image_id\":\"Hy3H7g94X\"},{\"weight\":{\"imperial\":\"11 - 20\",\"metric\":\"5 - 9\"},\"height\":{\"imperial\":\"12 - 14\",\"metric\":\"30 - 36\"},\"id\":168,\"name\":\"Miniature Schnauzer\",\"bred_for\":\"Ratting\",\"breed_group\":\"Terrier\",\"life_span\":\"12 - 14 years\",\"temperament\":\"Fearless, Friendly, Spirited, Alert, Obedient, Intelligent\",\"reference_image_id\":\"SJIUQl9NX\"},{\"weight\":{\"imperial\":\"100 - 150\",\"metric\":\"45 - 68\"},\"height\":{\"imperial\":\"26 - 28\",\"metric\":\"66 - 71\"},\"id\":171,\"name\":\"Newfoundland\",\"bred_for\":\"All purpose water dog, fishing aid\",\"breed_group\":\"Working\",\"life_span\":\"8 - 10 years\",\"temperament\":\"Sweet-Tempered, Gentle, Trainable\",\"reference_image_id\":\"Sk4DXl54m\"},{\"weight\":{\"imperial\":\"11 - 12\",\"metric\":\"5 - 5\"},\"height\":{\"imperial\":\"9 - 10\",\"metric\":\"23 - 25\"},\"id\":172,\"name\":\"Norfolk Terrier\",\"bred_for\":\"Ratting, fox bolting\",\"breed_group\":\"Terrier\",\"life_span\":\"12 - 15 years\",\"temperament\":\"Self-confidence, Fearless, Spirited, Companionable, Happy, Lovable\",\"reference_image_id\":\"B1ADQg94X\"},{\"weight\":{\"imperial\":\"11 - 12\",\"metric\":\"5 - 5\"},\"height\":{\"imperial\":\"10\",\"metric\":\"25\"},\"id\":176,\"name\":\"Norwich Terrier\",\"bred_for\":\"Ratting, fox bolting\",\"breed_group\":\"Terrier\",\"life_span\":\"12 - 15 years\",\"temperament\":\"Hardy, Affectionate, Energetic, Sensitive, Intelligent\",\"reference_image_id\":\"BkgKXlqE7\"},{\"weight\":{\"imperial\":\"35 - 50\",\"metric\":\"16 - 23\"},\"height\":{\"imperial\":\"17 - 21\",\"metric\":\"43 - 53\"},\"id\":177,\"name\":\"Nova Scotia Duck Tolling Retriever\",\"breed_group\":\"Sporting\",\"life_span\":\"12 - 14 years\",\"temperament\":\"Outgoing, Alert, Patient, Intelligent, Loving\",\"reference_image_id\":\"SyYtQe5V7\"},{\"weight\":{\"imperial\":\"60 - 100\",\"metric\":\"27 - 45\"},\"height\":{\"imperial\":\"21\",\"metric\":\"53\"},\"id\":178,\"name\":\"Old English Sheepdog\",\"bred_for\":\"Driving sheep, cattle\",\"breed_group\":\"Herding\",\"life_span\":\"10 - 12 years\",\"temperament\":\"Sociable, Bubbly, Playful, Adaptable, Intelligent, Loving\",\"reference_image_id\":\"HkZ57lq4m\"},{\"weight\":{\"imperial\":\"65 – 85\",\"metric\":\"NaN\"},\"height\":{\"imperial\":\"15 - 19\",\"metric\":\"38 - 48\"},\"id\":179,\"name\":\"Olde English Bulldogge\",\"life_span\":\"9 – 14 years\",\"temperament\":\"Friendly, Alert, Confident, Loving, Courageous, Strong\",\"reference_image_id\":\"B1d5me547\"},{\"weight\":{\"imperial\":\"3 - 12\",\"metric\":\"1 - 5\"},\"height\":{\"imperial\":\"8 - 11\",\"metric\":\"20 - 28\"},\"id\":181,\"name\":\"Papillon\",\"bred_for\":\"Lapdog\",\"breed_group\":\"Toy\",\"life_span\":\"13 - 17 years\",\"temperament\":\"Hardy, Friendly, Energetic, Alert, Intelligent, Happy\",\"reference_image_id\":\"SkJj7e547\"},{\"weight\":{\"imperial\":\"14\",\"metric\":\"6\"},\"height\":{\"imperial\":\"6 - 9\",\"metric\":\"15 - 23\"},\"id\":183,\"name\":\"Pekingese\",\"bred_for\":\"Lapdog\",\"breed_group\":\"Toy\",\"life_span\":\"14 - 18 years\",\"temperament\":\"Opinionated, Good-natured, Stubborn, Affectionate, Aggressive, Intelligent\",\"reference_image_id\":\"ByIiml9Nm\"},{\"weight\":{\"imperial\":\"25 - 30\",\"metric\":\"11 - 14\"},\"height\":{\"imperial\":\"10 - 12\",\"metric\":\"25 - 30\"},\"id\":184,\"name\":\"Pembroke Welsh Corgi\",\"bred_for\":\"Driving stock to market in northern Wales\",\"breed_group\":\"Herding\",\"life_span\":\"12 - 14 years\",\"temperament\":\"Tenacious, Outgoing, Friendly, Bold, Playful, Protective\",\"reference_image_id\":\"rJ6iQeqEm\"},{\"weight\":{\"imperial\":\"88 - 110\",\"metric\":\"40 - 50\"},\"height\":{\"imperial\":\"22 - 25.5\",\"metric\":\"56 - 65\"},\"id\":185,\"name\":\"Perro de Presa Canario\",\"breed_group\":\"Working\",\"life_span\":\"10 - 12 years\",\"temperament\":\"Strong Willed, Suspicious, Gentle, Dominant, Calm\",\"reference_image_id\":\"S1V3Qeq4X\"},{\"weight\":{\"imperial\":\"40 - 60\",\"metric\":\"18 - 27\"},\"height\":{\"imperial\":\"21 - 25\",\"metric\":\"53 - 64\"},\"id\":188,\"name\":\"Pharaoh Hound\",\"bred_for\":\"Hunting rabbits\",\"breed_group\":\"Hound\",\"life_span\":\"12 - 14 years\",\"temperament\":\"Affectionate, Sociable, Playful, Intelligent, Active, Trainable\",\"reference_image_id\":\"Byz6mgqEQ\"},{\"weight\":{\"imperial\":\"40 - 60\",\"metric\":\"18 - 27\"},\"height\":{\"imperial\":\"20 - 25\",\"metric\":\"51 - 64\"},\"id\":189,\"name\":\"Plott\",\"bred_for\":\"Hunting big-game like Boar.\",\"breed_group\":\"Hound\",\"life_span\":\"12 - 14 years\",\"temperament\":\"Bold, Alert, Loyal, Intelligent\",\"reference_image_id\":\"B1i67l5VQ\"},{\"weight\":{\"imperial\":\"3 - 7\",\"metric\":\"1 - 3\"},\"height\":{\"imperial\":\"8 - 12\",\"metric\":\"20 - 30\"},\"id\":193,\"name\":\"Pomeranian\",\"bred_for\":\"Companion\",\"breed_group\":\"Toy\",\"life_span\":\"15 years\",\"temperament\":\"Extroverted, Friendly, Sociable, Playful, Intelligent, Active\",\"reference_image_id\":\"HJd0XecNX\"},{\"weight\":{\"imperial\":\"15 - 17\",\"metric\":\"7 - 8\"},\"height\":{\"imperial\":\"11 - 15\",\"metric\":\"28 - 38\"},\"id\":196,\"name\":\"Poodle (Miniature)\",\"life_span\":\"12 – 15 years\",\"reference_image_id\":\"Hkxk4ecVX\"},{\"weight\":{\"imperial\":\"6 - 9\",\"metric\":\"3 - 4\"},\"height\":{\"imperial\":\"9 - 11\",\"metric\":\"23 - 28\"},\"id\":197,\"name\":\"Poodle (Toy)\",\"life_span\":\"18 years\",\"reference_image_id\":\"rJFJVxc4m\"},{\"weight\":{\"imperial\":\"14 - 18\",\"metric\":\"6 - 8\"},\"height\":{\"imperial\":\"10 - 12\",\"metric\":\"25 - 30\"},\"id\":201,\"name\":\"Pug\",\"bred_for\":\"Lapdog\",\"breed_group\":\"Toy\",\"life_span\":\"12 - 14 years\",\"temperament\":\"Docile, Clever, Charming, Stubborn, Sociable, Playful, Quiet, Attentive\",\"reference_image_id\":\"HyJvcl9N7\"},{\"weight\":{\"imperial\":\"25 - 35\",\"metric\":\"11 - 16\"},\"height\":{\"imperial\":\"16 - 17\",\"metric\":\"41 - 43\"},\"id\":204,\"name\":\"Puli\",\"bred_for\":\"Herding\",\"breed_group\":\"Herding\",\"life_span\":\"12 - 16 Years years\",\"temperament\":\"Energetic, Agile, Loyal, Obedient, Intelligent, Faithful\",\"reference_image_id\":\"ryPgVl5N7\"},{\"weight\":{\"imperial\":\"18 - 33\",\"metric\":\"8 - 15\"},\"height\":{\"imperial\":\"15 - 18.5\",\"metric\":\"38 - 47\"},\"id\":205,\"name\":\"Pumi\",\"breed_group\":\"Herding\",\"life_span\":\"13 - 15 years\",\"temperament\":\"Lively, Reserved, Intelligent, Active, Protective, Vocal\",\"reference_image_id\":\"SyRe4xcN7\"},{\"weight\":{\"imperial\":\"8 - 25\",\"metric\":\"4 - 11\"},\"height\":{\"imperial\":\"10 - 13\",\"metric\":\"25 - 33\"},\"id\":207,\"name\":\"Rat Terrier\",\"breed_group\":\"Terrier\",\"life_span\":\"12 - 18 years\",\"temperament\":\"Affectionate, Lively, Inquisitive, Alert, Intelligent, Loving\",\"reference_image_id\":\"HkXWNl9E7\"},{\"weight\":{\"imperial\":\"45 - 80\",\"metric\":\"20 - 36\"},\"height\":{\"imperial\":\"21 - 27\",\"metric\":\"53 - 69\"},\"id\":208,\"name\":\"Redbone Coonhound\",\"bred_for\":\"Hunting raccoon, deer, bear, and cougar.\",\"breed_group\":\"Hound\",\"life_span\":\"10 - 12 years\",\"temperament\":\"Affectionate, Energetic, Independent, Companionable, Familial, Unflappable\",\"reference_image_id\":\"HJMzEl5N7\"},{\"weight\":{\"imperial\":\"75 - 80\",\"metric\":\"34 - 36\"},\"height\":{\"imperial\":\"24 - 27\",\"metric\":\"61 - 69\"},\"id\":209,\"name\":\"Rhodesian Ridgeback\",\"bred_for\":\"Big game hunting, guarding\",\"breed_group\":\"Hound\",\"life_span\":\"10 - 12 years\",\"temperament\":\"Strong Willed, Mischievous, Loyal, Dignified, Sensitive, Intelligent\",\"reference_image_id\":\"By9zNgqE7\"},{\"weight\":{\"imperial\":\"75 - 110\",\"metric\":\"34 - 50\"},\"height\":{\"imperial\":\"22 - 27\",\"metric\":\"56 - 69\"},\"id\":210,\"name\":\"Rottweiler\",\"bred_for\":\"Cattle drover, guardian, draft\",\"breed_group\":\"Working\",\"life_span\":\"8 - 10 years\",\"temperament\":\"Steady, Good-natured, Fearless, Devoted, Alert, Obedient, Confident, Self-assured, Calm, Courageous\",\"reference_image_id\":\"r1xXEgcNX\"},{\"weight\":{\"imperial\":\"3 - 6\",\"metric\":\"1 - 3\"},\"height\":{\"imperial\":\"7.5 - 10.5\",\"metric\":\"19 - 27\"},\"id\":211,\"name\":\"Russian Toy\",\"breed_group\":\"Toy\",\"life_span\":\"10 - 12 years\",\"reference_image_id\":\"HkP7Vxc4Q\"},{\"weight\":{\"imperial\":\"130 - 180\",\"metric\":\"59 - 82\"},\"height\":{\"imperial\":\"25.5 - 27.5\",\"metric\":\"65 - 70\"},\"id\":212,\"name\":\"Saint Bernard\",\"bred_for\":\"Draft, search, rescue\",\"breed_group\":\"Working\",\"life_span\":\"7 - 10 years\",\"temperament\":\"Friendly, Lively, Gentle, Watchful, Calm\",\"reference_image_id\":\"_Qf9nfRzL\"},{\"weight\":{\"imperial\":\"35 - 65\",\"metric\":\"16 - 29\"},\"height\":{\"imperial\":\"23 - 28\",\"metric\":\"58 - 71\"},\"id\":213,\"name\":\"Saluki\",\"bred_for\":\"Coursing gazelle and hare\",\"breed_group\":\"Hound\",\"life_span\":\"12 - 14 years\",\"temperament\":\"Aloof, Reserved, Intelligent, Quiet\",\"reference_image_id\":\"fjFIuehNo\"},{\"weight\":{\"imperial\":\"50 - 60\",\"metric\":\"23 - 27\"},\"height\":{\"imperial\":\"19 - 23.5\",\"metric\":\"48 - 60\"},\"id\":214,\"name\":\"Samoyed\",\"bred_for\":\"Herding reindeer, guardian, draft\",\"breed_group\":\"Working\",\"life_span\":\"12 - 14 years\",\"temperament\":\"Stubborn, Friendly, Sociable, Lively, Alert, Playful\",\"reference_image_id\":\"S1T8Ee9Nm\"},{\"weight\":{\"imperial\":\"10 - 16\",\"metric\":\"5 - 7\"},\"height\":{\"imperial\":\"10 - 13\",\"metric\":\"25 - 33\"},\"id\":216,\"name\":\"Schipperke\",\"bred_for\":\"Barge watchdog\",\"breed_group\":\"Non-Sporting\",\"life_span\":\"13 - 15 years\",\"temperament\":\"Fearless, Agile, Curious, Independent, Confident, Faithful\",\"reference_image_id\":\"SyBvVgc47\"},{\"weight\":{\"imperial\":\"70 - 130\",\"metric\":\"32 - 59\"},\"height\":{\"imperial\":\"28 - 32\",\"metric\":\"71 - 81\"},\"id\":218,\"name\":\"Scottish Deerhound\",\"bred_for\":\"Coursing deer\",\"breed_group\":\"Hound\",\"life_span\":\"8 - 10 years\",\"temperament\":\"Docile, Friendly, Dignified, Gentle\",\"reference_image_id\":\"SkNjqx9NQ\"},{\"weight\":{\"imperial\":\"18 - 22\",\"metric\":\"8 - 10\"},\"height\":{\"imperial\":\"10\",\"metric\":\"25\"},\"id\":219,\"name\":\"Scottish Terrier\",\"bred_for\":\"Vermin hunting\",\"breed_group\":\"Terrier\",\"life_span\":\"11 - 13 years\",\"temperament\":\"Feisty, Alert, Independent, Playful, Quick, Self-assured\",\"reference_image_id\":\"Bklnce5NX\"},{\"weight\":{\"imperial\":\"30\",\"metric\":\"14\"},\"height\":{\"imperial\":\"13 - 16\",\"metric\":\"33 - 41\"},\"id\":221,\"name\":\"Shetland Sheepdog\",\"bred_for\":\"Sheep herding\",\"breed_group\":\"Herding\",\"life_span\":\"12 - 14 years\",\"temperament\":\"Affectionate, Lively, Responsive, Alert, Loyal, Reserved, Playful, Gentle, Intelligent, Active, Trainable, Strong\",\"reference_image_id\":\"rJa29l9E7\"},{\"weight\":{\"imperial\":\"17 - 23\",\"metric\":\"8 - 10\"},\"height\":{\"imperial\":\"13.5 - 16.5\",\"metric\":\"34 - 42\"},\"id\":222,\"name\":\"Shiba Inu\",\"bred_for\":\"Hunting in the mountains of Japan, Alert Watchdog\",\"breed_group\":\"Non-Sporting\",\"life_span\":\"12 - 16 years\",\"temperament\":\"Charming, Fearless, Keen, Alert, Confident, Faithful\",\"reference_image_id\":\"Zn3IjPX3f\"},{\"weight\":{\"imperial\":\"9 - 16\",\"metric\":\"4 - 7\"},\"height\":{\"imperial\":\"8 - 11\",\"metric\":\"20 - 28\"},\"id\":223,\"name\":\"Shih Tzu\",\"bred_for\":\"Lapdog\",\"breed_group\":\"Toy\",\"life_span\":\"10 - 18 years\",\"temperament\":\"Clever, Spunky, Outgoing, Friendly, Affectionate, Lively, Alert, Loyal, Independent, Playful, Gentle, Intelligent, Happy, Active, Courageous\",\"reference_image_id\":\"BkrJjgcV7\"},{\"weight\":{\"imperial\":\"120 - 140\",\"metric\":\"54 - 64\"},\"height\":{\"imperial\":\"26 - 30\",\"metric\":\"66 - 76\"},\"id\":225,\"name\":\"Shiloh Shepherd\",\"bred_for\":\"Swimming, Carrying backpacks, Pulling carts or sleds\",\"life_span\":\"9 – 14 years\",\"temperament\":\"Outgoing, Loyal, Companionable, Gentle, Loving, Trainable\",\"reference_image_id\":\"SJJxjecEX\"},{\"weight\":{\"imperial\":\"35 - 60\",\"metric\":\"16 - 27\"},\"height\":{\"imperial\":\"20 - 23.5\",\"metric\":\"51 - 60\"},\"id\":226,\"name\":\"Siberian Husky\",\"bred_for\":\"Sled pulling\",\"breed_group\":\"Working\",\"life_span\":\"12 years\",\"temperament\":\"Outgoing, Friendly, Alert, Gentle, Intelligent\",\"reference_image_id\":\"S17ZilqNm\"},{\"weight\":{\"imperial\":\"8 - 10\",\"metric\":\"4 - 5\"},\"height\":{\"imperial\":\"9 - 10\",\"metric\":\"23 - 25\"},\"id\":228,\"name\":\"Silky Terrier\",\"bred_for\":\"Small vermin hunting, companionship\",\"breed_group\":\"Toy\",\"life_span\":\"12 - 15 years\",\"temperament\":\"Friendly, Responsive, Inquisitive, Alert, Quick, Joyful\",\"reference_image_id\":\"ByzGsl5Nm\"},{\"weight\":{\"imperial\":\"up - 18\",\"metric\":\"NaN - 8\"},\"height\":{\"imperial\":\"15.5\",\"metric\":\"39\"},\"id\":232,\"name\":\"Smooth Fox Terrier\",\"bred_for\":\"Fox bolting\",\"breed_group\":\"Terrier\",\"life_span\":\"12 - 14 years\",\"temperament\":\"Fearless, Affectionate, Alert, Playful, Intelligent, Active\",\"reference_image_id\":\"Syszjx9Em\"},{\"weight\":{\"imperial\":\"30 - 40\",\"metric\":\"14 - 18\"},\"height\":{\"imperial\":\"16 - 18\",\"metric\":\"41 - 46\"},\"id\":233,\"name\":\"Soft Coated Wheaten Terrier\",\"bred_for\":\"Vermin hunting, guarding, all-around farm helper\",\"breed_group\":\"Terrier\",\"life_span\":\"12 - 15 years\",\"temperament\":\"Affectionate, Spirited, Energetic, Playful, Intelligent, Faithful\",\"reference_image_id\":\"HJHmix5NQ\"},{\"weight\":{\"imperial\":\"30 - 50\",\"metric\":\"14 - 23\"},\"height\":{\"imperial\":\"16 - 20\",\"metric\":\"41 - 51\"},\"id\":235,\"name\":\"Spanish Water Dog\",\"bred_for\":\"Herding flocks of sheep and goats from one pasture to another\",\"breed_group\":\"Sporting\",\"life_span\":\"12 - 15 years\",\"temperament\":\"Trainable, Diligent, Affectionate, Loyal, Athletic, Intelligent\",\"reference_image_id\":\"HJf4jl9VX\"},{\"weight\":{\"imperial\":\"61 - 85\",\"metric\":\"28 - 39\"},\"height\":{\"imperial\":\"22.5 - 27.5\",\"metric\":\"57 - 70\"},\"id\":236,\"name\":\"Spinone Italiano\",\"breed_group\":\"Sporting\",\"life_span\":\"10 - 12 years\",\"temperament\":\"Docile, Friendly, Affectionate, Loyal, Patient, Gentle\",\"reference_image_id\":\"rk5Eoe5Nm\"},{\"weight\":{\"imperial\":\"24 - 38\",\"metric\":\"11 - 17\"},\"height\":{\"imperial\":\"14 - 16\",\"metric\":\"36 - 41\"},\"id\":238,\"name\":\"Staffordshire Bull Terrier\",\"bred_for\":\"\",\"breed_group\":\"Terrier\",\"life_span\":\"12 - 14 years\",\"temperament\":\"Reliable, Fearless, Bold, Affectionate, Loyal, Intelligent, Courageous\",\"reference_image_id\":\"H1zSie9V7\"},{\"weight\":{\"imperial\":\"30 - 50\",\"metric\":\"14 - 23\"},\"height\":{\"imperial\":\"17.5 - 19.5\",\"metric\":\"44 - 50\"},\"id\":239,\"name\":\"Standard Schnauzer\",\"bred_for\":\"Ratting, guarding\",\"breed_group\":\"Working\",\"life_span\":\"13 - 15 years\",\"temperament\":\"Trainable, Good-natured, Devoted, Lively, Playful, Intelligent\",\"reference_image_id\":\"tmzeu6ID_\"},{\"weight\":{\"imperial\":\"20 - 30\",\"metric\":\"9 - 14\"},\"height\":{\"imperial\":\"11.5 - 13.5\",\"metric\":\"29 - 34\"},\"id\":242,\"name\":\"Swedish Vallhund\",\"breed_group\":\"Herding\",\"life_span\":\"12 - 14 years\",\"temperament\":\"Fearless, Friendly, Energetic, Alert, Intelligent, Watchful\",\"reference_image_id\":\"HJ-Dix94Q\"},{\"weight\":{\"imperial\":\"35 - 55\",\"metric\":\"16 - 25\"},\"height\":{\"imperial\":\"20 - 24\",\"metric\":\"51 - 61\"},\"id\":243,\"name\":\"Thai Ridgeback\",\"breed_group\":\"Hound\",\"life_span\":\"10 - 12 years\",\"temperament\":\"Protective, Loyal, Independent, Intelligent, Loving, Familial\",\"reference_image_id\":\"zv89hR-O8\"},{\"weight\":{\"imperial\":\"85 - 140\",\"metric\":\"39 - 64\"},\"height\":{\"imperial\":\"24 - 26\",\"metric\":\"61 - 66\"},\"id\":244,\"name\":\"Tibetan Mastiff\",\"breed_group\":\"Working\",\"life_span\":\"10 - 14 years\",\"temperament\":\"Strong Willed, Tenacious, Aloof, Stubborn, Intelligent, Protective\",\"reference_image_id\":\"SkM9sec47\"},{\"weight\":{\"imperial\":\"9 - 15\",\"metric\":\"4 - 7\"},\"height\":{\"imperial\":\"10\",\"metric\":\"25\"},\"id\":245,\"name\":\"Tibetan Spaniel\",\"breed_group\":\"Non-Sporting\",\"life_span\":\"12 - 15 years\",\"temperament\":\"Willful, Aloof, Assertive, Independent, Playful, Intelligent, Happy\",\"reference_image_id\":\"Hyjcol947\"},{\"weight\":{\"imperial\":\"20 - 24\",\"metric\":\"9 - 11\"},\"height\":{\"imperial\":\"14 - 17\",\"metric\":\"36 - 43\"},\"id\":246,\"name\":\"Tibetan Terrier\",\"bred_for\":\"Good luck charms, mascots, watchdogs, herding dogs, and companions\",\"breed_group\":\"Non-Sporting\",\"life_span\":\"12 - 15 years\",\"temperament\":\"Affectionate, Energetic, Amiable, Reserved, Gentle, Sensitive\",\"reference_image_id\":\"6f5n_42mB\"},{\"weight\":{\"imperial\":\"4 - 9\",\"metric\":\"2 - 4\"},\"height\":{\"imperial\":\"8 - 11\",\"metric\":\"20 - 28\"},\"id\":248,\"name\":\"Toy Fox Terrier\",\"breed_group\":\"Toy\",\"life_span\":\"12 - 15 years\",\"temperament\":\"Friendly, Spirited, Alert, Loyal, Playful, Intelligent\",\"reference_image_id\":\"B17ase9V7\"},{\"weight\":{\"imperial\":\"45 - 80\",\"metric\":\"20 - 36\"},\"height\":{\"imperial\":\"20 - 27\",\"metric\":\"51 - 69\"},\"id\":250,\"name\":\"Treeing Walker Coonhound\",\"breed_group\":\"Hound\",\"life_span\":\"10 - 13 years\",\"temperament\":\"Clever, Affectionate, Confident, Intelligent, Loving, Trainable\",\"reference_image_id\":\"SkRpsgc47\"},{\"weight\":{\"imperial\":\"50 - 65\",\"metric\":\"23 - 29\"},\"height\":{\"imperial\":\"21 - 24\",\"metric\":\"53 - 61\"},\"id\":251,\"name\":\"Vizsla\",\"bred_for\":\"Pointing and trailing\",\"breed_group\":\"Sporting\",\"life_span\":\"10 - 14 years\",\"temperament\":\"Affectionate, Energetic, Loyal, Gentle, Quiet\",\"reference_image_id\":\"r1o0jx9Em\"},{\"weight\":{\"imperial\":\"55 - 90\",\"metric\":\"25 - 41\"},\"height\":{\"imperial\":\"23 - 27\",\"metric\":\"58 - 69\"},\"id\":253,\"name\":\"Weimaraner\",\"bred_for\":\"Large game trailing and versatile gundog\",\"breed_group\":\"Sporting\",\"life_span\":\"12 - 15 years\",\"temperament\":\"Steady, Aloof, Stubborn, Energetic, Alert, Intelligent, Powerful, Fast\",\"reference_image_id\":\"SyU12l9V7\"},{\"weight\":{\"imperial\":\"35 - 55\",\"metric\":\"16 - 25\"},\"height\":{\"imperial\":\"17 - 19\",\"metric\":\"43 - 48\"},\"id\":254,\"name\":\"Welsh Springer Spaniel\",\"bred_for\":\"Flushing and retrieving birds\",\"breed_group\":\"Sporting\",\"life_span\":\"12 - 15 years\",\"temperament\":\"Stubborn, Friendly, Affectionate, Loyal, Playful, Active\",\"reference_image_id\":\"BJ1gnx5Vm\"},{\"weight\":{\"imperial\":\"15 - 22\",\"metric\":\"7 - 10\"},\"height\":{\"imperial\":\"10 - 11\",\"metric\":\"25 - 28\"},\"id\":256,\"name\":\"West Highland White Terrier\",\"bred_for\":\"Fox, badger, vermin hunting\",\"breed_group\":\"Terrier\",\"life_span\":\"15 - 20 years\",\"temperament\":\"Hardy, Friendly, Alert, Independent, Gay, Active, Courageous\",\"reference_image_id\":\"Bkdx2g5Em\"},{\"weight\":{\"imperial\":\"25 - 35\",\"metric\":\"11 - 16\"},\"height\":{\"imperial\":\"18 - 22\",\"metric\":\"46 - 56\"},\"id\":257,\"name\":\"Whippet\",\"bred_for\":\"Coursing, racing\",\"breed_group\":\"Hound\",\"life_span\":\"12 - 15 years\",\"temperament\":\"Friendly, Affectionate, Lively, Gentle, Intelligent, Quiet\",\"reference_image_id\":\"Hyv-ne94m\"},{\"weight\":{\"imperial\":\"60 - 85\",\"metric\":\"27 - 39\"},\"height\":{\"imperial\":\"22 - 25\",\"metric\":\"56 - 64\"},\"id\":258,\"name\":\"White Shepherd\",\"life_span\":\"12 – 14 years\",\"temperament\":\"Self-confidence, Aloof, Fearless, Alert, Companionable, Eager\",\"reference_image_id\":\"r14M3e9E7\"},{\"weight\":{\"imperial\":\"15 - 19\",\"metric\":\"7 - 9\"},\"height\":{\"imperial\":\"13 - 16\",\"metric\":\"33 - 41\"},\"id\":259,\"name\":\"Wire Fox Terrier\",\"bred_for\":\"Vermin hunting, fox bolting\",\"life_span\":\"13 – 14 years\",\"history\":\" England\",\"temperament\":\"Fearless, Friendly, Bold, Keen, Alert, Quick\",\"reference_image_id\":\"SJ6f2g9EQ\"},{\"weight\":{\"imperial\":\"45 - 70\",\"metric\":\"20 - 32\"},\"height\":{\"imperial\":\"20 - 24\",\"metric\":\"51 - 61\"},\"id\":260,\"name\":\"Wirehaired Pointing Griffon\",\"bred_for\":\"Gundog, \\\\\"swamp-tromping\\\\\", Flushing, pointing, and retrieving water fowl & game birds\",\"breed_group\":\"Sporting\",\"life_span\":\"12 - 14 years\",\"temperament\":\"Loyal, Gentle, Vigilant, Trainable, Proud\",\"reference_image_id\":\"Bkam2l9Vm\"},{\"weight\":{\"imperial\":\"45 - 65\",\"metric\":\"20 - 29\"},\"height\":{\"imperial\":\"21.5 - 25\",\"metric\":\"55 - 64\"},\"id\":261,\"name\":\"Wirehaired Vizsla\",\"breed_group\":\"Sporting\",\"life_span\":\"12 - 14 years\",\"reference_image_id\":\"r1I4hl5Em\"},{\"weight\":{\"imperial\":\"9 - 31\",\"metric\":\"4 - 14\"},\"height\":{\"imperial\":\"10 - 23\",\"metric\":\"25 - 58\"},\"id\":262,\"name\":\"Xoloitzcuintli\",\"breed_group\":\"Non-Sporting\",\"life_span\":\"12 - 14 years\",\"temperament\":\"Cheerful, Alert, Companionable, Intelligent, Protective, Calm\",\"reference_image_id\":\"HkNS3gqEm\"},{\"weight\":{\"imperial\":\"4 - 7\",\"metric\":\"2 - 3\"},\"height\":{\"imperial\":\"8 - 9\",\"metric\":\"20 - 23\"},\"id\":264,\"name\":\"Yorkshire Terrier\",\"bred_for\":\"Small vermin hunting\",\"breed_group\":\"Toy\",\"life_span\":\"12 - 16 years\",\"temperament\":\"Bold, Independent, Confident, Intelligent, Courageous\",\"reference_image_id\":\"B12BnxcVQ\"}]'"
      ]
     },
     "execution_count": 13,
     "metadata": {},
     "output_type": "execute_result"
    }
   ],
   "source": [
    "response = requests.get(\"https://api.thedogapi.com/v1/breeds\")\n",
    "response.text"
   ]
  },
  {
   "cell_type": "code",
   "execution_count": 14,
   "metadata": {},
   "outputs": [
    {
     "data": {
      "text/plain": [
       "{'User-Agent': 'python-requests/2.31.0', 'Accept-Encoding': 'gzip, deflate, br', 'Accept': '*/*', 'Connection': 'keep-alive'}"
      ]
     },
     "execution_count": 14,
     "metadata": {},
     "output_type": "execute_result"
    }
   ],
   "source": [
    "response = requests.get(\"https://api.thecatapi.com/v1/breeds\")\n",
    "response\n",
    "response.status_code\n",
    "response.text\n",
    "response.headers\n",
    "response.request\n",
    "request = response.request\n",
    "request.path_url\n",
    "request.method\n",
    "request.headers"
   ]
  },
  {
   "cell_type": "code",
   "execution_count": 15,
   "metadata": {},
   "outputs": [
    {
     "data": {
      "text/plain": [
       "'OK'"
      ]
     },
     "execution_count": 15,
     "metadata": {},
     "output_type": "execute_result"
    }
   ],
   "source": [
    "response = requests.get(\"https://api.thecatapi.com/v1/breeds\")\n",
    "response\n",
    "response.status_code\n",
    "response.reason"
   ]
  },
  {
   "cell_type": "code",
   "execution_count": 16,
   "metadata": {},
   "outputs": [
    {
     "data": {
      "text/plain": [
       "'Not Found'"
      ]
     },
     "execution_count": 16,
     "metadata": {},
     "output_type": "execute_result"
    }
   ],
   "source": [
    "response = requests.get(\"https://api.thecatapi.com/v1/breedz\")\n",
    "response\n",
    "response.status_code\n",
    "response.reason"
   ]
  },
  {
   "cell_type": "code",
   "execution_count": 17,
   "metadata": {},
   "outputs": [
    {
     "data": {
      "text/plain": [
       "{'x-dns-prefetch-control': 'off', 'x-frame-options': 'SAMEORIGIN', 'strict-transport-security': 'max-age=15552000; includeSubDomains', 'x-download-options': 'noopen', 'x-content-type-options': 'nosniff', 'x-xss-protection': '1; mode=block', 'vary': 'Origin', 'content-type': 'application/json; charset=utf-8', 'x-response-time': '1ms', 'X-Cloud-Trace-Context': '56a6a30a827a51246816e55279ccaed6', 'Date': 'Fri, 26 Jan 2024 14:10:26 GMT', 'Server': 'Google Frontend', 'Content-Length': '1041'}"
      ]
     },
     "execution_count": 17,
     "metadata": {},
     "output_type": "execute_result"
    }
   ],
   "source": [
    "response = requests.get(\"https://api.thecatapi.com/v1/breeds/abys\")\n",
    "response.headers"
   ]
  },
  {
   "cell_type": "code",
   "execution_count": 18,
   "metadata": {},
   "outputs": [
    {
     "data": {
      "text/plain": [
       "{'User-Agent': 'python-requests/2.31.0', 'Accept-Encoding': 'gzip, deflate, br', 'Accept': '*/*', 'Connection': 'keep-alive'}"
      ]
     },
     "execution_count": 18,
     "metadata": {},
     "output_type": "execute_result"
    }
   ],
   "source": [
    "response = requests.get(\"https://api.thecatapi.com/v1/breeds/abys\")\n",
    "response.request.headers"
   ]
  },
  {
   "cell_type": "code",
   "execution_count": 19,
   "metadata": {},
   "outputs": [
    {
     "data": {
      "text/plain": [
       "{'User-Agent': 'python-requests/2.31.0', 'Accept-Encoding': 'gzip, deflate, br', 'Accept': '*/*', 'Connection': 'keep-alive', 'X-Request-Id': '<my-request-id>'}"
      ]
     },
     "execution_count": 19,
     "metadata": {},
     "output_type": "execute_result"
    }
   ],
   "source": [
    "headers = {\"X-Request-Id\": \"<my-request-id>\"}\n",
    "response = requests.get(\"https://example.org\", headers=headers)\n",
    "response.request.headers"
   ]
  },
  {
   "cell_type": "code",
   "execution_count": 20,
   "metadata": {},
   "outputs": [
    {
     "data": {
      "text/plain": [
       "'application/json; charset=utf-8'"
      ]
     },
     "execution_count": 20,
     "metadata": {},
     "output_type": "execute_result"
    }
   ],
   "source": [
    "response = requests.get(\"https://api.thecatapi.com/v1/breeds/abys\")\n",
    "response.headers.get(\"Content-Type\")"
   ]
  },
  {
   "cell_type": "code",
   "execution_count": 21,
   "metadata": {},
   "outputs": [
    {
     "data": {
      "text/plain": [
       "'image/png'"
      ]
     },
     "execution_count": 21,
     "metadata": {},
     "output_type": "execute_result"
    }
   ],
   "source": [
    "url = \"https://image-charts.com/chart?chs=700x125&cht=ls&chd=t:23,15,28\"\n",
    "response = requests.get(url)\n",
    "response\n",
    "response.headers.get(\"Content-Type\")"
   ]
  },
  {
   "cell_type": "code",
   "execution_count": 22,
   "metadata": {},
   "outputs": [
    {
     "data": {
      "text/plain": [
       "b'{\"weight\":{\"imperial\":\"7  -  10\",\"metric\":\"3 - 5\"},\"id\":\"abys\",\"name\":\"Abyssinian\",\"cfa_url\":\"http://cfa.org/Breeds/BreedsAB/Abyssinian.aspx\",\"vetstreet_url\":\"http://www.vetstreet.com/cats/abyssinian\",\"vcahospitals_url\":\"https://vcahospitals.com/know-your-pet/cat-breeds/abyssinian\",\"temperament\":\"Active, Energetic, Independent, Intelligent, Gentle\",\"origin\":\"Egypt\",\"country_codes\":\"EG\",\"country_code\":\"EG\",\"description\":\"The Abyssinian is easy to care for, and a joy to have in your home. They\\xe2\\x80\\x99re affectionate cats and love both people and other animals.\",\"life_span\":\"14 - 15\",\"indoor\":0,\"lap\":1,\"alt_names\":\"\",\"adaptability\":5,\"affection_level\":5,\"child_friendly\":3,\"dog_friendly\":4,\"energy_level\":5,\"grooming\":1,\"health_issues\":2,\"intelligence\":5,\"shedding_level\":2,\"social_needs\":5,\"stranger_friendly\":5,\"vocalisation\":1,\"experimental\":0,\"hairless\":0,\"natural\":1,\"rare\":0,\"rex\":0,\"suppressed_tail\":0,\"short_legs\":0,\"wikipedia_url\":\"https://en.wikipedia.org/wiki/Abyssinian_(cat)\",\"hypoallergenic\":0,\"reference_image_id\":\"0XYvRd7oD\"}'"
      ]
     },
     "execution_count": 22,
     "metadata": {},
     "output_type": "execute_result"
    }
   ],
   "source": [
    "response = requests.get(\"https://api.thecatapi.com/v1/breeds/abys\")\n",
    "response.headers.get(\"Content-Type\")\n",
    "response.content"
   ]
  },
  {
   "cell_type": "code",
   "execution_count": 23,
   "metadata": {},
   "outputs": [
    {
     "data": {
      "text/plain": [
       "'Abyssinian'"
      ]
     },
     "execution_count": 23,
     "metadata": {},
     "output_type": "execute_result"
    }
   ],
   "source": [
    "response = requests.get(\"https://api.thecatapi.com/v1/breeds/abys\")\n",
    "response.headers.get(\"Content-Type\")\n",
    "\n",
    "response.json()\n",
    "\n",
    "response.json()[\"name\"]"
   ]
  },
  {
   "cell_type": "code",
   "execution_count": 24,
   "metadata": {},
   "outputs": [
    {
     "data": {
      "text/plain": [
       "b'\\x89PNG\\r\\n\\x1a\\n\\x00\\x00\\x00\\rIHDR\\x00\\x00\\x02\\xbc\\x00\\x00\\x00}\\x08\\x02\\x00\\x00\\x00\\xcf\\xf3\\',\\x00\\x00\\r\\xd8IDATx\\xda\\xed\\xdd\\xcboT\\xd7\\x01\\x80\\xf1s\\xc6\\xf81\\xef\\x87\\x8dg\\\\\\x1a\\x11\\x88\\x8d \\x9b\\x00&\\xabF(Q\\x14\\xb5\\xcb.\\x10\\xb1\\x13\\xda\\xb0\\x8c\\x92\\n\\x95\\xa8ib\\x036\\t~\\x88\\x02^5RXV\\xd9%\\x1b\\xc8\\x7f\\x90J\\xe9\\x82\\x14\\x89$\\x80L\\xf3\\xa2\\x11\\xe0\\xb1=/\\xcf\\xdb\\xf6\\xcc=\\xd5\\xb9w<3~\\x86P\\x9bx<\\xdfO\\xd6\\xd5\\\\\\x03\\x03\\x0c~|\\x9c{\\xce\\xb9R)%\\x00\\x00\\x00~\\x8a$\\x1a\\x00\\x00\\x00\\xd1\\x00\\x00\\xc0\\xc6\\xca\\xe7\\xf3G\\x8f\\x1e=s\\xe6\\xcc\\xb3\\xcf>\\xbb\\xa1\\xbfQ6\\x9b\\xed\\xe9\\xe9\\x19\\x18\\x188t\\xe8\\xd0\\xda?\\xf3\\xda\\xb5kCCC\\x9f|\\xf2Iss3\\xd1\\x00\\x00\\xc0fa\\x18\\xc6\\xf5\\xeb\\xd7\\xf7\\xec\\xd9\\xe3\\xf5z\\x89\\x06\\x00\\x00\\xb0\\xaa\\xf2H\\xc3\\xd7_\\x7f}\\xe5\\xca\\x95\\xf2\\xfb\\x9f\\x7f\\xfe\\xf9\\xb7\\xdezK\\x08199\\xd9\\xdf\\xdf?==\\xdd\\xd9\\xd9966\\xb6\\xe2i{{\\xfb\\xe8\\xe8\\xe8\\xf2\\'\\x7f\\xf0\\xe0\\xc1\\x993g\\x82\\xc1\\xe0\\xd0\\xd0P>\\x9f\\xef\\xe9\\xe9\\x11B\\xbc\\xf0\\xc2\\x0b\\'O\\x9e\\x14B\\x84\\xc3\\xe1S\\xa7NMOOwuu]\\xbat)\\x95J\\xf5\\xf7\\xf7www?\\xfd\\xf4\\xd3CCCB\\x08\\xab0>\\xff\\xfc\\xf3\\xf3\\xe7\\xcf\\x0b!\\x06\\x07\\x07\\xbb\\xbb\\xbb\\xcb\\xcf|\\xfa\\xf4\\xe9\\x8e\\x8e\\x8es\\xe7\\xce\\xd9l\\xb6p8\\xdc\\xdf\\xdf\\xdf\\xd1\\xd11<<\\x9c\\xc9dz{{+\\xa1 \\xe5\\xe5\\xcb\\x97C\\xa1\\x10\\xd1\\x00\\x00\\xc0\\xbaE\\xc3\\xb5k\\xd7\\x8e\\x1f?>22\\xf2\\xca+\\xaf\\xdc\\xbd{\\xb7\\xb1\\xb1\\xf1\\xcd7\\xdf<z\\xf4\\xa8u:555<<\\xfc\\xf2\\xcb/\\xbf\\xfa\\xea\\xab\\xdf\\x7f\\xff\\xfd\\xf4\\xf4\\xb4uz\\xe4\\xc8\\x91\\x1f\\x7f\\xfc1\\x16\\x8b\\x8d\\x8d\\x8de2\\x19\\xebi\\x1b\\x1a\\x1a\\x0c\\xc3\\xe8\\xe9\\xe9\\xb1~r$\\x129w\\xee\\\\\\xf9\\xb4\\xb9\\xb9\\xf9\\xf5\\xd7_\\xaf\\xfe\\xd1\\xe1\\xe1\\xe1\\x13\\'N\\xbc\\xf8\\xe2\\x8b\\xcf=\\xf7\\xdc\\xfd\\xfb\\xf7\\x87\\x86\\x86N\\x9d:\\xb5o\\xdf\\xbe\\x8f?\\xfe\\xf8\\x8b/\\xbex\\xed\\xb5\\xd7ZZZ:;;=\\x1eOy\\xd0\\xc2\\xfa\\xb5\\xd1h\\xf4\\xbd\\xf7\\xde\\xeb\\xed\\xed=v\\xec\\xd8\\xb7\\xdf~\\x1b\\x8b\\xc5\\xaaO\\xef\\xdd\\xbbw\\xec\\xd8\\xb1\\xcb\\x97/\\xf7\\xf5\\xf5\\xed\\xdd\\xbb\\x97h\\x00\\x00`}\\xa2\\xe1\\xe6\\xcd\\x9b###k\\x9cZ\\x95000\\xf0\\xd5W_\\x95O\\x85\\x10\\xbbw\\xef~\\xfb\\xed\\xb7\\x03\\x81\\x80u*\\x84\\xe8\\xec\\xec\\x1c\\x1a\\x1a\\xb2\\xaeG<\\xf9\\xe4\\x93\\xb9\\\\\\xae\\xb5\\xb5\\xd5:\\xfd\\xf2\\xcb/o\\xdf\\xbem5\\xc4\\xf2\\xd3C\\x87\\x0eU_\\x9e\\x88\\xc5b\\xef\\xbf\\xff\\xfe\\x0f?\\xfcp\\xf5\\xea\\xd5\\xf2\\x9f\\xd9\\x8a\\x86\\xc1\\xc1\\xc1\\x9d;w\\xe6\\xf3y\\xbf\\xdf\\xdf\\xdb\\xdb{\\xf6\\xec\\xd9\\xeb\\xd7\\xaf\\xdf\\xb9s\\xc7\\x8a\\x86\\xe5\\xa7\\x07\\x0f\\x1e$\\x1a\\x00\\x00\\xf8%\\xa3\\xe1\\xf8\\xf1\\xe3\\x87\\x0f\\x1fnkk3\\x0cc||\\xdczZ\\xbb\\xdd\\x1e\\x0c\\x06\\xad\\x0e8p\\xe0\\x80Rjnn\\xee\\x11\\xa2\\xc1J\\x84\\xf1\\xf1\\xf1o\\xbe\\xf9\\xa6\\\\$\\xe5h\\xd8\\xbf\\x7f\\xbfRjvv\\xf6a\\xa2\\xe1\\xc0\\x9e}D\\x03\\x00\\x00\\x1b\\x15\\r\\x7f3\\xed\\xde\\xbd\\xdb\\xba<q\\xfe\\xfc\\xf9\\x0b\\x17.<\\xf5\\xd4S\\xd6\\xe5\\x89\\xf2iWW\\x97\\xc3\\xe1\\xd8\\xbbwo\\xf53W_D(_\\x9e(W\\xc2\\xe8\\xe8\\xe8\\xc5\\x8b\\x17\\xad\\xa7\\xaa\\xfe\\xd1r4X\\x97\\'\\x92\\xc9\\xe4\\xd4\\xd4\\xd4\\xec\\xec\\xec\\xe8\\xe8\\xe8\\xe0\\xe0`0\\x18\\xccd2O<\\xf1D\\xf5\\xe5\\x89\\x91\\x91\\x91\\x0b\\x17.tuu}\\xf7\\xddw\\xfb\\xf6\\xed{\\xe9\\xa5\\x97z{{\\x07\\xff\\xfc\\x97\\x7f\\xff\\xf3_wn\\xdd:\\xf3\\xbb\\x9e?\\x8c\\r\\x9e:\\xf8\\xdb\\xfd;v\\x11\\r\\x00\\x00lT4\\x8c\\x8d\\x8d\\t!\\xfa\\xfb\\xfbo\\xde\\xbci\\xcd|\\x14B\\xf4\\xf5\\xf5\\xdd\\xbauk\\xb5\\xd3%\\xfa\\xfa\\xfa\\x9ey\\xe6\\x99\\x9e\\x9e\\x9e\\xf2\\xea\\t+\\x1a.]\\xbaT\\xfe\\xb5]]]\\xd5\\xd1\\x90\\xcf\\xe7?\\xfb\\xec\\xb3\\x0f>\\xf8```\\xe0\\xc6\\x8d\\x1b\\x9f~\\xfa\\xa9\\x94\\xf2\\xc3\\x0f?\\x0c\\x04\\x02\\x1f}\\xf4\\xd1\\xf8\\xf8\\xf8\\xc5\\x8b\\x17\\x85\\x10\\xef\\xbe\\xfb\\xee\\x81\\x03\\x07\\xf4\\xf0C\\xd1P\\xf1\\xd4;\\x7f}g\\x7f\\xc7\\xce#{\\xbaS\\xff\\x9d\\xf8\\xe3?.\\x9d>\\xfc\\xfb\\x1b\\xf9\\xc8\\x7f\\x92\\x91\\xb3\\x7f:y\\xec\\xc2\\xc0\\xd9\\xb3g\\xbb\\x0f\\xff\\x86h\\x00\\x00\\xe0\\xb1\\xba}\\xfb\\xf6\\xd5\\xabW\\xbd^\\xef\\x1bo\\xbc\\xf1\\xf8\\x7fw\\x95\\x9fSS\\t\\x15\\x991&b\\xc6DLMD\\x8d\\xc8\\x8c\\xf4\\xbal\\x1d\\x01[G@\\xb6y\\xf5\\x83_o\\x17\\xcd\\x8d\\xcb\\x7f-\\xd1\\x00\\x00\\xc0cu\\xf2\\xe4\\xc9]\\xbbv\\x9d8q\\xe2q$BvVg\\xc1D\\xacR\\t3i[\\x9bWv\\xb4VUB\\xabhlx\\x98g#\\x1a\\x00\\x00\\xd8\"\\xd4L\\xa64x`U\\xc2\\x83\\xa8(\\x14\\xad\\xc1\\x83J%\\xb4z\\x84\\x94\\x8f\\xf6\\xfcD\\x03\\x00\\x005\\xc8\\x9c\\x88P\\xb9\\xc40\\x113\\xc2qio*_b\\xb0*Az\\x9d\\xeb\\xf8{\\x12\\r\\x00\\x00l\\xfa!\\x84\\xdc\\x9c\\x9a~\\xc4\\x89\\x08D\\x03\\x00\\x00[7\\x11\\xd6u\"\\x02\\xd1\\x00\\x00\\xc0VI\\x84\\r\\x9e\\x88@4\\x00\\x00P\\x83\\nE#\\x1cW\\x93q#\\x1c3\\x1f\\xc4\\x8c\\xc9\\x84\\xf48l!\\xbf\\xad\\xa3U\\x06\\xfd\\xb6P@\\x86\\xfc\\xd2\\xd9\\xb29\\xff\\xf8D\\x03\\x00\\x00\\x1b3\\x84\\x90\\x9dU\\xe58\\x08\\xebPP\\x89\\x8cm\\xbb\\xd7\\x8c\\x83\\x85J\\x08\\xfaE\\xd3\\xb6Z\\xf9\\x1b\\x11\\r\\x00\\x00\\xacS\"X\\xab\\x18&\\xa2j\"fD\\x92\"\\x93\\x93\\xdb}\\xa5Y\\x8a\\xd6D\\x84_\\xb5\\x8am\\r\\xb5\\xfbw$\\x1a\\x00\\x00\\xf8\\x99\\x0cC\\xc5RF$Y\\xa9\\x84\\xfbQa\\x93R\\xc7Ak\\xa5\\x12Z\\xbdBn\\xa9\\xbf7\\xd1\\x00\\x00\\xc0\\x9a\\nEc:a\\r\\x1e,TBL:\\x9a\\xcd\\x89\\x8a\\x0b\\x95\\xb0\\xa3M\\xba\\xed[\\xfe\\x95 \\x1a\\x00\\x00\\xa8\\xd0W\\x19\\xf4BG\\xf3\\x12\\xc3\\x92\\xe5\\x8em\\x1e\\xab\\x12l\\xa1@\\rMD \\x1a\\x00\\x00X\\x8fD\\xb0\\x96;VU\\x82\\x98/T\\x96;Z\\x95\\x10\\x0c\\x08\\x9b\\xe4\\xb5\"\\x1a\\x00\\x00u\\xa3z\\xdfe\\xb3\\x12\\x8c{\\x11\\xd9`+\\r\\x1e\\x94+\\xa1\\xcd\\xcbKE4\\x00\\x00\\xeai\\x08\\xe1!\\xf6]\\x96;\\xdadK\\x13\\xaf\\x15\\xd1\\x00\\x00\\xa8\\xa7D\\xd8\\xac\\xfb.\\x13\\r\\x00\\x00\\xfcr\\x16/w\\xd4\\x95p?\"\\x8a\\xc6\\xb2\\xe5\\x8e\\x9bb\\xdf\\xe5\\xad\\x16\\r\\x85[w\\xa5\\xcf%\\xdd\\x8ezX+\\x02\\x00\\xa81s\\x05c\\xd2\\xdcwy\"Z\\xda\\x80yzF\\xfa\\x9c\\xb6P\\xc0\\x16\\xf2\\xcb\\xa0y\\x0c\\x05\\xa4\\xa3\\x99\\x97\\xeaqDC\\xfe\\xefWT<\\xadRY\\x95\\x9b\\xd3\\xe9\\xe0w-:z\\x1c:)<\\x0e\\xe9\")\\x00\\x00\\x1bKe\\xf2z\\t\\x83\\xb9\\xe9\\xb2\\xf9 \\xae\\x92Y[\\xd0g\\xc5\\x81\\xbe/\\x83\\xb9\\x01sMo\\xaaX\\xdb\\xd1P\\xb9<Q(\\xea\\x7f\\xad\\x99\\xcc\\xcao\\xd9\\xbct\\xb4H\\xafs\\xe57\\x8f\\x83Q \\x00\\xc0\\xcfK\\x84%\\xcb\\x1d\\xf5\\xbe\\xcby\\xb9\\x9d\\xe5\\x8e5\\x11\\rk#)\\x00\\x00\\x8f\\xec!\\x97;n\\xb9}\\x97\\xeb5\\x1aH\\n\\x00\\xc0C\\x7fS(\\xed\\xbb\\\\\\xae\\x84\\xc9\\xb8t;*;*\\xb2\\xdc\\xb1\\xae\\xa3a\\x03\\x93\\xc2Iu\\x02\\xc0f\\xf6p\\xcb\\x1d\\x03\\xa2q\\x1b\\xaf\\x15\\xd1\\xf0\\x7f\\x9b/\\xaa\\x99\\xf4\\xd2\\x92HdT\\xd2<\\x16\\x8a\\x8b\\x1a\\xc2\\xa73\\xa2t\\xf4:\\x99.\\x0b\\x00\\x8f\\x95\\xa1Tt\\xc6\\x08\\xc7\\x8dp\\xcc\\\\\\xd1\\x10S\\xe1\\xb8\\xd8f\\xd3k\\x1d\\x83>=Q1\\x14\\xb0\\x05\\xfd2\\xe0\\xe6\\xa5\"\\x1a~\\x91\\xa4(T\\x02b\\xf9\\xb1\\x94\\x14\\x0e\\xe9uU\\x8e\\xe5\\xaap\\xb6\\xf0\\x0f\\x0c\\x00\\xff\\xcfW`\\xbd~\\xc1L\\x04\\xbd\\x9c!\\x1c\\xd3\\xcb\\x1d\\xbd\\xce\\xaa\\x85\\x0c\\x01\\x19\\xf2\\xf3\\xc5\\x96h\\xa8\\x99\\x0f\\xe8E\\x19\\xb1d\\xb8b\\xbeP\\t\\x88\\xe5G>\\xca\\x01\\xa0\\x8aJ\\xe5\\xf4*\\x86\\xc9\\x84\\x19\\n\\x0b\\xcb\\x1d\\xdb}2\\xe4\\xb7\\x05\\xfd\\xfa*C\\xd0\\xaf\\xd72\\xb0\\xa9\"\\xd1\\xb051=\\x13\\x00V\\xb4|S\\xc5\\x07QQ(rwG\\xd4q4l\\\\R\\xb8\\x1d|\"\\x01\\xa8\\xa1/w\\xa5\\xb5\\x0c\\x0b\\x95`\\x84c\\xd2\\xde\\\\\\xb9o\\x93\\xb5\\x9c\\xc1\\xeb\\xe4\\xa5\\x02\\xd1@R\\x00\\xa8#k\\xade(\\xafx\\x0c\\x05D\\x13k\\x19@4l\\x86\\xa4HeeK\\xd3\\xaaI\\x11\\xf0\\x90\\x14\\x00\\xd6\\x87\\xb5cRy\\xfc`\"\\xaa\\xeeG\\x85MV\\x8f\\x1fp\\xeb&\\x10\\r\\xb5\\x96\\x14\\xd9\\xbc\\x9a\\xc9\\x9a+K\\xb3*\\x96$)\\x00<\\xca\\x10BnVM\\xcfT\\xc6\\x0f\\x96\\xed\\x98\\xa4[aG\\x1bw\\x1f\\x04\\xd1\\xb0\\xb5>\\xf3\\xb3\\xb3\\xa5\\x80X~\\xfc\\x89\\xa4p\\x0b\\x9b\\x8d\\x17\\x10\\xa8\\x8b/\\x14+\\xdc\\x97!\\'\\xb7\\xfb*\\xb7~f\\xc7$\\x10\\rX3)R\\xb2\\xa5\\x91\\xa4\\x00\\xb6\\x9aBQ%\\xd2\\xab\\xdd\\x97\\xa1R\\t\\xdc\\x97\\x01D\\x03H\\n\\xa0\\xee>\\x8b\\xab\\xc6\\x0f\\xf4t\\x84\\xc8\\x8c\\xf4\\xba\\xaa\\xc7\\x0f\\xb8/\\x03\\x88\\x06l0\\xc3P\\xa9\\xdc\\xaa\\x1bh\\xa6s\\xd2e_u\\xb7+\\xb7\\x9d\\xa4\\x006\\xe4\\xb32\\x92\\xd4\\xdb)N&\\xf4\\xa6\\xcb\\x93\\xe6\\xa6\\xcbB\\x98\\xdb%Y;*\\xea7=\\x84\\xc0d&\\x10\\r\\xd8L_\\xbc\\x94JeWX\\xebaUE))\\x1c\\xd6\\xc6V\\xd2\\xe7\\xd2\\xa7~\\x97t\\x9b\\x8f=\\x0e\\xb1\\x8d=\\xe0\\x80\\x9f\\x1aB\\xc8\\xe4u\\x19\\x84\\xe3j*nVB\\xcc\\x88\\xa6\\xa4\\xcfe\\xb3n\\xca\\x10\\xf4\\xe9\\x9b2\\x84\\x02\\xd2\\xc5DE\\x10\\r\\xa8\\xed\\xafvJ%\\xb3\\xe6V\\xdc\\xd9RF\\xa4\\xb2*\\x9eV\\xe9\\x9cJ\\xa4U2+\\x9b\\x1b\\xcd\\x9b\\x84-T\\x85\\xd7e\\xb6\\x85S\\xb8\\x1d6\\x9fK47\\xf2\\x12\\xa2\\x1e\\x87\\x10\\xca\\x89\\x10\\x8e\\xab\\xc9\\xb8(\\x1a\\xd6\\xe0\\x81\\xb9\\xdd\\xb2_W\\xc2v\\x1f\\xc1\\r\\xa2\\x01\\xf5g\\xbe\\xb0\\xfaVW\\xb3\\xec\\xc9\\x8d-\\x1e\\xd5\\xcb\\xd7:N\\xc4\\xa4c\\xf1\\x8e\\x8am\\x1e&*\\x82h\\x00\\x1e&)\\x8a\\xe6^\\x14kn\\xa0\\xe9h^9)\\xfcn\\xd1\\xc0t\\nl\\xa6!\\x04\\xeb\\xa6\\x0c+\\xaeudGE\\x10\\r\\xbc\\n\\xd8X\\xd5\\xbb]U\\xefs\\xb5\\xd2\\xa2\\x0f\\xa1\\xdb\\xa2\\xeaF\\xe7~7s\\xc8\\xc1\\x10\\x02@4\\x00\\x0b_\\xb8\\x97\\xad#\\x15\\xfa=fd\\xc4\\xd3\\xaaX\\\\\\x94\\x11\\xd5G\\xf3\\x9a\\x08/ \\x1ey\\x08a\\xa5\\x9b2\\xf8E\\x13st\\x00\\xa2\\x015\\x9a\\x14\\x99|i\\x86\\xa6^\\xeba\\x86E2\\xab\\x12\\x19\\x91\\xce\\x1a\\xf1\\xb4PJ\\xaf\\xefp;JK?\\xf4r\\x0f\\xf3\\xe8u\\xe8\\x99\\x9b,%\\xad\\xe7\\x12]\\x98\\x9fhL\\x9a\\xc7\\xc8\\x8c\\xf48\\xcd\\xf5\\x0b\\xd6,E\\xf3Ht\\x02D\\x03\\xea\\xc8\\xdc|i\\xadG2k\\xdd-\\xactj-\\x03I\\xe7\\xa4\\xb3E/\\x1f\\xad\\n\\x0b\\xe1\\xb6\\xeb\\x15\\x1fn\\xbb\\x8e\\x0c{3/a\\xcd+\\x1a*\\x9a4\\xa6\\x12F8\\xa6&\\x13f\"\\xc4\\xc4|\\xb1\\xbc\\xc4\\xd1\\xd6\\xee\\xd3\\x89\\xd0\\xee\\x17\\x8d,d\\x00\\x88\\x06`\\xd5\\xffo\\n\\x1d\\x10\\xd6\\xc2\\xd1rI\\x98y!R9=hQ(\\x96\\xf6\\xa2(\\x85\\x85\\xbd\\xb4\\xa6ta\\xdc\\x82\\xf5r\\x9b\\xee\\x1f4\\x9e2\\xa6\\x13:\\x0e\\xa6\\x12z,a*\\xa1\\xe2)\\xbd\\x9d\\xa2U\\x06!\\xbfl7\\x8f\\x0c!\\x00D\\x03\\xb0\\xceV\\x9f\\xa4)\\xb2\\xb3F,%\\x0cc\\xf9,\\x8a\\xca\\x9b\\xdb\\xc1F~\\x1bX\\x08\\xe6v\\xcbKo\\xea\\xd8`[4E\\xb1\\xcd\\xcbB\\x06\\x80h\\x006\\x87%\\x1bT\\x94ghZo\\xa9\\xec\\xf2\\xbb\\x92V\\x16\\x80\\xf8\\xdc\\xd2\\xce\\xd2\\x8f\\x87\\xad7=~`MN\\xb4B\\xe1AT\\x14\\x8a\\xb2\\xcd[\\xbd\\xd0Q\\xb6\\xfbXM\\x03\\x10\\r@\\xcd\\x0eT\\xa4s\\x0b\\x93*\\xcc\\xd9\\x9a\\x95I\\x15\\xfa:\\x88\\xfeo\\xb1\\xcf)\\\\\\x8e\\xd2%\\x0f\\x97\\xbd4IS?\\xd0\\xb7\\x02\\xa9\\xc7\\xcd4\\xad>\\x98L\\xe8\\xe3TBo\\xb7<\\x15W\\xf9y}}\\xa1\\xddW9\\x06\\xfd\\xd2\\xd9\\xc2\\x87\\x18@4\\x00\\xf5B\\xe5\\xe7\\xac\\x85\\x1e\\xe6.\\xdd\\xe6\\xec\\nkj\\x85~\\x90S\\xc9\\x8c0\\x94U\\x0f\\xfa\\xb8\\xf0@\\xb8\\x16\\xdec\\xb6E\\r\\xef\\xa7i(=E\\xb14\\x05!\\xae\\x13a*\\xa1\\x92\\x19[\\xc0\\xa3\\xcb \\xe8\\xd7;&\\xe9\\x07>\\xe9s\\xf1\\xd1\\x02\\x10\\r\\x00\\xd64_\\xd0\\xf50\\x93)g\\x84J\\xe5D\\xda|O*\\xa7\\xd2Y\\x95\\xc9\\xebt\\xb0n\\'\\xe6q\\x08k\\xacb\\xd1\\xa0\\x85cS,\\n0\\x0c\\x15O\\x1b\\x91\\x19\\xbdW\\xd2\\xd4\\xc2,\\xc5hR\\xba\\x1dV\\x1c\\xe82h\\xf7\\xdb\\xda\\xbd\\xb2\\xd5\\xc3:X\\x80h\\x00\\xb01\\xffYO\\xe7T)#\\xb2\\xba\\'\\x96\\rZ\\xc8m\\r\\xc2\\xe30G&\\xcc\\x8cp;J\\x91\\xe1v\\x08g\\x8b\\xb9\\xe8\\xb4e\\x1d\\xbfO\\xab\\xdc\\\\i\\xdaAy\\xfeAdF\\xc5\\xd3\\xd2\\xe3\\xb0\\x99S\\x10*W\\x19\\xb6\\xfbX\\xe5\\x08\\x10\\r\\x006\\x11\\xfd]<\\x99\\x11\\xd6X\\xc5\\x92A\\x8bL^erz\\xb8\\xa2\\xa9Q\\x8fR\\xb8\\xcc\\x86p\\xb6\\x981a\\xaf<nj\\x14\\x8d\\rz\\xd7\\x8a\\xc6\\x06\\xd1\\xd4\\xa8\\'\\x1b\\xce\\x17\\x8cx\\xda\\xbc\\xe5\\xa9\\xb5\\x9bVZ?\\xb3Y\\t\\xfa^\\x8e\\xd6\\xb2\\x05\\x9d\\x08\\x0b\\x0f\\x02n\\x96\\xa7\\x02D\\x03\\x80\\xad\\x11\\x16\\xb3\\xba*2y\\x95\\xce\\xabL^d\\xf3\\xa5\\xc7\\xd9\\xbc\\x0e\\x8b\\xd9y=\\xa93;+\\nE\\xbd_V~^lk\\xb0\\x05\\\\\\xfa\\xd6\\xe7~\\x97\\x9e`\\xe13\\xd7\\x83\\xb4\\xeaD\\x90.;\\xaf\\'@4\\x00\\x00\\x00\\x10\\r\\x00\\x00\\x80h\\x00\\x00\\x00D\\x03\\x00\\x00 \\x1a\\x00\\x00\\x00\\xd1\\x00\\x00\\x00\\x88\\x06\\x00\\x00@4\\x00\\x00\\x00\\x10\\r\\x00\\x00\\x80h\\x00\\x00\\x00D\\x03\\x00\\x00 \\x1a\\x00\\x00\\x00\\xd1\\x00\\x00\\x00\\x88\\x06\\x00\\x00@4\\x00\\x00\\x00\\x10\\r\\x00\\x00\\x80h\\x00\\x00\\x00D\\x03\\x00\\x00 \\x1a\\x00\\x00\\x00\\xd1\\x00\\x00\\x00\\x88\\x06\\x00\\x00@4\\x00\\x00\\x00\\x10\\r\\x00\\x00\\x80h\\x00\\x00\\x00D\\x03\\x00\\x00 \\x1a\\x00\\x00\\x00\\xd1\\x00\\x00\\x00\\x88\\x06\\x00\\x00@4\\x00\\x00\\x00\\x10\\r\\x00\\x00\\x80h\\x00\\x00\\x00D\\x03\\x00\\x00 \\x1a\\x00\\x00\\x00\\xd1\\x00\\x00\\x00\\x88\\x06\\x00\\x00@4\\x00\\x00\\x00\\x10\\r\\x00\\x00\\x80h\\x00\\x00\\x00D\\x03\\x00\\x00 \\x1a\\x00\\x00\\x00\\xd1\\x00\\x00\\x00\\x88\\x06\\x00\\x00@4\\x00\\x00\\x00\\x10\\r\\x00\\x00\\x80h\\x00\\x00\\x00D\\x03\\x00\\x00 \\x1a\\x00\\x00\\x00\\xd1\\x00\\x00\\x00\\x88\\x06\\x00\\x00@4\\x00\\x00\\x00\\x10\\r\\x00\\x00\\x80h\\x00\\x00\\x00D\\x03\\x00\\x00 \\x1a\\x00\\x00\\x00\\xd1\\x00\\x00\\x00\\x88\\x06\\x00\\x00@4\\xf0*\\x00\\x00\\x00\\xa2\\x01\\x00\\x00\\x10\\r\\x00\\x00\\x80h\\x00\\x00\\x00D\\x03\\x00\\x00 \\x1a\\x00\\x00\\xc0\\xd6\\xf5?\\xbc\\xea\\xd2\\xb0\\x1f\\t\\xbdc\\x00\\x00\\x00\\x00IEND\\xaeB`\\x82'"
      ]
     },
     "execution_count": 24,
     "metadata": {},
     "output_type": "execute_result"
    }
   ],
   "source": [
    "url = \"https://image-charts.com/chart?chs=700x125&cht=ls&chd=t:23,15,28\"\n",
    "response = requests.get(url)\n",
    "response\n",
    "\n",
    "\n",
    "response.headers.get(\"Content-Type\")\n",
    "\n",
    "\n",
    "response.content"
   ]
  },
  {
   "cell_type": "code",
   "execution_count": 25,
   "metadata": {},
   "outputs": [],
   "source": [
    "with open(\"chart.png\", mode=\"wb\") as file:\n",
    "    file.write(response.content)"
   ]
  },
  {
   "cell_type": "code",
   "execution_count": 26,
   "metadata": {},
   "outputs": [
    {
     "data": {
      "text/plain": [
       "<Response [405]>"
      ]
     },
     "execution_count": 26,
     "metadata": {},
     "output_type": "execute_result"
    }
   ],
   "source": [
    "requests.post(\"https://api.thecatapi.com/v1/breeds/abys\")\n",
    "\n",
    "\n",
    "requests.get(\"https://api.thecatapi.com/v1/breeds/abys\")\n",
    "\n",
    "\n",
    "requests.put(\"https://api.thecatapi.com/v1/breeds/abys\")\n",
    "\n",
    "\n",
    "requests.delete(\"https://api.thecatapi.com/v1/breeds/abys\")"
   ]
  },
  {
   "cell_type": "code",
   "execution_count": 27,
   "metadata": {},
   "outputs": [
    {
     "data": {
      "text/plain": [
       "{'results': [{'gender': 'female',\n",
       "   'name': {'title': 'Miss', 'first': 'Mihaela', 'last': 'Španović'},\n",
       "   'location': {'street': {'number': 7242, 'name': 'Jovana Meteorite'},\n",
       "    'city': 'Temerin',\n",
       "    'state': 'North Bačka',\n",
       "    'country': 'Serbia',\n",
       "    'postcode': 94764,\n",
       "    'coordinates': {'latitude': '59.2851', 'longitude': '42.8495'},\n",
       "    'timezone': {'offset': '+3:30', 'description': 'Tehran'}},\n",
       "   'email': 'mihaela.spanovic@example.com',\n",
       "   'login': {'uuid': '8b09b5d6-fc1d-4ed7-923a-6ef0205bd5b4',\n",
       "    'username': 'purplegoose925',\n",
       "    'password': 'caster',\n",
       "    'salt': 'XhZ31Dfk',\n",
       "    'md5': '180caeae6b304d890691b988756e00bc',\n",
       "    'sha1': 'c451449e5fe311f280bfe6fe74106ac0b7023101',\n",
       "    'sha256': 'ee3a6a0250416c6183e7c701a72d9c6d7729cf22e9861a7f2de35c1d8e2f46c3'},\n",
       "   'dob': {'date': '2000-05-08T07:18:40.903Z', 'age': 23},\n",
       "   'registered': {'date': '2003-04-24T18:47:10.617Z', 'age': 20},\n",
       "   'phone': '013-7837-230',\n",
       "   'cell': '065-9610-309',\n",
       "   'id': {'name': 'SID', 'value': '327913655'},\n",
       "   'picture': {'large': 'https://randomuser.me/api/portraits/women/13.jpg',\n",
       "    'medium': 'https://randomuser.me/api/portraits/med/women/13.jpg',\n",
       "    'thumbnail': 'https://randomuser.me/api/portraits/thumb/women/13.jpg'},\n",
       "   'nat': 'RS'}],\n",
       " 'info': {'seed': 'bcd9a7aef2acb706',\n",
       "  'results': 1,\n",
       "  'page': 1,\n",
       "  'version': '1.4'}}"
      ]
     },
     "execution_count": 27,
     "metadata": {},
     "output_type": "execute_result"
    }
   ],
   "source": [
    "requests.get(\"https://randomuser.me/api/\").json()"
   ]
  },
  {
   "cell_type": "code",
   "execution_count": 28,
   "metadata": {},
   "outputs": [
    {
     "data": {
      "text/plain": [
       "{'results': [{'gender': 'female',\n",
       "   'name': {'title': 'Miss', 'first': 'Dörte', 'last': 'Borchers'},\n",
       "   'location': {'street': {'number': 7373, 'name': 'Königsberger Straße'},\n",
       "    'city': 'Nagold',\n",
       "    'state': 'Schleswig-Holstein',\n",
       "    'country': 'Germany',\n",
       "    'postcode': 72795,\n",
       "    'coordinates': {'latitude': '-52.0557', 'longitude': '-95.8032'},\n",
       "    'timezone': {'offset': '+6:00', 'description': 'Almaty, Dhaka, Colombo'}},\n",
       "   'email': 'dorte.borchers@example.com',\n",
       "   'login': {'uuid': '11cb89eb-e628-4952-98af-935040a0d7ce',\n",
       "    'username': 'redwolf636',\n",
       "    'password': 'kirsty',\n",
       "    'salt': '3yiIMwl2',\n",
       "    'md5': '482b2c78637b66ab34830b0fc5b69412',\n",
       "    'sha1': '65e5cedc33e452356ff32baca46bcff73ef5d423',\n",
       "    'sha256': 'c34fa490adffce3616a6ebaa3bd3ea5d420c0cf8d428c8a9de38a8ba1a7d8c85'},\n",
       "   'dob': {'date': '1956-10-23T12:34:26.867Z', 'age': 67},\n",
       "   'registered': {'date': '2008-12-07T16:53:17.674Z', 'age': 15},\n",
       "   'phone': '0206-0848903',\n",
       "   'cell': '0174-0480885',\n",
       "   'id': {'name': 'SVNR', 'value': '09 231056 B 606'},\n",
       "   'picture': {'large': 'https://randomuser.me/api/portraits/women/2.jpg',\n",
       "    'medium': 'https://randomuser.me/api/portraits/med/women/2.jpg',\n",
       "    'thumbnail': 'https://randomuser.me/api/portraits/thumb/women/2.jpg'},\n",
       "   'nat': 'DE'}],\n",
       " 'info': {'seed': '236aa9d9b642d9e8',\n",
       "  'results': 1,\n",
       "  'page': 1,\n",
       "  'version': '1.4'}}"
      ]
     },
     "execution_count": 28,
     "metadata": {},
     "output_type": "execute_result"
    }
   ],
   "source": [
    "requests.get(\"https://randomuser.me/api/?gender=female\").json()"
   ]
  },
  {
   "cell_type": "code",
   "execution_count": 29,
   "metadata": {},
   "outputs": [
    {
     "data": {
      "text/plain": [
       "{'results': [{'gender': 'female',\n",
       "   'name': {'title': 'Miss', 'first': 'Grit', 'last': 'Ludewig'},\n",
       "   'location': {'street': {'number': 1683, 'name': 'Kirchweg'},\n",
       "    'city': 'Löwenstein',\n",
       "    'state': 'Nordrhein-Westfalen',\n",
       "    'country': 'Germany',\n",
       "    'postcode': 34398,\n",
       "    'coordinates': {'latitude': '18.5082', 'longitude': '-46.1225'},\n",
       "    'timezone': {'offset': '-12:00', 'description': 'Eniwetok, Kwajalein'}},\n",
       "   'email': 'grit.ludewig@example.com',\n",
       "   'login': {'uuid': '81028894-a16e-41ce-8993-5e56f3101651',\n",
       "    'username': 'organicduck413',\n",
       "    'password': 'masamune',\n",
       "    'salt': 'QeA7eV4H',\n",
       "    'md5': 'c0ea3196df9e0eafb8b36a6ef3a8c4dc',\n",
       "    'sha1': '0e70746800ade21b06d234eaa087aafb5a467012',\n",
       "    'sha256': 'f5d36367bbb0ae316d8b2484aea02b4f3c0c983c6730d69ecc72ac0de6599484'},\n",
       "   'dob': {'date': '1996-11-02T07:16:13.770Z', 'age': 27},\n",
       "   'registered': {'date': '2009-05-27T11:19:59.437Z', 'age': 14},\n",
       "   'phone': '0920-0043013',\n",
       "   'cell': '0173-0799161',\n",
       "   'id': {'name': 'SVNR', 'value': '67 021196 L 533'},\n",
       "   'picture': {'large': 'https://randomuser.me/api/portraits/women/38.jpg',\n",
       "    'medium': 'https://randomuser.me/api/portraits/med/women/38.jpg',\n",
       "    'thumbnail': 'https://randomuser.me/api/portraits/thumb/women/38.jpg'},\n",
       "   'nat': 'DE'}],\n",
       " 'info': {'seed': '63b970104fee56a1',\n",
       "  'results': 1,\n",
       "  'page': 1,\n",
       "  'version': '1.4'}}"
      ]
     },
     "execution_count": 29,
     "metadata": {},
     "output_type": "execute_result"
    }
   ],
   "source": [
    "requests.get(\"https://randomuser.me/api/?gender=female&nat=de\").json()"
   ]
  },
  {
   "cell_type": "code",
   "execution_count": 30,
   "metadata": {},
   "outputs": [
    {
     "data": {
      "text/plain": [
       "{'results': [{'gender': 'female',\n",
       "   'name': {'title': 'Miss', 'first': 'Camilla', 'last': 'Stephan'},\n",
       "   'location': {'street': {'number': 6051, 'name': 'Marktplatz'},\n",
       "    'city': 'Grafenwöhr',\n",
       "    'state': 'Hamburg',\n",
       "    'country': 'Germany',\n",
       "    'postcode': 71238,\n",
       "    'coordinates': {'latitude': '-55.0715', 'longitude': '-127.0206'},\n",
       "    'timezone': {'offset': '+5:00',\n",
       "     'description': 'Ekaterinburg, Islamabad, Karachi, Tashkent'}},\n",
       "   'email': 'camilla.stephan@example.com',\n",
       "   'login': {'uuid': 'd1a9945a-610c-4c39-93af-bf6e443aeb50',\n",
       "    'username': 'redwolf720',\n",
       "    'password': 'cartoon',\n",
       "    'salt': 'xedWWnKh',\n",
       "    'md5': 'a3ab8bb454a68941a13b325680631f51',\n",
       "    'sha1': 'fc9e818deaeda6ff2499b46b9a00eae6d6b9a0ee',\n",
       "    'sha256': 'ce3ed740064a8111f571486b81ac130cd211e5961f0f203a48ac1c3715d77322'},\n",
       "   'dob': {'date': '2000-08-19T07:22:14.982Z', 'age': 23},\n",
       "   'registered': {'date': '2010-03-12T09:06:17.611Z', 'age': 13},\n",
       "   'phone': '0322-6873025',\n",
       "   'cell': '0171-1422024',\n",
       "   'id': {'name': 'SVNR', 'value': '10 1908100 S 818'},\n",
       "   'picture': {'large': 'https://randomuser.me/api/portraits/women/86.jpg',\n",
       "    'medium': 'https://randomuser.me/api/portraits/med/women/86.jpg',\n",
       "    'thumbnail': 'https://randomuser.me/api/portraits/thumb/women/86.jpg'},\n",
       "   'nat': 'DE'}],\n",
       " 'info': {'seed': 'bf4b2080448b578a',\n",
       "  'results': 1,\n",
       "  'page': 1,\n",
       "  'version': '1.4'}}"
      ]
     },
     "execution_count": 30,
     "metadata": {},
     "output_type": "execute_result"
    }
   ],
   "source": [
    "query_params = {\"gender\": \"female\", \"nat\": \"de\"}\n",
    "requests.get(\"https://randomuser.me/api/\", params=query_params).json()"
   ]
  },
  {
   "cell_type": "code",
   "execution_count": 31,
   "metadata": {},
   "outputs": [
    {
     "data": {
      "text/plain": [
       "[{'weight': {'imperial': '8 - 20', 'metric': '4 - 9'},\n",
       "  'id': 'raga',\n",
       "  'name': 'Ragamuffin',\n",
       "  'cfa_url': 'http://cfa.org/Breeds/BreedsKthruR/Ragamuffin.aspx',\n",
       "  'vetstreet_url': 'http://www.vetstreet.com/cats/ragamuffin',\n",
       "  'vcahospitals_url': 'https://vcahospitals.com/know-your-pet/cat-breeds/ragamuffin',\n",
       "  'temperament': 'Affectionate, Friendly, Gentle, Calm',\n",
       "  'origin': 'United States',\n",
       "  'country_codes': 'US',\n",
       "  'country_code': 'US',\n",
       "  'description': 'The Ragamuffin is calm, even tempered and gets along well with all family members. Changes in routine generally do not upset her. She is an ideal companion for those in apartments, and with children due to her patient nature.',\n",
       "  'life_span': '12 - 16',\n",
       "  'indoor': 0,\n",
       "  'lap': 1,\n",
       "  'alt_names': '',\n",
       "  'adaptability': 5,\n",
       "  'affection_level': 5,\n",
       "  'child_friendly': 4,\n",
       "  'dog_friendly': 5,\n",
       "  'energy_level': 3,\n",
       "  'grooming': 3,\n",
       "  'health_issues': 3,\n",
       "  'intelligence': 5,\n",
       "  'shedding_level': 3,\n",
       "  'social_needs': 3,\n",
       "  'stranger_friendly': 5,\n",
       "  'vocalisation': 1,\n",
       "  'experimental': 0,\n",
       "  'hairless': 0,\n",
       "  'natural': 0,\n",
       "  'rare': 0,\n",
       "  'rex': 0,\n",
       "  'suppressed_tail': 0,\n",
       "  'short_legs': 0,\n",
       "  'wikipedia_url': 'https://en.wikipedia.org/wiki/Ragamuffin_cat',\n",
       "  'hypoallergenic': 0,\n",
       "  'reference_image_id': 'SMuZx-bFM'}]"
      ]
     },
     "execution_count": 31,
     "metadata": {},
     "output_type": "execute_result"
    }
   ],
   "source": [
    "query_params = {\"q\": \"ragamuffin\"}\n",
    "endpoint = \"https://api.thecatapi.com/v1/breeds/search\"\n",
    "requests.get(endpoint, params=query_params).json()"
   ]
  },
  {
   "cell_type": "code",
   "execution_count": 32,
   "metadata": {},
   "outputs": [
    {
     "data": {
      "text/plain": [
       "<Response [200]>"
      ]
     },
     "execution_count": 32,
     "metadata": {},
     "output_type": "execute_result"
    }
   ],
   "source": [
    "endpoint = \"https://api.nasa.gov/mars-photos/api/v1/rovers/curiosity/photos\"\n",
    "# Replace DEMO_KEY below with your own key if you generated one.\n",
    "api_key = \"DEMO_KEY\"\n",
    "query_params = {\"api_key\": api_key, \"earth_date\": \"2020-07-01\"}\n",
    "response = requests.get(endpoint, params=query_params)\n",
    "response"
   ]
  },
  {
   "cell_type": "code",
   "execution_count": 33,
   "metadata": {},
   "outputs": [
    {
     "name": "stdout",
     "output_type": "stream",
     "text": [
      "Found 12 photos\n"
     ]
    },
    {
     "data": {
      "text/plain": [
       "'https://mars.nasa.gov/msl-raw-images/proj/msl/redops/ods/surface/sol/02809/opgs/edr/rcam/RRB_646869036EDR_F0810628RHAZ00337M_.JPG'"
      ]
     },
     "execution_count": 33,
     "metadata": {},
     "output_type": "execute_result"
    }
   ],
   "source": [
    "response.json()\n",
    "\n",
    "photos = response.json()[\"photos\"]\n",
    "print(f\"Found {len(photos)} photos\")\n",
    "\n",
    "photos[4][\"img_src\"]"
   ]
  },
  {
   "cell_type": "code",
   "execution_count": 34,
   "metadata": {},
   "outputs": [],
   "source": [
    "CLIENT_ID = \"<REPLACE_WITH_CLIENT_ID>\"\n",
    "CLIENT_SECRET = \"<REPLACE_WITH_CLIENT_SECRET>\"\n",
    "\n",
    "REDIRECT_URI = \"<REPLACE_WITH_REDIRECT_URI>\""
   ]
  },
  {
   "cell_type": "code",
   "execution_count": 35,
   "metadata": {},
   "outputs": [],
   "source": [
    "# github.py\n",
    "\n",
    "def create_oauth_link():\n",
    "    params = {\n",
    "        \"client_id\": CLIENT_ID,\n",
    "        \"redirect_uri\": REDIRECT_URI,\n",
    "        \"scope\": \"user\",\n",
    "        \"response_type\": \"code\",\n",
    "    }\n",
    "\n",
    "    endpoint = \"https://github.com/login/oauth/authorize\"\n",
    "    response = requests.get(endpoint, params=params)\n",
    "    return response.url"
   ]
  },
  {
   "cell_type": "code",
   "execution_count": 36,
   "metadata": {},
   "outputs": [],
   "source": [
    "\n",
    "def exchange_code_for_access_token(code=None):\n",
    "    params = {\n",
    "        \"client_id\": CLIENT_ID,\n",
    "        \"client_secret\": CLIENT_SECRET,\n",
    "        \"redirect_uri\": REDIRECT_URI,\n",
    "        \"code\": code,\n",
    "    }\n",
    "\n",
    "    headers = {\"Accept\": \"application/json\"}\n",
    "    endpoint = \"https://github.com/login/oauth/access_token\"\n",
    "    response = requests.post(endpoint, params=params, headers=headers).json()\n",
    "    return response[\"access_token\"]"
   ]
  },
  {
   "cell_type": "code",
   "execution_count": 38,
   "metadata": {},
   "outputs": [
    {
     "name": "stdout",
     "output_type": "stream",
     "text": [
      "Follow the link to start the authentication with GitHub: https://github.com/login?client_id=%3CREPLACE_WITH_CLIENT_ID%3E&return_to=%2Flogin%2Foauth%2Fauthorize%3Fclient_id%3D%253CREPLACE_WITH_CLIENT_ID%253E%26redirect_uri%3D%253CREPLACE_WITH_REDIRECT_URI%253E%26response_type%3Dcode%26scope%3Duser\n"
     ]
    },
    {
     "ename": "KeyError",
     "evalue": "'access_token'",
     "output_type": "error",
     "traceback": [
      "\u001b[1;31m---------------------------------------------------------------------------\u001b[0m",
      "\u001b[1;31mKeyError\u001b[0m                                  Traceback (most recent call last)",
      "Cell \u001b[1;32mIn[38], line 4\u001b[0m\n\u001b[0;32m      2\u001b[0m \u001b[38;5;28mprint\u001b[39m(\u001b[38;5;124mf\u001b[39m\u001b[38;5;124m\"\u001b[39m\u001b[38;5;124mFollow the link to start the authentication with GitHub: \u001b[39m\u001b[38;5;132;01m{\u001b[39;00mlink\u001b[38;5;132;01m}\u001b[39;00m\u001b[38;5;124m\"\u001b[39m)\n\u001b[0;32m      3\u001b[0m code \u001b[38;5;241m=\u001b[39m \u001b[38;5;28minput\u001b[39m(\u001b[38;5;124m\"\u001b[39m\u001b[38;5;124mGitHub code: \u001b[39m\u001b[38;5;124m\"\u001b[39m)\n\u001b[1;32m----> 4\u001b[0m access_token \u001b[38;5;241m=\u001b[39m \u001b[43mexchange_code_for_access_token\u001b[49m\u001b[43m(\u001b[49m\u001b[43mcode\u001b[49m\u001b[43m)\u001b[49m\n\u001b[0;32m      5\u001b[0m \u001b[38;5;28mprint\u001b[39m(\u001b[38;5;124mf\u001b[39m\u001b[38;5;124m\"\u001b[39m\u001b[38;5;124mExchanged code \u001b[39m\u001b[38;5;132;01m{\u001b[39;00mcode\u001b[38;5;132;01m}\u001b[39;00m\u001b[38;5;124m with access token: \u001b[39m\u001b[38;5;132;01m{\u001b[39;00maccess_token\u001b[38;5;132;01m}\u001b[39;00m\u001b[38;5;124m\"\u001b[39m)\n",
      "Cell \u001b[1;32mIn[37], line 12\u001b[0m, in \u001b[0;36mexchange_code_for_access_token\u001b[1;34m(code)\u001b[0m\n\u001b[0;32m     10\u001b[0m endpoint \u001b[38;5;241m=\u001b[39m \u001b[38;5;124m\"\u001b[39m\u001b[38;5;124mhttps://github.com/login/oauth/access_token\u001b[39m\u001b[38;5;124m\"\u001b[39m\n\u001b[0;32m     11\u001b[0m response \u001b[38;5;241m=\u001b[39m requests\u001b[38;5;241m.\u001b[39mpost(endpoint, params\u001b[38;5;241m=\u001b[39mparams, headers\u001b[38;5;241m=\u001b[39mheaders)\u001b[38;5;241m.\u001b[39mjson()\n\u001b[1;32m---> 12\u001b[0m \u001b[38;5;28;01mreturn\u001b[39;00m \u001b[43mresponse\u001b[49m\u001b[43m[\u001b[49m\u001b[38;5;124;43m\"\u001b[39;49m\u001b[38;5;124;43maccess_token\u001b[39;49m\u001b[38;5;124;43m\"\u001b[39;49m\u001b[43m]\u001b[49m\n",
      "\u001b[1;31mKeyError\u001b[0m: 'access_token'"
     ]
    }
   ],
   "source": [
    "link = create_oauth_link()\n",
    "print(f\"Follow the link to start the authentication with GitHub: {link}\")\n",
    "code = input(\"GitHub code: \")\n",
    "access_token = exchange_code_for_access_token(code)\n",
    "print(f\"Exchanged code {code} with access token: {access_token}\")"
   ]
  },
  {
   "cell_type": "code",
   "execution_count": 37,
   "metadata": {},
   "outputs": [],
   "source": [
    "def print_user_info(access_token=None):\n",
    "    headers = {\"Authorization\": f\"token {access_token}\"}\n",
    "    endpoint = \"https://api.github.com/user\"\n",
    "    response = requests.get(endpoint, headers=headers).json()\n",
    "    name = response[\"name\"]\n",
    "    username = response[\"login\"]\n",
    "    private_repos_count = response[\"total_private_repos\"]\n",
    "    print(\n",
    "        f\"{name} ({username}) | private repositories: {private_repos_count}\"\n",
    "    )"
   ]
  },
  {
   "cell_type": "code",
   "execution_count": 38,
   "metadata": {},
   "outputs": [
    {
     "name": "stdout",
     "output_type": "stream",
     "text": [
      "Follow the link to start the authentication with GitHub: https://github.com/login?client_id=%3CREPLACE_WITH_CLIENT_ID%3E&return_to=%2Flogin%2Foauth%2Fauthorize%3Fclient_id%3D%253CREPLACE_WITH_CLIENT_ID%253E%26redirect_uri%3D%253CREPLACE_WITH_REDIRECT_URI%253E%26response_type%3Dcode%26scope%3Duser\n"
     ]
    },
    {
     "ename": "KeyError",
     "evalue": "'access_token'",
     "output_type": "error",
     "traceback": [
      "\u001b[1;31m---------------------------------------------------------------------------\u001b[0m",
      "\u001b[1;31mKeyError\u001b[0m                                  Traceback (most recent call last)",
      "Cell \u001b[1;32mIn[38], line 43\u001b[0m\n\u001b[0;32m     41\u001b[0m \u001b[38;5;28mprint\u001b[39m(\u001b[38;5;124mf\u001b[39m\u001b[38;5;124m\"\u001b[39m\u001b[38;5;124mFollow the link to start the authentication with GitHub: \u001b[39m\u001b[38;5;132;01m{\u001b[39;00mlink\u001b[38;5;132;01m}\u001b[39;00m\u001b[38;5;124m\"\u001b[39m)\n\u001b[0;32m     42\u001b[0m code \u001b[38;5;241m=\u001b[39m \u001b[38;5;28minput\u001b[39m(\u001b[38;5;124m\"\u001b[39m\u001b[38;5;124mGitHub code: \u001b[39m\u001b[38;5;124m\"\u001b[39m)\n\u001b[1;32m---> 43\u001b[0m access_token \u001b[38;5;241m=\u001b[39m \u001b[43mexchange_code_for_access_token\u001b[49m\u001b[43m(\u001b[49m\u001b[43mcode\u001b[49m\u001b[43m)\u001b[49m\n\u001b[0;32m     44\u001b[0m \u001b[38;5;28mprint\u001b[39m(\u001b[38;5;124mf\u001b[39m\u001b[38;5;124m\"\u001b[39m\u001b[38;5;124mExchanged code \u001b[39m\u001b[38;5;132;01m{\u001b[39;00mcode\u001b[38;5;132;01m}\u001b[39;00m\u001b[38;5;124m with access token: \u001b[39m\u001b[38;5;132;01m{\u001b[39;00maccess_token\u001b[38;5;132;01m}\u001b[39;00m\u001b[38;5;124m\"\u001b[39m)\n\u001b[0;32m     45\u001b[0m print_user_info(access_token\u001b[38;5;241m=\u001b[39maccess_token)\n",
      "Cell \u001b[1;32mIn[38], line 27\u001b[0m, in \u001b[0;36mexchange_code_for_access_token\u001b[1;34m(code)\u001b[0m\n\u001b[0;32m     25\u001b[0m endpoint \u001b[38;5;241m=\u001b[39m \u001b[38;5;124m\"\u001b[39m\u001b[38;5;124mhttps://github.com/login/oauth/access_token\u001b[39m\u001b[38;5;124m\"\u001b[39m\n\u001b[0;32m     26\u001b[0m response \u001b[38;5;241m=\u001b[39m requests\u001b[38;5;241m.\u001b[39mpost(endpoint, params\u001b[38;5;241m=\u001b[39mparams, headers\u001b[38;5;241m=\u001b[39mheaders)\u001b[38;5;241m.\u001b[39mjson()\n\u001b[1;32m---> 27\u001b[0m \u001b[38;5;28;01mreturn\u001b[39;00m \u001b[43mresponse\u001b[49m\u001b[43m[\u001b[49m\u001b[38;5;124;43m\"\u001b[39;49m\u001b[38;5;124;43maccess_token\u001b[39;49m\u001b[38;5;124;43m\"\u001b[39;49m\u001b[43m]\u001b[49m\n",
      "\u001b[1;31mKeyError\u001b[0m: 'access_token'"
     ]
    }
   ],
   "source": [
    "CLIENT_ID = \"<REPLACE_WITH_CLIENT_ID>\"\n",
    "CLIENT_SECRET = \"<REPLACE_WITH_CLIENT_SECRET>\"\n",
    "\n",
    "REDIRECT_URI = \"<REPLACE_WITH_REDIRECT_URI>\"\n",
    "\n",
    "def create_oauth_link():\n",
    "    params = {\n",
    "        \"client_id\": CLIENT_ID,\n",
    "        \"redirect_uri\": REDIRECT_URI,\n",
    "        \"scope\": \"user\",\n",
    "        \"response_type\": \"code\",\n",
    "    }\n",
    "    endpoint = \"https://github.com/login/oauth/authorize\"\n",
    "    response = requests.get(endpoint, params=params)\n",
    "    return response.url\n",
    "\n",
    "def exchange_code_for_access_token(code=None):\n",
    "    params = {\n",
    "        \"client_id\": CLIENT_ID,\n",
    "        \"client_secret\": CLIENT_SECRET,\n",
    "        \"redirect_uri\": REDIRECT_URI,\n",
    "        \"code\": code,\n",
    "    }\n",
    "    headers = {\"Accept\": \"application/json\"}\n",
    "    endpoint = \"https://github.com/login/oauth/access_token\"\n",
    "    response = requests.post(endpoint, params=params, headers=headers).json()\n",
    "    return response[\"access_token\"]\n",
    "\n",
    "def print_user_info(access_token=None):\n",
    "    headers = {\"Authorization\": f\"token {access_token}\"}\n",
    "    endpoint = \"https://api.github.com/user\"\n",
    "    response = requests.get(endpoint, headers=headers).json()\n",
    "    name = response[\"name\"]\n",
    "    username = response[\"login\"]\n",
    "    private_repos_count = response[\"total_private_repos\"]\n",
    "    print(\n",
    "        f\"{name} ({username}) | private repositories: {private_repos_count}\"\n",
    "    )\n",
    "\n",
    "link = create_oauth_link()\n",
    "print(f\"Follow the link to start the authentication with GitHub: {link}\")\n",
    "code = input(\"GitHub code: \")\n",
    "access_token = exchange_code_for_access_token(code)\n",
    "print(f\"Exchanged code {code} with access token: {access_token}\")\n",
    "print_user_info(access_token=access_token)"
   ]
  },
  {
   "cell_type": "code",
   "execution_count": 39,
   "metadata": {},
   "outputs": [
    {
     "data": {
      "text/plain": [
       "'35150331677'"
      ]
     },
     "execution_count": 39,
     "metadata": {},
     "output_type": "execute_result"
    }
   ],
   "source": [
    "response = requests.get(\"https://api.github.com/events?per_page=1&page=0\")\n",
    "response.json()[0][\"id\"]\n",
    "\n",
    "\n",
    "response = requests.get(\"https://api.github.com/events?per_page=1&page=1\")\n",
    "response.json()[0][\"id\"]\n",
    "\n",
    "\n",
    "response = requests.get(\"https://api.github.com/events?per_page=1&page=2\")\n",
    "response.json()[0][\"id\"]"
   ]
  },
  {
   "cell_type": "code",
   "execution_count": 40,
   "metadata": {},
   "outputs": [
    {
     "name": "stdout",
     "output_type": "stream",
     "text": [
      "1 - 200\n",
      "2 - 200\n",
      "3 - 200\n",
      "4 - 200\n",
      "5 - 200\n",
      "6 - 200\n",
      "7 - 200\n",
      "8 - 200\n",
      "9 - 200\n",
      "10 - 200\n",
      "11 - 200\n",
      "12 - 200\n",
      "13 - 200\n",
      "14 - 200\n",
      "15 - 200\n",
      "16 - 200\n",
      "17 - 200\n",
      "18 - 200\n",
      "19 - 200\n",
      "20 - 200\n",
      "21 - 200\n",
      "22 - 200\n",
      "23 - 200\n",
      "24 - 200\n",
      "25 - 200\n",
      "26 - 200\n",
      "27 - 200\n",
      "28 - 200\n",
      "29 - 200\n",
      "30 - 200\n",
      "31 - 200\n",
      "32 - 200\n",
      "33 - 200\n",
      "34 - 200\n",
      "35 - 200\n",
      "36 - 200\n",
      "37 - 200\n",
      "38 - 200\n",
      "39 - 200\n",
      "40 - 200\n",
      "41 - 200\n",
      "42 - 200\n",
      "43 - 200\n",
      "44 - 200\n",
      "45 - 200\n",
      "46 - 200\n",
      "47 - 200\n",
      "48 - 200\n",
      "49 - 200\n",
      "50 - 200\n",
      "51 - 200\n",
      "52 - 200\n",
      "53 - 200\n",
      "54 - 200\n",
      "55 - 200\n",
      "56 - 200\n",
      "57 - 200\n",
      "58 - 403\n"
     ]
    },
    {
     "data": {
      "text/plain": [
       "{'message': \"API rate limit exceeded for 145.101.215.96. (But here's the good news: Authenticated requests get a higher rate limit. Check out the documentation for more details.)\",\n",
       " 'documentation_url': 'https://docs.github.com/rest/overview/resources-in-the-rest-api#rate-limiting'}"
      ]
     },
     "execution_count": 40,
     "metadata": {},
     "output_type": "execute_result"
    }
   ],
   "source": [
    "endpoint = \"https://api.github.com/events\"\n",
    "for i in range(1, 100):\n",
    "    response = requests.get(endpoint)\n",
    "    print(f\"{i} - {response.status_code}\")\n",
    "    if response.status_code != 200:\n",
    "        break\n",
    "\n",
    "response\n",
    "\n",
    "response.json()"
   ]
  },
  {
   "cell_type": "code",
   "execution_count": 44,
   "metadata": {},
   "outputs": [],
   "source": [
    "# Replace the following with the API key generated.\n",
    "API_KEY = \"API_KEY\"\n",
    "endpoint = \"https://api.giphy.com/v1/gifs/trending\"\n",
    "\n",
    "params = {\"api_key\": API_KEY, \"limit\": 3, \"rating\": \"g\"}\n",
    "response = requests.get(endpoint, params=params).json()\n",
    "for gif in response[\"data\"]:\n",
    "    title = gif[\"title\"]\n",
    "    trending_date = gif[\"trending_datetime\"]\n",
    "    url = gif[\"url\"]\n",
    "    print(f\"{title} | {trending_date}\\n{url}\\n\")"
   ]
  },
  {
   "cell_type": "code",
   "execution_count": 45,
   "metadata": {},
   "outputs": [],
   "source": [
    "# Replace the following with the API key generated.\n",
    "API_KEY = \"API_KEY\"\n",
    "endpoint = \"https://api.giphy.com/v1/gifs/search\"\n",
    "\n",
    "search_term = \"shrug\"\n",
    "params = {\"api_key\": API_KEY, \"limit\": 1, \"q\": search_term, \"rating\": \"g\"}\n",
    "response = requests.get(endpoint, params=params).json()\n",
    "for gif in response[\"data\"]:\n",
    "    title = gif[\"title\"]\n",
    "    url = gif[\"url\"]\n",
    "    print(f\"{title} | {url}\")"
   ]
  },
  {
   "cell_type": "code",
   "execution_count": 46,
   "metadata": {},
   "outputs": [
    {
     "name": "stdout",
     "output_type": "stream",
     "text": [
      "Moby Dick (2015-06-29)\n",
      "In een van de onbetwiste hoogtepunten uit de wereldliteratuur voert de bezeten kapitein Achab een mythische strijd met Moby Dick, een witte walvis. Vanwege dat beest is hij ooit zijn been verloren en nu is de kapitein uit op wraak. Achab offert willens en wetens het welzijn van zijn schip en bemanning op aan zijn persoonlijke haat tegen Moby Dick, die voor hem het kwaad, de erfzonde en het demonische vertegenwoordigt. Hij is vastbesloten het beest te vinden en hij laat zich door niets of niemand tegenhouden om dat doel te behalen. De Amerikaanse Herman Melville (1819-1891) schreef in 1851 MOBY DICK, naar een ongewoon grote en agressieve witte potvis die zoveel rampen zou hebben veroorzaakt voor de walvisvaarders dat het was uitgegroeid tot een mythe. De roman werd in die tijd niet goed ontvangen. Het verkreeg pas na zijn dood bekendheid en is inmiddels uitgegroeid tot een van de belangrijkste meesterwerken uit de Amerikaanse literatuur.\n",
      "\n",
      "Moby Dick (1892)\n",
      "A literary classic that wasn't recognized for its merits until decades after its publication, Herman Melville's Moby-Dick tells the tale of a whaling ship and its crew, who are carried progressively further out to sea by the fiery Captain Ahab. Obsessed with killing the massive whale, which had previously bitten off Ahab's leg, the seasoned seafarer steers his ship to confront the creature, while the rest of the shipmates, including the young narrator, Ishmael, and the harpoon expert, Queequeg, must contend with their increasingly dire journey. The book invariably lands on any short list of the greatest American novels.\n",
      "\n",
      "Moby Dick; Or, The Whale (1983-08-16)\n",
      "The story of Captain Ahab's obssession with the great white whale that crippled him is presented in a specially designed edition\n",
      "\n"
     ]
    }
   ],
   "source": [
    "endpoint = \"https://www.googleapis.com/books/v1/volumes\"\n",
    "query = \"moby dick\"\n",
    "\n",
    "params = {\"q\": query, \"maxResults\": 3}\n",
    "response = requests.get(endpoint, params=params).json()\n",
    "for book in response[\"items\"]:\n",
    "    volume = book[\"volumeInfo\"]\n",
    "    title = volume[\"title\"]\n",
    "    published = volume[\"publishedDate\"]\n",
    "    description = volume[\"description\"]\n",
    "    print(f\"{title} ({published})\\n{description}\\n\")"
   ]
  },
  {
   "cell_type": "markdown",
   "metadata": {},
   "source": [
    "    My SQL Connector"
   ]
  },
  {
   "cell_type": "code",
   "execution_count": null,
   "metadata": {},
   "outputs": [
    {
     "name": "stdout",
     "output_type": "stream",
     "text": [
      "<mysql.connector.connection_cext.CMySQLConnection object at 0x000002515BBB19A0>\n"
     ]
    }
   ],
   "source": [
    "try:\n",
    "    with connect(\n",
    "        host=\"localhost\",\n",
    "        user=input(\"Enter username: \"),\n",
    "        password=getpass(\"Enter password: \"),\n",
    "    ) as connection:\n",
    "        print(connection)\n",
    "except Error as e:\n",
    "    print(e)"
   ]
  },
  {
   "cell_type": "markdown",
   "metadata": {},
   "source": [
    "Creating the database"
   ]
  },
  {
   "cell_type": "code",
   "execution_count": null,
   "metadata": {},
   "outputs": [
    {
     "name": "stdout",
     "output_type": "stream",
     "text": [
      "1007 (HY000): Can't create database 'online_movie_rating'; database exists\n"
     ]
    }
   ],
   "source": [
    "try:\n",
    "    with connect(\n",
    "        host=\"localhost\",\n",
    "        user=input(\"Enter username: \"),\n",
    "        password=getpass(\"Enter password: \"),\n",
    "    ) as connection:\n",
    "        create_db_query = \"CREATE DATABASE online_movie_rating\"\n",
    "        with connection.cursor() as cursor:\n",
    "            cursor.execute(create_db_query)\n",
    "        show_db_query = \"SHOW DATABASES\"\n",
    "        with connection.cursor() as cursor:\n",
    "            cursor.execute(show_db_query)\n",
    "        for db in cursor:\n",
    "            print(db)\n",
    "except Error as e:\n",
    "    print(e)"
   ]
  },
  {
   "cell_type": "code",
   "execution_count": null,
   "metadata": {},
   "outputs": [
    {
     "name": "stdout",
     "output_type": "stream",
     "text": [
      "<mysql.connector.connection_cext.CMySQLConnection object at 0x000002515BBB19A0>\n"
     ]
    }
   ],
   "source": [
    "try:\n",
    "    with connect(\n",
    "        host=\"localhost\",\n",
    "        user=input(\"Enter username: \"),\n",
    "        password=getpass(\"Enter password: \"),\n",
    "        database=\"online_movie_rating\",\n",
    "    ) as connection:\n",
    "        print(connection)\n",
    "except Error as e:\n",
    "    print(e)"
   ]
  },
  {
   "cell_type": "code",
   "execution_count": null,
   "metadata": {},
   "outputs": [
    {
     "name": "stdout",
     "output_type": "stream",
     "text": [
      "1050 (42S01): Table 'movies' already exists\n"
     ]
    }
   ],
   "source": [
    "try:\n",
    "    with connect(\n",
    "        host=\"localhost\",\n",
    "        user=input(\"Enter username: \"),\n",
    "        password=getpass(\"Enter password: \"),\n",
    "        database=\"online_movie_rating\",\n",
    "    ) as connection:\n",
    "        create_movies_table_query = \"\"\"\n",
    "    CREATE TABLE movies(\n",
    "        id INT AUTO_INCREMENT PRIMARY KEY,\n",
    "        title VARCHAR(100),\n",
    "        release_year YEAR(4),\n",
    "        genre VARCHAR(100),\n",
    "        collection_in_mil INT\n",
    "        )\n",
    "        \"\"\"\n",
    "        with connection.cursor() as cursor:\n",
    "            cursor.execute(create_movies_table_query)\n",
    "            connection.commit()\n",
    "except Error as e:\n",
    "    print(e)"
   ]
  },
  {
   "cell_type": "markdown",
   "metadata": {},
   "source": [
    "How to create the tables: Movie, Ratings, Reviewers."
   ]
  },
  {
   "cell_type": "code",
   "execution_count": null,
   "metadata": {},
   "outputs": [
    {
     "name": "stdout",
     "output_type": "stream",
     "text": [
      "1050 (42S01): Table 'reviewers' already exists\n"
     ]
    }
   ],
   "source": [
    "try:\n",
    "    with connect(\n",
    "        host=\"localhost\",\n",
    "        user=input(\"Enter username: \"),\n",
    "        password=getpass(\"Enter password: \"),\n",
    "        database=\"online_movie_rating\",\n",
    "    ) as connection:\n",
    "        create_reviewers_table_query = \"\"\"\n",
    "        CREATE TABLE reviewers (\n",
    "        id INT AUTO_INCREMENT PRIMARY KEY,\n",
    "        first_name VARCHAR(100),\n",
    "        last_name VARCHAR(100)\n",
    "        )\n",
    "        \"\"\"\n",
    "        with connection.cursor() as cursor:\n",
    "            cursor.execute(create_reviewers_table_query)\n",
    "            connection.commit()\n",
    "except Error as e:\n",
    "    print(e)"
   ]
  },
  {
   "cell_type": "code",
   "execution_count": null,
   "metadata": {},
   "outputs": [
    {
     "name": "stdout",
     "output_type": "stream",
     "text": [
      "1050 (42S01): Table 'ratings' already exists\n"
     ]
    }
   ],
   "source": [
    "try:\n",
    "    with connect(\n",
    "        host=\"localhost\",\n",
    "        user=input(\"Enter username: \"),\n",
    "        password=getpass(\"Enter password: \"),\n",
    "        database=\"online_movie_rating\",\n",
    "    ) as connection:\n",
    "        create_ratings_table_query = \"\"\"\n",
    "        CREATE TABLE ratings (\n",
    "            movie_id INT,\n",
    "            reviewer_id INT,\n",
    "            rating DECIMAL(2,1),\n",
    "            FOREIGN KEY(movie_id) REFERENCES movies(id),\n",
    "            FOREIGN KEY(reviewer_id) REFERENCES reviewers(id),\n",
    "            PRIMARY KEY(movie_id, reviewer_id)\n",
    "        )\n",
    "        \"\"\"\n",
    "        with connection.cursor() as cursor:\n",
    "            cursor.execute(create_ratings_table_query)\n",
    "            connection.commit()\n",
    "except Error as e:\n",
    "    print(e)"
   ]
  },
  {
   "cell_type": "code",
   "execution_count": null,
   "metadata": {},
   "outputs": [
    {
     "name": "stdout",
     "output_type": "stream",
     "text": [
      "('id', 'int', 'NO', 'PRI', None, 'auto_increment')\n",
      "('title', 'varchar(100)', 'YES', '', None, '')\n",
      "('release_year', 'year', 'YES', '', None, '')\n",
      "('genre', 'varchar(100)', 'YES', '', None, '')\n",
      "('collection_in_mil', 'decimal(4,1)', 'YES', '', None, '')\n"
     ]
    }
   ],
   "source": [
    "try:\n",
    "    with connect(\n",
    "        host=\"localhost\",\n",
    "        user=input(\"Enter username: \"),\n",
    "        password=getpass(\"Enter password: \"),\n",
    "        database=\"online_movie_rating\",\n",
    "    ) as connection:\n",
    "        with connection.cursor() as cursor:\n",
    "            show_table_query = \"DESCRIBE movies\"\n",
    "        with connection.cursor() as cursor:\n",
    "            cursor.execute(show_table_query)\n",
    "            # Fetch rows from last executed query\n",
    "            result = cursor.fetchall()\n",
    "            for row in result:\n",
    "                print(row)\n",
    "except Error as e:\n",
    "    print(e)"
   ]
  },
  {
   "cell_type": "code",
   "execution_count": null,
   "metadata": {},
   "outputs": [
    {
     "name": "stdout",
     "output_type": "stream",
     "text": [
      "Movie Table Schema after alteration:\n",
      "('id', 'int', 'NO', 'PRI', None, 'auto_increment')\n",
      "('title', 'varchar(100)', 'YES', '', None, '')\n",
      "('release_year', 'year', 'YES', '', None, '')\n",
      "('genre', 'varchar(100)', 'YES', '', None, '')\n",
      "('collection_in_mil', 'decimal(4,1)', 'YES', '', None, '')\n"
     ]
    }
   ],
   "source": [
    "try:\n",
    "    with connect(\n",
    "        host=\"localhost\",\n",
    "        user=input(\"Enter username: \"),\n",
    "        password=getpass(\"Enter password: \"),\n",
    "        database=\"online_movie_rating\",\n",
    "    ) as connection:\n",
    "        alter_table_query = \"\"\"\n",
    "        ALTER TABLE movies\n",
    "        MODIFY COLUMN collection_in_mil DECIMAL(4,1)\n",
    "        \"\"\"\n",
    "        show_table_query = \"DESCRIBE movies\"\n",
    "        with connection.cursor() as cursor:\n",
    "            cursor.execute(alter_table_query)\n",
    "            cursor.execute(show_table_query)\n",
    "            # Fetch rows from last executed query\n",
    "            result = cursor.fetchall()\n",
    "            print(\"Movie Table Schema after alteration:\")\n",
    "            for row in result:\n",
    "                print(row)\n",
    "except Error as e:\n",
    "    print(e)"
   ]
  },
  {
   "cell_type": "markdown",
   "metadata": {},
   "source": [
    "How to delete a table from the database."
   ]
  },
  {
   "cell_type": "code",
   "execution_count": null,
   "metadata": {},
   "outputs": [],
   "source": [
    "#Deleting a table (the code will be put in comments so it wont break the database)\n",
    "\n",
    "# try:\n",
    "#     with connect(\n",
    "#         host=\"localhost\",\n",
    "#         user=input(\"Enter username: \"),\n",
    "#         password=getpass(\"Enter password: \"),\n",
    "#         database=\"online_movie_rating\",\n",
    "#     ) as connection:\n",
    "#         drop_table_query = \"DROP TABLE ratings\"\n",
    "#     with connection.cursor() as cursor:\n",
    "#         cursor.execute(drop_table_query)\n",
    "# except Error as e:\n",
    "#     print(e)"
   ]
  },
  {
   "cell_type": "markdown",
   "metadata": {},
   "source": [
    "Adding data in the tables."
   ]
  },
  {
   "cell_type": "code",
   "execution_count": 47,
   "metadata": {},
   "outputs": [],
   "source": [
    "try:\n",
    "    with connect(\n",
    "        host=\"localhost\",\n",
    "        user=input(\"Enter username: \"),\n",
    "        password=getpass(\"Enter password: \"),\n",
    "        database=\"online_movie_rating\",\n",
    "    ) as connection:\n",
    "        insert_movies_query = \"\"\"\n",
    "        INSERT INTO movies (title, release_year, genre, collection_in_mil)\n",
    "        VALUES\n",
    "            (\"Forrest Gump\", 1994, \"Drama\", 330.2),\n",
    "            (\"3 Idiots\", 2009, \"Drama\", 2.4),\n",
    "            (\"Eternal Sunshine of the Spotless Mind\", 2004, \"Drama\", 34.5),\n",
    "            (\"Good Will Hunting\", 1997, \"Drama\", 138.1),\n",
    "            (\"Skyfall\", 2012, \"Action\", 304.6),\n",
    "            (\"Gladiator\", 2000, \"Action\", 188.7),\n",
    "            (\"Black\", 2005, \"Drama\", 3.0),\n",
    "            (\"Titanic\", 1997, \"Romance\", 659.2),\n",
    "            (\"The Shawshank Redemption\", 1994, \"Drama\",28.4),\n",
    "            (\"Udaan\", 2010, \"Drama\", 1.5),\n",
    "            (\"Home Alone\", 1990, \"Comedy\", 286.9),\n",
    "            (\"Casablanca\", 1942, \"Romance\", 1.0),\n",
    "            (\"Avengers: Endgame\", 2019, \"Action\", 858.8),\n",
    "            (\"Night of the Living Dead\", 1968, \"Horror\", 2.5),\n",
    "            (\"The Godfather\", 1972, \"Crime\", 135.6),\n",
    "            (\"Haider\", 2014, \"Action\", 4.2),\n",
    "            (\"Inception\", 2010, \"Adventure\", 293.7),\n",
    "            (\"Evil\", 2003, \"Horror\", 1.3),\n",
    "            (\"Toy Story 4\", 2019, \"Animation\", 434.9),\n",
    "            (\"Air Force One\", 1997, \"Drama\", 138.1),\n",
    "            (\"The Dark Knight\", 2008, \"Action\",535.4),\n",
    "            (\"Bhaag Milkha Bhaag\", 2013, \"Sport\", 4.1),\n",
    "            (\"The Lion King\", 1994, \"Animation\", 423.6),\n",
    "            (\"Pulp Fiction\", 1994, \"Crime\", 108.8),\n",
    "            (\"Kai Po Che\", 2013, \"Sport\", 6.0),\n",
    "            (\"Beasts of No Nation\", 2015, \"War\", 1.4),\n",
    "            (\"Andadhun\", 2018, \"Thriller\", 2.9),\n",
    "            (\"The Silence of the Lambs\", 1991, \"Crime\", 68.2),\n",
    "            (\"Deadpool\", 2016, \"Action\", 363.6),\n",
    "            (\"Drishyam\", 2015, \"Mystery\", 3.0)\n",
    "        \"\"\"\n",
    "        with connection.cursor() as cursor:\n",
    "            cursor.execute(insert_movies_query)\n",
    "            connection.commit()\n",
    "except Error as e:\n",
    "    print(e)"
   ]
  },
  {
   "cell_type": "markdown",
   "metadata": {},
   "source": [
    "Inserting records with the function .executemany()"
   ]
  },
  {
   "cell_type": "code",
   "execution_count": 48,
   "metadata": {},
   "outputs": [
    {
     "name": "stdout",
     "output_type": "stream",
     "text": [
      "1045 (28000): Access denied for user 'root'@'localhost' (using password: YES)\n"
     ]
    }
   ],
   "source": [
    "try:\n",
    "    with connect(\n",
    "        host=\"localhost\",\n",
    "        user=input(\"Enter username: \"),\n",
    "        password=getpass(\"Enter password: \"),\n",
    "        database=\"online_movie_rating\",\n",
    "    ) as connection:\n",
    "        insert_reviewers_query = \"\"\"\n",
    "INSERT INTO reviewers\n",
    "(first_name, last_name)\n",
    "VALUES ( %s, %s )\n",
    "\"\"\"\n",
    "        reviewers_records = [\n",
    "            (\"Chaitanya\", \"Baweja\"),\n",
    "            (\"Mary\", \"Cooper\"),\n",
    "            (\"John\", \"Wayne\"),\n",
    "            (\"Thomas\", \"Stoneman\"),\n",
    "            (\"Penny\", \"Hofstadter\"),\n",
    "            (\"Mitchell\", \"Marsh\"),\n",
    "            (\"Wyatt\", \"Skaggs\"),\n",
    "            (\"Andre\", \"Veiga\"),\n",
    "            (\"Sheldon\", \"Cooper\"),\n",
    "            (\"Kimbra\", \"Masters\"),\n",
    "            (\"Kat\", \"Dennings\"),\n",
    "            (\"Bruce\", \"Wayne\"),\n",
    "            (\"Domingo\", \"Cortes\"),\n",
    "            (\"Rajesh\", \"Koothrappali\"),\n",
    "            (\"Ben\", \"Glocker\"),\n",
    "            (\"Mahinder\", \"Dhoni\"),\n",
    "            (\"Akbar\", \"Khan\"),\n",
    "            (\"Howard\", \"Wolowitz\"),\n",
    "            (\"Pinkie\", \"Petit\"),\n",
    "            (\"Gurkaran\", \"Singh\"),\n",
    "            (\"Amy\", \"Farah Fowler\"),\n",
    "            (\"Marlon\", \"Crafford\"),\n",
    "        ]\n",
    "        with connection.cursor() as cursor:\n",
    "            cursor.executemany(insert_reviewers_query, reviewers_records)\n",
    "            connection.commit()\n",
    "except Error as e:\n",
    "    print(e)"
   ]
  },
  {
   "cell_type": "markdown",
   "metadata": {},
   "source": [
    "Adding data in the Reviews table."
   ]
  },
  {
   "cell_type": "code",
   "execution_count": null,
   "metadata": {},
   "outputs": [
    {
     "name": "stdout",
     "output_type": "stream",
     "text": [
      "1062 (23000): Duplicate entry '17-5' for key 'ratings.PRIMARY'\n"
     ]
    }
   ],
   "source": [
    "try:\n",
    "    with connect(\n",
    "        host=\"localhost\",\n",
    "        user=input(\"Enter username: \"),\n",
    "        password=getpass(\"Enter password: \"),\n",
    "        database=\"online_movie_rating\",\n",
    "    ) as connection:\n",
    "        insert_ratings_query = \"\"\"\n",
    "INSERT INTO ratings\n",
    "(rating, movie_id, reviewer_id)\n",
    "VALUES ( %s, %s, %s)\n",
    "\"\"\"\n",
    "        ratings_records = [\n",
    "            (6.4, 17, 5), (5.6, 19, 1), (6.3, 22, 14), (5.1, 21, 17),\n",
    "            (5.0, 5, 5), (6.5, 21, 5), (8.5, 30, 13), (9.7, 6, 4),\n",
    "            (8.5, 24, 12), (9.9, 14, 9), (8.7, 26, 14), (9.9, 6, 10),\n",
    "            (5.1, 30, 6), (5.4, 18, 16), (6.2, 6, 20), (7.3, 21, 19),\n",
    "            (8.1, 17, 18), (5.0, 7, 2), (9.8, 23, 3), (8.0, 22, 9),\n",
    "            (8.5, 11, 13), (5.0, 5, 11), (5.7, 8, 2), (7.6, 25, 19),\n",
    "            (5.2, 18, 15), (9.7, 13, 3), (5.8, 18, 8), (5.8, 30, 15),\n",
    "            (8.4, 21, 18), (6.2, 23, 16), (7.0, 10, 18), (9.5, 30, 20),\n",
    "            (8.9, 3, 19), (6.4, 12, 2), (7.8, 12, 22), (9.9, 15, 13),\n",
    "            (7.5, 20, 17), (9.0, 25, 6), (8.5, 23, 2), (5.3, 30, 17),\n",
    "            (6.4, 5, 10), (8.1, 5, 21), (5.7, 22, 1), (6.3, 28, 4),\n",
    "            (9.8, 13, 1)\n",
    "        ]\n",
    "        with connection.cursor() as cursor:\n",
    "            cursor.executemany(insert_ratings_query, ratings_records)\n",
    "            connection.commit()\n",
    "except Error as e:\n",
    "    print(e)"
   ]
  },
  {
   "cell_type": "markdown",
   "metadata": {},
   "source": [
    "Reading the data from the table."
   ]
  },
  {
   "cell_type": "code",
   "execution_count": null,
   "metadata": {},
   "outputs": [
    {
     "name": "stdout",
     "output_type": "stream",
     "text": [
      "(1, 'Forrest Gump', 1994, 'Drama', Decimal('330.2'))\n",
      "(2, '3 Idiots', 2009, 'Drama', Decimal('2.4'))\n",
      "(3, 'Eternal Sunshine of the Spotless Mind', 2004, 'Drama', Decimal('34.5'))\n",
      "(4, 'Good Will Hunting', 1997, 'Drama', Decimal('138.1'))\n",
      "(5, 'Skyfall', 2012, 'Action', Decimal('304.6'))\n"
     ]
    }
   ],
   "source": [
    "try:\n",
    "    with connect(\n",
    "        host=\"localhost\",\n",
    "        user=input(\"Enter username: \"),\n",
    "        password=getpass(\"Enter password: \"),\n",
    "        database=\"online_movie_rating\",\n",
    "    ) as connection:\n",
    "        select_movies_query = \"SELECT * FROM movies LIMIT 5\"\n",
    "        with connection.cursor() as cursor:\n",
    "            cursor.execute(select_movies_query)\n",
    "            result = cursor.fetchall()\n",
    "            for row in result:\n",
    "                print(row)\n",
    "except Error as e:\n",
    "    print(e)"
   ]
  },
  {
   "cell_type": "markdown",
   "metadata": {},
   "source": [
    "Query for selected columns."
   ]
  },
  {
   "cell_type": "code",
   "execution_count": null,
   "metadata": {},
   "outputs": [
    {
     "name": "stdout",
     "output_type": "stream",
     "text": [
      "('Forrest Gump', 1994)\n",
      "('3 Idiots', 2009)\n",
      "('Eternal Sunshine of the Spotless Mind', 2004)\n",
      "('Good Will Hunting', 1997)\n",
      "('Skyfall', 2012)\n"
     ]
    }
   ],
   "source": [
    "try:\n",
    "    with connect(\n",
    "        host=\"localhost\",\n",
    "        user=input(\"Enter username: \"),\n",
    "        password=getpass(\"Enter password: \"),\n",
    "        database=\"online_movie_rating\",\n",
    "    ) as connection:\n",
    "        select_movies_query = \"SELECT title, release_year FROM movies LIMIT 5\"\n",
    "        with connection.cursor() as cursor:\n",
    "            cursor.execute(select_movies_query)\n",
    "            for row in cursor.fetchall():\n",
    "                print(row)\n",
    "except Error as e:\n",
    "    print(e)"
   ]
  },
  {
   "cell_type": "markdown",
   "metadata": {},
   "source": [
    "Filtering results using the WHERE clause."
   ]
  },
  {
   "cell_type": "code",
   "execution_count": null,
   "metadata": {},
   "outputs": [
    {
     "name": "stdout",
     "output_type": "stream",
     "text": [
      "('Avengers: Endgame', Decimal('858.8'))\n",
      "('Avengers: Endgame', Decimal('858.8'))\n",
      "('Titanic', Decimal('659.2'))\n",
      "('Titanic', Decimal('659.2'))\n",
      "('The Dark Knight', Decimal('535.4'))\n",
      "('The Dark Knight', Decimal('535.4'))\n",
      "('Toy Story 4', Decimal('434.9'))\n",
      "('Toy Story 4', Decimal('434.9'))\n",
      "('The Lion King', Decimal('423.6'))\n",
      "('The Lion King', Decimal('423.6'))\n",
      "('Deadpool', Decimal('363.6'))\n",
      "('Deadpool', Decimal('363.6'))\n",
      "('Forrest Gump', Decimal('330.2'))\n",
      "('Forrest Gump', Decimal('330.2'))\n",
      "('Skyfall', Decimal('304.6'))\n",
      "('Skyfall', Decimal('304.6'))\n"
     ]
    }
   ],
   "source": [
    "try:\n",
    "    with connect(\n",
    "        host=\"localhost\",\n",
    "        user=input(\"Enter username: \"),\n",
    "        password=getpass(\"Enter password: \"),\n",
    "        database=\"online_movie_rating\",\n",
    "    ) as connection:\n",
    "        select_movies_query = \"\"\"\n",
    "        SELECT title, collection_in_mil\n",
    "        FROM movies\n",
    "        WHERE collection_in_mil > 300\n",
    "        ORDER BY collection_in_mil DESC\n",
    "        \"\"\"\n",
    "        with connection.cursor() as cursor:\n",
    "            cursor.execute(select_movies_query)\n",
    "            for movie in cursor.fetchall():\n",
    "                print(movie)\n",
    "except Error as e:\n",
    "    print(e)"
   ]
  },
  {
   "cell_type": "code",
   "execution_count": null,
   "metadata": {},
   "outputs": [
    {
     "name": "stdout",
     "output_type": "stream",
     "text": [
      "('Avengers: Endgame (2019)', Decimal('858.8'))\n",
      "('Avengers: Endgame (2019)', Decimal('858.8'))\n",
      "('Titanic (1997)', Decimal('659.2'))\n",
      "('Titanic (1997)', Decimal('659.2'))\n",
      "('The Dark Knight (2008)', Decimal('535.4'))\n"
     ]
    }
   ],
   "source": [
    "try:\n",
    "    with connect(\n",
    "        host=\"localhost\",\n",
    "        user=input(\"Enter username: \"),\n",
    "        password=getpass(\"Enter password: \"),\n",
    "        database=\"online_movie_rating\",\n",
    "    ) as connection:\n",
    "        select_movies_query = \"\"\"\n",
    "        SELECT CONCAT(title, \" (\", release_year, \")\"),\n",
    "            collection_in_mil\n",
    "        FROM movies\n",
    "        ORDER BY collection_in_mil DESC\n",
    "        LIMIT 5\n",
    "        \"\"\"\n",
    "        with connection.cursor() as cursor:\n",
    "            cursor.execute(select_movies_query)\n",
    "            for movie in cursor.fetchall():\n",
    "                print(movie)\n",
    "except Error as e:\n",
    "    print(e)"
   ]
  },
  {
   "cell_type": "markdown",
   "metadata": {},
   "source": [
    "Handling multiple tables using the JOIN statement."
   ]
  },
  {
   "cell_type": "code",
   "execution_count": null,
   "metadata": {},
   "outputs": [
    {
     "name": "stdout",
     "output_type": "stream",
     "text": [
      "('Night of the Living Dead', Decimal('9.90000'))\n",
      "('The Godfather', Decimal('9.90000'))\n",
      "('Avengers: Endgame', Decimal('9.75000'))\n",
      "('Eternal Sunshine of the Spotless Mind', Decimal('8.90000'))\n",
      "('Beasts of No Nation', Decimal('8.70000'))\n"
     ]
    }
   ],
   "source": [
    "try:\n",
    "    with connect(\n",
    "        host=\"localhost\",\n",
    "        user=input(\"Enter username: \"),\n",
    "        password=getpass(\"Enter password: \"),\n",
    "        database=\"online_movie_rating\",\n",
    "    ) as connection:\n",
    "        select_movies_query = \"\"\"\n",
    "        SELECT title, AVG(rating) as average_rating\n",
    "        FROM ratings\n",
    "        INNER JOIN movies\n",
    "            ON movies.id = ratings.movie_id\n",
    "        GROUP BY movie_id\n",
    "        ORDER BY average_rating DESC\n",
    "        LIMIT 5\n",
    "        \"\"\"\n",
    "        with connection.cursor() as cursor:\n",
    "            cursor.execute(select_movies_query)\n",
    "            for movie in cursor.fetchall():\n",
    "                print(movie)\n",
    "except Error as e:\n",
    "    print(e)"
   ]
  },
  {
   "cell_type": "markdown",
   "metadata": {},
   "source": [
    "The name of the reviewer with the most ratings given."
   ]
  },
  {
   "cell_type": "code",
   "execution_count": null,
   "metadata": {},
   "outputs": [
    {
     "name": "stdout",
     "output_type": "stream",
     "text": [
      "('Chaitanya Baweja', 3)\n"
     ]
    }
   ],
   "source": [
    "try:\n",
    "    with connect(\n",
    "        host=\"localhost\",\n",
    "        user=input(\"Enter username: \"),\n",
    "        password=getpass(\"Enter password: \"),\n",
    "        database=\"online_movie_rating\",\n",
    "    ) as connection:\n",
    "        select_movies_query = \"\"\"\n",
    "        SELECT CONCAT(first_name, \" \", last_name), COUNT(*) as num\n",
    "        FROM reviewers\n",
    "        INNER JOIN ratings\n",
    "            ON reviewers.id = ratings.reviewer_id\n",
    "        GROUP BY reviewer_id\n",
    "        ORDER BY num DESC\n",
    "        LIMIT 1\n",
    "        \"\"\"\n",
    "        with connection.cursor() as cursor:\n",
    "            cursor.execute(select_movies_query)\n",
    "            for movie in cursor.fetchall():\n",
    "                print(movie)\n",
    "except Error as e:\n",
    "    print(e)"
   ]
  },
  {
   "cell_type": "markdown",
   "metadata": {},
   "source": [
    "Updating and deleting records."
   ]
  },
  {
   "cell_type": "code",
   "execution_count": 50,
   "metadata": {},
   "outputs": [],
   "source": [
    "try:\n",
    "    with connect(\n",
    "        host=\"localhost\",\n",
    "        user=input(\"Enter username: \"),\n",
    "        password=getpass(\"Enter password: \"),\n",
    "        database=\"online_movie_rating\",\n",
    "    ) as connection:\n",
    "        update_query = \"\"\"\n",
    "        UPDATE\n",
    "            reviewers\n",
    "        SET\n",
    "            last_name = \"Cooper\"\n",
    "        WHERE\n",
    "            first_name = \"Amy\"\n",
    "        \"\"\"\n",
    "        with connection.cursor() as cursor:\n",
    "            cursor.execute(update_query)\n",
    "            connection.commit()\n",
    "except Error as e:\n",
    "    print(e)"
   ]
  },
  {
   "cell_type": "code",
   "execution_count": null,
   "metadata": {},
   "outputs": [
    {
     "name": "stdout",
     "output_type": "stream",
     "text": [
      "[]\n"
     ]
    }
   ],
   "source": [
    "\n",
    "movie_id = input(\"Enter movie id: \")\n",
    "reviewer_id = input(\"Enter reviewer id: \")\n",
    "new_rating = input(\"Enter new rating: \")\n",
    "update_query = \"\"\"\n",
    "UPDATE\n",
    "    ratings\n",
    "SET\n",
    "    rating = \"%s\"\n",
    "WHERE\n",
    "    movie_id = \"%s\" AND reviewer_id = \"%s\";\n",
    "\n",
    "SELECT *\n",
    "FROM ratings\n",
    "WHERE\n",
    "    movie_id = \"%s\" AND reviewer_id = \"%s\"\n",
    "\"\"\" % (\n",
    "    new_rating,\n",
    "    movie_id,\n",
    "    reviewer_id,\n",
    "    movie_id,\n",
    "    reviewer_id,\n",
    ")\n",
    "\n",
    "try:\n",
    "    with connect(\n",
    "        host=\"localhost\",\n",
    "        user=input(\"Enter username: \"),\n",
    "        password=getpass(\"Enter password: \"),\n",
    "        database=\"online_movie_rating\",\n",
    "    ) as connection:\n",
    "        with connection.cursor() as cursor:\n",
    "            for result in cursor.execute(update_query, multi=True):\n",
    "                if result.with_rows:\n",
    "                    print(result.fetchall())\n",
    "            connection.commit()\n",
    "except Error as e:\n",
    "    print(e)"
   ]
  },
  {
   "cell_type": "code",
   "execution_count": null,
   "metadata": {},
   "outputs": [
    {
     "name": "stdout",
     "output_type": "stream",
     "text": [
      "('Chaitanya', 'Baweja')\n",
      "('Mary', 'Cooper')\n",
      "('John', 'Wayne')\n",
      "('Thomas', 'Stoneman')\n",
      "('Penny', 'Hofstadter')\n",
      "('Mitchell', 'Marsh')\n",
      "('Wyatt', 'Skaggs')\n",
      "('Andre', 'Veiga')\n",
      "('Sheldon', 'Cooper')\n",
      "('Kimbra', 'Masters')\n",
      "('Kat', 'Dennings')\n",
      "('Bruce', 'Wayne')\n",
      "('Domingo', 'Cortes')\n",
      "('Rajesh', 'Koothrappali')\n",
      "('Ben', 'Glocker')\n",
      "('Mahinder', 'Dhoni')\n",
      "('Akbar', 'Khan')\n",
      "('Howard', 'Wolowitz')\n",
      "('Pinkie', 'Petit')\n",
      "('Gurkaran', 'Singh')\n",
      "('Amy', 'Cooper')\n",
      "('Marlon', 'Crafford')\n",
      "('Chaitanya', 'Baweja')\n",
      "('Mary', 'Cooper')\n",
      "('John', 'Wayne')\n",
      "('Thomas', 'Stoneman')\n",
      "('Penny', 'Hofstadter')\n",
      "('Mitchell', 'Marsh')\n",
      "('Wyatt', 'Skaggs')\n",
      "('Andre', 'Veiga')\n",
      "('Sheldon', 'Cooper')\n",
      "('Kimbra', 'Masters')\n",
      "('Kat', 'Dennings')\n",
      "('Bruce', 'Wayne')\n",
      "('Domingo', 'Cortes')\n",
      "('Rajesh', 'Koothrappali')\n",
      "('Ben', 'Glocker')\n",
      "('Mahinder', 'Dhoni')\n",
      "('Akbar', 'Khan')\n",
      "('Howard', 'Wolowitz')\n",
      "('Pinkie', 'Petit')\n",
      "('Gurkaran', 'Singh')\n",
      "('Amy', 'Cooper')\n",
      "('Marlon', 'Crafford')\n"
     ]
    }
   ],
   "source": [
    "try:\n",
    "    with connect(\n",
    "        host=\"localhost\",\n",
    "        user=input(\"Enter username: \"),\n",
    "        password=getpass(\"Enter password: \"),\n",
    "        database=\"online_movie_rating\",\n",
    "    ) as connection:\n",
    "        select_query = \"\"\"\n",
    "        SELECT first_name, last_name\n",
    "        FROM reviewers\n",
    "        \"\"\"\n",
    "        with connection.cursor() as cursor:\n",
    "            cursor.execute(select_query)\n",
    "            for reviewer in cursor.fetchall():\n",
    "                print(reviewer)\n",
    "except Error as e:\n",
    "    print(e)"
   ]
  },
  {
   "cell_type": "code",
   "execution_count": null,
   "metadata": {},
   "outputs": [
    {
     "name": "stdout",
     "output_type": "stream",
     "text": [
      "[]\n"
     ]
    }
   ],
   "source": [
    "from getpass import getpass\n",
    "from mysql.connector import connect, Error\n",
    "\n",
    "movie_id = input(\"Enter movie id: \")\n",
    "reviewer_id = input(\"Enter reviewer id: \")\n",
    "new_rating = input(\"Enter new rating: \")\n",
    "update_query = \"\"\"\n",
    "UPDATE\n",
    "    ratings\n",
    "SET\n",
    "    rating = %s\n",
    "WHERE\n",
    "    movie_id = %s AND reviewer_id = %s;\n",
    "\n",
    "SELECT *\n",
    "FROM ratings\n",
    "WHERE\n",
    "    movie_id = %s AND reviewer_id = %s\n",
    "\"\"\"\n",
    "val_tuple = (\n",
    "    new_rating,\n",
    "    movie_id,\n",
    "    reviewer_id,\n",
    "    movie_id,\n",
    "    reviewer_id,\n",
    ")\n",
    "\n",
    "try:\n",
    "    with connect(\n",
    "        host=\"localhost\",\n",
    "        user=input(\"Enter username: \"),\n",
    "        password=getpass(\"Enter password: \"),\n",
    "        database=\"online_movie_rating\",\n",
    "    ) as connection:\n",
    "        with connection.cursor() as cursor:\n",
    "            for result in cursor.execute(update_query, val_tuple, multi=True):\n",
    "                if result.with_rows:\n",
    "                    print(result.fetchall())\n",
    "            connection.commit()\n",
    "except Error as e:\n",
    "    print(e)"
   ]
  },
  {
   "cell_type": "markdown",
   "metadata": {},
   "source": [
    "The implementation of the DELETE command."
   ]
  },
  {
   "cell_type": "code",
   "execution_count": 51,
   "metadata": {},
   "outputs": [],
   "source": [
    "try:\n",
    "    with connect(\n",
    "        host=\"localhost\",\n",
    "        user=input(\"Enter username: \"),\n",
    "        password=getpass(\"Enter password: \"),\n",
    "        database=\"online_movie_rating\",\n",
    "    ) as connection:\n",
    "        select_movies_query = \"\"\"\n",
    "        SELECT reviewer_id, movie_id FROM ratings\n",
    "        WHERE reviewer_id = 2\n",
    "        \"\"\"\n",
    "        with connection.cursor() as cursor:\n",
    "            cursor.execute(select_movies_query)\n",
    "            for movie in cursor.fetchall():\n",
    "                print(movie)\n",
    "except Error as e:\n",
    "    print(e)"
   ]
  },
  {
   "cell_type": "code",
   "execution_count": 52,
   "metadata": {},
   "outputs": [],
   "source": [
    "try:\n",
    "    with connect(\n",
    "        host=\"localhost\",\n",
    "        user=input(\"Enter username: \"),\n",
    "        password=getpass(\"Enter password: \"),\n",
    "        database=\"online_movie_rating\",\n",
    "    ) as connection:\n",
    "        delete_query = \"DELETE FROM ratings WHERE reviewer_id = 2\"\n",
    "        with connection.cursor() as cursor:\n",
    "            cursor.execute(delete_query)\n",
    "            connection.commit()\n",
    "except Error as e:\n",
    "    print(e)"
   ]
  },
  {
   "cell_type": "markdown",
   "metadata": {},
   "source": [
    "## Machine Learning\n",
    "\n",
    "### Identifying basic Machine Learning applications.\n",
    "In the following subsection, show your understanding of each of the listed Machine Learning algorithms. Excecute these algorithms on the NAC dataset. This is related to the poor (and insufficient) criteria of ILO 5.0. \n",
    "\n",
    "❗Remember! All your package imports should be on top of this notebook."
   ]
  },
  {
   "cell_type": "markdown",
   "metadata": {},
   "source": [
    "#### Simple machine learning modelling pipeline"
   ]
  },
  {
   "cell_type": "markdown",
   "metadata": {},
   "source": [
    "Enter your code here for a simple machine learning modelling pipeline"
   ]
  },
  {
   "cell_type": "code",
   "execution_count": 53,
   "metadata": {},
   "outputs": [
    {
     "name": "stdout",
     "output_type": "stream",
     "text": [
      "(16472, 114)\n"
     ]
    },
    {
     "data": {
      "text/html": [
       "<div>\n",
       "<style scoped>\n",
       "    .dataframe tbody tr th:only-of-type {\n",
       "        vertical-align: middle;\n",
       "    }\n",
       "\n",
       "    .dataframe tbody tr th {\n",
       "        vertical-align: top;\n",
       "    }\n",
       "\n",
       "    .dataframe thead th {\n",
       "        text-align: right;\n",
       "    }\n",
       "</style>\n",
       "<table border=\"1\" class=\"dataframe\">\n",
       "  <thead>\n",
       "    <tr style=\"text-align: right;\">\n",
       "      <th></th>\n",
       "      <th>Player</th>\n",
       "      <th>Team</th>\n",
       "      <th>Team within selected timeframe</th>\n",
       "      <th>Age</th>\n",
       "      <th>Market value</th>\n",
       "      <th>Contract expires</th>\n",
       "      <th>Matches played</th>\n",
       "      <th>Minutes played</th>\n",
       "      <th>Goals</th>\n",
       "      <th>xG</th>\n",
       "      <th>...</th>\n",
       "      <th>Back passes received as GK per 90</th>\n",
       "      <th>Exits per 90</th>\n",
       "      <th>Aerial duels per 90.1</th>\n",
       "      <th>Free kicks per 90</th>\n",
       "      <th>Direct free kicks per 90</th>\n",
       "      <th>Direct free kicks on target, %</th>\n",
       "      <th>Corners per 90</th>\n",
       "      <th>Penalties taken</th>\n",
       "      <th>Penalty conversion, %</th>\n",
       "      <th>Encoded Position</th>\n",
       "    </tr>\n",
       "  </thead>\n",
       "  <tbody>\n",
       "    <tr>\n",
       "      <th>0</th>\n",
       "      <td>S. Baidoo</td>\n",
       "      <td>Salzburg</td>\n",
       "      <td>Liefering</td>\n",
       "      <td>19.0</td>\n",
       "      <td>1000000</td>\n",
       "      <td>2027-06-30</td>\n",
       "      <td>21</td>\n",
       "      <td>1986</td>\n",
       "      <td>1</td>\n",
       "      <td>1.22</td>\n",
       "      <td>...</td>\n",
       "      <td>1.45</td>\n",
       "      <td>NaN</td>\n",
       "      <td>NaN</td>\n",
       "      <td>0.00</td>\n",
       "      <td>0.00</td>\n",
       "      <td>0.0</td>\n",
       "      <td>0.00</td>\n",
       "      <td>0</td>\n",
       "      <td>0.0</td>\n",
       "      <td>1</td>\n",
       "    </tr>\n",
       "    <tr>\n",
       "      <th>2</th>\n",
       "      <td>M. Seidl</td>\n",
       "      <td>Rapid Wien</td>\n",
       "      <td>Blau-Weiß Linz</td>\n",
       "      <td>22.0</td>\n",
       "      <td>1000000</td>\n",
       "      <td>2024-06-30</td>\n",
       "      <td>26</td>\n",
       "      <td>2293</td>\n",
       "      <td>12</td>\n",
       "      <td>10.90</td>\n",
       "      <td>...</td>\n",
       "      <td>0.24</td>\n",
       "      <td>NaN</td>\n",
       "      <td>NaN</td>\n",
       "      <td>0.39</td>\n",
       "      <td>0.31</td>\n",
       "      <td>0.0</td>\n",
       "      <td>0.12</td>\n",
       "      <td>0</td>\n",
       "      <td>0.0</td>\n",
       "      <td>3</td>\n",
       "    </tr>\n",
       "    <tr>\n",
       "      <th>5</th>\n",
       "      <td>B. Okoh</td>\n",
       "      <td>Salzburg</td>\n",
       "      <td>Liefering</td>\n",
       "      <td>20.0</td>\n",
       "      <td>1000000</td>\n",
       "      <td>2025-06-30</td>\n",
       "      <td>8</td>\n",
       "      <td>476</td>\n",
       "      <td>0</td>\n",
       "      <td>0.37</td>\n",
       "      <td>...</td>\n",
       "      <td>1.32</td>\n",
       "      <td>NaN</td>\n",
       "      <td>NaN</td>\n",
       "      <td>0.00</td>\n",
       "      <td>0.00</td>\n",
       "      <td>0.0</td>\n",
       "      <td>0.00</td>\n",
       "      <td>0</td>\n",
       "      <td>0.0</td>\n",
       "      <td>1</td>\n",
       "    </tr>\n",
       "    <tr>\n",
       "      <th>7</th>\n",
       "      <td>B. Koumetio</td>\n",
       "      <td>Austria Wien</td>\n",
       "      <td>Austria Wien II</td>\n",
       "      <td>20.0</td>\n",
       "      <td>600000</td>\n",
       "      <td>2025-06-30</td>\n",
       "      <td>4</td>\n",
       "      <td>389</td>\n",
       "      <td>0</td>\n",
       "      <td>0.66</td>\n",
       "      <td>...</td>\n",
       "      <td>3.70</td>\n",
       "      <td>NaN</td>\n",
       "      <td>NaN</td>\n",
       "      <td>0.00</td>\n",
       "      <td>0.00</td>\n",
       "      <td>0.0</td>\n",
       "      <td>0.00</td>\n",
       "      <td>0</td>\n",
       "      <td>0.0</td>\n",
       "      <td>1</td>\n",
       "    </tr>\n",
       "    <tr>\n",
       "      <th>8</th>\n",
       "      <td>M. Polster</td>\n",
       "      <td>Austria Wien</td>\n",
       "      <td>Austria Wien II</td>\n",
       "      <td>20.0</td>\n",
       "      <td>600000</td>\n",
       "      <td>2025-06-30</td>\n",
       "      <td>5</td>\n",
       "      <td>464</td>\n",
       "      <td>1</td>\n",
       "      <td>0.08</td>\n",
       "      <td>...</td>\n",
       "      <td>0.39</td>\n",
       "      <td>NaN</td>\n",
       "      <td>NaN</td>\n",
       "      <td>0.00</td>\n",
       "      <td>0.00</td>\n",
       "      <td>0.0</td>\n",
       "      <td>0.00</td>\n",
       "      <td>0</td>\n",
       "      <td>0.0</td>\n",
       "      <td>1</td>\n",
       "    </tr>\n",
       "  </tbody>\n",
       "</table>\n",
       "<p>5 rows × 114 columns</p>\n",
       "</div>"
      ],
      "text/plain": [
       "        Player          Team Team within selected timeframe   Age  \\\n",
       "0    S. Baidoo      Salzburg                      Liefering  19.0   \n",
       "2     M. Seidl    Rapid Wien                 Blau-Weiß Linz  22.0   \n",
       "5      B. Okoh      Salzburg                      Liefering  20.0   \n",
       "7  B. Koumetio  Austria Wien                Austria Wien II  20.0   \n",
       "8   M. Polster  Austria Wien                Austria Wien II  20.0   \n",
       "\n",
       "   Market value Contract expires  Matches played  Minutes played  Goals  \\\n",
       "0       1000000       2027-06-30              21            1986      1   \n",
       "2       1000000       2024-06-30              26            2293     12   \n",
       "5       1000000       2025-06-30               8             476      0   \n",
       "7        600000       2025-06-30               4             389      0   \n",
       "8        600000       2025-06-30               5             464      1   \n",
       "\n",
       "      xG  ...  Back passes received as GK per 90  Exits per 90  \\\n",
       "0   1.22  ...                               1.45           NaN   \n",
       "2  10.90  ...                               0.24           NaN   \n",
       "5   0.37  ...                               1.32           NaN   \n",
       "7   0.66  ...                               3.70           NaN   \n",
       "8   0.08  ...                               0.39           NaN   \n",
       "\n",
       "   Aerial duels per 90.1  Free kicks per 90 Direct free kicks per 90  \\\n",
       "0                    NaN               0.00                     0.00   \n",
       "2                    NaN               0.39                     0.31   \n",
       "5                    NaN               0.00                     0.00   \n",
       "7                    NaN               0.00                     0.00   \n",
       "8                    NaN               0.00                     0.00   \n",
       "\n",
       "  Direct free kicks on target, % Corners per 90  Penalties taken  \\\n",
       "0                            0.0           0.00                0   \n",
       "2                            0.0           0.12                0   \n",
       "5                            0.0           0.00                0   \n",
       "7                            0.0           0.00                0   \n",
       "8                            0.0           0.00                0   \n",
       "\n",
       "   Penalty conversion, % Encoded Position  \n",
       "0                    0.0                1  \n",
       "2                    0.0                3  \n",
       "5                    0.0                1  \n",
       "7                    0.0                1  \n",
       "8                    0.0                1  \n",
       "\n",
       "[5 rows x 114 columns]"
      ]
     },
     "execution_count": 53,
     "metadata": {},
     "output_type": "execute_result"
    }
   ],
   "source": [
    "#I created a dictionary with all the positions encoded as numbers. Attackers are 3, \n",
    "#midfielders are 2, defenders are 1 and goalkeepers are 0.\n",
    "attackers = {\n",
    "    'CF':3,\n",
    "    'LW':3,\n",
    "    'RW':3,\n",
    "    'LWF':3,\n",
    "    'RWF':3\n",
    "    }\n",
    "midfielders = {\n",
    "    'DMF':2,\n",
    "    'LDMF':2,\n",
    "    'RDMF':2,\n",
    "    'CMF':2,\n",
    "    'LCMF':2,\n",
    "    'RCMF':2,\n",
    "    'AMF':2,\n",
    "    'LAMF':2,\n",
    "    'RAMF':2\n",
    "    }\n",
    "defenders = {\n",
    "    'CB':1,\n",
    "    'LB':1,\n",
    "    'RB':1,\n",
    "    'LCB':1,\n",
    "    'RCB':1,\n",
    "    'LWB':1,\n",
    "    'RWB':1\n",
    "}\n",
    "goalkeepers = {\n",
    "    'GK':0\n",
    "    }\n",
    "\n",
    "#Creating a new column that will encode the position of the player.\n",
    "nacdata['Encoded Position'] = ''\n",
    "\n",
    "#Using the .explode() function to split the positions of the players.\n",
    "ex_nacdata = nacdata.assign(Position = nacdata['Position'].str.split(',')).explode('Position')\n",
    "\n",
    "#Resetting the index of the dataframe because the explode function duplicates the index.\n",
    "ex_nacdata = ex_nacdata.reset_index(drop=True)\n",
    "\n",
    "#Creating a function that will encode the position of the player.\n",
    "def position_encoding(position):\n",
    "    if position in attackers:\n",
    "        return 3\n",
    "    elif position in midfielders:\n",
    "        return 2\n",
    "    elif position in defenders:\n",
    "        return 1\n",
    "    elif position in goalkeepers:\n",
    "        return 0\n",
    "\n",
    "#Applying the function to the dataframe.\n",
    "ex_nacdata['Encoded Position'] = ex_nacdata['Position'].apply(position_encoding)\n",
    "ex_nacdata = ex_nacdata.dropna(subset=['Encoded Position'])\n",
    "\n",
    "#Dropping the column 'Position' because it is no longer needed.\n",
    "ex_nacdata = ex_nacdata.drop(columns=['Position'])\n",
    "\n",
    "#Converting the column 'Encoded Position' to int.\n",
    "ex_nacdata['Encoded Position'] = ex_nacdata['Encoded Position'].astype(int)\n",
    "\n",
    "#Displaying the first 5 rows of the dataframe.\n",
    "print(ex_nacdata.shape)\n",
    "ex_nacdata.head()"
   ]
  },
  {
   "cell_type": "markdown",
   "metadata": {},
   "source": [
    "#### Linear regression"
   ]
  },
  {
   "cell_type": "code",
   "execution_count": 54,
   "metadata": {},
   "outputs": [
    {
     "name": "stdout",
     "output_type": "stream",
     "text": [
      "The accuracy of the model is: 84.26%\n"
     ]
    }
   ],
   "source": [
    "#Creating a Linear Regression model.\n",
    "lin_reg = LinearRegression()\n",
    "\n",
    "#Predicting the goals of the attackers based on the number of shots and the expected goals.\n",
    "df = ex_nacdata[ex_nacdata['Encoded Position'] == 3]\n",
    "\n",
    "x = df[['Shots', 'xG', 'Market value']]\n",
    "y = df['Goals']\n",
    "\n",
    "#Spliting the data into train and test.\n",
    "x_train, x_test, y_train, y_test = train_test_split(x, y, test_size=0.3, random_state=42)\n",
    "\n",
    "#Training the model and predicting the goals.\n",
    "lin_reg.fit(x_train, y_train)\n",
    "y_pred = lin_reg.predict(x_test)\n",
    "\n",
    "print('The accuracy of the model is: {:.2f}%'.format(lin_reg.score(x_test, y_test)*100))\n",
    "\n",
    "#R2 score of the model.\n",
    "r2_lin_reg = r2_score(y_test, y_pred)\n",
    "\n",
    "#Calculating mse.\n",
    "mse_lin_reg = mse(y_test, y_pred)"
   ]
  },
  {
   "cell_type": "markdown",
   "metadata": {},
   "source": [
    "#### Logistic regression"
   ]
  },
  {
   "cell_type": "markdown",
   "metadata": {},
   "source": [
    "I will fill the NaN values of the \"Successful defensive actions per 90\" by the new encoded column so that each new position (attacker, midfielder, defender and goalkeeper) will take the mean of each category for a better accuracy of the model. \n",
    "The same will be applied for the other column."
   ]
  },
  {
   "cell_type": "code",
   "execution_count": 55,
   "metadata": {},
   "outputs": [
    {
     "data": {
      "text/plain": [
       "0"
      ]
     },
     "execution_count": 55,
     "metadata": {},
     "output_type": "execute_result"
    }
   ],
   "source": [
    "position = 'Encoded Position'\n",
    "col_1 = 'Successful defensive actions per 90'\n",
    "col_2 = 'Passes per 90'\n",
    "\n",
    "#Saving the mean values for each new position for the feature \"Successful defensive actions per 90\".\n",
    "att_mean = ex_nacdata[ex_nacdata[position] == 3][col_1].mean()\n",
    "mid_mean = ex_nacdata[ex_nacdata[position] == 2][col_1].mean()\n",
    "defe_mean = ex_nacdata[ex_nacdata[position] == 1][col_1].mean()\n",
    "goalk_mean = ex_nacdata[ex_nacdata[position] == 0][col_1].mean()\n",
    "\n",
    "#Filling the missing values with the mean values for each position.\n",
    "ex_nacdata.loc[ex_nacdata[position] == 3, col_1] = ex_nacdata.loc[ex_nacdata[position] == 3, col_1].fillna(att_mean)\n",
    "ex_nacdata.loc[ex_nacdata[position] == 2, col_1] = ex_nacdata.loc[ex_nacdata[position] == 2, col_1].fillna(mid_mean)\n",
    "ex_nacdata.loc[ex_nacdata[position] == 1, col_1] = ex_nacdata.loc[ex_nacdata[position] == 1, col_1].fillna(defe_mean)\n",
    "ex_nacdata.loc[ex_nacdata[position] == 0, col_1] = ex_nacdata.loc[ex_nacdata[position] == 0, col_1].fillna(goalk_mean)\n",
    "\n",
    "ex_nacdata[col_1].isna().sum()"
   ]
  },
  {
   "cell_type": "markdown",
   "metadata": {},
   "source": [
    "Same thing will be applied to the column \"Passes per 90\""
   ]
  },
  {
   "cell_type": "code",
   "execution_count": 56,
   "metadata": {},
   "outputs": [
    {
     "data": {
      "text/plain": [
       "0"
      ]
     },
     "execution_count": 56,
     "metadata": {},
     "output_type": "execute_result"
    }
   ],
   "source": [
    "#Saving the mean values for each new position for the feature \"Successful defensive actions per 90\".\n",
    "att_pass = ex_nacdata[ex_nacdata[position] == 3][col_2].mean()\n",
    "mid_pass = ex_nacdata[ex_nacdata[position] == 2][col_2].mean()\n",
    "defe_pass = ex_nacdata[ex_nacdata[position] == 1][col_2].mean()\n",
    "goalk_pass = ex_nacdata[ex_nacdata[position] == 0][col_2].mean()\n",
    "\n",
    "#Filling the missing values with the mean values for each position.\n",
    "ex_nacdata.loc[ex_nacdata[position] == 3, col_2] = ex_nacdata.loc[ex_nacdata[position] == 3, col_2].fillna(att_pass)\n",
    "ex_nacdata.loc[ex_nacdata[position] == 2, col_2] = ex_nacdata.loc[ex_nacdata[position] == 2, col_2].fillna(mid_pass)\n",
    "ex_nacdata.loc[ex_nacdata[position] == 1, col_2] = ex_nacdata.loc[ex_nacdata[position] == 1, col_2].fillna(defe_pass)\n",
    "ex_nacdata.loc[ex_nacdata[position] == 0, col_2] = ex_nacdata.loc[ex_nacdata[position] == 0, col_2].fillna(goalk_pass)\n",
    "\n",
    "ex_nacdata[col_2].isna().sum()"
   ]
  },
  {
   "cell_type": "code",
   "execution_count": 57,
   "metadata": {},
   "outputs": [
    {
     "name": "stdout",
     "output_type": "stream",
     "text": [
      "The accuracy of the model is: 70.53%\n"
     ]
    }
   ],
   "source": [
    "# Enter your code here for logistic regression\n",
    "\n",
    "#Setting the features and the target variable.\n",
    "X_log_reg = ex_nacdata[['Goals', 'Assists', 'Save rate, %', 'Successful defensive actions per 90', 'Passes per 90', 'Clean sheets', 'xA', 'xG']]\n",
    "y_log_reg = ex_nacdata['Encoded Position']\n",
    "\n",
    "# Spliting the data into train and test.\n",
    "X_train_lr, X_test_lr, y_train_lr, y_test_lr = train_test_split(X_log_reg, y_log_reg, test_size=0.2)\n",
    "\n",
    "#Creating a Logistic Regression model with multi_class='ovr'.\n",
    "log_reg = LogisticRegression(multi_class='ovr')\n",
    "\n",
    "#Training the model and predicting the position of the player.\n",
    "log_reg.fit(X_train_lr, y_train_lr)\n",
    "y_pred_lr = log_reg.predict(X_test_lr)\n",
    "\n",
    "#Calculating the accuracy of the model.\n",
    "print('The accuracy of the model is: {:.2f}%'.format(accuracy_score(y_test_lr, y_pred_lr)*100))\n",
    "\n",
    "# Predict probabilities on the test set\n",
    "y_probabilities_lr = log_reg.predict_proba(X_test_lr)"
   ]
  },
  {
   "cell_type": "markdown",
   "metadata": {},
   "source": [
    "#### Tree-based model"
   ]
  },
  {
   "cell_type": "code",
   "execution_count": 58,
   "metadata": {},
   "outputs": [
    {
     "name": "stdout",
     "output_type": "stream",
     "text": [
      "The accuracy of the model is: 65.34%\n"
     ]
    }
   ],
   "source": [
    "# Enter your code here for tree-based decision model\n",
    "\n",
    "#Setting the features and the target variable.\n",
    "X_tree = ex_nacdata[['Goals', 'Assists', 'Save rate, %', 'Successful defensive actions per 90', 'Passes per 90', 'Clean sheets', 'xA', 'xG']]\n",
    "y_tree = ex_nacdata['Encoded Position']\n",
    "\n",
    "# Spliting the data into train and test.\n",
    "X_train_tree, X_test_tree, y_train_tree, y_test_tree = train_test_split(X_tree, y_tree, test_size=0.2)\n",
    "\n",
    "#Creating a Decision Tree model.\n",
    "tree_model = DecisionTreeClassifier()\n",
    "\n",
    "#Training the model and predicting the position of the player.\n",
    "tree_model.fit(X_train_tree, y_train_tree)\n",
    "y_pred_tree = tree_model.predict(X_test_tree)\n",
    "\n",
    "#Calculating the accuracy of the model.\n",
    "print('The accuracy of the model is: {:.2f}%'.format(accuracy_score(y_test_tree, y_pred_tree)*100))\n",
    "\n",
    "#R2 score of the model.\n",
    "r2_tree = r2_score(y_test_tree, y_pred_tree)\n",
    "\n",
    "#Mean Squared error of the model.\n",
    "mse_tree = mse(y_test_tree, y_pred_tree)"
   ]
  },
  {
   "cell_type": "markdown",
   "metadata": {},
   "source": [
    "#### Gradient Boosting Trees and SVM"
   ]
  },
  {
   "cell_type": "code",
   "execution_count": 59,
   "metadata": {},
   "outputs": [
    {
     "name": "stdout",
     "output_type": "stream",
     "text": [
      "The accuracy for XGBoost: 71.38%\n"
     ]
    }
   ],
   "source": [
    "# Using Gradient Boosting for the Logistic Regression Model.\n",
    "\n",
    "model = xgb.XGBClassifier()\n",
    "model.fit(X_train_lr, y_train_lr)\n",
    "print('The accuracy for XGBoost: {:.2f}%'.format(accuracy_score(y_test_lr, model.predict(X_test_lr))*100))"
   ]
  },
  {
   "cell_type": "code",
   "execution_count": null,
   "metadata": {},
   "outputs": [],
   "source": [
    "# Enter your code here for SVM"
   ]
  },
  {
   "cell_type": "markdown",
   "metadata": {},
   "source": [
    "#### Unsupervised learning with K-Means"
   ]
  },
  {
   "cell_type": "code",
   "execution_count": 60,
   "metadata": {},
   "outputs": [
    {
     "data": {
      "text/plain": [
       "0.6849772382397572"
      ]
     },
     "execution_count": 60,
     "metadata": {},
     "output_type": "execute_result"
    }
   ],
   "source": [
    "# Enter your code here for K-means\n",
    "knn = KNeighborsClassifier(n_neighbors=4)\n",
    "\n",
    "knn.fit(X_train_lr, y_train_lr)\n",
    "knn.score(X_test_lr, y_test_lr)"
   ]
  },
  {
   "cell_type": "code",
   "execution_count": 61,
   "metadata": {},
   "outputs": [
    {
     "data": {
      "text/plain": [
       "array([[ 287,    0,    0,    0],\n",
       "       [   1, 1019,  158,   30],\n",
       "       [   0,  497,  343,  124],\n",
       "       [   0,   42,  186,  608]], dtype=int64)"
      ]
     },
     "execution_count": 61,
     "metadata": {},
     "output_type": "execute_result"
    }
   ],
   "source": [
    "#Confusion matrix for the model that predicts the position of the player.\n",
    "y_pred_knn = knn.predict(X_test_lr)\n",
    "confusion_matrix(y_test_lr, y_pred_knn)"
   ]
  },
  {
   "cell_type": "code",
   "execution_count": 62,
   "metadata": {},
   "outputs": [
    {
     "name": "stdout",
     "output_type": "stream",
     "text": [
      "              precision    recall  f1-score   support\n",
      "\n",
      "           0       1.00      1.00      1.00       287\n",
      "           1       0.65      0.84      0.74      1208\n",
      "           2       0.50      0.36      0.42       964\n",
      "           3       0.80      0.73      0.76       836\n",
      "\n",
      "    accuracy                           0.68      3295\n",
      "   macro avg       0.74      0.73      0.73      3295\n",
      "weighted avg       0.68      0.68      0.67      3295\n",
      "\n"
     ]
    }
   ],
   "source": [
    "#Classification report\n",
    "print(classification_report(y_test_lr, y_pred_knn))"
   ]
  },
  {
   "cell_type": "markdown",
   "metadata": {},
   "source": [
    "#### Correlation Analysis and Feature Selection\n"
   ]
  },
  {
   "cell_type": "code",
   "execution_count": 63,
   "metadata": {},
   "outputs": [
    {
     "data": {
      "text/html": [
       "<style type=\"text/css\">\n",
       "#T_c1ecc_row0_col0, #T_c1ecc_row1_col1, #T_c1ecc_row2_col2, #T_c1ecc_row3_col3, #T_c1ecc_row4_col4, #T_c1ecc_row5_col5 {\n",
       "  background-color: #b40426;\n",
       "  color: #f1f1f1;\n",
       "}\n",
       "#T_c1ecc_row0_col1 {\n",
       "  background-color: #e36c55;\n",
       "  color: #f1f1f1;\n",
       "}\n",
       "#T_c1ecc_row0_col2 {\n",
       "  background-color: #465ecf;\n",
       "  color: #f1f1f1;\n",
       "}\n",
       "#T_c1ecc_row0_col3 {\n",
       "  background-color: #e3d9d3;\n",
       "  color: #000000;\n",
       "}\n",
       "#T_c1ecc_row0_col4 {\n",
       "  background-color: #ccd9ed;\n",
       "  color: #000000;\n",
       "}\n",
       "#T_c1ecc_row0_col5 {\n",
       "  background-color: #f18f71;\n",
       "  color: #f1f1f1;\n",
       "}\n",
       "#T_c1ecc_row1_col0 {\n",
       "  background-color: #e36b54;\n",
       "  color: #f1f1f1;\n",
       "}\n",
       "#T_c1ecc_row1_col2, #T_c1ecc_row5_col2 {\n",
       "  background-color: #506bda;\n",
       "  color: #f1f1f1;\n",
       "}\n",
       "#T_c1ecc_row1_col3, #T_c1ecc_row1_col4, #T_c1ecc_row5_col4 {\n",
       "  background-color: #a5c3fe;\n",
       "  color: #000000;\n",
       "}\n",
       "#T_c1ecc_row1_col5, #T_c1ecc_row5_col1 {\n",
       "  background-color: #dc5d4a;\n",
       "  color: #f1f1f1;\n",
       "}\n",
       "#T_c1ecc_row2_col0, #T_c1ecc_row2_col1, #T_c1ecc_row2_col3, #T_c1ecc_row2_col4, #T_c1ecc_row2_col5, #T_c1ecc_row3_col2, #T_c1ecc_row4_col2 {\n",
       "  background-color: #3b4cc0;\n",
       "  color: #f1f1f1;\n",
       "}\n",
       "#T_c1ecc_row3_col0 {\n",
       "  background-color: #dedcdb;\n",
       "  color: #000000;\n",
       "}\n",
       "#T_c1ecc_row3_col1, #T_c1ecc_row4_col5 {\n",
       "  background-color: #93b5fe;\n",
       "  color: #000000;\n",
       "}\n",
       "#T_c1ecc_row3_col4, #T_c1ecc_row4_col3 {\n",
       "  background-color: #f7a889;\n",
       "  color: #000000;\n",
       "}\n",
       "#T_c1ecc_row3_col5 {\n",
       "  background-color: #9dbdff;\n",
       "  color: #000000;\n",
       "}\n",
       "#T_c1ecc_row4_col0 {\n",
       "  background-color: #c5d6f2;\n",
       "  color: #000000;\n",
       "}\n",
       "#T_c1ecc_row4_col1 {\n",
       "  background-color: #92b4fe;\n",
       "  color: #000000;\n",
       "}\n",
       "#T_c1ecc_row5_col0 {\n",
       "  background-color: #f08b6e;\n",
       "  color: #f1f1f1;\n",
       "}\n",
       "#T_c1ecc_row5_col3 {\n",
       "  background-color: #adc9fd;\n",
       "  color: #000000;\n",
       "}\n",
       "</style>\n",
       "<table id=\"T_c1ecc\">\n",
       "  <thead>\n",
       "    <tr>\n",
       "      <th class=\"blank level0\" >&nbsp;</th>\n",
       "      <th id=\"T_c1ecc_level0_col0\" class=\"col_heading level0 col0\" >Shots</th>\n",
       "      <th id=\"T_c1ecc_level0_col1\" class=\"col_heading level0 col1\" >xG</th>\n",
       "      <th id=\"T_c1ecc_level0_col2\" class=\"col_heading level0 col2\" >Market value</th>\n",
       "      <th id=\"T_c1ecc_level0_col3\" class=\"col_heading level0 col3\" >xA</th>\n",
       "      <th id=\"T_c1ecc_level0_col4\" class=\"col_heading level0 col4\" >Assists</th>\n",
       "      <th id=\"T_c1ecc_level0_col5\" class=\"col_heading level0 col5\" >Goals</th>\n",
       "    </tr>\n",
       "  </thead>\n",
       "  <tbody>\n",
       "    <tr>\n",
       "      <th id=\"T_c1ecc_level0_row0\" class=\"row_heading level0 row0\" >Shots</th>\n",
       "      <td id=\"T_c1ecc_row0_col0\" class=\"data row0 col0\" >1.000000</td>\n",
       "      <td id=\"T_c1ecc_row0_col1\" class=\"data row0 col1\" >0.882666</td>\n",
       "      <td id=\"T_c1ecc_row0_col2\" class=\"data row0 col2\" >0.199419</td>\n",
       "      <td id=\"T_c1ecc_row0_col3\" class=\"data row0 col3\" >0.604698</td>\n",
       "      <td id=\"T_c1ecc_row0_col4\" class=\"data row0 col4\" >0.532370</td>\n",
       "      <td id=\"T_c1ecc_row0_col5\" class=\"data row0 col5\" >0.825823</td>\n",
       "    </tr>\n",
       "    <tr>\n",
       "      <th id=\"T_c1ecc_level0_row1\" class=\"row_heading level0 row1\" >xG</th>\n",
       "      <td id=\"T_c1ecc_row1_col0\" class=\"data row1 col0\" >0.882666</td>\n",
       "      <td id=\"T_c1ecc_row1_col1\" class=\"data row1 col1\" >1.000000</td>\n",
       "      <td id=\"T_c1ecc_row1_col2\" class=\"data row1 col2\" >0.225276</td>\n",
       "      <td id=\"T_c1ecc_row1_col3\" class=\"data row1 col3\" >0.433481</td>\n",
       "      <td id=\"T_c1ecc_row1_col4\" class=\"data row1 col4\" >0.430925</td>\n",
       "      <td id=\"T_c1ecc_row1_col5\" class=\"data row1 col5\" >0.906362</td>\n",
       "    </tr>\n",
       "    <tr>\n",
       "      <th id=\"T_c1ecc_level0_row2\" class=\"row_heading level0 row2\" >Market value</th>\n",
       "      <td id=\"T_c1ecc_row2_col0\" class=\"data row2 col0\" >0.199419</td>\n",
       "      <td id=\"T_c1ecc_row2_col1\" class=\"data row2 col1\" >0.225276</td>\n",
       "      <td id=\"T_c1ecc_row2_col2\" class=\"data row2 col2\" >1.000000</td>\n",
       "      <td id=\"T_c1ecc_row2_col3\" class=\"data row2 col3\" >0.166817</td>\n",
       "      <td id=\"T_c1ecc_row2_col4\" class=\"data row2 col4\" >0.165350</td>\n",
       "      <td id=\"T_c1ecc_row2_col5\" class=\"data row2 col5\" >0.224566</td>\n",
       "    </tr>\n",
       "    <tr>\n",
       "      <th id=\"T_c1ecc_level0_row3\" class=\"row_heading level0 row3\" >xA</th>\n",
       "      <td id=\"T_c1ecc_row3_col0\" class=\"data row3 col0\" >0.604698</td>\n",
       "      <td id=\"T_c1ecc_row3_col1\" class=\"data row3 col1\" >0.433481</td>\n",
       "      <td id=\"T_c1ecc_row3_col2\" class=\"data row3 col2\" >0.166817</td>\n",
       "      <td id=\"T_c1ecc_row3_col3\" class=\"data row3 col3\" >1.000000</td>\n",
       "      <td id=\"T_c1ecc_row3_col4\" class=\"data row3 col4\" >0.761591</td>\n",
       "      <td id=\"T_c1ecc_row3_col5\" class=\"data row3 col5\" >0.451765</td>\n",
       "    </tr>\n",
       "    <tr>\n",
       "      <th id=\"T_c1ecc_level0_row4\" class=\"row_heading level0 row4\" >Assists</th>\n",
       "      <td id=\"T_c1ecc_row4_col0\" class=\"data row4 col0\" >0.532370</td>\n",
       "      <td id=\"T_c1ecc_row4_col1\" class=\"data row4 col1\" >0.430925</td>\n",
       "      <td id=\"T_c1ecc_row4_col2\" class=\"data row4 col2\" >0.165350</td>\n",
       "      <td id=\"T_c1ecc_row4_col3\" class=\"data row4 col3\" >0.761591</td>\n",
       "      <td id=\"T_c1ecc_row4_col4\" class=\"data row4 col4\" >1.000000</td>\n",
       "      <td id=\"T_c1ecc_row4_col5\" class=\"data row4 col5\" >0.432576</td>\n",
       "    </tr>\n",
       "    <tr>\n",
       "      <th id=\"T_c1ecc_level0_row5\" class=\"row_heading level0 row5\" >Goals</th>\n",
       "      <td id=\"T_c1ecc_row5_col0\" class=\"data row5 col0\" >0.825823</td>\n",
       "      <td id=\"T_c1ecc_row5_col1\" class=\"data row5 col1\" >0.906362</td>\n",
       "      <td id=\"T_c1ecc_row5_col2\" class=\"data row5 col2\" >0.224566</td>\n",
       "      <td id=\"T_c1ecc_row5_col3\" class=\"data row5 col3\" >0.451765</td>\n",
       "      <td id=\"T_c1ecc_row5_col4\" class=\"data row5 col4\" >0.432576</td>\n",
       "      <td id=\"T_c1ecc_row5_col5\" class=\"data row5 col5\" >1.000000</td>\n",
       "    </tr>\n",
       "  </tbody>\n",
       "</table>\n"
      ],
      "text/plain": [
       "<pandas.io.formats.style.Styler at 0x18349ec3070>"
      ]
     },
     "execution_count": 63,
     "metadata": {},
     "output_type": "execute_result"
    }
   ],
   "source": [
    "# Enter your code here for your correlation analysis\n",
    "\n",
    "#Correlation analysis for the Linear Regression features.\n",
    "corr = df[['Shots', 'xG', 'Market value', 'xA', 'Assists', 'Goals']].corr()\n",
    "corr.style.background_gradient(cmap='coolwarm')"
   ]
  },
  {
   "cell_type": "code",
   "execution_count": 64,
   "metadata": {},
   "outputs": [
    {
     "data": {
      "text/plain": [
       "Index(['Assists', 'Save rate, %', 'Successful defensive actions per 90',\n",
       "       'Passes per 90', 'Clean sheets', 'xA', 'xG'],\n",
       "      dtype='object')"
      ]
     },
     "execution_count": 64,
     "metadata": {},
     "output_type": "execute_result"
    }
   ],
   "source": [
    "# Enter your code here for your feature selection. Add markdown comments for why you chose these features below.\n",
    "\n",
    "#L1 Regularization for the Logistic Regression model.\n",
    "log_reg_feat = LogisticRegressionCV(penalty='l1', solver='liblinear')\n",
    "\n",
    "#Fitting the model.\n",
    "log_reg_feat.fit(X_train_lr, y_train_lr)\n",
    "\n",
    "selected_feat = X_train_lr.columns[log_reg_feat.coef_[0] != 0]\n",
    "selected_feat\n"
   ]
  },
  {
   "cell_type": "code",
   "execution_count": 65,
   "metadata": {},
   "outputs": [
    {
     "data": {
      "text/plain": [
       "Index(['Goals', 'Assists', 'Save rate, %',\n",
       "       'Successful defensive actions per 90', 'Passes per 90', 'Clean sheets',\n",
       "       'xA', 'xG'],\n",
       "      dtype='object')"
      ]
     },
     "execution_count": 65,
     "metadata": {},
     "output_type": "execute_result"
    }
   ],
   "source": [
    "X_log_reg.columns"
   ]
  },
  {
   "cell_type": "markdown",
   "metadata": {},
   "source": [
    "The selected feature for the Logistic Regression after the L1 regularization are the same, thus the features are impactful for the model."
   ]
  },
  {
   "cell_type": "markdown",
   "metadata": {},
   "source": [
    "✍️ I chose the features xG and Market value and Shots for the Linear Regression Model, to see if a player who creates more oportunities for his team and is more expensive, will score more goals.\n",
    "\n",
    "✍️For the Logistic Regression model, I choose the features that I thought were the most relevant for each position: goalkeeper (save rates and clean sheets), defenders (succesful defensive actions), midfielders(assists and passes) and for attackers (goals and shots). Thus, the model will recognize the patterns that occur in the data for certain positions: attackers score more, midfielders pass more, defenders have more defensive actions and goalkeeper are preventing the goals. In this way, the model will predict the position of a player based on these features.\n",
    "\n",
    "✍️The features for the Tree Based Model are the same with the ones for Logistic Regression."
   ]
  },
  {
   "cell_type": "markdown",
   "metadata": {},
   "source": [
    "### Evaluating the performance of the model\n",
    "\n",
    "In the following subsection include your Python code on how you evaluated your chosen model(s). This is related to the sufficient criteria of ILO 5.0. "
   ]
  },
  {
   "cell_type": "code",
   "execution_count": 66,
   "metadata": {},
   "outputs": [
    {
     "name": "stdout",
     "output_type": "stream",
     "text": [
      "The R squared of the Linear Regression model is: 0.82\n",
      "The Mean Squared Error of the Linear Regression model is: 2.69\n",
      "\n",
      "After the 10 fold cross validation, the accuracy of the Logistic Regression model is: 69.98%\n",
      "The R squared of the Logistic Regression model is: 0.60\n",
      "The Mean Squared Error of the Logistic Regression model is: 0.35\n",
      "AUC-ROC Score: 0.8882610001980075\n",
      "\n",
      "After the 10 fold cross validation, the accuracy of the Tree Based model is: 64.40%\n",
      "The R squared of the Tree Based model is: 0.50\n",
      "The Mean Squared Error of the Tree Based model is: 0.43\n"
     ]
    }
   ],
   "source": [
    "# Enter your code here for the model evaluation. Add your interpretation in the markdown below.\n",
    "\n",
    "#Cross validation for the Linear Regression model.\n",
    "lin_reg_scores = cross_val_score(lin_reg, x, y, cv=10)\n",
    "\n",
    "#R squared for the Linear Regression model.\n",
    "print('The R squared of the Linear Regression model is: {:.2f}'.format(lin_reg_scores.mean()))\n",
    "\n",
    "#Mean Squared Error for the Linear Regression model.\n",
    "print('The Mean Squared Error of the Linear Regression model is: {:.2f}\\n'.format(mse_lin_reg))\n",
    "\n",
    "#Cross validation for the Logistic Regression model.\n",
    "cross_score = cross_val_score(log_reg, X_log_reg, y_log_reg, cv=10)\n",
    "print('After the 10 fold cross validation, the accuracy of the Logistic Regression model is: {:.2f}%'.format(cross_score.mean()*100))\n",
    "\n",
    "#R squared for the Logistic Regression model.\n",
    "print('The R squared of the Logistic Regression model is: {:.2f}'.format(r2_score(y_test_lr, y_pred_lr)))\n",
    "\n",
    "#Mean Squared Error for the Logistic Regression model.\n",
    "print('The Mean Squared Error of the Logistic Regression model is: {:.2f}'.format(mse(y_test_lr, y_pred_lr)))\n",
    "\n",
    "# Calculate the ROC-AUC score\n",
    "auc_roc_lr = roc_auc_score(y_test_lr, y_probabilities_lr, multi_class='ovr')\n",
    "print(f'AUC-ROC Score: {auc_roc_lr}\\n')\n",
    "\n",
    "#Cross validation for the Tree Based model.\n",
    "tree_cross_score = cross_val_score(tree_model, X_tree, y_tree, cv=10)\n",
    "print('After the 10 fold cross validation, the accuracy of the Tree Based model is: {:.2f}%'.format(tree_cross_score.mean()*100))\n",
    "\n",
    "#R squared for the Tree Based model.\n",
    "print('The R squared of the Tree Based model is: {:.2f}'.format(r2_tree))\n",
    "\n",
    "#Mean Squared Error for the Tree Based model.\n",
    "print('The Mean Squared Error of the Tree Based model is: {:.2f}'.format(mse_tree))"
   ]
  },
  {
   "cell_type": "markdown",
   "metadata": {},
   "source": [
    "✍️ Interpretation of the model evaluation: I choose to use the 10 fold validation to see the actual accuracy of the models. Thus, my logistic regression model had a 70.46% accuracy and my tree-based model 64.59% accuracy. The R squared metric of the models were relatevely big with the values of 0.84, 0.60 and 0.51. That means that the linear model explains relatively good the dependent variable, being close to the value of 1. The logistic regression and the tree-based model are explaining the Position feature pretty well with the values of 0.60 and 0.51 being somewhere in between 0 and 1. The MSE metric is best when it gets closer to 0, so in this scenario I consider the best model the tree-based one, due to the fact that the usage of MSE in logistic regression models can be ambiguous. However in decision trees, the criteria of spliting the nodes is based on MSE, aiming for a smaller score. The linear regression model, has also a small score with only 2.69. In conclusion, the models are performing pretty well. The ROC AUC score suggests that the logistic regression model has a good descrimination and is not overfitting the data."
   ]
  },
  {
   "cell_type": "markdown",
   "metadata": {},
   "source": [
    "### Improving the performance of the model\n",
    "\n",
    "In the following subsection include your Python code on how you improved your chosen model(s). This is related to the good criteria of ILO 5.0.  "
   ]
  },
  {
   "cell_type": "code",
   "execution_count": 67,
   "metadata": {},
   "outputs": [
    {
     "name": "stdout",
     "output_type": "stream",
     "text": [
      "0.25 : 64.77458261195365\n",
      "0.5 : 60.16023969565444\n",
      "0.75 : 53.58052591483907\n",
      "1.0 : 51.98159468927409\n",
      "1.25 : 51.120341279620185\n",
      "1.5 : 50.084958778726005\n",
      "1.75 : 48.867954848315684\n",
      "2.0 : 47.46215072256075\n"
     ]
    }
   ],
   "source": [
    "# Lasso cross validation to search for the best lambda value.\n",
    "\n",
    "# List to maintain the cross-validation scores\n",
    "cross_val_scores_lasso = []\n",
    "\n",
    "# List to maintain the different values of Lambda\n",
    "Lambda = []\n",
    "\n",
    "# Loop to compute the cross-validation scores\n",
    "for i in range(1, 9):\n",
    "\tlassoModel = Lasso(alpha = i * 0.25, tol = 0.0925)\n",
    "\tlassoModel.fit(X_train_lr, y_train_lr)\n",
    "\tscores = cross_val_score(lassoModel, X_log_reg, y_log_reg, cv = 10)\n",
    "\tavg_cross_val_score = 100*(scores).mean()\n",
    "\tcross_val_scores_lasso.append(avg_cross_val_score)\n",
    "\tLambda.append(i * 0.25)\n",
    "\n",
    "# Loop to print the different values of cross-validation scores\n",
    "for i in range(0, len(Lambda)):\n",
    "\tprint(str(Lambda[i])+' : '+str(cross_val_scores_lasso[i]))"
   ]
  },
  {
   "cell_type": "markdown",
   "metadata": {},
   "source": [
    "From the previous code snippet, the best validation score is 64.77 for a lambda of 0.25. "
   ]
  },
  {
   "cell_type": "code",
   "execution_count": 68,
   "metadata": {},
   "outputs": [
    {
     "name": "stdout",
     "output_type": "stream",
     "text": [
      "The accuracy of the logistic model is: 66.23%\n"
     ]
    }
   ],
   "source": [
    "#The lasso model has a lower accuracy score than the 10 fold cross validation score of the logistic regression model.\n",
    "\n",
    "#Saving the best lambda value.\n",
    "best_lambda = Lambda[cross_val_scores_lasso.index(max(cross_val_scores_lasso))]\n",
    "\n",
    "#Training the model with the best lambda value.\n",
    "lasso_model = Lasso(alpha = best_lambda, tol = 0.0925)\n",
    "lasso_model.fit(X_train_lr, y_train_lr)\n",
    "\n",
    "#Predicting the position of the player.\n",
    "y_pred_lasso = lasso_model.predict(X_test_lr)\n",
    "\n",
    "#Calculating the accuracy of the model.\n",
    "print('The accuracy of the logistic model is: {:.2f}%'.format(lasso_model.score(X_test_lr, y_test_lr)*100))"
   ]
  },
  {
   "cell_type": "code",
   "execution_count": 69,
   "metadata": {},
   "outputs": [
    {
     "name": "stdout",
     "output_type": "stream",
     "text": [
      "0.25 : 66.41619950036063\n",
      "0.5 : 66.41620015651692\n",
      "0.75 : 66.41620081234598\n",
      "1.0 : 66.41620146784784\n",
      "1.25 : 66.41620212302252\n",
      "1.5 : 66.41620277787005\n",
      "1.75 : 66.41620343239043\n",
      "2.0 : 66.41620408658372\n"
     ]
    }
   ],
   "source": [
    "#Ridge Model cross validation to search for the best alpha value.\n",
    "\n",
    "# List to maintain the different cross-validation scores\n",
    "cross_val_scores_ridge = []\n",
    "\n",
    "# List to maintain the different values of alpha\n",
    "alpha = []\n",
    "\n",
    "# Loop to compute the different values of cross-validation scores\n",
    "for i in range(1, 9):\n",
    "\tridgeModel = Ridge(alpha = i * 0.25)\n",
    "\tridgeModel.fit(X_train_lr, y_train_lr)\n",
    "\tscores = cross_val_score(ridgeModel, X_log_reg, y_log_reg, cv = 10)\n",
    "\tavg_cross_val_score = (scores).mean()*100\n",
    "\tcross_val_scores_ridge.append(avg_cross_val_score)\n",
    "\talpha.append(i * 0.25)\n",
    "\n",
    "# Loop to print the different values of cross-validation scores\n",
    "for i in range(0, len(alpha)):\n",
    "\tprint(str(alpha[i])+' : '+str(cross_val_scores_ridge[i]))"
   ]
  },
  {
   "cell_type": "markdown",
   "metadata": {},
   "source": [
    "The Alpha values after Ridge are pretty constant, thus the model is not affected by the change of regularization. Due to the fact that the ROC AUC score is pretty high (suggesting low overfitting) it is normal for the alpha values to be constant."
   ]
  },
  {
   "cell_type": "code",
   "execution_count": 70,
   "metadata": {},
   "outputs": [
    {
     "name": "stderr",
     "output_type": "stream",
     "text": [
      "c:\\Users\\tudor\\anaconda3\\envs\\block_b\\lib\\site-packages\\sklearn\\model_selection\\_validation.py:425: FitFailedWarning: \n",
      "30 fits failed out of a total of 60.\n",
      "The score on these train-test partitions for these parameters will be set to nan.\n",
      "If these failures are not expected, you can try to debug them by setting error_score='raise'.\n",
      "\n",
      "Below are more details about the failures:\n",
      "--------------------------------------------------------------------------------\n",
      "30 fits failed with the following error:\n",
      "Traceback (most recent call last):\n",
      "  File \"c:\\Users\\tudor\\anaconda3\\envs\\block_b\\lib\\site-packages\\sklearn\\model_selection\\_validation.py\", line 732, in _fit_and_score\n",
      "    estimator.fit(X_train, y_train, **fit_params)\n",
      "  File \"c:\\Users\\tudor\\anaconda3\\envs\\block_b\\lib\\site-packages\\sklearn\\base.py\", line 1151, in wrapper\n",
      "    return fit_method(estimator, *args, **kwargs)\n",
      "  File \"c:\\Users\\tudor\\anaconda3\\envs\\block_b\\lib\\site-packages\\sklearn\\linear_model\\_logistic.py\", line 1168, in fit\n",
      "    solver = _check_solver(self.solver, self.penalty, self.dual)\n",
      "  File \"c:\\Users\\tudor\\anaconda3\\envs\\block_b\\lib\\site-packages\\sklearn\\linear_model\\_logistic.py\", line 56, in _check_solver\n",
      "    raise ValueError(\n",
      "ValueError: Solver lbfgs supports only 'l2' or 'none' penalties, got l1 penalty.\n",
      "\n",
      "  warnings.warn(some_fits_failed_message, FitFailedWarning)\n",
      "c:\\Users\\tudor\\anaconda3\\envs\\block_b\\lib\\site-packages\\sklearn\\model_selection\\_search.py:976: UserWarning: One or more of the test scores are non-finite: [       nan 0.69704777        nan 0.69924867        nan 0.69864152\n",
      "        nan 0.69909679        nan 0.69833789        nan 0.69894495]\n",
      "  warnings.warn(\n"
     ]
    },
    {
     "name": "stdout",
     "output_type": "stream",
     "text": [
      "The accuracy of the Logistic Regression model is: 70.50%\n"
     ]
    }
   ],
   "source": [
    "#Grid Search for the Logistic Regression model.\n",
    "\n",
    "#Creating a dictionary with the parameters.\n",
    "params = {'C': [0.001, 0.01, 0.1, 1, 10, 100],\n",
    "          'penalty': ['l1', 'l2']}\n",
    "\n",
    "log_reg_grid = GridSearchCV(log_reg, params, cv=5)\n",
    "\n",
    "#Fitting the model.\n",
    "log_reg_grid.fit(X_train_lr, y_train_lr)\n",
    "\n",
    "#Predicting the position of the player.\n",
    "y_pred_grid = log_reg_grid.predict(X_test_lr)\n",
    "\n",
    "#Calculating the accuracy of the model.\n",
    "print('The accuracy of the Logistic Regression model is: {:.2f}%'.format(log_reg_grid.score(X_test_lr, y_test_lr)*100))"
   ]
  },
  {
   "cell_type": "markdown",
   "metadata": {},
   "source": [
    "Seeing which are the best parameters for the model."
   ]
  },
  {
   "cell_type": "code",
   "execution_count": 71,
   "metadata": {},
   "outputs": [
    {
     "name": "stdout",
     "output_type": "stream",
     "text": [
      "The best parameters for the Logistic Regression model are: {'C': 0.01, 'penalty': 'l2'}\n"
     ]
    }
   ],
   "source": [
    "best_params = log_reg_grid.best_params_\n",
    "print('The best parameters for the Logistic Regression model are: {}'.format(best_params))"
   ]
  },
  {
   "cell_type": "code",
   "execution_count": 72,
   "metadata": {},
   "outputs": [
    {
     "name": "stdout",
     "output_type": "stream",
     "text": [
      "The accuracy of the Logistic Regression model after the Hyperparameter Tuning is: 71.56%\n"
     ]
    }
   ],
   "source": [
    "#Fittinmg the model and creating the Logistic Regression model with the best parameters.\n",
    "best_model = LogisticRegression(C=best_params['C'], penalty=best_params['penalty'])\n",
    "best_model.fit(X_train_lr, y_train_lr)\n",
    "\n",
    "#Predicting the position of the player using the best parameters.\n",
    "y_pred_best = best_model.predict(X_test_lr)\n",
    "\n",
    "#Calculating the accuracy of the best model.\n",
    "print('The accuracy of the Logistic Regression model after the Hyperparameter Tuning is: {:.2f}%'.format(best_model.score(X_test_lr, y_test_lr)*100))"
   ]
  },
  {
   "cell_type": "markdown",
   "metadata": {},
   "source": [
    "✍️ First I tried using Lasso and Ridge for improving my model. I chose Lasso mostly for feature selection, rather than preventing overfitting since the AUC ROC score of the Logistic Regression is high. However, the accuracy decreased after L1 regularization so I tried Ridge. L2 regularization takes more care of overfitting, thus the alpha parameter did not change and is the model will not change accuracy. In the end, I chose to perform a Grid Search to see which parameters are best for my model. I did a 5 fold cross validation, because the Grid Search is a computationally intense method. I saved the best parameters in a dictionary and used them in retraining the model achieving a accuracy of 71.41% (with an increase of 1.43% in accuracy)."
   ]
  },
  {
   "cell_type": "code",
   "execution_count": 73,
   "metadata": {},
   "outputs": [
    {
     "name": "stdout",
     "output_type": "stream",
     "text": [
      "The accuracy of the Random Forest model is: 71.26%\n"
     ]
    }
   ],
   "source": [
    "#Implementing Random Forests on the new Logistic Regression model.\n",
    "\n",
    "#Creating a Random Forest model.\n",
    "rf_model = RandomForestClassifier(n_estimators=200)\n",
    "\n",
    "#Fitting the model.\n",
    "rf_model.fit(X_train_lr, y_train_lr)\n",
    "\n",
    "#Predicting the position of the player.\n",
    "y_pred_rf = rf_model.predict(X_test_lr)\n",
    "\n",
    "#Calculating the accuracy of the model.\n",
    "print('The accuracy of the Random Forest model is: {:.2f}%'.format(rf_model.score(X_test_lr, y_test_lr)*100))\n",
    "\n",
    "#R2 score of the model.\n",
    "r2_rf = r2_score(y_test_lr, y_pred_rf)\n",
    "\n",
    "#MSE of the model.\n",
    "mse_rf = mse(y_test_lr, y_pred_rf)\n",
    "\n",
    "# Predict probabilities on the test set\n",
    "y_probabilities_rf = rf_model.predict_proba(X_test_lr)\n",
    "auc_roc_rf = roc_auc_score(y_test_lr, y_probabilities_rf, multi_class='ovr')"
   ]
  },
  {
   "cell_type": "markdown",
   "metadata": {},
   "source": [
    "Furthermore, when implementing a Random Forests classifier on the Grid Search model, the accuracy of the model is increasing with 1.37% from the previous version and with 2.8% from the original model."
   ]
  },
  {
   "cell_type": "markdown",
   "metadata": {},
   "source": [
    "### Choose the best model\n",
    "\n",
    "In the following subsection reflect on the most appropriate machine learning model. This is related to the excellent criteria of ILO 5.0.  "
   ]
  },
  {
   "cell_type": "markdown",
   "metadata": {},
   "source": [
    "My business problem represents the players whom position is unknown and my Logistic Regression model helps identify the role that it had in a prior team based on its performances during his matches. I chose to not use the particular positions of the players and instead replace them with general roles like \"defender\" because a left back can transition to central back because the core abilities of a defender are still present.\n",
    "\n",
    "My Linear Regression model helps with predicting the goals of a player, feature that is used in the Logistic Regression and Tree Based model. I chose the Linear Regression model as a method to handle the missing values of the players in the dataset, thus this model is a suplementary method for helping achieve the business problem of the team. \n",
    "\n",
    "The Tree-Based model performed well in solving the business problem having a accuracy of 64.21% before hyperparameter tuning. After the improvement of hyperparameter tuning the accuracy would not pass the one of the Logistic Regression model, so that is the reason why I do not consider this to be the best model.\n",
    "\n",
    "From my point of view, the best model for my business problem is the Logistic Regression model. It had achieved the highest accuracy without tuning and after tuning it had a improvement of almost 3% (having a total accuracy of almost 73%)."
   ]
  },
  {
   "cell_type": "code",
   "execution_count": 74,
   "metadata": {},
   "outputs": [
    {
     "name": "stdout",
     "output_type": "stream",
     "text": [
      "The R squared of the Linear Regression model is: 81.93\n",
      "The Mean Squared Error of the Linear Regression model is: 2.69\n",
      "\n",
      "After the 10 fold cross validation, the accuracy of the Logistic Regression model is: 71.36%\n",
      "The R squared of the Logistic Regression model is: 0.62\n",
      "The Mean Squared Error of the Logistic Regression model is: 0.33\n",
      "AUC-ROC Score: 0.9042328015658935\n",
      "\n",
      "After the 10 fold cross validation, the accuracy of the Tree Based model is: 64.48%\n",
      "The R squared of the Tree Based model is: 0.50\n",
      "The Mean Squared Error of the Tree Based model is: 0.43\n"
     ]
    }
   ],
   "source": [
    "# Add your code here for comparing your models. Describe in the markdown below why the model you chose is the best model.\n",
    "\n",
    "# Enter your code here for the model evaluation. Add your interpretation in the markdown below.\n",
    "\n",
    "#Cross validation for the Linear Regression model.\n",
    "lin_reg_scores = cross_val_score(lin_reg, x, y, cv=10)\n",
    "\n",
    "#R squared for the Linear Regression model.\n",
    "print('The R squared of the Linear Regression model is: {:.2f}'.format(lin_reg_scores.mean()*100))\n",
    "\n",
    "#Mean Squared Error for the Linear Regression model.\n",
    "print('The Mean Squared Error of the Linear Regression model is: {:.2f}\\n'.format(mse_lin_reg))\n",
    "\n",
    "#Cross validation for the Logistic Regression model.\n",
    "cross_score = cross_val_score(rf_model, X_log_reg, y_log_reg, cv=10)\n",
    "print('After the 10 fold cross validation, the accuracy of the Logistic Regression model is: {:.2f}%'.format(cross_score.mean()*100))\n",
    "\n",
    "#R squared for the Logistic Regression model.\n",
    "print('The R squared of the Logistic Regression model is: {:.2f}'.format(r2_rf))\n",
    "\n",
    "#Mean Squared Error for the Logistic Regression model.\n",
    "print('The Mean Squared Error of the Logistic Regression model is: {:.2f}'.format(mse_rf))\n",
    "\n",
    "# Calculate the ROC-AUC score\n",
    "auc_roc_rf = roc_auc_score(y_test_lr, y_probabilities_rf, multi_class='ovr')\n",
    "print(f'AUC-ROC Score: {auc_roc_rf}\\n')\n",
    "\n",
    "#Cross validation for the Tree Based model.\n",
    "tree_cross_score = cross_val_score(tree_model, X_tree, y_tree, cv=10)\n",
    "print('After the 10 fold cross validation, the accuracy of the Tree Based model is: {:.2f}%'.format(tree_cross_score.mean()*100))\n",
    "\n",
    "#R squared for the Tree Based model.\n",
    "print('The R squared of the Tree Based model is: {:.2f}'.format(r2_tree))\n",
    "\n",
    "#Mean Squared Error for the Tree Based model.\n",
    "print('The Mean Squared Error of the Tree Based model is: {:.2f}'.format(mse_tree))"
   ]
  },
  {
   "cell_type": "markdown",
   "metadata": {},
   "source": [
    "### Linear Algebra and Calculus"
   ]
  },
  {
   "cell_type": "markdown",
   "metadata": {},
   "source": [
    "In the following subsection, provide the related evidences for ILO7.0."
   ]
  },
  {
   "cell_type": "markdown",
   "metadata": {},
   "source": [
    "### Assignment for \"Elementary Operation on Matrices\"\n",
    "\n",
    "This task is associated with the 'Poor' criterion of ILO 7.0. You can find the assignment [here](https://adsai.buas.nl/Study%20Content/Advanced%20Python/AssignElemOpe.html).   "
   ]
  },
  {
   "cell_type": "markdown",
   "metadata": {},
   "source": [
    "Please provide the related link to the PDF file for Task 1 of assignment on elementary operations on matrices. "
   ]
  },
  {
   "cell_type": "code",
   "execution_count": null,
   "metadata": {},
   "outputs": [],
   "source": [
    "# Provide the link to the assignment on elementary operations on matrices here\n",
    "https://github.com/BredaUniversityADSAI/2023-24b-fai1-adsai-TudorPitulice234803/blob/main/Deliverables/ILO7/EleOpeMat_234803.pdf"
   ]
  },
  {
   "cell_type": "markdown",
   "metadata": {},
   "source": [
    "Please provide your code for Task 2 of assignment on elementary operations on matrices."
   ]
  },
  {
   "cell_type": "code",
   "execution_count": null,
   "metadata": {},
   "outputs": [
    {
     "ename": "SyntaxError",
     "evalue": "invalid syntax (1167669042.py, line 2)",
     "output_type": "error",
     "traceback": [
      "\u001b[1;36m  Cell \u001b[1;32mIn[26], line 2\u001b[1;36m\u001b[0m\n\u001b[1;33m    https://github.com/BredaUniversityADSAI/2023-24b-fai1-adsai-TudorPitulice234803/blob/main/Deliverables/ILO7/EleOpeCod_234803.ipynb\u001b[0m\n\u001b[1;37m          ^\u001b[0m\n\u001b[1;31mSyntaxError\u001b[0m\u001b[1;31m:\u001b[0m invalid syntax\n"
     ]
    }
   ],
   "source": [
    "# Put the codes for Task 2 of assignment on elementary operations on matrices here\n",
    "https://github.com/BredaUniversityADSAI/2023-24b-fai1-adsai-TudorPitulice234803/blob/main/Deliverables/ILO7/EleOpeCod_234803.ipynb"
   ]
  },
  {
   "cell_type": "markdown",
   "metadata": {},
   "source": [
    "### Assignment for  \"Linear Regression Model Using Normal Equations\"\n",
    "\n",
    "This task is associated with the ‘Poor' criterion of ILO 7.0. You need to complete the assignment on linear regression using normal equations at the middle of [this page](https://adsai.buas.nl/Study%20Content/Advanced%20Python/6.AdvancedNumPyMatPlotlib.html).  "
   ]
  },
  {
   "cell_type": "code",
   "execution_count": 76,
   "metadata": {},
   "outputs": [
    {
     "name": "stdout",
     "output_type": "stream",
     "text": [
      "[[ 9.75]\n",
      " [ 0.25]\n",
      " [-1.5 ]]\n"
     ]
    }
   ],
   "source": [
    "#Task 1 - 1)\n",
    "A = np.array([[1, 3, 1], [1, 1, 0], [1, -1, 1]])\n",
    "B = np.array([[9], [10], [8]])\n",
    "\n",
    "A_inverse = np.linalg.inv(A)\n",
    "X = A_inverse.dot(B)\n",
    "print(X)"
   ]
  },
  {
   "cell_type": "code",
   "execution_count": 77,
   "metadata": {},
   "outputs": [
    {
     "name": "stdout",
     "output_type": "stream",
     "text": [
      "[[ 6.8372093 ]\n",
      " [-1.72093023]\n",
      " [ 2.1627907 ]\n",
      " [-0.72093023]]\n"
     ]
    }
   ],
   "source": [
    "#Task 1 - 2)\n",
    "A = np.array([[5, 6, -7, 1], [1, 2, 3, 4], [1, 0, 1, 0], [1, -3, 0, 0]])\n",
    "B = np.array([[8], [7], [9], [12]])\n",
    "\n",
    "A_inverse = np.linalg.inv(A)\n",
    "X = A_inverse.dot(B)\n",
    "print(X)"
   ]
  },
  {
   "cell_type": "code",
   "execution_count": null,
   "metadata": {},
   "outputs": [
    {
     "name": "stdout",
     "output_type": "stream",
     "text": [
      "[[1.         1.        ]\n",
      " [1.         1.44444444]\n",
      " [1.         1.88888889]\n",
      " [1.         2.33333333]\n",
      " [1.         2.77777778]\n",
      " [1.         3.22222222]\n",
      " [1.         3.66666667]\n",
      " [1.         4.11111111]\n",
      " [1.         4.55555556]\n",
      " [1.         5.        ]] \n",
      "\n",
      "[3.06827132 1.98467703]\n"
     ]
    }
   ],
   "source": [
    "#Task 2\n",
    "np.random.seed(1358)\n",
    "\n",
    "n_sample = 10\n",
    "x = np.linspace(1, 5, n_sample)\n",
    "e = 0.1 * np.random.randn(n_sample)\n",
    "\n",
    "y = 2 * x + 3 + e\n",
    "x = np.expand_dims(x, axis = 1)\n",
    "x = np.concatenate((np.expand_dims(np.ones(n_sample), axis = 1), x), axis = 1)\n",
    "print(x, '\\n')\n",
    "\n",
    "theta = np.linalg.inv(x.T.dot(x)).dot(x.T).dot(y)\n",
    "print(theta)"
   ]
  },
  {
   "cell_type": "code",
   "execution_count": null,
   "metadata": {},
   "outputs": [
    {
     "name": "stdout",
     "output_type": "stream",
     "text": [
      "[[  1.           1.           1.        ]\n",
      " [  1.           1.31034483   1.71700357]\n",
      " [  1.           1.62068966   2.62663496]\n",
      " [  1.           1.93103448   3.72889417]\n",
      " [  1.           2.24137931   5.02378121]\n",
      " [  1.           2.55172414   6.51129608]\n",
      " [  1.           2.86206897   8.19143876]\n",
      " [  1.           3.17241379  10.06420927]\n",
      " [  1.           3.48275862  12.12960761]\n",
      " [  1.           3.79310345  14.38763377]\n",
      " [  1.           4.10344828  16.83828775]\n",
      " [  1.           4.4137931   19.48156956]\n",
      " [  1.           4.72413793  22.31747919]\n",
      " [  1.           5.03448276  25.34601665]\n",
      " [  1.           5.34482759  28.56718193]\n",
      " [  1.           5.65517241  31.98097503]\n",
      " [  1.           5.96551724  35.58739596]\n",
      " [  1.           6.27586207  39.38644471]\n",
      " [  1.           6.5862069   43.37812128]\n",
      " [  1.           6.89655172  47.56242568]\n",
      " [  1.           7.20689655  51.93935791]\n",
      " [  1.           7.51724138  56.50891795]\n",
      " [  1.           7.82758621  61.27110583]\n",
      " [  1.           8.13793103  66.22592152]\n",
      " [  1.           8.44827586  71.37336504]\n",
      " [  1.           8.75862069  76.71343639]\n",
      " [  1.           9.06896552  82.24613555]\n",
      " [  1.           9.37931034  87.97146254]\n",
      " [  1.           9.68965517  93.88941736]\n",
      " [  1.          10.         100.        ]] \n",
      "\n",
      "[3.08069949 1.99527895 6.9987292 ]\n"
     ]
    }
   ],
   "source": [
    "#Task 3\n",
    "np.random.seed(1358)\n",
    "\n",
    "n_sample = 30\n",
    "x = np.linspace(1, 10, n_sample)\n",
    "e = 0.2 * np.random.randn(n_sample)\n",
    "\n",
    "y = 3 + 2 * x + 7 * x**2 + e\n",
    "\n",
    "x = np.expand_dims(x, axis = 1)\n",
    "x = np.concatenate((np.expand_dims(np.ones(n_sample), axis = 1), x, x**2), axis = 1)\n",
    "print(x, '\\n')\n",
    "\n",
    "theta = np.linalg.inv(x.T.dot(x)).dot(x.T).dot(y)\n",
    "print(theta)"
   ]
  },
  {
   "cell_type": "markdown",
   "metadata": {},
   "source": [
    "### Assignment for \"Calculus for Machine Learning\"\n",
    "\n",
    "This task is associated with the \"Insufficient\" criterion in ILO 7.0. "
   ]
  },
  {
   "cell_type": "markdown",
   "metadata": {},
   "source": [
    "You need to complete with the [Differential Calculus](https://www.khanacademy.org/math/differential-calculus) course in Khan Academy and provide a link to the PDF file of certificate of completion you have put in your personal GitHub repository."
   ]
  },
  {
   "cell_type": "code",
   "execution_count": null,
   "metadata": {},
   "outputs": [],
   "source": [
    "# A link to the certificate of completion \n",
    "https://github.com/BredaUniversityADSAI/2023-24b-fai1-adsai-TudorPitulice234803/blob/main/Deliverables/ILO7/CalMacLea_StudentID.png"
   ]
  },
  {
   "cell_type": "markdown",
   "metadata": {},
   "source": [
    "### Assignment for \"DataLab: Python for Symbolic Mathematics\"\n",
    "\n",
    "This task is associated with the \"Insufficient\" criterion in ILO 7.0. "
   ]
  },
  {
   "cell_type": "markdown",
   "metadata": {},
   "source": [
    "You need to complete all the DataLab tasks (Tasks 1-5) at the end of [this page](https://adsai.buas.nl/Study%20Content/Advanced%20Python/28.SymbolicMathematicsDataLab.html). Provide your codes in the following cell."
   ]
  },
  {
   "cell_type": "markdown",
   "metadata": {},
   "source": [
    "    Task 1"
   ]
  },
  {
   "cell_type": "code",
   "execution_count": null,
   "metadata": {},
   "outputs": [
    {
     "data": {
      "text/latex": [
       "$\\displaystyle 2 x^{2} - x y + 3$"
      ],
      "text/plain": [
       "2*x**2 - x*y + 3"
      ]
     },
     "execution_count": 20,
     "metadata": {},
     "output_type": "execute_result"
    }
   ],
   "source": [
    "# Define symbolic variable\n",
    "x, y = symbols('x y')\n",
    "\n",
    "# Definition of the expression\n",
    "ex1 = 2 * x**2 -x * y + 3\n",
    "ex1"
   ]
  },
  {
   "cell_type": "code",
   "execution_count": null,
   "metadata": {},
   "outputs": [
    {
     "data": {
      "text/latex": [
       "$\\displaystyle \\frac{x \\left(2 x^{2} - x y + 3\\right) + 2 x + y}{x^{2} + y}$"
      ],
      "text/plain": [
       "(x*(2*x**2 - x*y + 3) + 2*x + y)/(x**2 + y)"
      ]
     },
     "execution_count": 21,
     "metadata": {},
     "output_type": "execute_result"
    }
   ],
   "source": [
    "ex2 = (x * ex1 + (2 * x + y)) / (x**2 + y)\n",
    "ex2"
   ]
  },
  {
   "cell_type": "code",
   "execution_count": null,
   "metadata": {},
   "outputs": [
    {
     "data": {
      "text/latex": [
       "$\\displaystyle \\frac{2 x^{3}}{x^{2} + y} - \\frac{x^{2} y}{x^{2} + y} + \\frac{5 x}{x^{2} + y} + \\frac{y}{x^{2} + y}$"
      ],
      "text/plain": [
       "2*x**3/(x**2 + y) - x**2*y/(x**2 + y) + 5*x/(x**2 + y) + y/(x**2 + y)"
      ]
     },
     "execution_count": 22,
     "metadata": {},
     "output_type": "execute_result"
    }
   ],
   "source": [
    "expand(ex2)"
   ]
  },
  {
   "cell_type": "code",
   "execution_count": null,
   "metadata": {},
   "outputs": [
    {
     "data": {
      "text/latex": [
       "$\\displaystyle -5.8$"
      ],
      "text/plain": [
       "-5.80000000000000"
      ]
     },
     "execution_count": 23,
     "metadata": {},
     "output_type": "execute_result"
    }
   ],
   "source": [
    "ex2.evalf(subs={x:-2, y:1})"
   ]
  },
  {
   "cell_type": "code",
   "execution_count": null,
   "metadata": {},
   "outputs": [
    {
     "name": "stdout",
     "output_type": "stream",
     "text": [
      "Solution: [3]\n"
     ]
    }
   ],
   "source": [
    "# Define the variable\n",
    "equation = Eq(2*x + 5, 11)\n",
    "\n",
    "# Solve the equation\n",
    "solution = solve(equation, x)\n",
    "\n",
    "# Print the solution\n",
    "print(\"Solution:\", solution)"
   ]
  },
  {
   "cell_type": "code",
   "execution_count": null,
   "metadata": {},
   "outputs": [
    {
     "name": "stdout",
     "output_type": "stream",
     "text": [
      "Solution: {x: 5, y: -5}\n"
     ]
    }
   ],
   "source": [
    "# Define the variables\n",
    "x, y = symbols('x y')\n",
    "\n",
    "# Define the system of equations\n",
    "equation1 = Eq(2*x + y, 5)\n",
    "equation2 = Eq(x - 2*y, 15)\n",
    "\n",
    "# Define the system of equations\n",
    "system_of_equations = [equation1, equation2]\n",
    "\n",
    "# Solve the system of equations\n",
    "solution = solve(system_of_equations, (x, y))\n",
    "\n",
    "# Display the solution\n",
    "print(\"Solution:\", solution)"
   ]
  },
  {
   "cell_type": "code",
   "execution_count": null,
   "metadata": {},
   "outputs": [
    {
     "data": {
      "text/latex": [
       "$\\displaystyle 3 x^{2} + 6 x + \\cos{\\left(x \\right)}$"
      ],
      "text/plain": [
       "3*x**2 + 6*x + cos(x)"
      ]
     },
     "execution_count": 26,
     "metadata": {},
     "output_type": "execute_result"
    }
   ],
   "source": [
    "# Define the variable \n",
    "x = symbols('x')\n",
    "\n",
    "# Define the function\n",
    "f = x**3 + 3 * x**2 + sin(x)\n",
    "\n",
    "# Calculate the derivative\n",
    "der_f = diff(f, x)\n",
    "\n",
    "der_f"
   ]
  },
  {
   "cell_type": "code",
   "execution_count": null,
   "metadata": {},
   "outputs": [
    {
     "data": {
      "text/plain": [
       "(1, 1)"
      ]
     },
     "execution_count": 27,
     "metadata": {},
     "output_type": "execute_result"
    }
   ],
   "source": [
    "# Sample data points\n",
    "data_points = [(1,2), (2,3), (3,4), (4,5)]\n",
    "\n",
    "# Variables for the linear equation: y = mx + c\n",
    "m, c = sp.symbols('m c')\n",
    "\n",
    "# Sum of squared differences between observed and predicted y-values\n",
    "error = sum((m * x + c - y)**2 for x, y in data_points)\n",
    "\n",
    "# Finding partial derivatives of the error function with respect to m and c\n",
    "partial_m = sp.diff(error, m)\n",
    "partial_c = sp.diff(error, c)\n",
    "\n",
    "# Solving the system of equations to minimise the error (least squares solution)\n",
    "solution = sp.solve((partial_m, partial_c), (m, c))\n",
    "\n",
    "best_fit_m, best_fit_c = solution[m], solution[c]\n",
    "best_fit_m, best_fit_c"
   ]
  },
  {
   "cell_type": "markdown",
   "metadata": {},
   "source": [
    "    Task 2"
   ]
  },
  {
   "cell_type": "code",
   "execution_count": null,
   "metadata": {},
   "outputs": [
    {
     "data": {
      "text/plain": [
       "Text(0, 0.5, 'y')"
      ]
     },
     "execution_count": 28,
     "metadata": {},
     "output_type": "execute_result"
    },
    {
     "data": {
      "image/png": "[encoded data removed]",
      "text/plain": [
       "<Figure size 640x480 with 1 Axes>"
      ]
     },
     "metadata": {},
     "output_type": "display_data"
    }
   ],
   "source": [
    "np.random.seed(1358)\n",
    "x = np.linspace(-3,3, 100)\n",
    "y_true = 0.3 * x**4 -0.1 * x**3 - 2* x**2 - 0.8*x\n",
    "y = y_true + np.random.randn(len(x))\n",
    "plt.plot(x,y_true, '--')\n",
    "plt.plot(x,y, '.')\n",
    "plt.xlabel('x', size=14)\n",
    "plt.ylabel('y', size=14)"
   ]
  },
  {
   "cell_type": "code",
   "execution_count": null,
   "metadata": {},
   "outputs": [
    {
     "data": {
      "text/plain": [
       "Text(0, 0.5, 'y')"
      ]
     },
     "execution_count": 29,
     "metadata": {},
     "output_type": "execute_result"
    },
    {
     "data": {
      "image/png": "[encoded data removed]",
      "text/plain": [
       "<Figure size 640x480 with 1 Axes>"
      ]
     },
     "metadata": {},
     "output_type": "display_data"
    }
   ],
   "source": [
    "data_points = zip(x,y)\n",
    "data_points = list(data_points)\n",
    "\n",
    "# Variables for the linear equation: y = a0 * x + a1\n",
    "a0, a1 = sp.symbols('a0 a1')\n",
    "\n",
    "# Sum of squared differences between observed and predicted y-values\n",
    "error = sum((a1 * x + a0 - y)**2 for x, y in data_points)\n",
    "\n",
    "# Finding partial derivatives of the error function with respect to m and c\n",
    "partial_a1 = sp.diff(error, a1)\n",
    "partial_a0 = sp.diff(error, a0)\n",
    "\n",
    "# Solving the system of equations to minimise the error (least squares solution)\n",
    "solution = sp.solve((partial_a1, partial_a0), (a1, a0))\n",
    "\n",
    "best_fit_a1, best_fit_a0 = solution[a1], solution[a0]\n",
    "\n",
    "np.random.seed(1358)\n",
    "x = np.linspace(-3,3, 100)\n",
    "y_true = 0.3 * x**4 -0.1 * x**3 - 2* x**2 - 0.8*x\n",
    "y = y_true + np.random.randn(len(x))\n",
    "plt.plot(x,y_true, '--')\n",
    "plt.plot(x,y, '.')\n",
    "plt.plot(x, best_fit_a1 * x + best_fit_a0, '-')\n",
    "plt.xlabel('x', size=14)\n",
    "plt.ylabel('y', size=14)"
   ]
  },
  {
   "cell_type": "code",
   "execution_count": null,
   "metadata": {},
   "outputs": [
    {
     "data": {
      "text/plain": [
       "Text(0, 0.5, 'y')"
      ]
     },
     "execution_count": 30,
     "metadata": {},
     "output_type": "execute_result"
    },
    {
     "data": {
      "image/png": "[encoded data removed]",
      "text/plain": [
       "<Figure size 640x480 with 1 Axes>"
      ]
     },
     "metadata": {},
     "output_type": "display_data"
    }
   ],
   "source": [
    "# Variables for the linear equation: y = a2 * x**2 + a1 * x + a0\n",
    "a0, a1, a2 = sp.symbols('a0 a1 a2')\n",
    "\n",
    "# Sum of squared differences between observed and predicted y-values\n",
    "error = sum((a2 * x**2 + a1 * x + a0 - y)**2 for x, y in data_points)\n",
    "\n",
    "# Finding partial derivatives of the error function with respect to m and c\n",
    "partial_a2 = sp.diff(error, a2)\n",
    "partial_a1 = sp.diff(error, a1)\n",
    "partial_a0 = sp.diff(error, a0)\n",
    "\n",
    "\n",
    "# Solving the system of equations to minimise the error (least squares solution)\n",
    "solution = sp.solve((partial_a2, partial_a1, partial_a0), (a2, a1, a0))\n",
    "\n",
    "best_fit_a2, best_fit_a1, best_fit_a0 = solution[a2], solution[a1], solution[a0]\n",
    "\n",
    "np.random.seed(1358)\n",
    "x = np.linspace(-3,3, 100)\n",
    "y_true = 0.3 * x**4 -0.1 * x**3 - 2* x**2 - 0.8*x\n",
    "y = y_true + np.random.randn(len(x))\n",
    "plt.plot(x,y_true, '--')\n",
    "plt.plot(x,y, '.')\n",
    "plt.plot(x,best_fit_a2 * x**2 + best_fit_a1 * x + best_fit_a0, '-')\n",
    "plt.xlabel('x', size=14)\n",
    "plt.ylabel('y', size=14)"
   ]
  },
  {
   "cell_type": "code",
   "execution_count": null,
   "metadata": {},
   "outputs": [
    {
     "data": {
      "text/plain": [
       "Text(0, 0.5, 'y')"
      ]
     },
     "execution_count": 31,
     "metadata": {},
     "output_type": "execute_result"
    },
    {
     "data": {
      "image/png": "[encoded data removed]",
      "text/plain": [
       "<Figure size 640x480 with 1 Axes>"
      ]
     },
     "metadata": {},
     "output_type": "display_data"
    }
   ],
   "source": [
    "# Variables for the linear equation: y = a3 * x**3 + a2 * x**2 + a1 * x + a0\n",
    "a0, a1, a2, a3 = sp.symbols('a0 a1 a2 a3')\n",
    "\n",
    "# Sum of squared differences between observed and predicted y-values\n",
    "error = sum((a3 * x**3 + a2 * x**2 + a1 * x + a0 - y)**2 for x, y in data_points)\n",
    "\n",
    "# Finding partial derivatives of the error function with respect to m and c\n",
    "partial_a3 = sp.diff(error, a3)\n",
    "partial_a2 = sp.diff(error, a2)\n",
    "partial_a1 = sp.diff(error, a1)\n",
    "partial_a0 = sp.diff(error, a0)\n",
    "\n",
    "\n",
    "# Solving the system of equations to minimise the error (least squares solution)\n",
    "solution = sp.solve((partial_a3, partial_a2, partial_a1, partial_a0), (a3, a2, a1, a0))\n",
    "\n",
    "best_fit_a3, best_fit_a2, best_fit_a1, best_fit_a0 = solution[a3], solution[a2], solution[a1], solution[a0]\n",
    "\n",
    "np.random.seed(1358)\n",
    "x = np.linspace(-3,3, 100)\n",
    "y_true = 0.3 * x**4 -0.1 * x**3 - 2* x**2 - 0.8*x\n",
    "y = y_true + np.random.randn(len(x))\n",
    "plt.plot(x,y_true, '--')\n",
    "plt.plot(x,y, '.')\n",
    "plt.plot(x, best_fit_a3*x**3 + best_fit_a2 * x**2 + best_fit_a1 * x + best_fit_a0, '-')\n",
    "plt.xlabel('x', size=14)\n",
    "plt.ylabel('y', size=14)"
   ]
  },
  {
   "cell_type": "code",
   "execution_count": null,
   "metadata": {},
   "outputs": [
    {
     "data": {
      "text/plain": [
       "Text(0, 0.5, 'y')"
      ]
     },
     "execution_count": 32,
     "metadata": {},
     "output_type": "execute_result"
    },
    {
     "data": {
      "image/png": "[encoded data removed]",
      "text/plain": [
       "<Figure size 640x480 with 1 Axes>"
      ]
     },
     "metadata": {},
     "output_type": "display_data"
    }
   ],
   "source": [
    "# Variables for the linear equation: y = a4 * x**4 + a3 * x**3 + a2 * x**2 + a1 * x + a0\n",
    "a0, a1, a2, a3, a4 = sp.symbols('a0 a1 a2 a3 a4')\n",
    "\n",
    "# Sum of squared differences between observed and predicted y-values\n",
    "error = sum((a4 * x**4 + a3 * x**3 + a2 * x**2 + a1 * x + a0 - y)**2 for x, y in data_points)\n",
    "\n",
    "# Finding partial derivatives of the error function with respect to m and c\n",
    "partial_a4 = sp.diff(error, a4)\n",
    "partial_a3 = sp.diff(error, a3)\n",
    "partial_a2 = sp.diff(error, a2)\n",
    "partial_a1 = sp.diff(error, a1)\n",
    "partial_a0 = sp.diff(error, a0)\n",
    "\n",
    "\n",
    "# Solving the system of equations to minimise the error (least squares solution)\n",
    "solution = sp.solve((partial_a4, partial_a3, partial_a2, partial_a1, partial_a0), (a4, a3, a2, a1, a0))\n",
    "\n",
    "best_fit_a4, best_fit_a3, best_fit_a2, best_fit_a1, best_fit_a0 = solution[a4], solution[a3], solution[a2], solution[a1], solution[a0]\n",
    "\n",
    "np.random.seed(1358)\n",
    "x = np.linspace(-3,3, 100)\n",
    "y_true = 0.3 * x**4 -0.1 * x**3 - 2* x**2 - 0.8*x\n",
    "y = y_true + np.random.randn(len(x))\n",
    "plt.plot(x,y_true, '--')\n",
    "plt.plot(x,y, '.')\n",
    "plt.plot(x, best_fit_a4*x**4 + best_fit_a3*x**3 + best_fit_a2 * x**2 + best_fit_a1 * x + best_fit_a0, '-')\n",
    "plt.xlabel('x', size=14)\n",
    "plt.ylabel('y', size=14)"
   ]
  },
  {
   "cell_type": "code",
   "execution_count": null,
   "metadata": {},
   "outputs": [
    {
     "data": {
      "text/plain": [
       "Text(0, 0.5, 'y')"
      ]
     },
     "execution_count": 33,
     "metadata": {},
     "output_type": "execute_result"
    },
    {
     "data": {
      "image/png": "[encoded data removed]",
      "text/plain": [
       "<Figure size 640x480 with 1 Axes>"
      ]
     },
     "metadata": {},
     "output_type": "display_data"
    }
   ],
   "source": [
    "# Variables for the linear equation: y = a5 * x**5 + a4 * x**4 + a3 * x**3 + a2 * x**2 + a1 * x + a0\n",
    "a0, a1, a2, a3, a4, a5 = sp.symbols('a0 a1 a2 a3 a4 a5')\n",
    "\n",
    "# Sum of squared differences between observed and predicted y-values\n",
    "error = sum((a5 * x**5 + a4 * x**4 + a3 * x**3 + a2 * x**2 + a1 * x + a0 - y)**2 for x, y in data_points)\n",
    "\n",
    "# Finding partial derivatives of the error function with respect to m and c\n",
    "partial_a5 = sp.diff(error, a5)\n",
    "partial_a4 = sp.diff(error, a4)\n",
    "partial_a3 = sp.diff(error, a3)\n",
    "partial_a2 = sp.diff(error, a2)\n",
    "partial_a1 = sp.diff(error, a1)\n",
    "partial_a0 = sp.diff(error, a0)\n",
    "\n",
    "\n",
    "# Solving the system of equations to minimise the error (least squares solution)\n",
    "solution = sp.solve((partial_a5, partial_a4, partial_a3, partial_a2, partial_a1, partial_a0), (a5, a4, a3, a2, a1, a0))\n",
    "\n",
    "best_fit_a4, best_fit_a3, best_fit_a2, best_fit_a1, best_fit_a0 = solution[a4], solution[a3], solution[a2], solution[a1], solution[a0]\n",
    "best_fit_a5 = solution[a5]\n",
    "\n",
    "np.random.seed(1358)\n",
    "x = np.linspace(-3,3, 100)\n",
    "y_true = 0.3 * x**4 -0.1 * x**3 - 2* x**2 - 0.8*x\n",
    "y = y_true + np.random.randn(len(x))\n",
    "plt.plot(x,y_true, '--')\n",
    "plt.plot(x,y, '.')\n",
    "plt.plot(x, best_fit_a5*x**5 + best_fit_a4*x**4 + best_fit_a3*x**3 + best_fit_a2 * x**2 + best_fit_a1 * x + best_fit_a0, '-')\n",
    "plt.xlabel('x', size=14)\n",
    "plt.ylabel('y', size=14)"
   ]
  },
  {
   "cell_type": "markdown",
   "metadata": {},
   "source": [
    "Which model fits best with data set x, y?\n",
    "\n",
    "Model 4 fits best with the data.\n",
    "\n",
    "How do you compare the models?\n",
    "\n",
    "I compare the fucntion that I created with the dashed line."
   ]
  },
  {
   "cell_type": "markdown",
   "metadata": {},
   "source": [
    "    Task 3"
   ]
  },
  {
   "cell_type": "code",
   "execution_count": null,
   "metadata": {},
   "outputs": [
    {
     "data": {
      "text/latex": [
       "$\\displaystyle 2 x + 2$"
      ],
      "text/plain": [
       "2*x + 2"
      ]
     },
     "execution_count": 35,
     "metadata": {},
     "output_type": "execute_result"
    }
   ],
   "source": [
    "#Derivatite of y = x^2 + 2x + 1\n",
    "x, y = symbols('x y')\n",
    "y = x**2 + 2*x + 1\n",
    "\n",
    "der_y = diff(y, x)\n",
    "der_y"
   ]
  },
  {
   "cell_type": "code",
   "execution_count": null,
   "metadata": {},
   "outputs": [
    {
     "data": {
      "text/latex": [
       "$\\displaystyle 18 x - 30$"
      ],
      "text/plain": [
       "18*x - 30"
      ]
     },
     "execution_count": 36,
     "metadata": {},
     "output_type": "execute_result"
    }
   ],
   "source": [
    "#Derivatite of y = (3x - 5)^2\n",
    "x, y = symbols('x y')\n",
    "y = (3*x - 5)**2\n",
    "\n",
    "der_y = diff(y, x)\n",
    "der_y"
   ]
  },
  {
   "cell_type": "code",
   "execution_count": null,
   "metadata": {},
   "outputs": [
    {
     "data": {
      "text/latex": [
       "$\\displaystyle \\frac{1.0 \\left(x^{0.5} - 1\\right)}{x^{0.5}} - 8 x \\left(x^{2} + 1\\right)^{3}$"
      ],
      "text/plain": [
       "1.0*(x**0.5 - 1)/x**0.5 - 8*x*(x**2 + 1)**3"
      ]
     },
     "execution_count": 37,
     "metadata": {},
     "output_type": "execute_result"
    }
   ],
   "source": [
    "#Derivatite of y = (x^(1/2) - 1)^2 - (x^2 + 1)^4\n",
    "x, y = symbols('x y')\n",
    "y = (x**(1/2) - 1)**2 - (x**2 + 1)**4\n",
    "\n",
    "der_y = diff(y, x)\n",
    "der_y"
   ]
  },
  {
   "cell_type": "code",
   "execution_count": null,
   "metadata": {},
   "outputs": [
    {
     "data": {
      "text/latex": [
       "$\\displaystyle - \\frac{8 \\sin{\\left(x \\right)}}{\\cos^{2}{\\left(x \\right)}} - 7 \\cot^{2}{\\left(x \\right)} - 7$"
      ],
      "text/plain": [
       "-8*sin(x)/cos(x)**2 - 7*cot(x)**2 - 7"
      ]
     },
     "execution_count": 38,
     "metadata": {},
     "output_type": "execute_result"
    }
   ],
   "source": [
    "#Derivatite of y = 7cot(x) - 8(cos(x))^(-1)\n",
    "x, y = symbols('x y')\n",
    "y = 7*sp.cot(x) - 8*(sp.cos(x))**(-1)\n",
    "\n",
    "der_y = diff(y, x)\n",
    "der_y"
   ]
  },
  {
   "cell_type": "code",
   "execution_count": null,
   "metadata": {},
   "outputs": [
    {
     "data": {
      "text/latex": [
       "$\\displaystyle 1 - \\frac{1}{x}$"
      ],
      "text/plain": [
       "1 - 1/x"
      ]
     },
     "execution_count": 39,
     "metadata": {},
     "output_type": "execute_result"
    }
   ],
   "source": [
    "#Derivatite of y = x - ln(x) + 7\n",
    "x, y = symbols('x y')\n",
    "y = x - sp.ln(x) + 7\n",
    "\n",
    "der_y = diff(y, x)\n",
    "der_y"
   ]
  },
  {
   "cell_type": "code",
   "execution_count": null,
   "metadata": {},
   "outputs": [
    {
     "data": {
      "text/latex": [
       "$\\displaystyle 5^{x} \\log{\\left(5 \\right)} - 10 e^{x} - \\frac{24}{5}$"
      ],
      "text/plain": [
       "5**x*log(5) - 10*exp(x) - 24/5"
      ]
     },
     "execution_count": 40,
     "metadata": {},
     "output_type": "execute_result"
    }
   ],
   "source": [
    "#Derivatite of y = -10e^x +5^x - 5x +x/5\n",
    "x, y = symbols('x y')\n",
    "y = -10*sp.exp(x) + 5**x - 5*x + x/5\n",
    "\n",
    "der_y = diff(y, x)\n",
    "der_y"
   ]
  },
  {
   "cell_type": "code",
   "execution_count": null,
   "metadata": {},
   "outputs": [
    {
     "data": {
      "text/latex": [
       "$\\displaystyle \\sin{\\left(x \\right)}$"
      ],
      "text/plain": [
       "sin(x)"
      ]
     },
     "execution_count": 41,
     "metadata": {},
     "output_type": "execute_result"
    }
   ],
   "source": [
    "#Derivatite of y = (2sin(x)) / sin(x) - cos(x)\n",
    "x, y = symbols('x y')\n",
    "y = (2*sp.sin(x)) / sp.sin(x) - sp.cos(x)\n",
    "\n",
    "der_y = diff(y, x)\n",
    "der_y"
   ]
  },
  {
   "cell_type": "code",
   "execution_count": null,
   "metadata": {},
   "outputs": [
    {
     "data": {
      "text/latex": [
       "$\\displaystyle 2 x \\log{\\left(x \\right)} + x - \\frac{- \\tan^{2}{\\left(x \\right)} - 1}{\\tan^{2}{\\left(x \\right)}}$"
      ],
      "text/plain": [
       "2*x*log(x) + x - (-tan(x)**2 - 1)/tan(x)**2"
      ]
     },
     "execution_count": 42,
     "metadata": {},
     "output_type": "execute_result"
    }
   ],
   "source": [
    "#Derivatite of y = (x^2*ln(x)) / 1 - tan(x)^(-1)\n",
    "x, y = symbols('x y')\n",
    "y = (x**2*sp.ln(x)) / 1 - sp.tan(x)**(-1)\n",
    "\n",
    "der_y = diff(y, x)\n",
    "der_y"
   ]
  },
  {
   "cell_type": "markdown",
   "metadata": {},
   "source": [
    "### Assignment for \"Multivariable Calculus\"\n",
    "\n",
    "This task is associated with the \"Insufficient\" criterion in ILO 7.0. You need to complete the assignments 1-4 at the end of [this page](https://adsai.buas.nl/Study%20Content/Advanced%20Python/27.MultivariableCalculus.html)"
   ]
  },
  {
   "cell_type": "markdown",
   "metadata": {},
   "source": [
    "Provide a link to a PDF file, for assignments 1-3 in the following cell. "
   ]
  },
  {
   "cell_type": "code",
   "execution_count": null,
   "metadata": {},
   "outputs": [],
   "source": [
    "# A link to a PDF file for assignments 1-3\n",
    "https://github.com/BredaUniversityADSAI/2023-24b-fai1-adsai-TudorPitulice234803/blob/main/Deliverables/ILO7/MulCalAss_StudentID.pdf"
   ]
  },
  {
   "cell_type": "markdown",
   "metadata": {},
   "source": [
    "Put your code  for assignment 4 in the following cell."
   ]
  },
  {
   "cell_type": "code",
   "execution_count": null,
   "metadata": {},
   "outputs": [],
   "source": [
    "# Put your code for assignment 4 here."
   ]
  },
  {
   "cell_type": "markdown",
   "metadata": {},
   "source": [
    "### Assignments for \"Optimization Algorithms\"\n",
    "\n",
    "This task is associated with the \"Sufficient\" criterion in ILO 7.0. "
   ]
  },
  {
   "cell_type": "markdown",
   "metadata": {},
   "source": [
    "Complete the assignments at the end of [this page](https://adsai.buas.nl/Study%20Content/Advanced%20Python/29.OptimizationAlgorithms.html). Then put your code in the following cell."
   ]
  },
  {
   "cell_type": "code",
   "execution_count": null,
   "metadata": {},
   "outputs": [],
   "source": [
    "# Put your code here"
   ]
  },
  {
   "cell_type": "markdown",
   "metadata": {},
   "source": [
    "### Assignments for \"DataLab: Linear Regression with Gradient Descent\"\n",
    "\n",
    "This task is associated with the \"Good\" and \"Excellent\" criteria in ILO 7.0. "
   ]
  },
  {
   "cell_type": "markdown",
   "metadata": {},
   "source": [
    "Complete the assignment at the end of [this page](https://adsai.buas.nl/Study%20Content/Advanced%20Python/30.LinearRegressionGradientDescentDataLab.html). Then put your code in the following cell."
   ]
  },
  {
   "cell_type": "code",
   "execution_count": null,
   "metadata": {},
   "outputs": [],
   "source": [
    "# Put your code here"
   ]
  }
 ],
 "metadata": {
  "kernelspec": {
   "display_name": "Python 3 (ipykernel)",
   "language": "python",
   "name": "python3"
  },
  "language_info": {
   "codemirror_mode": {
    "name": "ipython",
    "version": 3
   },
   "file_extension": ".py",
   "mimetype": "text/x-python",
   "name": "python",
   "nbconvert_exporter": "python",
   "pygments_lexer": "ipython3",
   "version": "3.8.16"
  }
 },
 "nbformat": 4,
 "nbformat_minor": 2
}
